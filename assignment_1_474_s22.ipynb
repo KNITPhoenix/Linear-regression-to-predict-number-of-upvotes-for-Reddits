{
  "cells": [
    {
      "cell_type": "markdown",
      "metadata": {
        "id": "wx7BEJTsyIze"
      },
      "source": [
        "# Programming Assignment 1 - Understanding upvotes on top reddit posts\n",
        "\n",
        "After completing this project, you will be able to do the following:\n",
        "\n",
        "- Collect and save reddit data using the reddit API (through the ```praw``` library)\n",
        "- Be able to conduct descriptive analyses, via manipulation of data stored in a pandas dataframe, and via the creation and exploration of graphs, of the number of upvotes of reddit comments\n",
        "- Be able to conduct a linear regression to help understand the factors associated with a top post having many upvotes on reddit\n",
        "- **574 Only**: Be able to implement additional feature sets and/or a new model and describe why those decisions were made and what their effects were on performance\n",
        "\n",
        "# Resources you can use to complete this assignment (a COMPLETE list)\n",
        "\n",
        "**NOTE: You ARE allowed to use Google to find things that fit this list (i.e. it is often easy to google something like \"plotly draw line graph\" to find the right part of the plotly documentation).**\n",
        "\n",
        "- Anything linked to in this article\n",
        "- Anything linked to from the course web page\n",
        "- Any materials from another online course taught at a university (**if you use this, you MUST provide a link to the exact document used**)\n",
        "- Anything posted by Kenny, Navid, or Yincheng on Piazza\n",
        "\n",
        "# Setup\n",
        "\n",
        "- For this assignment, you will need to install the PRAW library for scraping reddit data.\n",
        "\n",
        "# Grading\n",
        "\n",
        "There are three parts to the grading:\n",
        "\n",
        "1. **Written Report (60 points)**: You will submit a PDF report that provides answers to questions here, and that contains plots we request.  These same questions are also posted in the assignment PDF, for convenience. **Again, the questions in the Assignment PDF and here are the same (for the written report), we just put them in both places for convenience.**.\n",
        "\n",
        "2. **Saved file from Part 1.3 (10 points)**: See below for details. \n",
        "\n",
        "3. **Coding spot checks (30 points)** - We will select 6 problems to spot check. This means that we will check to make sure that your code is written in a reasonable way and that it obtains the desired results when we run your code. For example, your code should not be written in a way that makes it exceedingly slow, e.g. by using for loops where a vectorized approach would be applicable. We will *not* tell you which problems we are spot checking.\n",
        "\n",
        "\n",
        "As such, you will submit, one member of your group will subit as a zip file on UBLearns, a ```.zip``` file that contains 3 things:\n",
        "- Your completed jupyter notebook.\n",
        "- Your written report, answering all questions asked here (and copied in the assignment PDF)\n",
        "- Your saved file from Part 1.3 below"
      ]
    },
    {
      "cell_type": "code",
      "execution_count": 112,
      "metadata": {
        "colab": {
          "base_uri": "https://localhost:8080/"
        },
        "id": "GuMoAxEjysU8",
        "outputId": "80bb3da9-28ab-4f54-b3cb-afe4d3aa9b1c"
      },
      "outputs": [
        {
          "output_type": "stream",
          "name": "stdout",
          "text": [
            "Requirement already satisfied: praw in /usr/local/lib/python3.7/dist-packages (7.5.0)\n",
            "Requirement already satisfied: prawcore<3,>=2.1 in /usr/local/lib/python3.7/dist-packages (from praw) (2.3.0)\n",
            "Requirement already satisfied: update-checker>=0.18 in /usr/local/lib/python3.7/dist-packages (from praw) (0.18.0)\n",
            "Requirement already satisfied: websocket-client>=0.54.0 in /usr/local/lib/python3.7/dist-packages (from praw) (1.2.3)\n",
            "Requirement already satisfied: requests<3.0,>=2.6.0 in /usr/local/lib/python3.7/dist-packages (from prawcore<3,>=2.1->praw) (2.23.0)\n",
            "Requirement already satisfied: idna<3,>=2.5 in /usr/local/lib/python3.7/dist-packages (from requests<3.0,>=2.6.0->prawcore<3,>=2.1->praw) (2.10)\n",
            "Requirement already satisfied: urllib3!=1.25.0,!=1.25.1,<1.26,>=1.21.1 in /usr/local/lib/python3.7/dist-packages (from requests<3.0,>=2.6.0->prawcore<3,>=2.1->praw) (1.24.3)\n",
            "Requirement already satisfied: chardet<4,>=3.0.2 in /usr/local/lib/python3.7/dist-packages (from requests<3.0,>=2.6.0->prawcore<3,>=2.1->praw) (3.0.4)\n",
            "Requirement already satisfied: certifi>=2017.4.17 in /usr/local/lib/python3.7/dist-packages (from requests<3.0,>=2.6.0->prawcore<3,>=2.1->praw) (2021.10.8)\n"
          ]
        }
      ],
      "source": [
        "pip install praw"
      ]
    },
    {
      "cell_type": "code",
      "execution_count": 113,
      "metadata": {
        "id": "ATGq5BBiyIzp"
      },
      "outputs": [],
      "source": [
        "# This is a comment in the code. All comments in python are preceeded by a pound sign\n",
        "# Comments can be plain English, because the computer ignores them when running the code.\n",
        "\n",
        "# This should be all the imports you need for this project.\n",
        "\n",
        "# The line of code below this comment imports code written by other people in the form of the \n",
        "# praw library\n",
        "import praw\n",
        "from tqdm import tqdm\n",
        "import numpy as np\n",
        "import pandas as pd\n",
        "import plotly.express as px\n"
      ]
    },
    {
      "cell_type": "markdown",
      "metadata": {
        "id": "4c0yc-2ByIzr"
      },
      "source": [
        "# Part 1: Data collection"
      ]
    },
    {
      "cell_type": "markdown",
      "metadata": {
        "id": "1wbWG8F3yIzt"
      },
      "source": [
        "## Step 1: Creating a reddit account\n",
        "\n",
        "If you don't have one already, the first thing you'll need to do is go to [reddit](http://www.reddit.com/) and create a reddit account.\n",
        "\n",
        "## Step 2: Creating a reddit app\n",
        "\n",
        "Now, we're going to create a reddit app. Make sure you're signed in to your reddit account, and then go to the [app page](https://ssl.reddit.com/prefs/apps/).  From here, click on the \"create an app\" button. <b>Make sure that you've selected the \"script\" option in the checkbox</b>, and then fill in a name and description. For the two URL fields, it doesn't really matter what you put. Your input should look something like mine.\n",
        "\n",
        "<img width=\"1000px\" src=\"/content/reddit_tut_0.png\" style=\"max-width:95%;border:3px solid black;\"></img>\n",
        "    \n",
        "Cool! Now hit \"create app\" button.\n",
        "\n",
        "## Step 3: Scraping some reddit data\n",
        "\n",
        "### 3a - setting up your API credentials\n",
        "We're now going to pull down some real, live reddit posts and take a look at them! To do so, we're going to need some information from our app.  Reddit uses this information to keep track of who is accessing their data, and in what ways they're accessing it.  In other words, reddit wants to make sure it knows who might be doing bad things with their data or to their platform, so they can shut those apps down. We'll return to that point in a bit.  But, for now, you'll need to edit the code below to enter in your ```client_id```, your ```client_secret```, and your ```username```  in order for you to be able to collect data.  ***Note - PLEASE TRY TO REMEMBER TO REMOVE YOUR SECRET INFORMATION BEFORE SUBMITTING THE ASSIGNMENT***. You can find the first two on the app creation page, where the red boxes are in the image below:\n",
        "\n",
        "<img width=\"1000px\" src=\"/content/reddit_tut_1.png\" style=\"max-width:95%;border:3px solid black;\"></img>\n",
        "\n",
        "Enter your information between the appropriate quotation marks in the (python) code below, replacing the phrase ```ENTER_YOUR_XXX_HERE```.\n",
        "\n",
        " ***Make sure to push ```SHIFT+ENTER``` after you've changed the code!*** "
      ]
    },
    {
      "cell_type": "code",
      "execution_count": 114,
      "metadata": {
        "id": "EuT5f5fpyIzv"
      },
      "outputs": [],
      "source": [
        "your_client_id = '5vFbWt9pZW9QNYLYCYxk5w'\n",
        "your_client_secret = 'SDu2L0iRNOz3S4rRSTvFA1Qr1FHWrA'\n",
        "your_username = \"Phoenix574\"\n",
        "your_user_agent=\"mlcse574 by u/Phoenix574\"\n",
        "your_password=\"Capital100$\""
      ]
    },
    {
      "cell_type": "markdown",
      "metadata": {
        "id": "xHwNM7pYyIzv"
      },
      "source": [
        "### 3b - Selecting subreddits\n",
        "\n",
        "Ok, we're almost all set up to scrape! to do so, we're going to use a python library called [praw](https://praw.readthedocs.io/).  Praw is a relatively powerful tool, allowing you to do a bunch of cool things with the reddit API.  For this assignment, you're just going to do the basics:\n",
        "\n",
        "Specifically, **<span style=\"color: red;\">create a variable called ```subreddits``` in the code box below. The variable should point to a ```list``` data structure that has the names of 3 subreddits you want to pull data from.</span>**"
      ]
    },
    {
      "cell_type": "code",
      "execution_count": 115,
      "metadata": {
        "id": "E91V_toMyIzw"
      },
      "outputs": [],
      "source": [
        "\n",
        "subreddits = ['robotics','memes','deeplearning']"
      ]
    },
    {
      "cell_type": "markdown",
      "metadata": {
        "id": "Al2L8ohiyIzx"
      },
      "source": [
        "### 3c - Setting up our authentication mechanism for our application\n",
        "\n",
        "The last step before we start crawling is to set ourselves up to make authenticated calls to the reddit API. **<span style=\"color: red;\">Use the PRAW library to create an instance of the class ```praw.Reddit``` that you can use to scrape the reddit API.</span>**\n"
      ]
    },
    {
      "cell_type": "code",
      "source": [
        "reddit=praw.Reddit(client_id=your_client_id,\n",
        "                   client_secret=your_client_secret,\n",
        "                   user_agent=your_user_agent,\n",
        "                   check_for_async=False)"
      ],
      "metadata": {
        "id": "j5Ma3Gp39JdS"
      },
      "execution_count": 116,
      "outputs": []
    },
    {
      "cell_type": "code",
      "execution_count": 117,
      "metadata": {
        "id": "MGH3hFbvyIzx",
        "colab": {
          "base_uri": "https://localhost:8080/"
        },
        "outputId": "abdb6ff9-f14b-4c98-9022-507c84eaf013"
      },
      "outputs": [
        {
          "output_type": "stream",
          "name": "stdout",
          "text": [
            "None\n"
          ]
        },
        {
          "output_type": "stream",
          "name": "stderr",
          "text": [
            "/usr/local/lib/python3.7/dist-packages/ipykernel_launcher.py:2: DeprecationWarning: The `None` return value is deprecated, and will raise a `ReadOnlyException` beginning with PRAW 8. See documentation for forward compatibility options.\n",
            "  \n"
          ]
        }
      ],
      "source": [
        "# Code for 3c should go here\n",
        "print(reddit.user.me())       #to verify the authentication"
      ]
    },
    {
      "cell_type": "markdown",
      "metadata": {
        "id": "NQanqnlLyIzz"
      },
      "source": [
        "### 3d - Finally, some scraping!\n",
        "\n",
        "OK! Now we can finally pull some data down from the reddit API!\n",
        "\n",
        "<span style=\"color: red;\">Use the ```praw``` library to pull down the **top 1000 posts of all time from EACH of the 3 subreddits you selected.** Note: You may not get all 1000, due to oddities with the reddit API. However, your code should specify that it *wants* up to 1000 posts.</span>"
      ]
    },
    {
      "cell_type": "code",
      "execution_count": 118,
      "metadata": {
        "id": "IEAS68efyIz0"
      },
      "outputs": [],
      "source": [
        "# Code for 3d should go here\n",
        "list_of_posts=[]   #list of posts objects, where each objet has the top 1000 posts of each subreddit mentioned in the list\n",
        "for i in subreddits:\n",
        "  post=reddit.subreddit(i).hot(limit=1000)\n",
        "  list_of_posts.append(post)"
      ]
    },
    {
      "cell_type": "markdown",
      "metadata": {
        "id": "GlKVMVpFyIz1"
      },
      "source": [
        "## Answering some questions about your data and the API\n",
        "\n",
        "### 1.1 Understanding APIs\n",
        "***Note, Part 1 questions can be answered by carefully reading the [documentation of the PRAW library carefully](https://praw.readthedocs.io/en/v3.6.2/pages/getting_started.html) and/or the [reddit API documentation](https://github.com/reddit-archive/reddit/wiki/API#rules).***\n",
        "\n",
        "- **1.1.1** How many API calls were required to collect the submissions?\n",
        "- **1.1.2** Why did we set the submission limit at 1000?\n",
        "- **1.1.3** How long, in minutes, would it take you to collect 1000 posts from 25 different subreddits? What about from 500 different subreddits? *Hint: You'll have to consider how many API requests you are allowed to make in a given time period.*\n",
        "\n",
        "### 1.2 Thinking about your sample\n",
        "\n",
        "You collected (approximately) the top 1000 submissions from 3 different subreddits. \n",
        "\n",
        "- **1.2.1** Do you think these posts are representative of **all** the posts on that subreddit? (Yes or no, only) \n",
        "- **1.2.2** Why or why not? That is, if you think so, why do you think there's not much sampling bias here? If not, what do you think might be different about these top posts than other posts?\n",
        "\n"
      ]
    },
    {
      "cell_type": "markdown",
      "metadata": {
        "id": "uE5q71L6yIz1"
      },
      "source": [
        "## Saving out your data\n",
        "\n",
        "Finally, we're going to save your data out and submit it. For this part, [this section of the API documentation may be useful](https://praw.readthedocs.io/en/latest/getting_started/quick_start.html#determine-available-attributes-of-an-object). Similarly, note that saving CSVs is sometimes easiest by first converting your data into a ```pandas``` dataframe, and then just calling ```.to_csv()```.\n",
        "\n",
        "<span style=\"color: red;\">You will save the data you have collected out to a CSV file. This CSV file should be called ```part1_data.csv```. The file should contain a column for each of the fields listed in the ```fields_to_capture``` list below. Additionally, you should save out the **author's name** (hint, the author attribute of the ```praw.Submission``` data structure is a ```praw.Redditor``` object. You will need to access that object to get the author name. Call this column ```author_name`` in your CSV file. </span>\n",
        "\n",
        "**Note: Some posts will not have data for some of these columns. That is fine! You can make these fields blank in the CSV, then.**"
      ]
    },
    {
      "cell_type": "code",
      "execution_count": 119,
      "metadata": {
        "id": "UUfFndeFyIz2"
      },
      "outputs": [],
      "source": [
        "# Don't change this!\n",
        "fields_to_capture = [ 'created_utc', \n",
        "                     'is_crosspostable', 'is_self', 'is_video', 'locked', 'media_only', 'over_18',\n",
        "                     'subreddit_id', 'subreddit_name_prefixed', 'subreddit_subscribers', \n",
        "                     'title', 'permalink', \n",
        "                     'total_awards_received', 'downs','gilded','num_comments', 'num_crossposts', 'num_reports', \n",
        "                     'ups','author_name']"
      ]
    },
    {
      "cell_type": "code",
      "execution_count": 120,
      "metadata": {
        "id": "S_rzVJyUyIz2"
      },
      "outputs": [],
      "source": [
        "\n",
        "# Write the code here to save out the data\n",
        "# from prawcore.exceptions import Forbidden\n",
        "p=list()\n",
        "for i in list_of_posts:\n",
        "  for j in i:\n",
        "    p.append([j.created_utc,j.is_crosspostable,j.is_self,j.is_video,j.locked,j.media_only,j.over_18,j.subreddit_id,j.subreddit_name_prefixed,j.subreddit_subscribers,j.title,j.permalink,j.total_awards_received,j.downs,j.gilded,j.num_comments,j.num_crossposts,j.num_reports,j.ups,j.author])\n",
        "    # print(reddit.submission(j).author)\n",
        "data=pd.DataFrame(p,columns=fields_to_capture)\n",
        "data.to_csv('/content/part1_data.csv')    # author's name not there"
      ]
    },
    {
      "cell_type": "markdown",
      "metadata": {
        "id": "SOrS1hdWyIz2"
      },
      "source": [
        "### 1.3 Grading for saving data\n",
        "\n",
        "Submit your saved data from the reddit API in a file named ```part1_data.csv```. For grading for Part 1.3, we will check that:\n",
        "- We can read in the saved file using ```pandas.read_csv()```\n",
        "- The resulting file has data from three subreddits, approximately 1000 from each (give or take what the API decides to give you, which is out of your control).\n",
        "- The resulting file has all the necessary columns, i.e. those listed in ```fields_to_capture```.\n"
      ]
    },
    {
      "cell_type": "markdown",
      "metadata": {
        "id": "exMk25UPyIz2"
      },
      "source": [
        "# Part 2 - Analyzing an existing dataset\n",
        "\n",
        "For this section of the assignment, the entire class will use ```part2_data.csv```.  We will ask you to analyze these data in a variety of ways. Parts of this will be submitted in your written report, and other parts will be evaluated automatically.\n",
        "\n",
        "**Part 2 data consists of the top 1000 (ish) posts from 24 different subreddits**."
      ]
    },
    {
      "cell_type": "code",
      "execution_count": 121,
      "metadata": {
        "id": "UuPIJIOsyIz3",
        "colab": {
          "base_uri": "https://localhost:8080/",
          "height": 687
        },
        "outputId": "11131c48-9f7c-4325-cd46-fc3a996cd244"
      },
      "outputs": [
        {
          "output_type": "execute_result",
          "data": {
            "text/html": [
              "\n",
              "  <div id=\"df-53c267fc-e9f3-4add-88e3-b5d81b2bc61f\">\n",
              "    <div class=\"colab-df-container\">\n",
              "      <div>\n",
              "<style scoped>\n",
              "    .dataframe tbody tr th:only-of-type {\n",
              "        vertical-align: middle;\n",
              "    }\n",
              "\n",
              "    .dataframe tbody tr th {\n",
              "        vertical-align: top;\n",
              "    }\n",
              "\n",
              "    .dataframe thead th {\n",
              "        text-align: right;\n",
              "    }\n",
              "</style>\n",
              "<table border=\"1\" class=\"dataframe\">\n",
              "  <thead>\n",
              "    <tr style=\"text-align: right;\">\n",
              "      <th></th>\n",
              "      <th>created_utc</th>\n",
              "      <th>is_crosspostable</th>\n",
              "      <th>is_self</th>\n",
              "      <th>is_video</th>\n",
              "      <th>locked</th>\n",
              "      <th>media_only</th>\n",
              "      <th>over_18</th>\n",
              "      <th>score</th>\n",
              "      <th>subreddit_id</th>\n",
              "      <th>subreddit_name_prefixed</th>\n",
              "      <th>subreddit_subscribers</th>\n",
              "      <th>title</th>\n",
              "      <th>permalink</th>\n",
              "      <th>total_awards_received</th>\n",
              "      <th>downs</th>\n",
              "      <th>gilded</th>\n",
              "      <th>num_comments</th>\n",
              "      <th>num_crossposts</th>\n",
              "      <th>num_reports</th>\n",
              "      <th>ups</th>\n",
              "      <th>author_name</th>\n",
              "    </tr>\n",
              "  </thead>\n",
              "  <tbody>\n",
              "    <tr>\n",
              "      <th>0</th>\n",
              "      <td>1.582163e+09</td>\n",
              "      <td>False</td>\n",
              "      <td>True</td>\n",
              "      <td>False</td>\n",
              "      <td>False</td>\n",
              "      <td>False</td>\n",
              "      <td>False</td>\n",
              "      <td>146606</td>\n",
              "      <td>t5_2qh72</td>\n",
              "      <td>r/Jokes</td>\n",
              "      <td>22101145</td>\n",
              "      <td>Sad News: The founder of /r/jokes has passed away</td>\n",
              "      <td>/r/Jokes/comments/f6lii3/sad_news_the_founder_...</td>\n",
              "      <td>200</td>\n",
              "      <td>0</td>\n",
              "      <td>5</td>\n",
              "      <td>1699</td>\n",
              "      <td>9</td>\n",
              "      <td>NaN</td>\n",
              "      <td>146606</td>\n",
              "      <td>error521</td>\n",
              "    </tr>\n",
              "    <tr>\n",
              "      <th>1</th>\n",
              "      <td>1.511295e+09</td>\n",
              "      <td>False</td>\n",
              "      <td>True</td>\n",
              "      <td>False</td>\n",
              "      <td>False</td>\n",
              "      <td>False</td>\n",
              "      <td>False</td>\n",
              "      <td>137607</td>\n",
              "      <td>t5_2qh72</td>\n",
              "      <td>r/Jokes</td>\n",
              "      <td>22101145</td>\n",
              "      <td>Calm down about the Net Neutrality thing...</td>\n",
              "      <td>/r/Jokes/comments/7ekt23/calm_down_about_the_n...</td>\n",
              "      <td>15</td>\n",
              "      <td>0</td>\n",
              "      <td>2</td>\n",
              "      <td>1614</td>\n",
              "      <td>2</td>\n",
              "      <td>NaN</td>\n",
              "      <td>137607</td>\n",
              "      <td>Victorinox2</td>\n",
              "    </tr>\n",
              "    <tr>\n",
              "      <th>2</th>\n",
              "      <td>1.499278e+09</td>\n",
              "      <td>False</td>\n",
              "      <td>True</td>\n",
              "      <td>False</td>\n",
              "      <td>False</td>\n",
              "      <td>False</td>\n",
              "      <td>False</td>\n",
              "      <td>108795</td>\n",
              "      <td>t5_2qh72</td>\n",
              "      <td>r/Jokes</td>\n",
              "      <td>22101145</td>\n",
              "      <td>V</td>\n",
              "      <td>/r/Jokes/comments/6lfqep/v/</td>\n",
              "      <td>29</td>\n",
              "      <td>0</td>\n",
              "      <td>7</td>\n",
              "      <td>1360</td>\n",
              "      <td>1</td>\n",
              "      <td>NaN</td>\n",
              "      <td>108795</td>\n",
              "      <td>MadGo</td>\n",
              "    </tr>\n",
              "    <tr>\n",
              "      <th>3</th>\n",
              "      <td>1.565449e+09</td>\n",
              "      <td>False</td>\n",
              "      <td>True</td>\n",
              "      <td>False</td>\n",
              "      <td>False</td>\n",
              "      <td>False</td>\n",
              "      <td>True</td>\n",
              "      <td>105444</td>\n",
              "      <td>t5_2qh72</td>\n",
              "      <td>r/Jokes</td>\n",
              "      <td>22101145</td>\n",
              "      <td>If your surprised that Jeffrey Epstein commite...</td>\n",
              "      <td>/r/Jokes/comments/coj45m/if_your_surprised_tha...</td>\n",
              "      <td>48</td>\n",
              "      <td>0</td>\n",
              "      <td>11</td>\n",
              "      <td>2418</td>\n",
              "      <td>7</td>\n",
              "      <td>NaN</td>\n",
              "      <td>105444</td>\n",
              "      <td>williseeyoutonight</td>\n",
              "    </tr>\n",
              "    <tr>\n",
              "      <th>4</th>\n",
              "      <td>1.539007e+09</td>\n",
              "      <td>False</td>\n",
              "      <td>True</td>\n",
              "      <td>False</td>\n",
              "      <td>False</td>\n",
              "      <td>False</td>\n",
              "      <td>False</td>\n",
              "      <td>100954</td>\n",
              "      <td>t5_2qh72</td>\n",
              "      <td>r/Jokes</td>\n",
              "      <td>22101145</td>\n",
              "      <td>A new Navy recruit has his first day on the su...</td>\n",
              "      <td>/r/Jokes/comments/9mf1cz/a_new_navy_recruit_ha...</td>\n",
              "      <td>25</td>\n",
              "      <td>0</td>\n",
              "      <td>9</td>\n",
              "      <td>772</td>\n",
              "      <td>6</td>\n",
              "      <td>NaN</td>\n",
              "      <td>100954</td>\n",
              "      <td>Ckarini</td>\n",
              "    </tr>\n",
              "  </tbody>\n",
              "</table>\n",
              "</div>\n",
              "      <button class=\"colab-df-convert\" onclick=\"convertToInteractive('df-53c267fc-e9f3-4add-88e3-b5d81b2bc61f')\"\n",
              "              title=\"Convert this dataframe to an interactive table.\"\n",
              "              style=\"display:none;\">\n",
              "        \n",
              "  <svg xmlns=\"http://www.w3.org/2000/svg\" height=\"24px\"viewBox=\"0 0 24 24\"\n",
              "       width=\"24px\">\n",
              "    <path d=\"M0 0h24v24H0V0z\" fill=\"none\"/>\n",
              "    <path d=\"M18.56 5.44l.94 2.06.94-2.06 2.06-.94-2.06-.94-.94-2.06-.94 2.06-2.06.94zm-11 1L8.5 8.5l.94-2.06 2.06-.94-2.06-.94L8.5 2.5l-.94 2.06-2.06.94zm10 10l.94 2.06.94-2.06 2.06-.94-2.06-.94-.94-2.06-.94 2.06-2.06.94z\"/><path d=\"M17.41 7.96l-1.37-1.37c-.4-.4-.92-.59-1.43-.59-.52 0-1.04.2-1.43.59L10.3 9.45l-7.72 7.72c-.78.78-.78 2.05 0 2.83L4 21.41c.39.39.9.59 1.41.59.51 0 1.02-.2 1.41-.59l7.78-7.78 2.81-2.81c.8-.78.8-2.07 0-2.86zM5.41 20L4 18.59l7.72-7.72 1.47 1.35L5.41 20z\"/>\n",
              "  </svg>\n",
              "      </button>\n",
              "      \n",
              "  <style>\n",
              "    .colab-df-container {\n",
              "      display:flex;\n",
              "      flex-wrap:wrap;\n",
              "      gap: 12px;\n",
              "    }\n",
              "\n",
              "    .colab-df-convert {\n",
              "      background-color: #E8F0FE;\n",
              "      border: none;\n",
              "      border-radius: 50%;\n",
              "      cursor: pointer;\n",
              "      display: none;\n",
              "      fill: #1967D2;\n",
              "      height: 32px;\n",
              "      padding: 0 0 0 0;\n",
              "      width: 32px;\n",
              "    }\n",
              "\n",
              "    .colab-df-convert:hover {\n",
              "      background-color: #E2EBFA;\n",
              "      box-shadow: 0px 1px 2px rgba(60, 64, 67, 0.3), 0px 1px 3px 1px rgba(60, 64, 67, 0.15);\n",
              "      fill: #174EA6;\n",
              "    }\n",
              "\n",
              "    [theme=dark] .colab-df-convert {\n",
              "      background-color: #3B4455;\n",
              "      fill: #D2E3FC;\n",
              "    }\n",
              "\n",
              "    [theme=dark] .colab-df-convert:hover {\n",
              "      background-color: #434B5C;\n",
              "      box-shadow: 0px 1px 3px 1px rgba(0, 0, 0, 0.15);\n",
              "      filter: drop-shadow(0px 1px 2px rgba(0, 0, 0, 0.3));\n",
              "      fill: #FFFFFF;\n",
              "    }\n",
              "  </style>\n",
              "\n",
              "      <script>\n",
              "        const buttonEl =\n",
              "          document.querySelector('#df-53c267fc-e9f3-4add-88e3-b5d81b2bc61f button.colab-df-convert');\n",
              "        buttonEl.style.display =\n",
              "          google.colab.kernel.accessAllowed ? 'block' : 'none';\n",
              "\n",
              "        async function convertToInteractive(key) {\n",
              "          const element = document.querySelector('#df-53c267fc-e9f3-4add-88e3-b5d81b2bc61f');\n",
              "          const dataTable =\n",
              "            await google.colab.kernel.invokeFunction('convertToInteractive',\n",
              "                                                     [key], {});\n",
              "          if (!dataTable) return;\n",
              "\n",
              "          const docLinkHtml = 'Like what you see? Visit the ' +\n",
              "            '<a target=\"_blank\" href=https://colab.research.google.com/notebooks/data_table.ipynb>data table notebook</a>'\n",
              "            + ' to learn more about interactive tables.';\n",
              "          element.innerHTML = '';\n",
              "          dataTable['output_type'] = 'display_data';\n",
              "          await google.colab.output.renderOutput(dataTable, element);\n",
              "          const docLink = document.createElement('div');\n",
              "          docLink.innerHTML = docLinkHtml;\n",
              "          element.appendChild(docLink);\n",
              "        }\n",
              "      </script>\n",
              "    </div>\n",
              "  </div>\n",
              "  "
            ],
            "text/plain": [
              "    created_utc  is_crosspostable  ...     ups         author_name\n",
              "0  1.582163e+09             False  ...  146606            error521\n",
              "1  1.511295e+09             False  ...  137607         Victorinox2\n",
              "2  1.499278e+09             False  ...  108795               MadGo\n",
              "3  1.565449e+09             False  ...  105444  williseeyoutonight\n",
              "4  1.539007e+09             False  ...  100954             Ckarini\n",
              "\n",
              "[5 rows x 21 columns]"
            ]
          },
          "metadata": {},
          "execution_count": 121
        }
      ],
      "source": [
        "part2_data = pd.read_csv(\"/content/part2_data.csv\")\n",
        "part2_data.head()"
      ]
    },
    {
      "cell_type": "markdown",
      "metadata": {
        "id": "q4lhY1VzyIz3"
      },
      "source": [
        "## Part 2.1 - Quick Descriptive Analyses\n",
        "\n",
        "Answers to each of the questions below should be provided in your written report. Additionally, we expect code to be written below that shows how you obtained answers to each of these questions. We will spot-check several of these. **Note, each of these can be answered using *only pandas*. \n",
        "\n",
        "\n",
        "### Univariate descriptive analyses\n",
        "- **2.1.1** What are the names (```subreddit_name_prefixed```) of the 25 different subreddits that are in ```part2_data.csv```?\n",
        "- **2.1.2** How many reddit authors (```author_name```) have a post in more than one unique subreddit in ```part2_data.csv``` (e.g. they have a top post in both ```r/news``` and ```r/hockey```)?\n",
        "- **2.1.3** What is the mean number of upvotes (```ups```) for posts in ```r/Jokes```?\n",
        "- **2.1.4** What is the variance of the number of upvotes in ```r/news```?\n",
        "- **2.1.5** What is the standard deviation of the number of upvotes received across the entire dataset? \n",
        "- **2.1.6** (No code for this) Mathematically, what is the relationship between the standard deviation of the number of upvotes and the variance of upvotes?\n",
        "- **2.1.7** Which subreddit had the third highest median number of upvotes?\n",
        "\n",
        "### Conditional probability\n",
        "- **2.1.8** What is the conditional probability of an author having a top post in ```r/news```, given that they have a top post in ```r/worldnews```?\n"
      ]
    },
    {
      "cell_type": "code",
      "execution_count": 122,
      "metadata": {
        "id": "YKOZEsz2yIz3",
        "colab": {
          "base_uri": "https://localhost:8080/"
        },
        "outputId": "4fc551e2-2b61-412a-f44e-f54d3f1cebbd"
      },
      "outputs": [
        {
          "output_type": "stream",
          "name": "stdout",
          "text": [
            "['technology', 'Jokes', 'sports', 'gaming', 'aww', 'memes', 'hockey', 'WritingPrompts', 'news', 'funny', 'worldnews', 'travel', 'learnprogramming', 'todayilearned', 'conspiracy', 'mildlyinteresting', 'cats', 'PoliticalHumor', 'announcements', 'books', 'food', 'gadgets', 'science', 'Showerthoughts']\n"
          ]
        }
      ],
      "source": [
        "# Put your code for 2.1.1 here\n",
        "split_data = part2_data[\"subreddit_name_prefixed\"].str.split(\"/\")\n",
        "list1 = split_data.to_list()\n",
        "# print(list1)\n",
        "l=[i[1] for i in list1]\n",
        "s=list(set(l))\n",
        "print(s)"
      ]
    },
    {
      "cell_type": "code",
      "execution_count": 123,
      "metadata": {
        "id": "9PIieUmxyIz4",
        "colab": {
          "base_uri": "https://localhost:8080/"
        },
        "outputId": "506f4b89-3632-48bf-bc51-a5f70f3bd730"
      },
      "outputs": [
        {
          "output_type": "stream",
          "name": "stdout",
          "text": [
            "569\n"
          ]
        }
      ],
      "source": [
        "# Put your code for 2.1.2 here\n",
        "l1 = []\n",
        "for i in part2_data[\"author_name\"].unique():\n",
        "    temp = part2_data[part2_data.author_name==i]\n",
        "    if len(temp.subreddit_name_prefixed.unique())>1:\n",
        "        l1.append(i)\n",
        "print(len(l1))"
      ]
    },
    {
      "cell_type": "code",
      "execution_count": 124,
      "metadata": {
        "id": "aCddJblKyIz4",
        "colab": {
          "base_uri": "https://localhost:8080/"
        },
        "outputId": "a0560cd8-31f1-469c-c244-0c7f5abc39e4"
      },
      "outputs": [
        {
          "output_type": "stream",
          "name": "stdout",
          "text": [
            "41057.7813440321\n"
          ]
        }
      ],
      "source": [
        "# Put your code for 2.1.3 here\n",
        "jokes=part2_data.loc[part2_data['subreddit_name_prefixed'].str.contains('Jokes',case=False)]\n",
        "ups=jokes[\"ups\"].mean()\n",
        "print(ups)"
      ]
    },
    {
      "cell_type": "code",
      "execution_count": 125,
      "metadata": {
        "id": "SgneLQgfyIz4",
        "colab": {
          "base_uri": "https://localhost:8080/"
        },
        "outputId": "ff0dd7f7-5a26-4963-b5a7-7385f8ed5c29"
      },
      "outputs": [
        {
          "output_type": "stream",
          "name": "stdout",
          "text": [
            "600707867.6203133\n"
          ]
        }
      ],
      "source": [
        "# Put your code for 2.1.4 here\n",
        "news=part2_data.loc[part2_data['subreddit_name_prefixed'].str.contains('r/news',case=True)]\n",
        "variance=news[\"ups\"].var()\n",
        "print(variance)"
      ]
    },
    {
      "cell_type": "code",
      "execution_count": 126,
      "metadata": {
        "id": "XnC6WYDwyIz5",
        "colab": {
          "base_uri": "https://localhost:8080/"
        },
        "outputId": "2609efe5-e329-4b04-9c32-96b9668a8890"
      },
      "outputs": [
        {
          "output_type": "stream",
          "name": "stdout",
          "text": [
            "standardDeviation    43102.484474\n",
            "dtype: float64\n"
          ]
        }
      ],
      "source": [
        "# Put your code for 2.1.5 here\n",
        "s=pd.DataFrame({\"standardDeviation\":part2_data[\"ups\"]})\n",
        "sd=s.std()\n",
        "print(sd)"
      ]
    },
    {
      "cell_type": "code",
      "execution_count": 127,
      "metadata": {
        "id": "-TKk0BQ0yIz5"
      },
      "outputs": [],
      "source": [
        "# Put your code for 2.1.6 here\n"
      ]
    },
    {
      "cell_type": "code",
      "execution_count": 128,
      "metadata": {
        "id": "5eK6xqkQyIz6",
        "colab": {
          "base_uri": "https://localhost:8080/"
        },
        "outputId": "e876df12-1a9b-4786-da2d-549e191965a6"
      },
      "outputs": [
        {
          "output_type": "stream",
          "name": "stdout",
          "text": [
            "r/aww\n"
          ]
        }
      ],
      "source": [
        "# Put your code for 2.1.7 here\n",
        "d=dict()\n",
        "part2_data1=part2_data.reset_index()\n",
        "for i,row in part2_data1.iterrows():   #iterating through rows in the dataframe\n",
        "  if(row[\"subreddit_name_prefixed\"] not in d):\n",
        "    d[row[\"subreddit_name_prefixed\"]]=[row[\"ups\"]] #creating dictionary with keys as subreddits and its values as list of their upvotes \n",
        "  else:\n",
        "    d[row[\"subreddit_name_prefixed\"]].append(row[\"ups\"])\n",
        "d1=dict()\n",
        "for key in d:\n",
        "  d1[key]=np.median(d[key])  #creating dictionary with keys as subreddits and values as their median of upvotes\n",
        "d2=sorted(d1.items(),key=lambda x:x[1],reverse=True)    #sorting the dictionary in descending order of values\n",
        "print(d2[2][0])   #printing name of subreddit with third highest median upvotes"
      ]
    },
    {
      "cell_type": "code",
      "source": [
        "#Put your code for 2.1.8 here\n",
        "n,w=list(),list()\n",
        "for i,row in part2_data1.iterrows():\n",
        "  if(row[\"subreddit_name_prefixed\"] == \"r/news\"):\n",
        "    n.append(row[\"author_name\"])\n",
        "  elif(row[\"subreddit_name_prefixed\"]==\"r/worldnews\"):\n",
        "    w.append(row[\"author_name\"])\n",
        "intersection=set.intersection(set(n),set(w))\n",
        "# print(len(w))\n",
        "print(len(intersection)/len(set(w)))# changing len(w) to len(set(w)) because w included duplicate values of authors"
      ],
      "metadata": {
        "id": "qugbJwgLqNNH",
        "colab": {
          "base_uri": "https://localhost:8080/"
        },
        "outputId": "e55db25d-9e3e-4b85-dae1-6bacdb59e3bf"
      },
      "execution_count": 129,
      "outputs": [
        {
          "output_type": "stream",
          "name": "stdout",
          "text": [
            "0.10229007633587786\n"
          ]
        }
      ]
    },
    {
      "cell_type": "markdown",
      "metadata": {
        "id": "jbfjZIjLyIz7"
      },
      "source": [
        "## Part 2.2 - Plotting and the like\n",
        "Where we have asked you to create a plot below, make sure to provide the resulting plot in your written report.  \n",
        "\n",
        "**You are free to use whatever plotting software you wish! Although I personally think [seaborn](https://seaborn.pydata.org/), [plotly](https://plotly.com/python), or [altair](https://altair-viz.github.io/) will make these the easiest, the lecture notes also have examples using matplotlib.**\n"
      ]
    },
    {
      "cell_type": "markdown",
      "metadata": {
        "id": "qGGWGPKvyIz7"
      },
      "source": [
        "### Part 2.1 - Histograms\n",
        "\n",
        "Plot a histogram for the distribution of upvotes for each subreddit separately (*hint: you will want to use \"faceting\" to make this easy on yourself*). **All plot titles and axis labels should be legible in the PDF you submit**.\n",
        "\n",
        "- **2.2.1** - Submit your histogram image in your assignment\n",
        "- **2.2.2** - Based on your histogram, which subreddit would you say is the *least* popular? (Note, there is more than one reasonable answer here. We are looking mostly for how you justify your response using the histogram)\n"
      ]
    },
    {
      "cell_type": "code",
      "execution_count": 130,
      "metadata": {
        "id": "YQEQC0EeyIz7",
        "colab": {
          "base_uri": "https://localhost:8080/",
          "height": 817
        },
        "outputId": "70d4770a-9066-4190-b310-99028322e14a"
      },
      "outputs": [
        {
          "output_type": "display_data",
          "data": {
            "text/html": [
              "<html>\n",
              "<head><meta charset=\"utf-8\" /></head>\n",
              "<body>\n",
              "    <div>            <script src=\"https://cdnjs.cloudflare.com/ajax/libs/mathjax/2.7.5/MathJax.js?config=TeX-AMS-MML_SVG\"></script><script type=\"text/javascript\">if (window.MathJax) {MathJax.Hub.Config({SVG: {font: \"STIX-Web\"}});}</script>                <script type=\"text/javascript\">window.PlotlyConfig = {MathJaxConfig: 'local'};</script>\n",
              "        <script src=\"https://cdn.plot.ly/plotly-2.8.3.min.js\"></script>                <div id=\"67c72a94-da1c-4fdf-8bd0-50671316f141\" class=\"plotly-graph-div\" style=\"height:800px; width:1400px;\"></div>            <script type=\"text/javascript\">                                    window.PLOTLYENV=window.PLOTLYENV || {};                                    if (document.getElementById(\"67c72a94-da1c-4fdf-8bd0-50671316f141\")) {                    Plotly.newPlot(                        \"67c72a94-da1c-4fdf-8bd0-50671316f141\",                        [{\"alignmentgroup\":\"True\",\"bingroup\":\"x\",\"hovertemplate\":\"subreddit_name_prefixed=r/Jokes<br>ups=%{x}<br>count=%{y}<extra></extra>\",\"legendgroup\":\"\",\"marker\":{\"color\":\"#636efa\",\"pattern\":{\"shape\":\"\"}},\"name\":\"\",\"nbinsx\":20,\"offsetgroup\":\"\",\"orientation\":\"v\",\"showlegend\":false,\"x\":[146606,137607,108795,105444,100954,96172,95307,95160,91343,87953,87596,83459,81277,79902,78824,76626,76309,76242,74867,74012,73248,71352,71334,70917,70413,70058,69373,68357,67460,66748,66334,66333,66056,65117,64727,64206,64173,63351,63130,62947,62899,61870,61697,61555,61091,60678,60383,59975,59971,59933,59733,59069,58506,58483,58237,58052,57986,57909,57801,57794,57766,57583,57303,57189,57163,57150,57104,57079,56692,56294,56285,55907,55858,55698,55681,55652,55507,55470,55126,54934,54632,54621,54374,54292,54200,54155,53892,53837,53620,53599,53246,53203,53022,52943,52914,52886,52814,52767,52736,52730,52626,52624,52601,52485,52489,52419,52135,52109,52096,52015,51731,51619,51603,51558,51295,51273,51160,51112,51067,51060,51042,50907,50757,50618,50358,50302,50277,50230,50199,50140,49872,49855,49851,49852,49806,49770,49768,49723,49674,49608,49517,49457,49316,49269,49008,49007,48999,48927,48902,48820,48812,48667,48635,48537,48521,48505,48500,48439,48310,48287,48281,48109,48097,48061,48033,47913,47870,47864,47824,47768,47730,47719,47705,47577,47501,47502,47470,47457,47380,47238,47233,46996,46885,46767,46771,46762,46701,46670,46585,46578,46563,46486,46422,46390,46367,46362,46294,46182,46146,46133,46094,46022,45993,45987,45942,45913,45878,45853,45800,45749,45726,45701,45651,45619,45607,45523,45467,45416,45392,45328,45298,45296,45232,45225,45202,45196,45175,45169,45096,45045,45039,44954,44917,44875,44822,44787,44789,44660,44658,44562,44559,44539,44443,44445,44433,44400,44397,44388,44253,44244,44242,44241,44199,44189,44182,44163,44146,44135,44128,44081,44073,44061,44039,44022,44019,44023,44017,43988,43885,43869,43863,43850,43821,43756,43744,43692,43681,43607,43563,43521,43516,43512,43515,43491,43425,43274,43260,43219,43191,43187,43165,43140,43110,42967,42877,42872,42843,42804,42798,42786,42752,42753,42718,42708,42676,42662,42625,42569,42530,42502,42448,42400,42394,42333,42253,42214,42169,42154,42084,42022,42020,41961,41944,41786,41788,41776,41739,41731,41727,41697,41693,41682,41641,41611,41495,41494,41465,41363,41361,41333,41307,41260,41238,41189,41177,41117,41100,41012,41004,40940,40938,40910,40863,40830,40797,40792,40786,40779,40728,40720,40713,40719,40704,40696,40693,40657,40644,40638,40612,40608,40580,40579,40541,40531,40521,40471,40474,40416,40396,40389,40355,40331,40337,40323,40305,40299,40258,40254,40156,40093,40065,39993,39997,39984,39978,39952,39907,39874,39858,39829,39758,39735,39696,39634,39601,39559,39545,39536,39534,39510,39490,39476,39456,39417,39403,39362,39355,39335,39340,39334,39315,39304,39308,39280,39269,39242,39240,39197,39186,39175,39136,39137,39136,39110,39070,39064,39041,39010,39000,38988,38959,38915,38857,38860,38846,38842,38841,38844,38844,38750,38740,38714,38701,38700,38701,38669,38664,38666,38649,38635,38609,38590,38565,38536,38511,38499,38506,38492,38466,38410,38401,38395,38338,38316,38283,38217,38207,38169,38130,38120,38107,38103,38075,38074,38068,38039,37931,37924,37911,37876,37865,37859,37833,37809,37799,37790,37782,37748,37751,37731,37732,37718,37696,37603,37602,37598,37557,37560,37554,37508,37483,37470,37467,37448,37418,37418,37324,37313,37311,37314,37310,37301,37296,37273,37277,37274,37245,37240,37235,37231,37213,37197,37184,37182,37160,37158,37146,37124,37113,37105,37062,37044,37033,37028,37019,36924,36912,36893,36878,36878,36878,36860,36860,36826,36809,36787,36705,36701,36673,36678,36634,36629,36627,36602,36563,36553,36547,36547,36515,36478,36468,36463,36463,36436,36441,36435,36426,36425,36412,36419,36418,36384,36375,36376,36371,36352,36335,36332,36315,36303,36285,36192,36193,36168,36166,36117,36114,36106,36092,36078,36085,36084,36078,36046,36008,36003,36002,35978,35961,35948,35940,35935,35928,35927,35918,35884,35884,35861,35848,35827,35795,35789,35781,35769,35768,35762,35732,35724,35703,35685,35683,35676,35653,35554,35502,35488,35491,35473,35449,35402,35404,35404,35393,35368,35366,35356,35332,35325,35304,35250,35244,35238,35230,35212,35203,35195,35197,35185,35163,35150,35145,35152,35139,35139,35128,35119,35072,35052,35051,35040,35049,35027,35014,34986,34988,34978,34982,34972,34959,34959,34937,34930,34926,34911,34892,34843,34838,34832,34825,34825,34827,34796,34784,34765,34739,34743,34718,34707,34693,34682,34651,34649,34637,34636,34615,34617,34596,34591,34574,34573,34550,34541,34533,34518,34476,34436,34407,34403,34382,34376,34368,34370,34368,34362,34357,34352,34354,34335,34336,34331,34296,34265,34239,34232,34211,34205,34187,34173,34173,34160,34145,34117,34093,34083,34072,34056,34022,34014,34009,34004,33990,33991,33981,33973,33968,33968,33918,33897,33886,33881,33820,33821,33825,33809,33804,33793,33795,33787,33769,33755,33749,33701,33695,33692,33666,33668,33625,33606,33604,33601,33569,33560,33567,33562,33551,33558,33543,33538,33529,33507,33506,33498,33493,33481,33479,33461,33453,33433,33410,33407,33395,33396,33384,33393,33381,33369,33372,33298,33282,33278,33273,33263,33251,33239,33239,33218,33209,33214,33205,33196,33199,33194,33194,33184,33171,33149,33143,33137,33125,33109,33092,33063,33052,33044,33043,33046,33031,33019,33008,33005,33004,33002,32992,32985,32975,32980,32975,32964,32969,32964,32946,32924,32925,32922,32909,32898,32889,32874,32869,32849,32843,32845,32835,32827,32820,32807,32800,32787,32766,32754,32760,32748,32736,32706,32707,32690,32685,32672,32657,32654,32638,32630,32622,32624,32594,32583,32590,32582,32576,32580,32570,32566,32565,32559,32541,32518,32503,32496,32499,32489,32476,32481,32464,32448,32449,32428,32362,32339,32326,32322,32313,32313,32314,32305,32306,32306,32291,32267,32260,32246,32243,32239,32208,32167,32163,32153,32124,32122,32105,32108,32108,32073,32071,32058,32025,32015,32000,31989,31994,31983,31964,31959,31953,31950,31918,31926,31927,31917,31906,31906,31889,31885,31884,31852,31829,31821,31817,31811,31819,31798,31804,31792,31781,31750,31740,31738,31713,31708,31702,31693,31683,31671,31636,31635,31604,31570,31569,31565,31523,31528,31501,31500,31483,31459,31459,31445,31433,31427,31414,31412,31389,31382,31369,31338,31317,31277,31275],\"xaxis\":\"x13\",\"yaxis\":\"y13\",\"type\":\"histogram\"},{\"alignmentgroup\":\"True\",\"bingroup\":\"x\",\"hovertemplate\":\"subreddit_name_prefixed=r/news<br>ups=%{x}<br>count=%{y}<extra></extra>\",\"legendgroup\":\"\",\"marker\":{\"color\":\"#636efa\",\"pattern\":{\"shape\":\"\"}},\"name\":\"\",\"nbinsx\":20,\"offsetgroup\":\"\",\"orientation\":\"v\",\"showlegend\":false,\"x\":[365116,250271,233323,226325,222636,213679,200822,188173,186247,177997,176883,175651,171106,171080,170196,165201,161758,161566,157567,155780,154796,154266,154083,152238,149933,149912,149748,147344,146888,144175,143111,141339,141051,140604,140277,137989,137800,136600,135921,133969,133380,131435,131234,129845,129151,128936,128386,127179,126710,124885,124448,123962,123737,123163,123002,122058,121996,121851,121530,121229,120499,120279,120210,119971,119852,119849,119476,119480,119447,119222,119144,118559,118493,118442,117869,117467,117452,116874,116773,116623,116526,116512,116269,115735,115227,115107,114959,114820,114806,114570,114258,114228,113319,112920,112341,112075,112056,112004,111997,111812,111610,111597,110658,110420,110064,109888,109637,109371,109191,109036,108716,108715,108365,108285,108221,108188,108120,107913,107847,107672,107663,107603,107570,107306,107248,106853,106547,106108,105871,105783,105236,104986,104939,104822,104225,104196,103920,103383,103242,103113,103058,102971,102631,102357,102160,102159,101852,101805,101674,101594,101540,101392,101142,101009,100906,100270,100252,100089,99835,99674,99620,99278,99285,99272,99096,99083,99003,99009,98336,98170,98167,98156,98000,97957,97811,97604,97505,97448,97106,97100,97056,97025,96893,96618,96467,96141,96010,95946,95763,95660,95572,95564,95448,95282,95277,95012,94963,94948,94770,94732,94706,94489,94490,94398,94384,94264,94174,94159,94037,93957,93784,93752,93727,93655,93584,93432,93263,93000,92919,92915,92736,92535,92438,92266,92230,92214,92182,92108,91975,91835,91780,91689,91610,91541,91479,91481,91482,91465,91380,91168,91147,91103,91011,90999,90987,90942,90887,90839,90811,90808,90660,90666,90492,90459,90429,90334,90085,89862,89840,89833,89695,89614,89604,89374,89212,89098,89021,88955,88857,88664,88636,88595,88509,88302,88194,88177,87941,87923,87912,87886,87779,87729,87697,87686,87541,87521,87495,87372,87286,87180,87176,87148,87038,87020,86979,86908,86850,86788,86740,86733,86643,86590,86499,86483,86388,86299,86171,86169,86160,85910,85848,85812,85624,85438,85413,85400,85367,85317,85309,85293,85253,85218,85102,85071,84891,84879,84851,84640,84527,84511,84504,84485,84474,84372,84288,84270,84185,84106,84031,83912,83869,83862,83853,83811,83710,83685,83608,83420,83381,83365,83323,83312,83286,83255,83092,83058,82945,82859,82840,82835,82741,82725,82717,82709,82687,82677,82672,82633,82552,82526,82483,82457,82326,82302,82235,82160,82135,82121,82076,82071,81933,81893,81841,81817,81729,81719,81705,81677,81633,81607,81561,81555,81500,81481,81476,81411,81402,81387,81340,81309,81265,81252,81148,81088,81014,81007,81004,80985,80964,80945,80895,80876,80837,80813,80819,80730,80635,80620,80607,80574,80543,80418,80405,80395,80369,80231,80217,80194,80185,80135,80005,79955,79828,79823,79783,79752,79650,79646,79596,79480,79437,79413,79410,79363,79331,79310,79165,79117,79083,79066,79050,79026,79023,78992,78961,78829,78741,78724,78703,78659,78637,78603,78564,78525,78503,78441,78398,78349,78324,78279,78236,78213,78032,78022,77992,77975,77975,77968,77954,77951,77933,77899,77864,77738,77721,77699,77647,77606,77595,77554,77529,77509,77463,77457,77436,77434,77423,77412,77406,77322,77275,77256,77231,77205,77186,77111,77048,76956,76904,76904,76829,76823,76779,76788,76775,76738,76713,76697,76666,76646,76616,76554,76506,76412,76404,76369,76205,76190,76051,75910,75890,75855,75853,75809,75785,75759,75669,75635,75559,75514,75487,75484,75457,75440,75414,75319,75190,75191,75187,75180,75183,75136,75088,75061,74968,74965,74965,74898,74854,74849,74782,74770,74748,74724,74720,74616,74615,74543,74515,74459,74440,74448,74394,74354,74266,74241,74201,74162,74155,74147,74121,74114,74049,74044,74039,74037,74020,73989,73973,73966,73868,73807,73772,73744,73714,73712,73632,73611,73593,73594,73581,73562,73491,73451,73446,73406,73395,73372,73180,73143,73102,73090,73077,73047,72995,72997,72918,72841,72805,72801,72792,72788,72770,72772,72737,72733,72684,72672,72629,72624,72622,72614,72622,72615,72614,72601,72604,72593,72575,72575,72554,72515,72500,72445,72432,72428,72417,72379,72296,72242,72197,72201,72143,72139,72124,72125,72094,72083,72080,72071,72071,71874,71880,71826,71819,71812,71798,71749,71691,71687,71657,71635,71604,71608,71563,71537,71538,71454,71431,71391,71374,71362,71337,71330,71324,71262,71223,71159,71148,71143,71071,71030,70993,70979,70968,70957,70957,70922,70923,70815,70819,70780,70772,70729,70651,70640,70632,70558,70550,70488,70421,70388,70328,70279,70271,70176,70162,70148,70156,70134,70102,70064,70062,70043,70045,70028,70024,70015,70008,69894,69873,69853,69855,69840,69804,69745,69730,69689,69669,69637,69617,69609,69593,69580,69562,69546,69523,69497,69439,69437,69430,69418,69410,69408,69381,69372,69342,69327,69315,69315,69301,69288,69233,69226,69195,69189,69191,69169,69122,69095,69063,69068,69008,68991,68965,68955,68946,68942,68905,68841,68845,68689,68655,68620,68608,68604,68520,68494,68500,68442,68446,68429,68424,68418,68419,68398,68391,68364,68356,68309,68294,68274,68273,68266,68251,68245,68233,68195,68174,68177,68141,68145,68137,68125,68109,68092,68021,67994,67988,67978,67983,67973,67963,67976,67966,67964,67892,67877,67881,67861,67858,67829,67824,67824,67803,67793,67760,67761,67749,67719,67672,67657,67634,67626,67619,67602,67607,67552,67512,67508,67489,67457,67349,67267,67269,67247,67225,67230,67182,67134,67128,67118,67114,67067,67052,67046,67036,66993,66986,66963,66884,66870,66834,66829,66813,66799,66787,66678,66663,66661,66602,66544,66537,66506,66506,66486,66489,66460,66457,66407,66383,66325,66321,66313,66309,66283,66268,66252,66247,66241,66212,66197,66137,66070,66053,66019,65991,65994,65940,65911,65915,65910,65859,65837,65815,65786,65789,65686,65681,65681,65664,65665,65648,65637,65630,65639,65599,65605,65582,65449,65450,65445,65419,65392,65376,65382,65365,65354,65313,65297,65279,65221,65209,65199,65174,65170,65149,65132,65090,65051,64968,64961,64949,64924,64924,64836,64814,64794,64765,64754,64748,64719,64708,64705,64671,64658,64571,64556,64483,64481,64467,64464,64463,64426,64368,64315,64319,64308,64273,64253,64221,64203,64192,64202,64158,64124,64096,64058,64043,64038,64011,64012,64008,64000],\"xaxis\":\"x14\",\"yaxis\":\"y14\",\"type\":\"histogram\"},{\"alignmentgroup\":\"True\",\"bingroup\":\"x\",\"hovertemplate\":\"subreddit_name_prefixed=r/science<br>ups=%{x}<br>count=%{y}<extra></extra>\",\"legendgroup\":\"\",\"marker\":{\"color\":\"#636efa\",\"pattern\":{\"shape\":\"\"}},\"name\":\"\",\"nbinsx\":20,\"offsetgroup\":\"\",\"orientation\":\"v\",\"showlegend\":false,\"x\":[199297,155291,124694,124367,114564,114434,113722,110990,110666,109331,106105,104786,104594,104437,101695,97585,97228,94803,94085,93409,92356,91846,91794,91520,90857,90654,90608,90512,89754,89344,89240,89211,89150,89045,88573,88043,87280,87243,86779,86117,85486,84844,84789,84777,83998,83684,83636,83067,82982,82552,82255,82019,82000,81853,80862,80109,80075,79982,79806,79492,79241,78800,78729,78474,78462,78293,78196,78141,77627,77583,77395,77351,77099,76919,76628,76479,76398,76200,76180,76163,75798,75677,75658,75488,75403,75217,74906,74825,74767,74759,74587,74322,74237,74108,74108,74045,74032,73943,73772,73654,73572,73511,73257,72643,72545,72487,72382,72213,72177,71989,71778,71753,71720,71551,71400,71268,71266,71138,70968,70849,70628,70476,70355,70349,70180,69937,69874,69669,69658,69586,69447,69299,69241,69240,69160,69124,68967,68877,68762,68705,68643,68587,68550,68409,68408,68242,68246,68132,68049,68022,68024,67997,67938,67822,67771,67677,67561,67492,67467,67205,67076,67017,66533,66514,66481,66445,66438,66377,66318,66307,66219,66197,65978,65954,65916,65906,65896,65707,65702,65686,65615,65527,65351,65332,65268,65191,65170,65160,65109,65089,65078,65034,65041,64966,64796,64794,64741,64743,64723,64586,64554,64355,64349,64318,64250,64208,64129,64038,63860,63795,63783,63666,63655,63433,63424,63319,63251,63238,63217,63173,63168,63151,63096,63052,63031,63001,62926,62916,62814,62810,62796,62722,62679,62634,62607,62579,62510,62431,62224,62194,62181,62032,62016,61972,61937,61849,61842,61795,61783,61739,61678,61663,61418,61328,61292,61290,61270,61225,61169,60994,60994,60852,60816,60786,60769,60672,60665,60652,60519,60450,60392,60376,60297,60198,60187,60184,60098,60057,60051,59897,59867,59816,59804,59804,59755,59674,59489,59360,59284,59173,59175,59073,58990,58896,58885,58809,58800,58736,58568,58567,58502,58435,58415,58282,58257,58227,58146,58131,58055,57942,57897,57727,57678,57672,57654,57620,57568,57533,57446,57424,57415,57402,57390,57346,57303,57300,57300,57263,57258,57264,57251,57217,57218,57154,57102,57104,57094,57100,57095,57053,56962,56925,56921,56812,56776,56751,56720,56678,56660,56638,56572,56439,56397,56371,56312,56259,56223,56225,56167,56150,56065,56070,56030,55998,55990,55903,55872,55796,55765,55748,55715,55715,55655,55658,55615,55576,55579,55530,55521,55513,55411,55414,55406,55388,55378,55362,55315,55200,55201,55141,55058,55032,54950,54921,54869,54784,54730,54728,54683,54664,54528,54512,54433,54428,54409,54400,54359,54355,54316,54296,54279,54213,54198,54185,54142,54084,54008,54002,53998,53980,53921,53892,53875,53873,53810,53738,53701,53696,53672,53655,53625,53601,53557,53564,53565,53517,53326,53311,53276,53256,53257,53255,53219,53161,53145,53128,53089,53068,53046,53028,53027,53023,53021,52975,52973,52968,52959,52942,52942,52928,52847,52829,52772,52656,52670,52629,52606,52581,52578,52574,52548,52545,52534,52502,52494,52414,52351,52310,52269,52274,52273,52229,52198,52125,52073,52059,52059,52014,52016,51972,51959,51948,51937,51862,51839,51839,51780,51761,51754,51676,51616,51603,51597,51594,51550,51540,51473,51445,51442,51408,51333,51276,51235,51232,51214,51220,51182,51153,51129,51092,51066,51051,50997,50991,50979,50970,50958,50947,50940,50934,50895,50888,50886,50874,50851,50806,50793,50787,50779,50774,50759,50750,50729,50724,50693,50686,50617,50538,50538,50537,50514,50484,50392,50362,50324,50286,50275,50173,50151,50145,50062,50014,50014,49987,49979,49972,49917,49900,49887,49874,49825,49787,49776,49737,49694,49687,49676,49643,49633,49606,49598,49599,49517,49524,49485,49381,49335,49294,49296,49283,49280,49264,49261,49252,49154,49150,49148,49123,49106,49093,49067,49052,49046,49023,49019,49014,48998,48988,48981,48949,48949,48916,48902,48910,48905,48899,48888,48888,48875,48834,48801,48725,48699,48669,48656,48640,48629,48607,48601,48597,48564,48549,48534,48533,48486,48473,48436,48436,48370,48356,48349,48323,48312,48314,48311,48278,48272,48269,48245,48203,48201,48180,48145,48090,48081,48066,48031,48023,48004,47916,47906,47879,47866,47828,47689,47644,47608,47604,47588,47563,47540,47532,47535,47459,47452,47443,47401,47385,47321,47284,47250,47241,47223,47182,47148,47127,47111,47100,47085,47059,47053,47053,47043,47042,47029,47024,46997,46975,46968,46920,46878,46867,46862,46820,46800,46775,46766,46765,46769,46748,46740,46695,46679,46661,46630,46604,46550,46552,46547,46530,46528,46507,46504,46466,46447,46399,46359,46364,46352,46322,46303,46277,46253,46210,46181,46177,46165,46166,46130,46118,46062,46057,46051,46047,46040,45960,45952,45938,45933,45908,45907,45895,45894,45875,45864,45863,45857,45808,45791,45755,45758,45756,45728,45739,45706,45713,45677,45662,45664,45663,45647,45614,45620,45586,45587,45557,45494,45491,45439,45432,45414,45411,45370,45361,45359,45330,45292,45288,45284,45276,45188,45157,45127,45109,45104,45087,45069,45059,45057,45053,45012,44988,44949,44852,44842,44839,44827,44817,44786,44763,44757,44752,44738,44737,44733,44684,44669,44602,44571,44532,44513,44506,44506,44486,44473,44459,44452,44457,44425,44283,44277,44270,44253,44245,44234,44234,44200,44191,44181,44123,44122,44043,44040,43999,43988,43972,43966,43966,43958,43937,43921,43922,43902,43888,43878,43853,43838,43825,43811,43797,43768,43767,43744,43689,43678,43669,43668,43662,43646,43616,43616,43608,43606,43592,43580,43573,43534,43508,43499,43483,43472,43465,43431,43418,43419,43406,43401,43388,43388,43372,43369,43336,43322,43298,43282,43280,43241,43226,43222,43207,43206,43200,43196,43196,43175,43175,43144,43134,43118,43120,43098,43089,43072,43045,43008,42996,42993,42979,42980,42967,42948,42941,42909,42879,42869,42850,42841,42832,42826,42823,42822,42764,42757,42751,42748,42717,42696,42682,42661,42652,42658,42645,42646,42633,42604,42595,42547,42549,42528,42525,42506,42502,42495,42484,42407,42376,42359,42362,42334,42333,42325,42324,42314,42274,42238,42232,42237,42193,42184,42158,42149,42137,42123,42116,42119,42119,42111,42105,42093,42094,42063,42068,42058,42038,42027,42025,42013,42006,41988,41955,41945],\"xaxis\":\"x15\",\"yaxis\":\"y15\",\"type\":\"histogram\"},{\"alignmentgroup\":\"True\",\"bingroup\":\"x\",\"hovertemplate\":\"subreddit_name_prefixed=r/WritingPrompts<br>ups=%{x}<br>count=%{y}<extra></extra>\",\"legendgroup\":\"\",\"marker\":{\"color\":\"#636efa\",\"pattern\":{\"shape\":\"\"}},\"name\":\"\",\"nbinsx\":20,\"offsetgroup\":\"\",\"orientation\":\"v\",\"showlegend\":false,\"x\":[47264,39935,36814,32949,32439,31933,31769,31261,29770,27531,26776,26163,26036,25532,25125,24802,24731,24523,24386,24230,24112,24078,23920,23750,23645,23415,23258,22998,22810,22395,22279,22197,22074,22025,21978,21786,21496,21419,21410,21306,21307,21158,21042,21024,20661,20618,20519,20411,20390,20283,20239,20232,20051,19845,19733,19731,19716,19470,19414,19330,19285,19238,19199,19151,19020,19002,18979,18807,18791,18598,18559,18337,18284,18265,18225,18224,18178,18101,18089,18068,18059,17983,17987,17969,17958,17862,17854,17830,17824,17775,17664,17657,17634,17631,17536,17504,17471,17458,17450,17409,17381,17384,17348,17323,17315,17300,17299,17212,17203,17075,17036,17032,16986,16947,16924,16879,16877,16805,16783,16781,16763,16757,16764,16588,16522,16464,16429,16355,16316,16272,16254,16202,16199,16192,16176,16176,16043,15898,15896,15859,15854,15835,15815,15801,15798,15792,15753,15744,15727,15723,15671,15652,15613,15564,15550,15508,15495,15481,15474,15450,15401,15367,15339,15310,15294,15291,15214,15221,15164,15146,15126,15118,15120,15083,15093,15083,15042,15004,14985,14903,14867,14860,14824,14793,14757,14721,14717,14686,14668,14666,14664,14646,14633,14634,14623,14603,14581,14582,14569,14561,14552,14536,14533,14533,14507,14380,14371,14369,14366,14350,14340,14295,14289,14291,14275,14258,14247,14238,14248,14229,14213,14181,14108,14112,14093,14074,14070,14041,14006,13995,13988,13985,13988,13988,13981,13972,13951,13947,13923,13890,13890,13881,13796,13770,13765,13760,13763,13752,13737,13718,13691,13677,13643,13628,13624,13619,13611,13585,13573,13558,13546,13541,13528,13485,13478,13474,13477,13467,13462,13426,13414,13401,13385,13374,13359,13359,13350,13338,13319,13325,13316,13315,13293,13291,13282,13282,13275,13273,13262,13265,13262,13231,13224,13217,13216,13187,13190,13173,13167,13157,13151,13139,13122,13116,13099,13101,13081,13080,13082,13074,13076,13070,13062,13062,13053,13034,13023,13024,13008,12985,12945,12932,12943,12901,12894,12885,12883,12875,12865,12855,12838,12823,12821,12791,12783,12761,12742,12740,12729,12732,12717,12712,12710,12696,12692,12674,12672,12631,12617,12620,12606,12577,12561,12560,12527,12514,12514,12501,12490,12458,12452,12436,12432,12430,12417,12420,12412,12405,12351,12354,12352,12346,12342,12319,12308,12309,12310,12303,12291,12296,12288,12280,12255,12246,12240,12235,12220,12218,12195,12197,12178,12151,12142,12144,12122,12128,12111,12103,12095,12068,12056,12042,12046,12039,12020,12014,12012,12011,11980,11983,11980,11969,11963,11957,11947,11951,11937,11909,11900,11901,11899,11891,11885,11867,11868,11862,11834,11842,11836,11833,11804,11803,11794,11784,11792,11794,11778,11768,11759,11755,11749,11747,11749,11741,11737,11732,11728,11697,11693,11691,11682,11679,11675,11653,11652,11645,11637,11632,11628,11633,11617,11612,11608,11604,11607,11599,11594,11603,11591,11586,11556,11563,11549,11544,11543,11532,11535,11521,11521,11504,11487,11480,11474,11474,11461,11452,11449,11445,11439,11421,11422,11414,11413,11413,11414,11403,11402,11396,11401,11396,11389,11391,11381,11373,11357,11365,11357,11366,11340,11325,11323,11327,11309,11310,11301,11271,11266,11268,11265,11267,11255,11246,11242,11247,11250,11240,11228,11232,11232,11220,11217,11217,11204,11191,11172,11170,11174,11160,11153,11147,11143,11129,11109,11096,11094,11093,11063,11074,11063,11047,11034,11016,11008,11012,11005,10993,10992,10990,10983,10971,10964,10966,10958,10945,10943,10947,10938,10945,10920,10925,10916,10895,10897,10901,10897,10900,10882,10881,10867,10868,10867,10855,10850,10847,10842,10838,10834,10827,10823,10827,10824,10826,10812,10823,10813,10808,10808,10802,10805,10803,10791,10778,10773,10771,10762,10759,10752,10752,10742,10748,10733,10742,10738,10735,10733,10727,10727,10727,10720,10722,10724,10724,10709,10707,10693,10694,10692,10692,10678,10670,10664,10657,10662,10662,10653,10651,10639,10639,10639,10630,10622,10602,10606,10592,10597,10593,10591,10582,10589,10573,10582,10578,10582,10574,10563,10567,10565,10566,10568,10554,10564,10556,10555,10540,10539,10537,10530,10530,10523,10516,10512,10499,10498,10498,10492,10495,10490,10483,10489,10486,10482,10482,10482,10479,10473,10475,10463,10457,10445,10448,10438,10446,10436,10433,10437,10440,10432,10437,10428,10432,10422,10432,10418,10410,10395,10394,10395,10404,10398,10392,10385,10387,10379,10367,10369,10365,10364,10360,10362,10348,10347,10347,10340,10339,10344,10333,10340,10333,10338,10334,10326,10331,10331,10327,10325,10320,10313,10305,10308,10304,10276,10277,10279,10273,10264,10248,10260,10246,10252,10253,10247,10248,10238,10241,10231,10211,10216,10206,10196,10194,10190,10180,10181,10175,10173,10169,10157,10147,10147,10151,10143,10142,10139,10137,10139,10119,10110,10107,10097,10102,10093,10092,10095,10096,10083,10087,10076,10079,10075,10074,10069,10072,10070,10068,10067,10057,10057,10043,10041,10041,10035,10032,10032,10015,10009,10000,9993,9989,9989,9989,9975,9966,9975,9962,9962,9957,9962,9952,9957,9948,9955,9947,9931,9926,9924,9922,9921,9914,9896,9902,9890,9887,9878,9875,9867,9870,9869,9857,9848,9851,9846,9844,9839,9842,9829,9833,9836,9835,9837,9827,9824,9819,9816,9819,9814,9813,9802,9794,9802,9800,9789,9791,9780,9780,9770,9772,9765,9768,9764,9760,9752,9750,9745,9740,9743,9723,9718,9728,9714,9721,9718,9718,9711,9703,9710,9711,9705,9710,9704,9706,9689,9690,9684,9685,9678,9682,9672,9678,9670,9664,9663,9659,9646,9640,9634,9640,9636,9639,9631,9630,9619,9617,9623,9614,9603,9612,9609,9599,9590,9587,9581,9589,9578,9580,9584,9578,9580,9577,9574,9570,9565,9559,9563,9550,9553,9553,9540,9536,9530,9528,9525,9530,9512,9524,9513,9514,9498,9503,9502,9493,9499,9496,9498,9492,9493,9494,9492,9478,9491,9481,9488,9480,9482,9472,9481,9466,9462,9456,9454,9456,9449,9445,9441,9444,9436,9430,9430,9423,9410,9412,9381,9388,9378,9378,9380,9376,9368,9362,9355,9353,9351,9343,9346,9350,9339,9337,9337,9336,9331],\"xaxis\":\"x16\",\"yaxis\":\"y16\",\"type\":\"histogram\"},{\"alignmentgroup\":\"True\",\"bingroup\":\"x\",\"hovertemplate\":\"subreddit_name_prefixed=r/Showerthoughts<br>ups=%{x}<br>count=%{y}<extra></extra>\",\"legendgroup\":\"\",\"marker\":{\"color\":\"#636efa\",\"pattern\":{\"shape\":\"\"}},\"name\":\"\",\"nbinsx\":20,\"offsetgroup\":\"\",\"orientation\":\"v\",\"showlegend\":false,\"x\":[219173,182162,173470,160091,152603,144375,143106,139490,139451,138502,137931,137706,137310,129674,127319,126547,125483,124618,123381,122329,122206,122022,121823,121559,120955,120468,120289,119126,117005,116864,116368,115909,115863,115616,115396,114965,114586,112881,112745,111780,111241,111071,111044,110963,110771,109022,109017,108487,108144,107893,107004,107009,106697,106609,106578,106107,105862,104875,104480,104278,104065,103661,102991,102746,102602,102281,102200,102192,102103,102014,101784,101737,101113,100830,100738,100312,100154,100001,99535,99210,99123,98878,98554,98490,98155,97788,97708,97606,97520,97362,97357,97211,97127,97047,97049,96493,96431,96402,96057,95873,95774,95763,95470,95014,94615,94354,94348,94200,94155,94070,94014,93791,93684,93497,93469,93450,93424,93367,93229,93117,93090,93005,92544,91905,91828,91718,91583,91323,91231,91044,90984,90901,90878,90879,90602,90421,90332,90336,90235,90135,89951,89776,89576,89527,89506,89268,89233,89086,89078,88771,88665,88610,88601,88588,88377,88342,88295,88280,88248,88228,87965,87936,87902,87727,87677,87646,87552,87523,87207,87164,87118,87081,87005,86843,86572,86509,86447,86389,86342,86268,86200,85955,85938,85883,85522,85408,85079,85079,84953,84873,84811,84790,84700,84634,84444,84429,84293,84250,84061,83884,83867,83860,83852,83774,83729,83363,83260,83187,83175,83146,83090,83062,83040,82869,82833,82798,82657,82593,82268,82193,82172,82148,82130,82071,82049,81882,81809,81657,81545,81457,81343,81314,81256,81225,81209,81192,81042,80856,80782,80716,80628,80526,80408,80373,80246,80248,80234,80173,80152,80032,79973,79922,79721,79461,79433,79348,79333,79155,79149,79145,79041,78903,78817,78809,78775,78771,78754,78533,78457,78319,78246,78181,78137,77889,77862,77825,77756,77746,77592,77579,77568,77561,77544,77522,77445,77404,77296,77222,77157,76917,76895,76843,76751,76713,76705,76707,76638,76584,76513,76490,76500,76396,76349,76281,76143,76108,75986,75987,75894,75836,75810,75786,76141,75700,75607,75388,75185,75103,75063,75037,75013,74955,74937,74888,74863,74858,74851,74805,74517,74448,74419,74393,74325,74310,74290,74250,74243,74230,74184,74175,73955,73951,73927,73927,73890,73793,73733,73697,73621,73512,73500,73407,73406,73345,73327,73237,73226,73213,73199,73071,73071,72948,72880,72836,72753,72729,72734,72679,72638,72587,72551,72532,72474,72463,72410,72404,72349,72303,72302,72289,72194,72159,72052,72037,71968,71897,71882,71863,71808,71719,71687,71664,71663,71595,71475,71431,71413,71385,71368,71336,71256,71220,71133,71121,71082,71054,70974,70854,70852,70762,70755,70747,70654,70641,70561,70509,70474,70433,70282,70221,70196,70144,70109,70068,70070,69966,69849,69701,69659,69648,69606,69591,69566,69513,69484,69431,69403,69409,69397,69389,69379,69380,69317,69222,69220,69196,69171,69166,69034,68970,68927,68902,68848,68833,68807,68782,68762,68714,68710,68700,68685,68630,68620,68616,68597,68577,68559,68546,68422,68405,68363,68330,68200,68192,68142,68133,68128,68113,68108,68002,68001,67991,67971,67905,67870,67869,67793,67771,67741,67721,67705,67689,67673,67514,67458,67311,67294,67260,67196,67174,66903,66878,66871,66847,66841,66809,66709,66588,66528,66454,66416,66399,66363,66304,66272,66229,66190,66170,66131,66044,66044,65941,65779,65765,65751,65730,65719,65687,65648,65642,65614,65581,65545,65531,65475,65431,65327,65234,65186,65170,65157,65071,65026,64986,64956,64836,64838,64803,64801,64732,64698,64583,64575,64572,64562,64547,64460,64451,64421,64392,64363,64358,64338,64295,64239,64219,64207,64188,64187,64180,64093,64050,63988,63981,63977,63987,63964,63955,63942,63913,63836,63798,63800,63754,63728,63728,63729,63671,63663,63540,63498,63460,63443,63406,63394,63370,63297,63275,63208,63187,63168,63168,63122,63100,63020,63018,62954,62901,62878,62874,62853,62836,62831,62816,62809,62780,62717,62713,62606,62592,62564,62490,62467,62457,62389,62388,62357,62340,62331,62334,62294,62293,62263,62169,62153,62153,62106,62056,62048,61970,61951,61880,61797,61788,61746,61744,61716,61706,61689,61685,61644,61630,61573,61561,61559,61539,61536,61536,61512,61484,61461,61384,61350,61215,61214,61163,61165,61107,61111,61018,60982,60964,60959,60931,60887,60763,60732,60720,60675,60631,60618,60585,60526,60487,60446,60438,60408,60297,60273,60247,60064,60044,60041,60046,60027,60008,59997,59986,59943,59935,59864,59782,59750,59737,59733,59684,59600,59583,59544,59543,59533,59494,59496,59481,59442,59434,59391,59363,59345,59306,59195,59174,59159,59126,59092,59060,59067,59050,59009,58958,58923,58904,58902,58890,58847,58831,58811,58717,58671,58652,58648,58605,58592,58578,58474,58441,58413,58402,58365,58364,58350,58330,58286,58283,58236,58204,58191,58120,58082,58051,58026,58012,57998,57980,57935,57930,57827,57810,57731,57726,57724,57700,57703,57653,57616,57572,57568,57487,57467,57451,57401,57396,57363,57357,57335,57248,57246,57221,57197,57058,57052,57023,56992,56936,56934,56932,56921,56901,56829,56828,56793,56786,56784,56735,56741,56720,56705,56698,56689,56646,56637,56614,56610,56607,56600,56592,56565,56486,56459,56434,56381,56325,56307,56309,56284,56272,56265,56250,56188,56175,56175,56163,56157,56133,56129,56088,56009,55946,55932,55873,55829,55821,55814,55787,55755,55688,55672,55671,55650,55556,55541,55516,55489,55479,55431,55420,55388,55387,55370,55354,55340,55307,55285,55288,55278,55276,55268,55250,55228,55176,55167,55139,55072,55042,55034,55014,55009,54996,54994,54982,54945,54937,54920,54914,54921,54893,54797,54753,54674,54641,54647,54638,54632,54568,54556,54507,54508,54508,54504,54486,54466,54425,54396,54366,54372,54356,54304,54252,54221,54209,54190,54172,54147,54125,54130,54100,54093,54072,54064,54055,54057,54006,53969,53965,53953,53892,53886,53872,53811,53778,53770,53760,53755,53711,53695,53686,53673,53682,53670,53640,53597,53588,53536,53477,53461,53369,53310,53270,53263,53252,53172,53033,53009,53005,52976,52980,52924,52919,52901,52854,52838],\"xaxis\":\"x17\",\"yaxis\":\"y17\",\"type\":\"histogram\"},{\"alignmentgroup\":\"True\",\"bingroup\":\"x\",\"hovertemplate\":\"subreddit_name_prefixed=r/worldnews<br>ups=%{x}<br>count=%{y}<extra></extra>\",\"legendgroup\":\"\",\"marker\":{\"color\":\"#636efa\",\"pattern\":{\"shape\":\"\"}},\"name\":\"\",\"nbinsx\":20,\"offsetgroup\":\"\",\"orientation\":\"v\",\"showlegend\":false,\"x\":[204542,202903,189353,168664,154760,150306,150303,148056,146821,146443,145865,144904,142946,142116,141163,139842,139433,138669,138321,135552,135119,134992,134862,134235,133747,133627,133056,132979,132547,131679,131088,130317,129888,129731,129692,129258,129158,128503,127841,127710,127649,127554,127534,127220,126874,126761,126515,126446,125162,125134,125114,124726,124590,124183,123608,123386,123386,123363,123301,122000,121735,121586,119861,119636,119313,119295,118922,118747,118280,118181,117811,117520,117489,117436,117347,117166,117122,117106,116605,116530,116368,116085,115831,115805,115796,115626,115567,115512,114342,114323,114205,114139,114134,114102,113890,113131,112722,112249,112179,112156,112154,112001,111798,111669,111594,111565,111316,111286,111096,110737,110599,109695,109505,109470,108982,108652,108303,108219,107832,107750,107736,107604,107601,107475,107287,107266,107183,107079,106998,106960,106859,106575,106513,106506,106482,106303,106237,106043,106000,105956,105916,105814,105775,105756,105758,105594,105472,105395,105388,105357,105237,105102,105038,105039,104965,104907,104892,104881,104619,104426,104080,103965,103912,103906,103869,103760,103681,103556,103265,103210,103164,103116,103109,103076,103035,102812,102689,102669,102650,102629,102570,102405,102152,102132,102124,101997,101813,101799,101686,101447,101444,101379,101323,101255,101212,101193,101170,101108,100951,100888,100736,100720,100716,100690,100611,100553,100046,100017,99846,99814,99581,99571,99524,99158,99081,99070,98795,98753,98717,98704,98182,98153,97684,97617,97427,97413,97377,97368,97362,97321,97267,97222,97196,97141,97092,97020,96992,96967,96909,96746,96692,96634,96552,96344,96301,96167,96062,95836,95833,95809,95813,95715,95579,95571,95542,95535,95470,95455,95387,95344,95339,95214,95216,95204,95116,94978,94883,94851,94667,94637,94571,94410,94359,94133,94118,94093,94078,94007,93988,93955,93862,93815,93690,93669,93666,93663,93637,93602,93541,93370,93339,93342,93335,93273,93170,93008,93002,92894,92833,92728,92722,92500,92442,92440,92359,92294,92262,92253,92225,92193,92009,91857,91752,91725,91718,91682,91678,91664,91650,91643,91622,91560,91543,91529,91426,91397,91373,91326,91286,91270,91201,91066,90899,90834,90779,90769,90752,90725,90650,90546,90413,90329,90310,90292,90215,90213,90160,90123,90096,89966,89945,89875,89837,89734,89705,89709,89600,89595,89558,89546,89463,89452,89424,89378,89371,89321,89170,89155,89067,89054,88936,88906,88850,88827,88813,88813,88626,88616,88540,88497,88495,88492,88371,88357,88272,88229,88163,88152,88110,87959,87937,87923,87907,87833,87790,87681,87504,87490,87453,87420,87412,87356,87312,87301,87094,87078,87014,87003,86959,86827,86749,86634,86480,86441,86437,86434,86361,86358,86289,86271,86262,86168,86093,86054,86041,86040,86029,85739,85621,85572,85531,85476,85442,85340,85314,85312,85297,85178,85126,85124,85067,84979,84955,84929,84908,84892,84810,84815,84793,84795,84723,84710,84718,84633,84606,84600,84527,84517,84511,84375,84368,84375,84322,84285,84231,84228,84081,83990,83985,83982,83903,83898,83825,83803,83791,83783,83708,83594,83553,83521,83513,83413,83411,83350,83322,83298,83267,83252,83156,83072,83042,82990,82982,82961,82938,82812,82749,82685,82686,82672,82669,82611,82597,82553,82510,82454,82407,82358,82308,82242,82232,82216,82166,82160,82013,82010,81977,81910,81807,81770,81752,81646,81490,81490,81442,81423,81379,81347,81304,81287,81234,81238,81222,81205,81200,81164,81126,81034,81002,80962,80901,80895,80886,80843,80828,80775,80704,80699,80699,80612,80597,80578,80528,80448,80440,80385,80326,80301,80287,80187,80157,80158,80125,80125,80024,80024,80000,79981,79875,79835,79833,79801,79765,79755,79660,79532,79529,79515,79502,79439,79391,79381,79371,79334,79333,79247,79231,79213,79188,79162,79104,79105,79096,79091,79041,79029,78987,78966,78947,78917,78914,78882,78825,78778,78768,78728,78709,78649,78627,78628,78600,78588,78547,78416,78382,78370,78326,78277,78279,78237,78229,78222,78226,78198,78144,78097,78092,78065,78059,78023,78009,77946,77877,77868,77798,77781,77778,77752,77744,77737,77642,77626,77593,77589,77564,77482,77476,77345,77345,77326,77269,77269,77246,77211,77188,77168,77171,77125,77124,77120,77097,77101,77102,77026,77020,77024,76976,76960,76938,76926,76902,76894,76882,76825,76785,76788,76768,76764,76733,76736,76607,76594,76568,76522,76511,76486,76476,76443,76384,76383,76371,76361,76372,76250,76237,76211,76195,76188,76178,76147,76063,76072,76058,76035,76022,75935,75900,75895,75839,75818,75775,75693,75663,75568,75538,75530,75532,75516,75476,75468,75459,75430,75408,75333,75324,75296,75288,75276,75246,75239,75240,75215,75199,75179,75141,75129,75078,75072,75030,75018,75010,74989,74940,74911,74904,74863,74759,74741,74734,74674,74667,74655,74554,74503,74466,74464,74421,74387,74387,74390,74371,74375,74370,74327,74254,74254,74236,74137,74128,74108,74085,74083,74048,74017,74012,73988,73951,73924,73921,73901,73895,73902,73884,73878,73783,73780,73742,73713,73672,73626,73534,73526,73506,73505,73499,73503,73493,73480,73450,73439,73422,73383,73383,73370,73349,73326,73325,73303,73299,73203,73206,73184,73153,73136,73072,73062,73106,73059,73058,73038,72988,72978,72959,72960,72954,72942,72897,72877,72855,72845,72823,72795,72706,72707,72685,72648,72635,72604,72588,72575,72577,72582,72562,72561,72540,72532,72518,72502,72474,72474,72431,72401,72358,72349,72335,72224,72196,72155,72155,72146,72121,72112,72067,71973,71982,71979,71933,71916,71894,71881,71821,71811,71804,71808,71788,71787,71785,71757,71751,71701,71695,71684,71666,71668,71651,71648,71635,71610,71587,71584,71577,71579,71565,71560,71542,71538,71525,71522,71498,71499,71444,71437,71400,71402,71395,71367,71307,71259,71242,71220,71178,71152,71056,71038,71001,70994,70975,70948,70940,70934,70892,70863,70849,70814,70794,70791,70767,70720,70673,70651,70655,70623,70614,70583,70569,70566,70556,70555,70516,70461,70451,70436,70425,70425,70419,70415,70418,70376,70376,70363,70338,70271,70245,70175,70167,70161,70119,70111,70078,70075,70057,70040,69950,69927,69910,69873,69865,69740,69725,69729,69695,69690,69656,69613,69605,69559,69535,69534,69516,69508,69503,69484,69454,69429,69428,69408,69386,69341,69336,69318,69297,69264,69246,69218],\"xaxis\":\"x18\",\"yaxis\":\"y18\",\"type\":\"histogram\"},{\"alignmentgroup\":\"True\",\"bingroup\":\"x\",\"hovertemplate\":\"subreddit_name_prefixed=r/todayilearned<br>ups=%{x}<br>count=%{y}<extra></extra>\",\"legendgroup\":\"\",\"marker\":{\"color\":\"#636efa\",\"pattern\":{\"shape\":\"\"}},\"name\":\"\",\"nbinsx\":20,\"offsetgroup\":\"\",\"orientation\":\"v\",\"showlegend\":false,\"x\":[169018,158700,158158,153057,151793,151393,149745,146232,145620,144850,141405,140686,140616,137792,137018,136012,135577,134798,134173,133890,131382,130471,129201,128900,128695,128650,128270,127812,126958,126944,126576,126534,126361,125823,125351,125297,125085,123711,123538,122876,121832,120603,120350,119984,119881,119772,119407,119157,118652,118359,118090,117306,117002,116839,116229,116194,116105,116025,115850,115299,114663,114640,114591,114435,114196,114076,114027,113703,113616,113382,113328,113134,113119,112908,112841,112637,112265,111961,111927,111562,111446,111276,111071,110634,110526,110471,109854,109752,109691,109464,109380,109252,109230,109108,109051,108883,108657,108293,108135,107923,107693,107607,107417,107118,107093,107084,106827,106727,106598,106505,106503,106153,105859,105636,105591,105595,105539,105411,105337,105302,105118,104918,104689,104448,104345,103937,103927,103896,103642,103330,103258,103230,103217,103141,103097,103074,103046,103023,102997,102828,102779,102770,102638,102605,102498,102283,102007,101807,101577,101518,101510,101417,101347,101306,101307,101254,100750,100714,100652,100528,100397,100357,100350,100340,100164,100142,100102,100092,99849,99793,99749,99739,99688,99631,99524,99347,99294,99164,99040,98965,98927,98821,98805,98805,98742,98700,98642,98558,98536,98524,98481,98428,98412,98403,98253,98248,98090,97979,97954,97547,97359,97266,97229,97165,97126,97085,97072,96776,96769,96757,96703,96658,96663,96647,96637,96561,96552,96507,96490,96483,96464,96424,96376,96370,96366,96344,96129,96094,96076,96032,95903,95891,95701,95702,95679,95640,95583,95465,95455,95365,95353,95295,95292,95147,95048,95016,95013,94996,94996,94980,94954,94824,94820,94814,94802,94724,94609,94530,94497,94408,94244,94233,94134,94032,93997,93998,93983,93971,93940,93904,93878,93783,93730,93624,93615,93605,93497,93339,93312,93216,93216,93192,93147,93050,92906,92886,92767,92751,92703,92698,92637,92574,92536,92395,92284,92232,92071,91952,91815,91693,91595,91573,91506,91498,91468,91435,91402,91368,91338,91319,91315,91312,91226,91205,91130,91114,91115,91102,91103,91069,91044,90976,90935,90911,90838,90609,90576,90571,90521,90522,90419,90408,90412,90398,90361,90300,90292,90292,90222,90174,90036,90030,90018,89855,89472,89342,89336,89298,89299,89097,89088,88945,88806,88748,88649,88621,88592,88565,88513,88477,88464,88410,88395,88297,88247,88217,88147,88090,88098,88012,87983,87958,87928,87920,87917,87912,87902,87875,87697,87693,87666,87491,87378,87281,87222,87145,87129,87108,87043,86981,86953,86843,86811,86801,86753,86737,86695,86679,86648,86468,86474,86266,86212,86110,86103,86062,86024,86015,86009,85975,85931,85897,85857,85843,85848,85797,85751,85615,85550,85538,85460,85420,85408,85266,85219,85204,85116,85052,84987,84840,84811,84804,84773,84690,84623,84589,84582,84556,84492,84425,84400,84229,84171,84158,84101,84082,83970,83941,83928,83908,83887,83853,83836,83734,83738,83677,83655,83642,83526,83504,83442,83405,83407,83365,83319,83279,83241,83236,83217,83187,83144,83130,83108,83070,82989,82992,82991,82973,82884,82832,82802,82804,82783,82777,82756,82679,82638,82502,82496,82486,82448,82429,82424,82334,82323,82319,82277,82279,82267,82241,82204,82160,82144,82137,82126,82130,82085,82019,81994,81982,81956,81919,81848,81808,81790,81719,81716,81697,81696,81598,81583,81587,81578,81488,81475,81467,81426,81405,81406,81352,81344,81328,81331,81295,81284,81250,81250,81247,81234,81175,81149,81134,81116,81108,81090,81081,81063,81045,81026,80938,80779,80779,80775,80708,80689,80657,80654,80624,80609,80596,80540,80513,80438,80436,80419,80408,80363,80355,80348,80345,80318,80311,80294,80287,80275,80240,80228,80199,80199,80123,80091,80049,79987,79949,79913,79897,79812,79756,79743,79672,79592,79586,79582,79579,79567,79546,79532,79527,79524,79488,79489,79481,79486,79469,79466,79462,79450,79442,79433,79428,79393,79394,79346,79335,79332,79314,79311,79304,79293,79239,79184,79172,79162,79152,79137,79125,79074,79055,79041,78990,78971,78925,78901,78886,78857,78750,78722,78701,78689,78652,78658,78642,78641,78582,78534,78523,78459,78447,78351,78302,78282,78169,78112,78109,78096,78078,78016,77993,77967,77954,77857,77820,77786,77782,77787,77780,77754,77741,77719,77698,77677,77602,77593,77585,77579,77519,77503,77479,77468,77451,77415,77406,77404,77302,77294,77247,77185,77188,77181,77154,77151,77127,77083,77084,77075,77038,77015,76869,76848,76837,76839,76816,76793,76762,76763,76664,76663,76658,76658,76631,76558,76540,76545,76528,76526,76515,76506,76471,76430,76394,76357,76338,76327,76328,76325,76318,76196,76142,76125,76103,76088,76034,76013,75993,75981,75979,75955,75945,75917,75918,75911,75903,75867,75809,75811,75803,75795,75779,75772,75700,75688,75617,75589,75585,75575,75539,75535,75514,75508,75499,75482,75423,75387,75346,75329,75293,75289,75261,75257,75260,75212,75204,75193,75176,75141,75125,75072,75064,75029,75014,74981,74966,74958,74927,74909,74903,74895,74884,74881,74867,74811,74762,74750,74746,74726,74691,74692,74653,74642,74570,74555,74549,74546,74537,74530,74530,74528,74506,74490,74487,74457,74441,74430,74408,74403,74398,74375,74352,74345,74338,74305,74288,74290,74275,74279,74262,74261,74239,74221,74206,74171,74135,74127,74120,74124,74088,74083,74057,74047,74014,73989,73991,73977,73959,73945,73937,73909,73869,73835,73755,73733,73729,73727,73663,73643,73635,73629,73628,73592,73581,73521,73484,73431,73420,73393,73382,73385,73382,73348,73319,73293,73254,73250,73203,73180,73171,73139,73132,73132,73117,73066,73064,73043,73042,72980,72977,72967,72950,72949,72946,72918,72907,72872,72863,72868,72825,72806,72812,72806,72806,72756,72749,72745,72726,72725,72717,72722,72714,72699,72694,72696,72683,72681,72663,72636,72625,72579,72576,72555,72538,72480,72468,72465,72416,72393,72388,72367,72359,72339,72319,72310,72287,72288,72251,72230,72222,72213,72203,72169,72157,72142,72125,72075,72057,72048,72041,72040,72015,72001,71947,71939,71923,71901,71861,71840,71826,71823,71791,71770,71755,71751,71735,71684,71686,71638,71630,71627,71596,71578,71571,71569,71550,71544,71504,71500,71465,71448,71415,71346,71346,71270,71239],\"xaxis\":\"x19\",\"yaxis\":\"y19\",\"type\":\"histogram\"},{\"alignmentgroup\":\"True\",\"bingroup\":\"x\",\"hovertemplate\":\"subreddit_name_prefixed=r/learnprogramming<br>ups=%{x}<br>count=%{y}<extra></extra>\",\"legendgroup\":\"\",\"marker\":{\"color\":\"#636efa\",\"pattern\":{\"shape\":\"\"}},\"name\":\"\",\"nbinsx\":20,\"offsetgroup\":\"\",\"orientation\":\"v\",\"showlegend\":false,\"x\":[16588,13807,8481,7366,6941,6603,6480,6382,6156,5778,5551,5505,5446,5259,5130,4996,4950,4918,4910,4878,4827,4770,4650,4642,4588,4533,4495,4442,4327,4327,4285,4249,4131,4099,4034,4017,3979,3934,3842,3797,3795,3727,3668,3672,3645,3655,3576,3577,3562,3556,3554,3526,3496,3497,3486,3466,3429,3427,3408,3382,3350,3343,3310,3301,3281,3280,3262,3251,3247,3248,3236,3215,3216,3207,3177,3159,3142,3137,3094,3063,3021,3015,3002,2995,2987,2971,2965,2964,2956,2956,2938,2921,2896,2887,2871,2872,2858,2862,2862,2838,2837,2835,2826,2815,2811,2807,2808,2796,2793,2785,2780,2770,2760,2744,2745,2731,2735,2731,2723,2706,2702,2679,2679,2672,2665,2660,2633,2611,2609,2613,2609,2596,2583,2567,2568,2557,2545,2545,2546,2520,2514,2509,2502,2502,2491,2482,2480,2474,2473,2464,2459,2459,2459,2458,2440,2444,2447,2436,2427,2428,2415,2413,2403,2406,2405,2397,2399,2388,2390,2381,2377,2360,2360,2347,2347,2341,2326,2322,2314,2321,2320,2308,2307,2308,2300,2305,2286,2279,2273,2269,2261,2266,2266,2263,2260,2256,2255,2253,2255,2241,2248,2233,2234,2222,2216,2214,2206,2195,2189,2193,2193,2188,2178,2172,2170,2171,2161,2158,2158,2149,2147,2148,2138,2134,2138,2131,2137,2126,2124,2115,2121,2117,2114,2115,2114,2112,2105,2104,2099,2089,2080,2081,2059,2060,2049,2052,2038,2037,2032,2036,2024,2024,2025,2014,2011,2009,2011,2010,2008,2007,2004,1996,1988,1973,1972,1978,1968,1967,1970,1970,1966,1962,1958,1958,1955,1956,1950,1943,1949,1946,1940,1937,1935,1934,1928,1930,1926,1924,1913,1920,1912,1910,1907,1911,1905,1904,1900,1891,1888,1891,1890,1879,1877,1878,1873,1876,1865,1863,1868,1861,1859,1853,1851,1845,1846,1844,1845,1841,1843,1840,1836,1832,1832,1827,1821,1820,1818,1800,1795,1789,1791,1789,1792,1785,1781,1773,1779,1770,1772,1764,1769,1769,1754,1755,1750,1755,1748,1749,1746,1742,1738,1745,1740,1734,1738,1741,1730,1735,1727,1724,1722,1719,1715,1716,1714,1708,1703,1709,1707,1704,1705,1703,1702,1694,1692,1686,1680,1680,1681,1666,1667,1661,1665,1657,1661,1659,1658,1655,1653,1654,1651,1650,1646,1645,1638,1641,1638,1637,1634,1639,1633,1631,1630,1624,1622,1625,1618,1616,1612,1613,1608,1618,1612,1616,1607,1606,1608,1606,1610,1605,1602,1603,1602,1596,1601,1599,1599,1594,1593,1595,1584,1584,1584,1580,1579,1583,1577,1575,1574,1567,1575,1571,1568,1571,1561,1557,1560,1561,1562,1558,1555,1558,1555,1556,1548,1552,1550,1547,1547,1546,1543,1544,1545,1541,1539,1543,1532,1529,1527,1521,1524,1519,1517,1513,1514,1511,1513,1504,1505,1495,1506,1497,1497,1497,1487,1489,1490,1482,1482,1481,1481,1484,1477,1477,1472,1474,1470,1467,1471,1467,1464,1470,1464,1461,1459,1458,1452,1450,1449,1452,1446,1442,1440,1435,1439,1435,1436,1440,1436,1429,1432,1434,1429,1433,1428,1423,1423,1413,1419,1412,1408,1410,1404,1408,1406,1397,1392,1402,1396,1395,1394,1392,1397,1393,1387,1389,1390,1387,1386,1381,1381,1385,1383,1379,1376,1374,1382,1378,1376,1378,1372,1369,1372,1375,1366,1367,1364,1369,1364,1358,1359,1360,1361,1352,1354,1356,1356,1359,1350,1349,1348,1356,1344,1342,1343,1344,1338,1334,1333,1341,1339,1340,1337,1331,1331,1337,1329,1324,1331,1328,1322,1321,1322,1323,1320,1317,1313,1311,1307,1311,1306,1310,1311,1306,1304,1296,1299,1301,1298,1292,1294,1291,1289,1288,1289,1289,1284,1289,1282,1279,1283,1279,1279,1282,1274,1283,1277,1274,1276,1274,1272,1273,1273,1270,1267,1270,1263,1262,1256,1256,1257,1261,1254,1259,1251,1254,1253,1246,1252,1243,1241,1240,1236,1241,1233,1237,1232,1229,1228,1231,1232,1230,1234,1230,1233,1230,1221,1225,1223,1223,1222,1214,1217,1220,1218,1210,1208,1211,1209,1208,1205,1208,1206,1206,1196,1195,1202,1200,1196,1193,1199,1190,1195,1186,1190,1188,1186,1190,1187,1189,1190,1186,1182,1182,1188,1187,1183,1180,1181,1176,1174,1176,1171,1172,1169,1172,1171,1172,1168,1169,1172,1165,1173,1165,1163,1161,1162,1165,1159,1162,1156,1159,1154,1157,1157,1156,1159,1155,1153,1155,1152,1151,1148,1144,1142,1145,1145,1144,1147,1148,1149,1148,1140,1140,1143,1141,1140,1138,1144,1136,1131,1132,1135,1131,1131,1134,1130,1126,1128,1127,1128,1132,1130,1124,1126,1121,1118,1120,1125,1118,1120,1115,1116,1116,1118,1119,1110,1113,1109,1114,1107,1110,1108,1109,1105,1106,1100,1105,1098,1101,1102,1091,1095,1091,1098,1091,1091,1092,1087,1088,1087,1085,1088,1086,1086,1084,1088,1082,1086,1087,1084,1083,1079,1075,1080,1074,1076,1077,1073,1071,1069,1065,1070,1068,1070,1067,1065,1070,1071,1059,1062,1065,1059,1064,1061,1064,1060,1057,1060,1059,1053,1053,1055,1054,1053,1044,1043,1042,1045,1042,1047,1038,1049,1043,1040,1044,1041,1034,1039,1032,1031,1031,1031,1034,1037,1034,1027,1032,1031,1024,1025,1022,1019,1016,1023,1016,1021,1017,1013,1014,1015,1007,1006,1013,1003,1011,1002,1007,1004,1004,1002,1001,1001,1006,1004,1007,996,998,1002,995,994,995,994,992,995,998,993,992,996,995,994,989,989,996,991,988,989,984,988,983,989,986,983,983,982,981,984,980,979,977,981,977,977,975,983,979,975,975,980,979,973,970,973,977,974,975,973,973,973,973,974,977,971,969,969,969,968,966,969,963,971,964,962,960,967,964,963,956,958,964,956,961,957,958,953,956],\"xaxis\":\"x20\",\"yaxis\":\"y20\",\"type\":\"histogram\"},{\"alignmentgroup\":\"True\",\"bingroup\":\"x\",\"hovertemplate\":\"subreddit_name_prefixed=r/announcements<br>ups=%{x}<br>count=%{y}<extra></extra>\",\"legendgroup\":\"\",\"marker\":{\"color\":\"#636efa\",\"pattern\":{\"shape\":\"\"}},\"name\":\"\",\"nbinsx\":20,\"offsetgroup\":\"\",\"orientation\":\"v\",\"showlegend\":false,\"x\":[194099,192573,161932,132252,108616,107365,87263,76378,73266,67906,61399,56029,54612,50320,40927,38120,36559,35529,35484,34038,32216,31767,31124,30938,30764,29652,29639,29464,29183,27912,26901,26371,26335,25030,23463,23326,23116,21315,21151,21141,21011,20692,20163,19255,19216,19183,18872,18182,17357,17311,17306,17044,16897,15686,15325,15158,14587,14393,14105,14017,13983,13880,13737,11954,11804,11561,10956,10869,10668,10228,9463,9440,8802,8434,8252,8156,7887,7836,7846,7745,7363,7247,6687,6414,6146,5754,5668,5458,5083,5066,4253,4134,4096,4001,3974,3833,3732,3733,3448,3433,3320,3106,2910,2761,2756,2710,2676,2491,2412,2309,2199,2062,2055,2050,1981,1919,1910,1807,1760,1710,1674,1603,1553,1541,1541,1408,1385,1318,1303,1132,1083,930,822,803,736,717,696,669,661,653,641,596,549,512,465,465,374,301,293,222,213,189,17,0,0,0,0,0,0,0,0,0,0,0,0],\"xaxis\":\"x21\",\"yaxis\":\"y21\",\"type\":\"histogram\"},{\"alignmentgroup\":\"True\",\"bingroup\":\"x\",\"hovertemplate\":\"subreddit_name_prefixed=r/funny<br>ups=%{x}<br>count=%{y}<extra></extra>\",\"legendgroup\":\"\",\"marker\":{\"color\":\"#636efa\",\"pattern\":{\"shape\":\"\"}},\"name\":\"\",\"nbinsx\":20,\"offsetgroup\":\"\",\"orientation\":\"v\",\"showlegend\":false,\"x\":[308589,284003,263336,237017,226360,220611,219442,217211,211548,207028,206385,205488,202750,202361,201723,199557,198859,194041,191488,191019,190644,190186,187725,187714,183931,183850,183195,182004,179202,179191,178825,174502,173968,172602,172122,172004,170745,169419,169341,169119,168735,168714,168252,167180,166771,166733,166614,166320,165871,165815,165120,164631,163374,163239,161548,161537,159979,159502,158983,158469,158047,157836,157610,157025,156857,156472,156327,155866,155456,154423,153600,152957,152734,152350,152321,152131,152051,151800,151494,151232,150836,150227,149563,149464,149439,149211,149147,149075,149013,149012,148660,148311,147975,147693,147507,147253,147207,147166,146691,146558,146548,146517,145839,144854,144677,144343,144321,144181,143946,143911,143589,143141,142958,142950,142910,142850,142033,141944,141606,141522,141293,141135,141096,141018,140991,140959,140940,140630,140586,140460,140371,139810,139576,139272,139112,139088,139004,138632,138317,138271,138234,138227,138028,137750,137604,137513,137221,137192,137174,137122,137114,137034,136914,136621,136310,136319,136208,136172,136143,136090,136088,135655,135604,135430,135409,135336,134894,134820,134713,134620,134628,134596,134323,134244,134114,134058,133957,133919,133813,133722,133662,133560,133434,133342,133309,133241,133148,133119,132963,132860,132843,132768,132741,132658,132295,132137,132035,132002,131724,131651,131602,131498,131490,131478,131456,131407,131405,131046,130845,130718,130621,130362,130243,130174,130169,130154,130053,129985,129895,129875,129856,129786,129360,129327,129314,129311,129149,129078,128918,128881,128623,128524,128411,128294,128234,128051,128028,127956,127722,127676,127657,127624,127387,127349,127295,127113,126754,126754,126632,126574,126515,126478,126473,126415,126353,126331,126144,126049,125845,125801,125748,125598,125577,125410,125392,125384,125333,125294,125876,125071,125016,124923,124677,124671,124548,124446,124399,124401,124331,124192,124146,124148,123937,123801,123790,123754,123649,123636,123364,123352,123136,123107,123044,123022,123000,122930,122876,122833,122726,122549,122428,122424,122420,122418,122409,122340,122190,122172,122135,122014,122003,121792,121675,121621,121360,121220,121176,121147,121223,121057,121050,120916,120822,120801,120730,120719,120418,120402,120372,120228,120193,119985,119963,119879,119872,119853,119752,119573,119498,119470,119421,119385,119348,119275,119238,119202,119164,119136,119139,119082,119028,119020,118981,118958,118869,118833,118823,118619,118560,118376,118367,118274,118250,118215,118136,118121,118084,117965,117796,117746,117700,117655,117611,117604,117596,117539,117284,117230,117097,117091,117028,116982,116961,116945,116923,116923,116721,116710,116673,116545,116501,116475,116463,116445,116386,116356,116281,116124,116086,116008,115996,115941,115909,115798,115758,115719,115596,115620,115540,115259,115263,115228,115226,115202,115159,115123,115079,115058,114984,114715,114687,114628,114561,114533,114452,114443,114367,114322,114324,114316,114283,114127,114077,114005,113942,113894,113855,113637,113624,113598,113475,113424,113371,113298,113179,113051,113053,113032,113012,112974,112917,112867,112404,112370,112305,112288,112283,112266,112261,112174,112076,111971,111840,111830,111726,111596,111570,111466,111418,111259,111185,111177,111151,111101,111049,111057,111035,111025,111018,110913,110830,110808,110792,110769,110756,110589,110579,110564,110516,110503,110495,110363,110295,110282,110239,110225,110175,110168,110161,110130,110065,110034,109947,109943,109893,109884,109871,109852,109776,109767,109588,109411,109363,109348,109314,109257,109249,109209,109197,109047,109016,108988,108945,108949,108889,108886,108786,108736,108716,108650,108619,108587,108530,108499,108498,108452,108324,108238,108177,108130,108123,108102,108088,108070,108011,107988,107963,107967,107964,107813,107798,107734,107704,107607,107610,107553,107488,107434,107410,107353,107328,107321,107306,107241,107242,107213,107113,107060,107056,107035,106993,106837,106824,106815,106776,106759,106674,106653,106619,106574,106575,106481,106475,106452,106443,106414,106373,106357,106081,105976,105968,105922,105922,105908,105828,105829,105816,105669,105667,105622,105610,105602,105586,105569,105528,105336,105329,105300,105270,105154,105133,105130,105119,105089,105075,105029,105023,104970,104963,104930,104775,104769,104721,104705,104683,104687,104655,104610,104582,104565,104561,104509,104498,104475,104441,104435,104424,104358,104357,104298,104289,104269,104172,104130,104035,103976,103851,103814,103777,103739,103702,103693,103636,103567,103567,103491,103483,103460,103305,103265,103198,103188,103145,103145,103129,103105,103063,102893,102875,102856,102762,102751,102728,102719,102640,102535,102476,102444,102431,102426,102390,102358,102168,102136,102090,102076,102068,102039,102039,102019,102003,101945,101911,101898,101899,101877,101818,101804,101784,101768,101763,101761,101695,101675,101671,101662,101656,101596,101556,101518,101485,101453,101409,101391,101345,101330,101315,101265,101101,101101,101074,101053,101041,101016,100967,100953,100917,100916,100866,100856,100846,100819,100708,100706,100657,100656,100635,100623,100611,100584,100572,100571,100507,100497,100479,100429,100422,100415,100410,100369,100364,100353,100298,100274,100216,100217,100198,100188,100152,100147,100066,100009,100011,100001,100000,99917,99894,99878,99862,99863,99842,99829,99791,99759,99722,99687,99662,99665,99649,99646,99607,99547,99515,99481,99412,99388,99355,99310,99293,99286,99281,99274,99243,99209,99181,99143,99136,99130,99100,99043,99036,99011,98971,98948,98946,98930,98919,98910,98893,98857,98837,98814,98791,98774,98752,98703,98670,98643,98625,98608,98536,98529,98492,98437,98434,98378,98371,98357,98327,98278,98261,98232,98188,98174,98141,98128,98120,98125,98075,98000,97979,97950,97926,97914,97892,97833,97828,97823,97790,97781,97757,97743,97739,97724,97669,97663,97665,97660,97532,97505,97478,97477,97437,97403,97361,97356,97346,97330,97298,97290,97279,97278,97281,97272,97260,97253,97189,97190,97115,97117,97106,97111,97086,97039,97022,97026,97001,97001,96972,96912,96893,96860,96844,96828,96734,96711,96693,96645,96608,96587,96577,96582,96464,96466,96451,96408,96396,96378,96339,96294,96270,96261,96252,96228,96209,96202,96191,96104,96076,96075,96007,96009,96006,95996,95850,95842,95846,95824,95804,95797,95784,95770,95751,95749,95645,95627,95606,95537,95525,95464,95424,95402,95362,95354,95317,95299,95304,95278,95248,95240,95193,95159,95104,95092,95015,95006,94983,94854,94851,94838,94783,94774,94770,94736,94710,94697,94684,94666,94639,94620,94614,94610,94587,94587,94559,94559,94553,94504,94512,94506,94481,94465,94433,94407,94341,94312],\"xaxis\":\"x22\",\"yaxis\":\"y22\",\"type\":\"histogram\"},{\"alignmentgroup\":\"True\",\"bingroup\":\"x\",\"hovertemplate\":\"subreddit_name_prefixed=r/food<br>ups=%{x}<br>count=%{y}<extra></extra>\",\"legendgroup\":\"\",\"marker\":{\"color\":\"#636efa\",\"pattern\":{\"shape\":\"\"}},\"name\":\"\",\"nbinsx\":20,\"offsetgroup\":\"\",\"orientation\":\"v\",\"showlegend\":false,\"x\":[79001,72387,71213,69094,63190,60819,59538,59253,58897,56322,53986,53595,53259,52040,51883,51859,51170,50324,48522,47745,47289,46223,45973,45912,45783,45025,45031,44874,44634,44588,44527,44259,44141,43278,43047,42855,42825,42817,42643,41793,41769,41545,41446,41415,41384,41134,41129,40937,40692,40587,40434,40437,40327,40321,40287,40263,40160,40021,40000,39933,39851,39819,39692,39629,39602,39583,39434,39433,39410,39172,39144,39125,38886,38590,38507,38283,38218,38212,38189,37883,37852,37666,37556,37498,37468,37468,37425,37276,37051,37020,37015,36940,36916,36801,36762,36740,36729,36648,36432,36383,36373,36163,36089,36037,35962,35931,35811,35666,35634,35562,35447,35433,35362,35353,35355,35312,35293,35226,35205,35027,34957,34952,34909,34855,34799,34797,34753,34729,34704,34695,34660,34610,34595,34474,34475,34456,34424,34371,34353,34342,34314,34244,34110,34078,33973,33968,33952,33910,33863,33685,33627,33446,33317,33295,33274,33266,33236,33231,33169,33156,33137,33006,32991,32990,32976,32922,32885,32842,32835,32817,32752,32662,32654,32645,32625,32619,32603,32537,32493,32450,32426,32331,32326,32288,32281,32252,32241,32232,32219,32198,32160,32157,32143,32144,32127,32105,32034,31996,31992,31948,31932,31872,31874,31862,31799,31780,31762,31659,31631,31611,31591,31531,31518,31510,31406,31364,31350,31282,31262,31184,31162,31152,31092,31070,31038,31012,30932,30937,30921,30914,30858,30762,30718,30700,30686,30655,30561,30520,30503,30453,30449,30407,30367,30354,30321,30278,30219,30182,30175,30077,30062,30052,30047,30038,30030,29975,29941,29910,29887,29812,29804,29806,29807,29705,29673,29649,29650,29648,29637,29620,29614,29603,29588,29595,29588,29555,29522,29511,29484,29468,29436,29418,29387,29380,29354,29338,29329,29298,29254,29210,29204,29182,29142,29121,29102,29097,29077,29074,29028,29030,29003,28962,28955,28921,28906,28875,28780,28770,28683,28663,28557,28536,28513,28507,28444,28401,28402,28392,28395,28361,28339,28334,28239,28230,28210,28150,28148,28142,28075,28068,28004,27979,27961,27959,27914,27910,27890,27880,27842,27846,27841,27840,27799,27795,27795,27792,27752,27740,27724,27722,27666,27662,27644,27636,27640,27639,27620,27623,27594,27586,27571,27542,27510,27512,27492,27481,27465,27460,27455,27418,27410,27395,27316,27178,27170,27128,27090,27080,27062,26988,26981,26963,26965,26902,26852,26861,26833,26826,26806,26799,26798,26801,26796,26778,26745,26746,26746,26743,26735,26731,26706,26700,26701,26667,26658,26609,26591,26586,26584,26556,26539,26540,26528,26519,26484,26476,26462,26368,26365,26356,26352,26300,26291,26275,26242,26249,26232,26235,26242,26231,26217,26202,26196,26187,26157,26149,26135,26119,26095,26066,26062,26056,26052,26038,26006,25986,25970,25958,25938,25934,25919,25907,25872,25867,25854,25847,25842,25839,25829,25801,25800,25788,25738,25724,25723,25721,25709,25664,25669,25642,25642,25637,25627,25621,25592,25579,25545,25537,25530,25519,25500,25489,25466,25438,25430,25416,25410,25396,25394,25385,25386,25378,25377,25373,25362,25351,25321,25307,25299,25294,25301,25291,25289,25271,25270,25238,25230,25226,25233,25212,25180,25177,25172,25117,25106,25100,25097,25092,25090,25082,25041,25044,25024,25015,24996,24990,24985,24966,24927,24895,24898,24895,24882,24874,24864,24854,24842,24836,24824,24810,24799,24797,24765,24764,24747,24759,24735,24712,24702,24671,24652,24650,24645,24647,24642,24626,24622,24615,24586,24570,24549,24534,24546,24500,24496,24456,24432,24423,24421,24409,24385,24361,24349,24339,24320,24305,24288,24286,24275,24269,24271,24235,24222,24217,24216,24203,24152,24134,24129,24110,24116,24100,24085,24072,24074,24035,23991,23973,23982,23967,23972,23939,23950,23941,23939,23924,23921,23907,23901,23888,23881,23876,23871,23866,23858,23843,23829,23789,23784,23786,23770,23749,23742,23728,23712,23694,23679,23661,23652,23650,23636,23627,23621,23627,23616,23594,23586,23581,23575,23560,23525,23521,23503,23502,23488,23480,23476,23466,23459,23462,23455,23417,23410,23403,23391,23386,23367,23347,23299,23297,23295,23269,23243,23231,23225,23218,23209,23208,23212,23200,23173,23162,23155,23146,23142,23137,23136,23122,23098,23088,23061,23059,23046,23036,23024,23006,22996,22984,22981,22971,22962,22954,22946,22942,22932,22925,22913,22891,22888,22872,22864,22847,22813,22815,22807,22800,22779,22767,22753,22752,22746,22747,22733,22737,22727,22718,22717,22704,22681,22673,22663,22666,22659,22665,22644,22644,22624,22621,22613,22585,22582,22575,22544,22548,22534,22541,22517,22506,22510,22506,22496,22485,22483,22452,22435,22434,22435,22415,22418,22422,22413,22383,22368,22361,22352,22354,22349,22348,22325,22287,22292,22291,22282,22275,22273,22262,22238,22224,22182,22164,22167,22160,22164,22150,22156,22151,22138,22141,22132,22131,22136,22109,22102,22097,22090,22079,22069,22070,22066,22053,22049,22040,22033,22024,22005,21997,21968,21955,21948,21942,21938,21931,21926,21925,21916,21908,21884,21887,21876,21873,21868,21869,21860,21844,21819,21804,21807,21787,21796,21790,21779,21768,21767,21765,21753,21725,21720,21724,21715,21705,21709,21693,21669,21663,21640,21637,21636,21620,21604,21599,21598,21592,21587,21581,21566,21548,21521,21517,21511,21508,21506,21489,21485,21486,21441,21440,21434,21427,21419,21393,21379,21343,21335,21331,21326,21326,21316,21286,21281,21268,21267,21258,21263,21236,21229,21229,21218,21211,21200,21196,21197,21178,21170,21143,21146,21140,21128,21129,21123,21107,21097,21103,21089,21081,21080,21078,21074,21066,21058,21021,21032,21020,20997,20998,20997,20984,20958,20954,20942,20905,20863,20852,20861,20837,20834,20815,20781,20774,20760,20762,20745,20749,20737,20722,20723,20717,20704,20699,20696,20664,20637,20634,20636,20636,20636,20629,20620,20622,20610,20604,20602,20587,20588,20571,20564,20574,20565,20568,20561,20556,20550,20525,20528,20513,20516,20501,20495,20495,20483,20482,20476,20470,20473,20462,20444,20446,20437,20420,20410,20412,20403,20410,20394,20392,20386,20387,20373,20360,20354,20348,20345,20329,20315,20319,20311,20286,20274,20267,20259,20253,20249,20255,20247],\"xaxis\":\"x23\",\"yaxis\":\"y23\",\"type\":\"histogram\"},{\"alignmentgroup\":\"True\",\"bingroup\":\"x\",\"hovertemplate\":\"subreddit_name_prefixed=r/sports<br>ups=%{x}<br>count=%{y}<extra></extra>\",\"legendgroup\":\"\",\"marker\":{\"color\":\"#636efa\",\"pattern\":{\"shape\":\"\"}},\"name\":\"\",\"nbinsx\":20,\"offsetgroup\":\"\",\"orientation\":\"v\",\"showlegend\":false,\"x\":[142578,110091,104042,102584,101947,99955,97532,97393,97317,93575,92667,92597,92563,92389,92125,91493,90785,90434,89146,88482,88474,88402,86122,85918,85884,84900,84757,84670,84532,83490,82970,82673,81112,80531,80281,79386,79382,79292,79189,78986,78967,78881,78823,77911,77877,77014,76795,76703,76654,76443,76233,75458,75289,74968,74698,74461,74312,74221,73780,73690,73418,73106,72981,72545,72479,72185,72068,71681,71452,71093,70471,70267,70243,69552,69457,69299,69253,69103,68972,68951,68959,68891,68204,68131,68024,67769,67756,67637,67135,66871,66749,66505,66461,66304,66164,66116,66004,65925,65747,65735,65719,65676,65582,65510,65481,65253,65211,64692,64689,64661,64289,64203,64155,64121,64081,63798,63664,63423,63092,62828,62605,62572,62511,62305,62151,61956,61932,61737,61636,61188,61132,61115,61087,60970,60816,60408,60360,60320,60188,60184,60139,60133,60065,59955,59954,59948,59917,59803,59792,59750,59430,59394,59049,58899,58658,58610,58600,58559,58532,58447,58387,58255,58164,57999,57977,57904,57714,57668,57580,57500,57382,57347,57305,57108,57048,56962,56899,56716,56639,56619,56406,56255,56199,56163,56142,55959,55942,55876,55820,55786,55540,55519,55371,55338,55318,55245,55111,55087,55032,54984,54722,54685,54654,54616,54509,54508,54370,54207,54203,54137,54092,54062,53990,53955,53917,53832,53798,53785,53629,53577,53580,53459,53368,53188,53111,53074,53061,53023,52974,52902,52890,52836,52791,52769,52752,52699,52450,52408,52388,52385,52365,52274,52262,52240,52226,52211,52210,52161,52133,52078,51997,51923,51910,51886,51841,51731,51702,51657,51591,51505,51446,51354,51287,51274,51192,51187,51161,51067,51063,51020,50928,50894,50843,50805,50778,50735,50635,50582,50549,50479,50444,50350,50213,50152,49999,49998,49955,49702,49668,49545,49496,49491,49481,49384,49369,49360,49283,49161,49115,49038,48905,48747,48679,48588,48537,48464,48427,48423,48359,48303,48232,48069,47950,47908,47752,47736,47712,47691,47667,47454,47425,47405,47399,47319,47323,47309,47233,47168,47166,47147,47055,47033,46950,46942,46912,46836,46733,46702,46635,46612,46588,46579,46525,46383,46299,46149,46040,45933,45900,45906,45894,45807,45657,45533,45492,45486,45337,45330,45326,45251,45218,45147,45124,45108,45085,45076,45017,44961,44935,44920,44906,44739,44722,44713,44640,44631,44615,44552,44528,44525,44473,44431,44374,44367,44340,44276,44205,44181,44153,44125,44111,44071,44034,43653,43593,43557,43546,43501,43504,43495,43479,43360,43200,43141,43120,43019,42943,42833,42591,42547,42477,42456,42452,42367,42238,42201,42161,42119,42106,42097,42041,42023,42011,41907,41877,41842,41789,41773,41664,41664,41595,41557,41543,41505,41375,41366,41319,41227,41215,41202,41166,41139,41124,41065,41066,40991,40986,40966,40913,40859,40858,40822,40822,40705,40524,40508,40486,40416,40380,40369,40349,40330,40302,40277,40268,40181,39984,39951,39940,39899,39818,39743,39685,39667,39667,39628,39612,39608,39584,39578,39563,39550,39539,39395,39387,39269,39211,39159,39035,38931,38893,38869,38867,38843,38790,38755,38732,38705,38699,38521,38512,38411,38412,38351,38337,38318,38212,38171,38080,38059,38042,38007,37986,37983,37969,37895,37884,37829,37778,37772,37737,37730,37679,37605,37591,37551,37527,37445,37327,37324,37293,37293,37242,37141,37074,37045,37049,37032,37004,36937,36900,36868,36877,36812,36793,36753,36637,36599,36537,36528,36521,36511,36505,36470,36421,36382,36356,36343,36349,36315,36257,36232,36215,36201,36161,36096,36087,36073,36062,36039,35971,35894,35865,35850,35814,35776,35744,35685,35645,35637,35638,35590,35573,35571,35544,35406,35354,35279,35269,35268,35261,35214,35213,35196,35166,35165,35091,35037,34995,34996,34949,34930,34903,34870,34846,34813,34801,34787,34781,34762,34756,34724,34718,34665,34653,34631,34630,34601,34564,34557,34513,34498,34483,34472,34413,34370,34336,34291,34294,34274,34227,34232,34214,34169,34157,34156,34149,34137,34129,34124,34098,34052,34043,34031,33965,33899,33878,33844,33815,33788,33756,33757,33754,33749,33739,33739,33725,33714,33695,33676,33662,33632,33622,33586,33568,33542,33526,33455,33433,33407,33362,33325,33317,33289,33260,33264,33244,33241,33220,33188,33188,33094,33085,33008,32947,32889,32810,32787,32704,32697,32636,32640,32552,32531,32520,32469,32444,32435,32437,32418,32386,32385,32372,32361,32343,32331,32311,32299,32286,32262,32258,32256,32240,32207,32161,32128,32102,32011,31981,31935,31900,31869,31870,31844,31837,31835,31813,31786,31764,31755,31756,31741,31734,31724,31709,31683,31683,31650,31600,31594,31531,31470,31416,31405,31379,31362,31366,31310,31283,31256,31252,31148,31141,31133,31073,31035,31031,30965,30941,30941,30923,30841,30839,30824,30800,30775,30757,30754,30710,30607,30598,30603,30593,30537,30507,30494,30421,30422,30394,30380,30348,30277,30264,30237,30201,30186,30180,30119,30106,30072,30035,30013,30013,29999,29983,29965,29949,29903,29859,29836,29829,29829,29820,29803,29788,29781,29772,29761,29709,29699,29685,29639,29633,29630,29626,29621,29602,29601,29555,29551,29526,29528,29513,29501,29489,29489,29387,29366,29368,29358,29364,29290,29210,29206,29158,29125,29026,29012,29003,29004,28979,28968,28944,28939,28922,28913,28909,28897,28883,28863,28857,28827,28790,28772,28748,28747,28726,28675,28670,28644,28626,28561,28556,28555,28553,28543,28470,28465,28427,28422,28401,28357,28313,28314,28311,28285,28274,28256,28240,28225,28212,28191,28185,28188,28160,28142,28130,28126,28129,28107,28111,28085,28063,28050,27994,27992,27919,27883,27869,27860,27855,27853,27849,27840,27830,27793,27796,27727,27704,27665,27634,27624,27505,27498,27504,27500,27491,27480,27471,27468,27440,27432,27423,27374,27378,27377,27345,27337,27334,27298,27274,27221,27199,27191,27191,27173,27153,27126,27124,27112,27115,27096,27085,27081,27086,27071,27054,27049,27050,27040,26994,26984,26981,26970,26914,26913,26922,26883,26879,26862,26829,26819,26796,26742,26745,26720,26719,26716,26715,26706,26677,26664,26619,26622,26586,26545,26539,26533,26465,26439,26444,26385,26371,26343,26320,26296],\"xaxis\":\"x24\",\"yaxis\":\"y24\",\"type\":\"histogram\"},{\"alignmentgroup\":\"True\",\"bingroup\":\"x\",\"hovertemplate\":\"subreddit_name_prefixed=r/gadgets<br>ups=%{x}<br>count=%{y}<extra></extra>\",\"legendgroup\":\"\",\"marker\":{\"color\":\"#636efa\",\"pattern\":{\"shape\":\"\"}},\"name\":\"\",\"nbinsx\":20,\"offsetgroup\":\"\",\"orientation\":\"v\",\"showlegend\":false,\"x\":[83608,78284,62585,59908,59254,59196,55036,53168,49250,47064,45171,41839,40018,39464,39235,39079,38963,38191,37629,36682,36511,36398,36087,36063,35970,35928,35147,34985,34876,34563,33382,33128,32974,31636,31412,31155,31096,30764,30678,30622,30508,30434,30188,29686,29105,28954,28914,28836,28615,28484,28431,28215,28149,28073,27722,27664,27592,27470,27336,27194,27172,26979,26813,26327,26104,26037,25850,25671,25615,25432,25368,25333,25288,25235,25179,25122,24889,24881,24827,24752,24748,24687,24663,24574,24503,24402,24368,24288,24251,23917,23760,23758,23738,23728,23668,23500,23342,23274,23271,23096,23058,23053,22992,22974,22851,22693,22573,22251,22126,22005,21945,21936,21915,21682,21681,21549,21394,21303,21279,21174,21169,21063,20986,20957,20928,20910,20905,20899,20829,20781,20720,20575,20556,20531,20416,20372,20300,20199,20142,20095,19813,19750,19519,19511,19410,19401,19375,19372,19254,19227,19109,19055,18988,18987,18984,18943,18910,18907,18817,18804,18758,18760,18709,18645,18635,18482,18453,18434,18433,18425,18403,18400,18384,18365,18311,18232,18149,18107,18077,17959,17948,17936,17900,17849,17824,17784,17752,17709,17564,17557,17532,17478,17475,17395,17384,17319,17231,17097,17089,17002,16970,16803,16637,16533,16452,16455,16383,16328,16275,16199,16178,16074,16019,15936,15930,15927,15905,15850,15825,15770,15739,15731,15647,15632,15595,15472,15469,15420,15389,15353,15253,15256,15242,15163,15154,15131,15109,15094,15077,15047,14968,14916,14917,14905,14908,14896,14899,14810,14797,14710,14718,14660,14572,14541,14529,14506,14509,14512,14473,14425,14417,14397,14393,14345,14352,14320,14311,14291,14301,14258,14216,14211,14155,14142,14137,14100,14087,14090,14068,14047,14015,14008,13946,13939,13931,13921,13900,13906,13868,13875,13832,13793,13762,13746,13746,13739,13725,13693,13669,13656,13632,13609,13601,13580,13568,13557,13532,13528,13515,13507,13502,13484,13447,13431,13394,13386,13357,13320,13291,13236,13224,13212,13187,13180,13094,13083,13025,13016,13007,13006,12971,12929,12925,12895,12885,12865,12818,12791,12753,12727,12681,12647,12631,12590,12582,12538,12522,12509,12479,12413,12365,12369,12325,12318,12286,12275,12272,12258,12234,12182,12163,12152,12148,12130,12129,12126,12081,12006,11974,11960,11947,11883,11860,11850,11841,11833,11813,11763,11755,11750,11734,11723,11718,11710,11714,11587,11549,11492,11485,11481,11481,11465,11459,11422,11388,11376,11366,11355,11312,11245,11245,11197,11176,11180,11171,11127,11112,11109,11098,11075,11073,11058,11021,10995,10995,10976,10972,10953,10923,10931,10910,10895,10890,10889,10876,10863,10866,10857,10849,10849,10826,10793,10789,10778,10724,10716,10719,10708,10644,10584,10585,10566,10566,10541,10504,10493,10485,10452,10441,10439,10419,10423,10413,10382,10381,10363,10355,10334,10329,10326,10323,10320,10284,10279,10275,10250,10222,10221,10186,10155,10139,10123,10106,10091,10088,10076,10075,10073,10049,10041,10021,10013,10010,10002,9984,9980,9961,9952,9944,9928,9928,9919,9914,9915,9915,9906,9894,9905,9898,9882,9876,9849,9834,9831,9833,9837,9815,9816,9810,9759,9740,9725,9711,9699,9699,9698,9701,9694,9687,9685,9684,9686,9672,9664,9657,9597,9598,9577,9527,9500,9499,9473,9470,9472,9459,9456,9394,9386,9355,9330,9325,9314,9305,9279,9283,9267,9281,9278,9262,9255,9254,9251,9241,9219,9199,9191,9192,9185,9179,9170,9158,9140,9068,9063,9066,9041,9048,9040,9012,8991,8991,8982,8976,8979,8964,8974,8951,8928,8916,8914,8888,8887,8880,8875,8878,8875,8865,8852,8850,8829,8808,8799,8786,8784,8777,8773,8761,8756,8755,8755,8752,8743,8722,8723,8707,8683,8681,8672,8676,8675,8671,8656,8651,8658,8646,8644,8639,8634,8624,8608,8587,8531,8533,8510,8513,8507,8498,8499,8490,8494,8492,8491,8490,8486,8482,8479,8473,8463,8463,8454,8457,8439,8429,8419,8405,8398,8405,8391,8353,8349,8343,8331,8327,8316,8298,8293,8267,8259,8260,8255,8243,8247,8232,8240,8196,8186,8171,8158,8163,8142,8136,8135,8130,8123,8112,8088,8082,8080,8078,8077,8072,8068,8052,8046,8038,8037,8019,8010,8005,8009,7996,7998,7989,7981,7970,7972,7969,7939,7937,7941,7907,7913,7895,7882,7881,7876,7863,7842,7837,7834,7826,7823,7812,7803,7793,7797,7793,7790,7766,7768,7754,7753,7737,7723,7709,7703,7682,7682,7659,7656,7647,7653,7652,7618,7608,7595,7596,7587,7581,7570,7570,7548,7551,7542,7529,7511,7497,7497,7502,7489,7491,7475,7458,7456,7454,7455,7451,7436,7430,7426,7418,7409,7395,7392,7395,7348,7343,7343,7310,7314,7289,7296,7290,7274,7274,7263,7266,7263,7247,7239,7227,7223,7228,7221,7216,7211,7213,7194,7157,7149,7143,7140,7111,7106,7107,7115,7115,7102,7086,7094,7087,7076,7065,7062,7050,7049,7042,7045,7030,7026,7021,6989,6989,6991,6978,6979,6978,6963,6960,6954,6953,6942,6945,6944,6936,6931,6928,6929,6913,6903,6885,6886,6867,6868,6848,6852,6837,6837,6824,6820,6813,6813,6803,6779,6776,6766,6769,6762,6758,6756,6744,6737,6731,6726,6716,6714,6709,6706,6697,6705,6693,6687,6689,6690,6686,6684,6678,6675,6670,6667,6674,6663,6663,6659,6651,6644,6635,6638,6626,6583,6576,6574,6568,6568,6567,6559,6553,6540,6545,6535,6525,6526,6527,6519,6511,6505,6511,6504,6494,6483,6473,6470,6445,6447,6444,6445,6436,6428,6426,6421,6420,6419,6416,6402,6411,6402,6396,6388,6385,6376,6363,6349,6334,6326,6305,6300,6296,6288,6294,6280,6282,6280,6277,6273,6259,6252,6235,6225,6224,6218,6222,6206,6204,6208,6201,6195,6188,6180,6182,6179,6174,6161,6156,6137,6136,6135,6137,6129,6114,6117,6113,6104,6103,6105,6097,6069,6060,6051,6047,6059,6051,6041,6043,6035,6034,6036,6028,6027,6004,6012,6004,5993,5975],\"xaxis\":\"x\",\"yaxis\":\"y\",\"type\":\"histogram\"},{\"alignmentgroup\":\"True\",\"bingroup\":\"x\",\"hovertemplate\":\"subreddit_name_prefixed=r/aww<br>ups=%{x}<br>count=%{y}<extra></extra>\",\"legendgroup\":\"\",\"marker\":{\"color\":\"#636efa\",\"pattern\":{\"shape\":\"\"}},\"name\":\"\",\"nbinsx\":20,\"offsetgroup\":\"\",\"orientation\":\"v\",\"showlegend\":false,\"x\":[290595,263226,249790,222105,207808,204851,191832,190264,188520,186215,184724,182720,180918,177930,177583,175830,173381,173162,173084,173017,172893,169722,169454,167546,167522,166584,166107,165175,165046,164994,164031,164041,163132,162004,161637,161148,160637,160517,160501,159923,158928,158875,158774,158069,157679,157643,156709,156623,156053,155979,154439,153169,152814,152590,152483,152117,151993,151699,151158,151085,150813,150184,149976,149976,149379,149376,149193,149153,149031,149018,148704,148555,148514,148029,148003,147248,146931,146900,146770,146467,146067,145373,145317,145225,145162,144901,144774,144302,143315,142918,142838,142745,142315,141297,141257,141154,140911,140843,140674,140531,140212,139875,139814,139739,139524,139356,139320,139252,139157,138936,138886,138677,138384,138306,137985,137961,137856,137329,137160,137160,136870,136767,136762,136721,136640,136321,136160,136062,135944,135211,134857,134820,134828,134736,134467,134426,134348,134266,134190,133921,133561,133553,133426,133400,133227,133155,132697,132668,132644,132453,132322,132192,132041,131963,131884,131841,131638,131623,131628,131598,131606,131288,131281,131236,131101,130946,130940,130933,130627,130550,130319,130217,130211,130200,130026,129786,129633,129594,129576,129057,128932,128886,128764,128748,128739,128503,128410,128328,128148,127877,127715,127621,127612,127583,127529,127445,127241,127198,126944,126900,126868,126850,126828,126817,126811,126763,126649,126614,126576,126552,126370,126228,126200,125991,125859,125731,125644,125610,125566,125350,125338,125260,125176,125128,125051,124894,124741,124576,124566,124520,124489,124362,124187,124177,124119,124107,124070,123876,123839,123783,123778,123719,123692,123648,123608,123542,123355,123172,123120,123108,123102,123071,123067,123045,122911,122863,122752,122750,122711,122636,122552,122545,122488,122269,122254,122236,122238,122103,122087,122054,121962,121853,121598,121604,121567,121555,121528,121515,121507,121388,121371,121218,121167,121063,120898,120830,120726,120703,120666,120535,120489,120443,120382,120311,120167,120108,120091,119952,119916,119891,119835,119788,119756,119741,119514,119471,119419,119382,119255,119233,119132,119100,119080,119067,118923,118605,118535,118482,118465,118406,118387,118247,118189,118177,118147,118001,117996,117958,117933,117841,117746,117625,117586,117341,117284,117216,117206,117127,117058,117050,117022,116970,116959,116957,116943,116923,116884,116650,116636,116606,116502,116455,116413,116382,116279,116265,116098,115979,115889,115723,115712,115698,115676,115669,115592,115588,115492,115483,115447,115374,115290,115291,115279,115278,115272,115254,115246,115242,115238,115232,115064,114923,114906,114848,114828,114672,114645,114548,114552,114547,114516,114509,114460,114413,114372,114328,114288,114223,114069,114038,114027,113912,113880,113793,113713,113703,113654,113609,113579,113517,113483,113482,113438,113279,113259,113185,113154,113142,113129,113093,112983,112970,112942,112895,112864,112819,112802,112780,112616,112600,112598,112571,112554,112506,112479,112470,112415,112415,112316,112265,112230,112135,112120,112030,112012,111937,111915,111913,111870,111812,111808,111783,111745,111732,111658,111619,111572,111578,111519,111501,111486,111488,111463,111445,111429,111393,111396,111373,111361,111360,111313,111308,111285,111197,111131,110935,110876,110797,110759,110717,110709,110703,110633,110613,110600,110574,110566,110548,110535,110450,110256,110151,110129,110113,110122,109979,109921,109819,109803,109790,109768,109703,109688,109684,109667,109650,109646,109462,109444,109343,109330,109313,109197,109122,109131,109073,109040,108968,108935,108913,108862,108811,108746,108560,108492,108490,108482,108439,108406,108362,108344,108327,108313,108276,108205,108115,108085,108018,108012,108016,107950,107885,107873,107820,107801,107638,107583,107584,107525,107503,107485,107485,107272,107240,107246,107240,107217,107210,107194,107181,107171,107144,107137,107125,107107,107020,106980,106956,106954,106933,106855,106836,106828,106776,106717,106681,106663,106652,106584,106552,106481,106457,106445,106413,106358,106361,106327,106293,106292,106179,106159,106145,106149,106142,106112,106121,106119,106111,106073,105958,105939,105944,105922,105870,105812,105814,105713,105704,105671,105650,105597,105577,105551,105534,105495,105499,105445,105445,105377,105319,105316,105248,105212,105205,105184,105174,105149,105140,105064,105048,104968,104930,104810,104797,104791,104769,104760,104749,104724,104726,104628,104601,104602,104595,104580,104559,104515,104486,104461,104458,104429,104384,104378,104345,104353,104334,104334,104302,104206,104182,104174,104153,104151,104135,104116,104045,104028,104024,103970,103955,103921,103871,103831,103792,103752,103737,103665,103635,103613,103573,103559,103523,103469,103415,103415,103400,103367,103367,103360,103362,103353,103341,103337,103327,103285,103169,103085,103038,103027,102997,102955,102886,102872,102861,102867,102802,102773,102761,102717,102696,102640,102609,102593,102531,102527,102486,102454,102406,102394,102345,102319,102322,102301,102296,102281,102285,102264,102256,102202,102198,102143,102129,102100,102086,102054,102044,101952,101906,101892,101823,101801,101776,101754,101668,101662,101651,101606,101602,101527,101497,101497,101491,101488,101477,101436,101421,101416,101412,101400,101393,101376,101379,101372,101354,101348,101338,101336,101317,101301,101292,101285,101277,101264,101234,101231,101177,101183,101050,101039,101028,101015,100994,100974,100963,100947,100951,100916,100887,100892,100864,100841,100768,100716,100632,100628,100574,100523,100497,100498,100500,100469,100464,100441,100435,100399,100365,100322,100306,100223,100206,100162,100149,100117,100066,100067,100055,100048,100036,100029,100019,99987,99979,99970,99858,99846,99833,99822,99799,99768,99723,99710,99686,99637,99585,99521,99517,99470,99418,99364,99368,99359,99332,99337,99324,99280,99274,99239,99197,99188,99165,99152,99149,99136,99130,99117,99108,99093,99068,99057,99065,99057,99052,98961,98944,98912,98890,98879,98869,98851,98797,98760,98730,98691,98669,98655,98599,98593,98582,98575,98562,98566,98554,98545,98548,98530,98531,98516,98504,98506,98456,98447,98423,98418,98410,98367,98358,98333,98320,98320,98310,98275,98259,98235,98219,98214,98208,98187,98182,98162,98143,98137,98135,98113,98004,97986,97964,97962,97950,97945,97926,97915,97890,97829,97816,97764,97719,97685,97646,97608,97584,97568,97529,97513,97476,97479,97471,97450,97450,97432,97430,97385,97373,97349,97324,97285,97282,97225,97196,97197,97188,97176,97170,97119,97083,97055,97055,97057,96944,96947,96931,96913,96908,96879,96869,96868,96872,96851,96843,96815,96748,96725,96672,96673,96661,96653,96641,96636,96613,96579,96552,96527,96515,96493,96474,96432,96376,96340,96333,96340,96333,96330,96321,96304,96296,96265,96251],\"xaxis\":\"x2\",\"yaxis\":\"y2\",\"type\":\"histogram\"},{\"alignmentgroup\":\"True\",\"bingroup\":\"x\",\"hovertemplate\":\"subreddit_name_prefixed=r/mildlyinteresting<br>ups=%{x}<br>count=%{y}<extra></extra>\",\"legendgroup\":\"\",\"marker\":{\"color\":\"#636efa\",\"pattern\":{\"shape\":\"\"}},\"name\":\"\",\"nbinsx\":20,\"offsetgroup\":\"\",\"orientation\":\"v\",\"showlegend\":false,\"x\":[223334,162966,152719,150314,149425,147871,144248,144075,141940,141690,141396,141056,139809,139781,139275,139000,133797,132788,132345,130200,130118,129787,129040,128978,126874,126720,126414,126278,125754,125704,125173,123036,123026,122369,122218,121424,121345,121138,120511,120384,119428,119418,119289,118938,118624,118389,118209,117376,117284,117001,116970,116514,116427,116366,116296,115842,115668,115590,115100,115079,114920,114648,114539,114381,114340,114197,114141,113743,113463,113251,112628,112096,110855,110544,110421,109803,109477,109372,109294,109230,109216,108890,108884,108526,108375,108084,108044,108039,107986,107636,107620,107380,107066,106960,105937,105730,105721,105630,105609,105436,105056,104903,104731,104633,104378,103965,103682,103613,103555,103495,103228,103119,103085,102697,102526,102453,102350,102037,101986,101733,101619,101517,101457,101438,101428,101369,101269,100876,100867,100624,100624,100577,100537,100532,100449,100299,100251,100222,100190,100004,99671,99622,99471,99203,99209,99202,99063,98875,98807,98574,98450,98319,98014,97954,97577,97475,97201,96963,96957,96917,96877,96851,96785,96737,96476,96457,96320,96269,96260,96002,95920,95913,95618,95590,95455,95415,95265,95256,95251,95220,95160,95117,95051,94939,94799,94795,94693,94669,94649,94622,94590,94521,94507,94428,94392,94269,93956,93858,93809,93765,93723,93647,93631,93607,93568,93474,93416,93405,93358,93350,93296,93281,93245,93093,93067,93026,92975,92810,92776,92623,92589,92423,92340,92254,92220,92183,92018,91884,91814,91678,91652,91603,91577,91455,91200,91163,91009,90817,90805,90747,90701,90474,90264,90252,90219,90129,90040,89866,89795,89709,89710,89538,89497,89433,89423,89366,89350,89140,89114,89019,88979,88934,88900,88862,88831,88787,88776,88740,88727,88720,88652,88636,88601,88580,88547,88492,88484,88358,88333,88293,88281,88275,88272,88125,88073,88013,87980,87963,87963,87894,87870,87856,87748,87739,87626,87583,87511,87465,87405,87132,87049,87051,87039,86952,86944,86916,86894,86875,86859,86815,86805,86795,86720,86661,86587,86529,86496,86489,86404,86393,86367,86321,86240,86191,86102,86012,85885,85859,85804,85772,85559,85452,85308,85279,85260,85234,85223,85188,85165,85095,85081,85039,84972,84937,84932,84911,84807,84720,84626,84627,84523,84490,84486,84470,84408,84335,84298,84257,84239,84112,84095,84094,83983,83788,83764,83681,83662,83577,83504,83441,83434,83425,83393,83398,83340,83290,83257,83223,83215,83210,83161,83108,83052,83037,83031,82917,82880,82852,82828,82802,82809,82775,82749,82665,82670,82622,82599,82590,82576,82464,82455,82339,82345,82300,82269,82240,82185,82189,82180,82175,82149,82105,82098,82030,81927,81891,81809,81777,81680,81665,81623,81564,81558,81546,81537,81502,81417,81401,81392,81370,81351,81337,81307,81275,81225,81183,81126,81083,80997,80804,80727,80671,80668,80655,80631,80448,80374,80364,80205,80140,80126,80124,80117,80045,80052,80048,79945,79864,79700,79692,79635,79626,79622,79618,79560,79498,79489,79473,79341,79337,79328,79301,79177,79137,79116,79089,79093,79089,79031,79032,79000,78944,78923,78907,78862,78829,78798,78763,78761,78749,78742,78718,78640,78636,78576,78542,78534,78523,78469,78457,78408,78374,78352,78263,78231,78183,78148,78122,78122,78098,78011,77967,77947,77918,77885,77803,77750,77720,77717,77701,77688,77667,77656,77622,77615,77608,77591,77579,77573,77478,77443,77408,77387,77379,77356,77332,77277,77191,77159,77149,77092,77077,77023,77002,76977,76957,76927,76920,76836,76813,76753,76723,76728,76708,76666,76659,76633,76623,76621,76611,76603,76593,76573,76550,76526,76526,76481,76483,76473,76462,76389,76382,76366,76363,76331,76336,76325,76222,76191,76176,76149,76153,76149,76140,76116,76101,76087,76025,76032,75945,75952,75931,75886,75824,75813,75711,75700,75631,75626,75618,75551,75548,75490,75483,75442,75429,75426,75389,75380,75362,75242,75240,75201,75181,75177,75177,75147,75145,75102,75087,75071,75046,75033,75010,75011,75005,74975,74933,74906,74903,74891,74870,74847,74839,74812,74802,74788,74749,74748,74687,74681,74625,74622,74606,74557,74545,74520,74518,74510,74506,74470,74453,74454,74390,74360,74348,74328,74322,74304,74240,74160,74154,74146,74138,74084,74084,74082,74011,73990,73990,73921,73911,73907,73903,73862,73853,73834,73835,73810,73759,73739,73749,73713,73711,73680,73671,73670,73635,73592,73578,73525,73490,73477,73470,73453,73433,73430,73428,73400,73341,73337,73307,73290,73197,73167,73070,72998,72999,72914,72838,72814,72817,72723,72721,72704,72705,72676,72666,72568,72505,72460,72449,72422,72420,72413,72367,72362,72364,72337,72292,72286,72233,72196,72189,72183,72176,72180,72156,72126,72086,72078,72061,72002,71999,71999,71964,71954,71947,71926,71930,71911,71907,71777,71756,71763,71728,71699,71695,71669,71667,71626,71612,71594,71591,71550,71511,71494,71445,71448,71432,71377,71360,71326,71281,71264,71255,71229,71195,71186,71183,71178,71169,71138,71127,71126,71111,71061,71024,70997,70997,70976,70977,70962,70946,70929,70937,70779,70749,70726,70596,70590,70521,70511,70487,70460,70407,70383,70364,70258,70239,70215,70207,70183,70152,70145,70106,70097,70056,70011,69975,69967,69944,69915,69897,69872,69864,69860,69866,69846,69822,69815,69811,69669,69667,69664,69658,69645,69637,69629,69619,69605,69503,69489,69420,69403,69382,69376,69341,69322,69296,69287,69268,69263,69219,69179,69172,69170,69160,69146,69146,69144,69147,69141,69089,69080,69055,69025,69011,68981,68969,68972,68933,68930,68879,68872,68863,68796,68787,68790,68758,68765,68743,68740,68711,68670,68630,68630,68619,68610,68615,68596,68573,68555,68549,68545,68495,68479,68451,68442,68417,68397,68382,68370,68349,68335,68330,68291,68270,68269,68265,68265,68256,68189,68134,68075,68071,68039,68007,67970,67967,67915,67907,67818,67816,67811,67782,67782,67758,67750,67734,67729,67714,67710,67701,67663,67647,67647,67644,67611,67586,67577,67557,67543,67527,67498,67493,67484,67476,67456,67373,67369,67331,67325,67272,67270,67237,67156,67128,67109,67088,67025,67029,66999,66997,66968,66948,66945,66932,66924,66924,66913,66909,66857,66826,66796,66745,66734,66727,66675,66664,66659,66636,66625,66567,66556,66553,66544,66532,66513,66498,66458,66433,66424,66409,66401,66395],\"xaxis\":\"x3\",\"yaxis\":\"y3\",\"type\":\"histogram\"},{\"alignmentgroup\":\"True\",\"bingroup\":\"x\",\"hovertemplate\":\"subreddit_name_prefixed=r/memes<br>ups=%{x}<br>count=%{y}<extra></extra>\",\"legendgroup\":\"\",\"marker\":{\"color\":\"#636efa\",\"pattern\":{\"shape\":\"\"}},\"name\":\"\",\"nbinsx\":20,\"offsetgroup\":\"\",\"orientation\":\"v\",\"showlegend\":false,\"x\":[334402,292705,264381,257122,249503,247890,231910,230862,229146,228995,225372,220778,218292,212652,211721,211163,210064,209332,206162,205993,205737,203438,203049,202942,202123,201491,198568,197055,196871,195455,194775,194064,192470,191590,191140,191009,189723,189345,188758,187698,187389,187073,186946,186864,186800,186618,186120,185656,185293,184962,183695,183365,182291,182052,181966,181498,180863,180613,180032,179771,179641,179623,179534,179064,179056,178668,178452,178327,177943,177598,177217,177192,176559,175746,175456,175173,175058,175045,174707,174552,174268,174041,173491,173333,172997,172962,172476,171986,171599,171010,171011,170951,170651,170396,170241,170123,170122,170118,169973,169787,169768,169629,169195,169032,168882,168215,168184,168050,168014,167576,167179,166959,166538,166115,165859,165622,165458,165065,165010,164944,164878,164801,164675,164551,164279,164146,164032,163847,163776,163729,163660,163619,163463,163273,163150,162828,162636,162563,162131,162106,161959,161867,161687,161538,161235,161116,161112,160936,160778,160497,160492,160291,160265,160255,160211,159552,159543,159417,159140,159076,158723,158683,158616,158612,158608,158335,157781,157638,157601,157492,157438,157346,157312,157307,157104,157073,156965,156920,156801,156781,156755,156685,156574,156124,155678,155666,155588,155405,155295,155272,154945,154900,154827,154621,154606,154278,154262,154202,154014,153897,153734,153583,153287,153161,153139,153093,152909,152861,152634,152616,152502,152449,152315,152240,152212,152142,151876,151849,151778,151354,151345,151274,150882,150878,150873,150862,150837,150506,150494,150425,150282,150193,150159,150082,149977,149949,149801,149745,149744,149382,149351,149340,149144,149147,148943,148905,148872,148660,148647,148641,148555,148540,148510,148487,148362,148136,148103,148034,147942,147900,147747,147730,147554,147528,147447,147408,147357,147343,147188,147059,147031,146984,146975,146949,146842,146844,146681,146676,146545,146385,146194,145928,145866,145644,145554,145240,145224,145185,145122,145040,145029,144998,144932,144802,144777,144758,144763,144739,144634,144566,144562,144503,144476,144305,143972,143952,143796,143708,143603,143507,143491,143491,143484,143466,143340,143305,143260,143253,143186,143126,143090,143078,143057,143059,143040,142752,142732,142726,142678,142614,142485,142344,142333,142306,142260,142181,142169,142130,142119,142057,142023,142003,141985,141930,141912,141874,141761,141737,141733,141623,141559,141517,141356,141342,141325,141273,141271,141260,141214,141093,141086,141054,140995,140882,140698,140671,140657,140576,140573,140356,140255,140163,140159,140088,140068,139993,139966,139882,139848,139816,139801,139737,139640,139627,139531,139385,139346,139322,139242,139220,139206,139138,139106,139059,139029,139020,138992,138991,138967,138820,138755,138728,138596,138588,138574,138529,138474,138288,138235,138225,138204,138168,137898,137828,137827,137657,137606,137593,137545,137492,137483,137467,137338,137279,137235,137214,137199,137152,137123,137125,137109,137078,137082,137063,136985,136962,136944,136816,136807,136709,136693,136601,136494,136491,136463,136354,136253,136249,136158,136122,136070,136049,135929,135885,135818,135742,135735,135693,135542,135518,135482,135318,135310,135135,134987,134925,134856,134821,134819,134803,134763,134747,134745,134738,134728,134640,134629,134611,134594,134528,134321,134256,134236,134234,134228,134164,134158,134142,134054,134009,133994,133670,133596,133591,133564,133542,133508,133395,133257,133254,133190,133194,133178,133064,133010,132989,132837,132839,132828,132800,132787,132662,132572,132495,132453,132417,132338,132168,132047,131946,131939,131916,131885,131876,131851,131842,131804,131794,131765,131693,131657,131655,131629,131610,131595,131513,131474,131440,131414,131347,131310,131306,131224,131221,131206,131015,130928,130921,130924,130876,130731,130607,130566,130478,130433,130416,130385,130341,130335,130275,130195,130169,130056,130036,129925,129904,129841,129791,129755,129731,129712,129709,129673,129666,129571,129563,129455,129418,129372,129320,129305,129285,129223,129197,129183,129126,129079,129011,129002,128973,128915,128879,128826,128742,128682,128589,128529,128476,128431,128392,128352,128340,128335,128338,128297,128283,128258,128229,128171,128110,128088,128025,127980,127970,127948,127895,127894,127844,127805,127786,127700,127487,127473,127460,127465,127349,127283,127249,127242,127182,127160,127107,127080,127058,127045,127045,127030,126995,126981,126919,126894,126891,126850,126789,126786,126747,126735,126690,126636,126628,126620,126597,126572,126558,126554,126544,126533,126527,126526,126505,126468,126424,126415,126283,126179,126169,126158,126039,126032,125995,125909,125871,125848,125835,125786,125781,125743,125723,125558,125382,125381,125359,125352,125346,125330,125315,125292,125269,125251,125242,125177,125050,125043,124990,124861,124822,124766,124772,124740,124731,124660,124665,124632,124559,124459,124453,124445,124409,124351,124325,124312,124302,124273,124262,124202,124192,124188,124161,124120,124086,124057,124035,123999,123993,123947,123928,123924,123909,123878,123869,123858,123854,123845,123823,123808,123741,123667,123662,123627,123560,123550,123450,123408,123342,123341,123302,123252,123216,123190,123109,123105,122964,122942,122888,122870,122843,122781,122778,122761,122667,122641,122636,122636,122615,122583,122581,122545,122484,122464,122424,122417,122381,122133,122098,122031,122028,122011,122004,121951,121954,121906,121857,121850,121756,121664,121611,121571,121470,121476,121437,121445,121433,121370,121342,121260,121243,121216,121174,121147,121145,121108,121093,121068,121049,121039,121006,121003,120964,120904,120830,120806,120789,120716,120685,120628,120579,120530,120457,120439,120419,120286,120255,120197,120192,120134,120101,120063,120050,120027,119927,119912,119904,119853,119814,119805,119791,119737,119707,119657,119585,119576,119553,119528,119485,119474,119411,119403,119348,119351,119335,119308,119292,119205,119110,119081,119068,119054,119043,119032,118983,118960,118839,118825,118824,118809,118755,118748,118732,118700,118644,118561,118544,118500,118480,118466,118330,118328,118317,118292,118294,118271,118258,118208,118198,118172,118174,118147,118131,118137,118131,118039,117976,117926,117918,117911,117889,117842,117788,117769,117702,117655,117622,117567,117486,117452,117451,117423,117333,117317,117291,117280,117255,117257,117229,117186,117135,117121,117118,117104,117104,117086,117080,117054,117040,117001,116941,116926,116906,116864,116835,116820,116822,116806,116806,116786,116776,116769,116709,116694,116670,116662,116651,116636,116591,116580,116560,116520,116478,116437,116421,116346,116319,116216,116161,116129,116110,116091,116040,116041,116040,115988,115961,115952,115921,115896,115862,115785,115786,115734,115707,115695,115672,115566,115506,115461,115418,115421,115331,115334,115301,115296,115294,115292,115171,115154,115033,115020,114940,114927,114907,114892,114859],\"xaxis\":\"x4\",\"yaxis\":\"y4\",\"type\":\"histogram\"},{\"alignmentgroup\":\"True\",\"bingroup\":\"x\",\"hovertemplate\":\"subreddit_name_prefixed=r/technology<br>ups=%{x}<br>count=%{y}<extra></extra>\",\"legendgroup\":\"\",\"marker\":{\"color\":\"#636efa\",\"pattern\":{\"shape\":\"\"}},\"name\":\"\",\"nbinsx\":20,\"offsetgroup\":\"\",\"orientation\":\"v\",\"showlegend\":false,\"x\":[147255,140035,129866,128355,121063,114346,112303,110083,109148,109050,105554,105355,104655,104098,102557,101638,100683,99037,98480,97397,96703,95536,94507,94356,93095,92977,91078,91025,90552,89869,89487,90475,89003,88565,87244,86445,85627,84874,84668,84341,83544,83531,83171,83037,82733,82266,82105,81948,81698,81101,80982,80822,80714,80360,80105,79964,79899,79729,79288,78934,78773,78488,78465,77494,77422,77261,76789,76619,76430,76103,75906,75680,75579,75401,75230,75119,74765,74729,74546,74360,74278,74245,74141,73963,73712,73655,72342,71819,71692,71606,71444,71436,71327,71054,70710,70204,70039,70007,69652,69492,69424,69399,69282,68948,68913,68799,68193,68089,67829,67810,67514,67474,67453,67401,67360,67094,66934,66703,66602,66394,65930,65765,65647,65512,65368,65051,65002,64913,64840,64833,64646,64504,64499,64423,64264,64245,64056,64051,63925,63797,63771,63765,63418,63389,63259,63239,63131,63087,63071,62967,62912,62842,62718,62372,62226,62199,62086,62008,61951,61948,61942,61828,61684,61667,61621,61574,61504,61402,61358,61234,61053,61056,60936,60926,60709,60693,60594,60558,60551,60535,60426,60390,60188,60012,59868,59813,59735,59725,59671,59525,59447,59301,59288,59225,59015,58982,58970,58950,58815,58781,58773,58687,58645,58552,58454,58420,58295,58272,58225,58173,58028,57917,57891,57851,57797,57584,57558,57444,57407,57367,57152,57067,56974,56920,56909,56742,56727,56511,56506,56502,56490,56484,56402,56389,56261,56237,56204,56197,56105,56103,56051,56013,55835,55776,55692,55557,55448,55426,55421,55396,55260,55210,55191,55060,54912,54861,54807,54715,54692,54584,54498,54357,54347,54321,54297,54109,54057,54061,53947,53891,53875,53859,53857,53851,53675,53603,53379,53369,53343,53321,53293,53204,53176,52989,52856,52853,52762,52706,52586,52580,52537,52475,52410,52399,52345,52324,52249,52213,52141,52095,52067,52058,51981,51950,51849,51779,51747,51712,51669,51644,51605,51560,51552,51557,51536,51535,51526,51378,51380,51375,51363,51355,51111,50950,50951,50862,50805,50755,50668,50514,50416,50387,50097,49993,49958,49795,49766,49711,49656,49647,49642,49621,49612,49551,49502,49225,49165,48943,48899,48881,48776,48607,48562,48548,48513,48437,48358,48343,48332,48329,48260,48197,48157,48119,48045,48039,47993,47988,47946,47876,47782,47773,47743,47747,47703,47686,47635,47546,47522,47503,47488,47466,47438,47427,47402,47336,47209,47187,47169,47162,47088,47049,47036,47035,47011,46970,46953,46912,46889,46859,46793,46710,46677,46664,46577,46544,46511,46479,46465,46423,46420,46394,46290,46266,46219,46204,46163,46110,46037,46028,45984,45949,45916,45904,45745,45750,45697,45687,45666,45634,45602,45598,45526,45528,45377,45323,45324,45318,45265,45193,45137,45048,45027,45006,44863,44822,44815,44787,44754,44713,44678,44600,44594,44597,44517,44474,44467,44431,44383,44354,44346,44313,44278,44252,44231,44211,44187,44177,44126,44114,44076,44044,44035,43982,43977,43965,43887,43847,43811,43807,43796,43786,43745,43726,43684,43686,43650,43629,43618,43576,43482,43421,43411,43396,43379,43372,43368,43323,43304,43292,43262,43239,43240,43196,43165,43143,43130,43127,43062,43053,43039,42999,42980,42980,42916,42892,42884,42883,42854,42770,42731,42704,42697,42694,42652,42622,42602,42585,42580,42482,42482,42413,42333,42281,42280,42275,42231,42222,42217,42178,42130,42053,42035,42018,42021,41989,41975,41951,41914,41881,41876,41826,41821,41804,41803,41798,41790,41778,41783,41706,41690,41677,41643,41643,41638,41630,41628,41580,41549,41534,41525,41471,41456,41459,41450,41430,41390,41382,41363,41346,41276,41244,41249,41213,41128,41105,41094,41012,40936,40922,40888,40839,40819,40796,40790,40778,40770,40724,40626,40594,40564,40556,40556,40552,40507,40503,40437,40416,40317,40267,40272,40232,40219,40136,40069,40068,40059,40027,39994,39992,39983,39950,39949,39951,39944,39928,39935,39909,39898,39865,39754,39705,39700,39694,39696,39688,39666,39566,39571,39521,39501,39477,39437,39433,39417,39354,39338,39319,39311,39223,39188,39162,39131,39125,39108,39098,39094,39073,39068,39066,39051,39038,39034,39025,39009,38957,38945,38841,38791,38773,38719,38697,38697,38687,38657,38651,38645,38614,38575,38582,38572,38567,38521,38504,38485,38417,38399,38388,38356,38338,38335,38310,38281,38234,38230,38160,38143,38121,38052,38023,38007,38006,38000,37974,37977,37928,37905,37891,37893,37877,37881,37874,37766,37726,37735,37725,37714,37664,37649,37603,37595,37579,37542,37523,37507,37488,37472,37460,37406,37382,37385,37368,37369,37337,37298,37292,37249,37243,37197,37191,37181,37166,37158,37159,37141,37100,37093,37090,37078,37079,37014,37007,37006,36969,36969,36940,36941,36935,36933,36919,36914,36881,36865,36847,36815,36780,36725,36710,36709,36637,36590,36581,36509,36501,36428,36357,36341,36277,36285,36273,36244,36235,36211,36190,36182,36151,36138,36142,36054,36045,36034,36026,36031,36005,36005,36006,35978,36014,35957,35927,35913,35798,35795,35754,35745,35741,35731,35706,35706,35686,35668,35672,35636,35613,35564,35530,35529,35509,35483,35471,35466,35456,35449,35450,35440,35432,35421,35407,35370,35337,35281,35275,35263,35261,35238,35210,35204,35196,35172,35132,35128,35065,35052,35053,35044,35037,34960,34957,34931,34917,34914,34900,34888,34880,34868,34738,34687,34662,34659,34622,34607,34572,34562,34558,34527,34476,34459,34449,34435,34422,34428,34412,34416,34413,34409,34382,34346,34307,34301,34297,34261,34242,34238,34219,34214,34198,34200,34176,34175,34169,34138,34132,34116,34104,34076,34071,34036,34036,34029,34006,34004,34008,33988,33981,33967,33958,33921,33873,33843,33831,33825,33789,33755,33742,33737,33724,33705,33690,33676,33639,33627,33617,33616,33599,33587,33559,33499,33434,33439,33417,33414,33374,33348,33336,33331,33291,33274,33264,33252,33208,33154,33154,33151,33117,33120,33117,33107,33078,33074,33048,33043,33006,32999,32954,32948,32915,32881,32875,32823,32825,32824,32817,32787,32780,32768,32730,32713,32697,32694,32655,32657,32630,32606,32578,32570,32537,32531,32484,32461,32456,32418,32404,32363,32322,32274,32273,32242,32207,32021],\"xaxis\":\"x5\",\"yaxis\":\"y5\",\"type\":\"histogram\"},{\"alignmentgroup\":\"True\",\"bingroup\":\"x\",\"hovertemplate\":\"subreddit_name_prefixed=r/travel<br>ups=%{x}<br>count=%{y}<extra></extra>\",\"legendgroup\":\"\",\"marker\":{\"color\":\"#636efa\",\"pattern\":{\"shape\":\"\"}},\"name\":\"\",\"nbinsx\":20,\"offsetgroup\":\"\",\"orientation\":\"v\",\"showlegend\":false,\"x\":[54731,40507,38655,33337,32462,31618,27611,25683,25117,24693,23465,23376,23267,22903,22843,21882,21841,21494,21444,21314,20863,19930,19920,19902,19603,19247,19160,19136,18914,18858,18745,18405,18170,18019,17821,17748,17521,17126,17128,17019,16904,16647,16600,16553,16523,16306,16151,16117,16115,15831,15753,15617,15591,15495,15414,15404,15380,15304,15120,14933,14889,14858,14819,14807,14808,14704,14633,14606,14494,14442,14371,14348,14340,14329,14321,13996,13986,13971,13925,13761,13714,13690,13520,13337,13250,13167,13119,13053,13024,12977,12917,12892,12825,12757,12739,12683,12681,12653,12621,12602,12581,12527,12495,12395,12353,12297,12298,12267,12265,12256,12216,12166,12132,12089,12012,11986,11937,11935,11878,11878,11856,11840,11823,11803,11728,11720,11681,11675,11666,11666,11454,11435,11434,11420,11414,11395,11376,11369,11304,11292,11290,11182,11147,11121,11067,11071,11054,11038,11009,10988,10960,10958,10937,10852,10842,10830,10826,10718,10718,10705,10703,10600,10573,10557,10532,10531,10496,10442,10414,10401,10393,10367,10355,10332,10291,10273,10267,10236,10212,10196,10171,10141,10140,10132,10115,10122,10111,10079,10072,10050,10029,10005,9946,9911,9902,9865,9794,9799,9672,9611,9595,9581,9581,9580,9572,9571,9530,9504,9496,9488,9423,9415,9409,9406,9380,9381,9362,9367,9363,9358,9285,9279,9286,9280,9224,9221,9206,9186,9165,9151,9135,9099,9085,9079,9068,9060,9032,9018,9026,9003,8981,8969,8961,8946,8952,8933,8932,8921,8876,8845,8839,8840,8837,8832,8818,8819,8795,8780,8747,8738,8724,8715,8716,8702,8705,8708,8695,8684,8654,8654,8654,8634,8622,8620,8609,8567,8547,8559,8548,8520,8516,8507,8504,8488,8489,8489,8483,8474,8484,8472,8465,8465,8452,8452,8450,8451,8446,8437,8391,8380,8372,8342,8343,8340,8336,8326,8321,8307,8305,8274,8259,8265,8248,8213,8213,8213,8221,8210,8204,8191,8186,8172,8169,8160,8137,8117,8113,8109,8104,8086,8059,8054,8027,8031,7992,7970,7958,7939,7919,7913,7913,7908,7907,7902,7895,7868,7869,7851,7843,7835,7831,7829,7823,7827,7820,7809,7813,7802,7808,7779,7776,7757,7756,7755,7747,7749,7738,7738,7727,7728,7727,7728,7712,7695,7688,7679,7644,7629,7620,7615,7602,7600,7601,7599,7593,7585,7582,7567,7567,7564,7564,7538,7536,7534,7540,7512,7502,7494,7470,7476,7465,7467,7462,7450,7443,7447,7444,7443,7426,7422,7419,7411,7390,7394,7383,7391,7382,7370,7380,7361,7363,7353,7347,7334,7334,7331,7317,7302,7299,7278,7273,7263,7265,7249,7253,7242,7240,7246,7242,7235,7237,7235,7230,7204,7197,7194,7183,7180,7184,7180,7186,7186,7170,7173,7164,7169,7164,7159,7159,7142,7136,7111,7110,7106,7102,7085,7091,7085,7077,7072,7066,7063,7054,7057,7059,7041,7031,7028,7017,7022,7014,7011,6995,6985,6988,6976,6956,6949,6944,6938,6933,6923,6930,6917,6912,6902,6899,6892,6883,6878,6882,6877,6861,6853,6839,6835,6815,6808,6799,6795,6790,6791,6782,6781,6763,6761,6756,6749,6724,6726,6726,6723,6715,6713,6713,6717,6709,6708,6704,6695,6695,6687,6682,6684,6670,6673,6675,6661,6648,6648,6649,6643,6639,6641,6634,6639,6624,6622,6617,6616,6615,6610,6600,6604,6605,6599,6602,6604,6592,6591,6581,6577,6576,6569,6571,6561,6560,6559,6555,6546,6546,6538,6532,6537,6529,6525,6531,6521,6524,6519,6513,6501,6509,6504,6492,6505,6490,6493,6489,6482,6482,6474,6479,6479,6468,6464,6453,6457,6456,6446,6454,6430,6429,6429,6424,6427,6425,6415,6398,6403,6401,6395,6392,6388,6369,6368,6368,6366,6370,6366,6367,6359,6363,6345,6343,6339,6338,6323,6327,6325,6319,6313,6295,6300,6300,6292,6286,6280,6271,6265,6272,6261,6259,6248,6254,6254,6254,6251,6240,6250,6239,6222,6219,6230,6221,6220,6218,6212,6219,6216,6207,6205,6199,6189,6186,6181,6184,6178,6177,6171,6161,6164,6154,6150,6141,6138,6129,6136,6135,6129,6123,6124,6104,6096,6093,6085,6091,6073,6076,6076,6070,6072,6069,6068,6059,6058,6046,6052,6041,6045,6042,6027,6026,6024,6018,6012,6008,6000,6003,5994,5985,5983,5983,5968,5970,5970,5936,5931,5939,5930,5926,5908,5906,5903,5895,5891,5884,5870,5872,5858,5846,5844,5837,5835,5838,5832,5837,5820,5817,5819,5801,5809,5807,5810,5801,5788,5792,5774,5761,5766,5762,5757,5740,5741,5745,5738,5732,5725,5729,5724,5722,5723,5721,5718,5713,5713,5704,5676,5677,5680,5669,5672,5662,5659,5659,5653,5640,5646,5642,5642,5643,5640,5623,5629,5628,5620,5620,5614,5609,5606,5607,5613,5609,5604,5588,5589,5588,5587,5582,5583,5583,5574,5579,5569,5570,5564,5572,5565,5566,5557,5553,5549,5559,5536,5537,5528,5527,5513,5524,5515,5518,5522,5506,5511,5504,5505,5496,5493,5481,5476,5481,5474,5462,5461,5456,5449,5447,5428,5423,5430,5425,5424,5416,5403,5400,5394,5401,5391,5393,5387,5389,5381,5377,5382,5378,5362,5365,5354,5350,5359,5350,5350,5348,5340,5350,5341,5335,5335,5332,5333,5320,5321,5320,5320,5315,5309,5304,5312,5312,5306,5298,5301,5284,5292,5281,5288,5287,5288,5286,5279,5281,5274,5267,5275,5280,5276,5268,5269,5254,5257,5245,5241,5236,5242,5234,5229,5230,5221,5214,5201,5197,5187,5177,5176,5169,5175,5164,5159,5158,5159,5163,5160,5162,5156,5151,5151,5149,5142,5140,5137,5127,5108,5112,5112,5109,5111,5110,5110,5112,5109,5095,5106,5103,5095,5088,5097,5084,5085,5079,5085,5077,5077,5064,5063,5060,5050,5048,5045,5049,5038,5027,5031,5023,5030,5019,5014,5017,5012,5013,5016,5010,4995,4998,5002,4994,4996,4999,4990,4996,4988,4984,4978,4985,4981,4983,4981,4978,4969,4974,4967,4971,4962,4973,4964,4964,4955,4956,4959,4948],\"xaxis\":\"x6\",\"yaxis\":\"y6\",\"type\":\"histogram\"},{\"alignmentgroup\":\"True\",\"bingroup\":\"x\",\"hovertemplate\":\"subreddit_name_prefixed=r/books<br>ups=%{x}<br>count=%{y}<extra></extra>\",\"legendgroup\":\"\",\"marker\":{\"color\":\"#636efa\",\"pattern\":{\"shape\":\"\"}},\"name\":\"\",\"nbinsx\":20,\"offsetgroup\":\"\",\"orientation\":\"v\",\"showlegend\":false,\"x\":[179548,105514,78924,70278,67018,64756,64025,61345,61309,60388,60257,59056,58038,57621,56868,52142,52093,50553,50367,49689,49631,49144,48314,47378,47346,47226,47082,46488,46269,46228,45625,44937,44613,44159,44109,43905,42902,41818,41092,40784,40752,40294,40264,40216,38858,38839,38420,38320,37969,37644,37597,37312,36878,36753,36158,36117,35865,35727,35679,35663,35636,35552,35165,35162,34805,34391,34217,34153,34035,34000,33727,33488,33383,33329,33131,32804,32594,32376,32355,32158,32012,31717,31512,31353,31310,31094,31046,30901,30843,30605,30598,30606,30582,30569,30106,29994,29688,29619,29568,29545,29440,29424,29315,29231,29004,28884,28753,28716,28700,28633,28599,28547,28382,28367,28173,28157,28080,27485,27420,27404,27335,27067,27052,26941,26932,26932,26866,26758,26753,26731,26610,26530,26481,26445,26429,26369,26326,26183,26136,26047,26026,25961,25957,25925,25745,25730,25687,25545,25542,25506,25501,25489,25389,25334,25271,25267,25000,24936,24828,24736,24650,24618,24581,24542,24403,24350,24319,24226,24018,23998,23949,23920,23888,23838,23631,23551,23501,23503,23442,23436,23402,23384,23332,23313,23243,23192,23110,23017,22936,22742,22711,22526,22527,22457,22396,22371,22309,22296,22299,22280,22274,22234,22227,22191,22180,22175,22160,22096,22082,22064,22026,21934,21882,21866,21777,21736,21670,21602,21576,21537,21478,21457,21398,21316,21220,21172,21148,21140,21136,21032,20952,20946,20898,20887,20772,20640,20592,20566,20560,20522,20423,20382,20334,20298,20238,20198,20147,20135,20095,20036,19975,19943,19893,19872,19848,19849,19836,19765,19730,19725,19715,19704,19559,19522,19518,19464,19457,19407,19408,19387,19388,19384,19387,19375,19361,19315,19304,19261,19171,19169,19163,19154,19138,19125,19122,19074,19056,18958,18925,18847,18836,18826,18805,18792,18796,18745,18683,18637,18620,18585,18541,18502,18470,18468,18458,18442,18420,18408,18301,18296,18282,18259,18241,18228,18224,18200,18195,18124,18073,18056,18046,17985,17971,17961,17916,17859,17795,17757,17718,17699,17700,17638,17623,17586,17536,17540,17524,17482,17470,17462,17448,17356,17338,17294,17270,17263,17264,17244,17211,17189,17151,17138,17122,17110,17104,17087,17031,16986,16970,16938,16940,16895,16886,16878,16874,16829,16802,16784,16773,16739,16664,16652,16654,16590,16582,16519,16514,16507,16490,16427,16361,16325,16304,16300,16283,16277,16281,16202,16171,16173,16097,16080,15987,15900,15863,15836,15839,15809,15808,15785,15762,15764,15760,15741,15730,15716,15692,15657,15640,15636,15624,15614,15610,15581,15521,15509,15511,15498,15463,15462,15460,15457,15445,15438,15427,15431,15426,15419,15403,15385,15390,15349,15333,15296,15284,15244,15223,15220,15191,15172,15154,15148,15108,15098,15098,15087,15081,15076,15070,15074,15057,15038,15022,14995,14985,14990,14971,14938,14927,14927,14900,14901,14833,14808,14798,14776,14723,14717,14707,14646,14639,14636,14617,14592,14560,14539,14543,14479,14443,14395,14381,14355,14349,14327,14325,14319,14311,14285,14243,14219,14206,14206,14191,14192,14192,14180,14168,14159,14126,14123,14117,14100,14099,14104,14083,14066,14064,14055,14041,14023,14005,14007,13997,13997,13953,13954,13914,13899,13894,13880,13857,13847,13827,13814,13791,13793,13763,13759,13757,13760,13746,13739,13715,13703,13696,13645,13645,13641,13621,13607,13609,13595,13591,13579,13569,13558,13551,13546,13517,13515,13483,13477,13446,13450,13433,13417,13407,13351,13332,13299,13269,13263,13263,13259,13259,13252,13222,13215,13200,13178,13183,13164,13166,13141,13144,13135,13084,13089,13038,12993,12939,12932,12930,12903,12909,12904,12894,12897,12880,12838,12830,12819,12802,12803,12772,12774,12770,12748,12736,12730,12711,12691,12691,12676,12669,12677,12660,12661,12648,12633,12611,12604,12589,12578,12582,12557,12559,12554,12510,12497,12497,12482,12461,12456,12453,12429,12428,12415,12406,12408,12387,12379,12360,12345,12334,12336,12324,12268,12238,12242,12214,12216,12201,12190,12159,12146,12139,12128,12122,12108,12100,12102,12082,12086,12083,12069,12065,12045,12042,12019,12020,12009,12003,11976,11956,11953,11923,11917,11899,11903,11893,11855,11863,11821,11812,11807,11782,11729,11722,11719,11712,11707,11687,11682,11674,11671,11665,11649,11646,11644,11633,11623,11631,11626,11614,11602,11578,11561,11557,11551,11558,11556,11553,11549,11539,11534,11534,11525,11491,11481,11483,11465,11449,11446,11444,11445,11438,11380,11377,11374,11344,11340,11312,11299,11305,11297,11270,11264,11269,11237,11235,11241,11235,11213,11208,11186,11185,11171,11166,11171,11148,11142,11140,11124,11111,11078,11050,11028,11024,11006,11002,10991,10980,10983,10964,10959,10948,10941,10933,10931,10929,10929,10920,10918,10875,10868,10852,10843,10840,10844,10837,10830,10826,10821,10810,10807,10787,10777,10765,10755,10735,10726,10725,10724,10699,10699,10694,10659,10648,10636,10637,10642,10630,10636,10631,10629,10620,10606,10587,10585,10583,10585,10559,10556,10551,10548,10539,10539,10541,10518,10519,10504,10504,10501,10486,10484,10476,10462,10464,10445,10448,10442,10437,10420,10408,10395,10384,10357,10326,10325,10324,10317,10318,10306,10309,10310,10301,10286,10284,10272,10253,10241,10221,10208,10197,10182,10187,10146,10156,10151,10142,10142,10143,10132,10126,10115,10117,10113,10109,10104,10095,10089,10092,10077,10076,10066,10065,10063,10054,10021,10019,9991,9983,9957,9955,9951,9955,9939,9939,9931,9916,9920,9900,9890,9889,9894,9883,9892,9883,9882,9877,9869,9870,9864,9862,9847,9842,9825,9820,9815,9806,9811,9782,9783,9786,9782,9780,9766,9764,9740,9741,9720,9721,9704,9703,9682,9680,9672,9648,9631,9631,9631,9627,9615,9613,9609,9594,9587,9588,9578,9579,9574,9557,9558,9533,9534,9523,9510,9504,9499,9490,9486,9471,9464,9454,9459,9448,9446,9435,9415,9409,9404,9393,9387,9383,9371,9359,9344,9342,9330,9331,9335,9325,9316,9310,9306,9298,9292,9274,9272,9272,9270,9258,9257,9238,9235,9233,9232,9228,9228,9233,9215,9212,9200,9197,9170,9171,9164,9156,9129,9102,9109,9102,9072],\"xaxis\":\"x7\",\"yaxis\":\"y7\",\"type\":\"histogram\"},{\"alignmentgroup\":\"True\",\"bingroup\":\"x\",\"hovertemplate\":\"subreddit_name_prefixed=r/gaming<br>ups=%{x}<br>count=%{y}<extra></extra>\",\"legendgroup\":\"\",\"marker\":{\"color\":\"#636efa\",\"pattern\":{\"shape\":\"\"}},\"name\":\"\",\"nbinsx\":20,\"offsetgroup\":\"\",\"orientation\":\"v\",\"showlegend\":false,\"x\":[269760,241206,227164,220464,197041,193386,182129,175347,175250,174089,173366,173223,172833,170861,167738,167659,167185,166001,163784,163384,163302,163185,162933,162563,162509,162499,162286,160692,158191,155132,154538,153956,153919,153723,153667,153566,153447,151905,150867,150138,150068,149569,148509,148460,147950,147867,147608,146990,146697,146389,146288,146153,146033,145726,145582,145515,145151,145144,144973,144413,143732,142687,142515,142474,142234,141077,140895,140646,140537,140166,139617,139347,139052,138586,138542,138271,137917,137868,137838,137729,137662,137573,137290,137000,136836,136573,136091,135794,135517,135058,134660,134628,134409,134303,134232,133853,133807,133450,132995,132568,132519,132269,132254,132219,132045,131869,131791,131769,131411,131299,131169,130871,130828,130693,130607,130198,129593,129511,129386,129267,129259,129228,129049,128739,128566,128440,128183,127911,127368,127336,127247,127151,127129,127056,126680,126386,126149,125838,125455,125386,125146,124796,124504,123737,123590,123556,123472,123315,123041,122998,122837,122798,122758,122375,122361,122217,122038,121925,121857,121736,121689,121553,121539,121380,121342,121103,121084,120788,120745,120706,120369,120304,120241,120155,120048,120021,118766,118741,118515,118514,118439,118418,118409,118369,118319,117988,117982,117553,117504,117434,117413,117402,117252,117192,117171,116930,116745,116593,116589,116579,116315,116260,116123,116084,116064,116039,115962,115921,115677,115466,115119,114986,114525,114517,114416,114341,114261,114247,114238,114126,114027,114006,113948,113641,113631,113572,113411,113345,113307,113180,113160,112975,112969,112723,112636,112576,112556,112546,112385,112344,112287,112266,112191,112163,112071,111866,111677,111644,111481,111351,111312,111307,111280,111245,111142,111121,110997,110825,110766,110675,110588,110547,110451,110370,110215,110206,110132,109928,109886,109567,109564,109516,109504,109331,109230,109205,109004,108810,108784,108663,108636,108513,108488,108401,108404,108304,108166,108061,107784,107560,107467,107348,107297,107279,107242,107127,107121,107035,106980,106935,106785,106782,106726,106696,106684,106670,106596,106591,106589,106464,106391,106242,106185,105958,105894,105826,105809,105765,105729,105735,105678,105574,105558,105499,105463,105443,105424,105364,105280,105229,105175,105051,104993,104949,104894,104697,104671,104605,104597,104315,104273,104203,104113,104069,103999,104002,103968,103924,103925,103881,103875,103862,103825,103810,103795,103708,103681,103671,103569,103534,103443,103417,103294,103197,103139,103116,103038,103015,102889,102887,102775,102757,102704,102657,102602,102584,102575,102543,102543,102538,102503,102458,102444,102416,102318,102182,102153,102106,102022,101989,101977,101977,101968,101948,101855,101840,101822,101793,101778,101691,101693,101523,101462,101435,101306,101277,101245,101227,101229,101173,101126,101094,101090,101044,100967,100958,100958,100847,100760,100674,100658,100646,100608,100554,100423,100419,100415,100378,100346,100290,100292,100170,100149,100133,100113,100064,99997,99965,99910,99814,99814,99730,99734,99672,99609,99597,99543,99532,99526,99491,99447,99408,99392,99392,99366,99277,99258,99238,99222,99114,99098,99051,99037,99001,98997,98987,98985,98976,98933,98891,98889,98819,98654,98650,98577,98467,98467,98458,98389,98324,98292,98271,98198,98132,98066,98063,98035,98026,98005,97969,97944,97855,97796,97770,97727,97705,97708,97654,97617,97590,97499,97493,97387,97358,97327,97308,97237,97178,97177,97099,96970,96965,96941,96941,96928,96812,96734,96687,96619,96624,96608,96607,96528,96428,96426,96389,96396,96278,96272,96237,96209,96166,96104,96104,96080,96058,96025,95974,95950,95917,95910,95896,95797,95748,95660,95645,95616,95599,95576,95565,95526,95509,95492,95475,95409,95405,95384,95380,95252,95248,95236,95202,95186,95170,95137,95130,95103,95097,95035,95034,95025,94941,94943,94919,94918,94924,94919,94893,94861,94813,94765,94688,94570,94557,94553,94536,94475,94456,94364,94339,94333,94280,94272,94265,94164,94116,94047,94037,93989,93900,93888,93886,93860,93832,93817,93805,93797,93753,93695,93672,93618,93603,93563,93504,93468,93409,93346,93315,93293,93280,93273,93260,93260,93220,93198,93198,93158,93135,93126,93111,93105,92989,92983,92925,92919,92890,92845,92830,92823,92811,92804,92785,92739,92673,92661,92593,92553,92550,92540,92538,92487,92498,92482,92396,92393,92359,92307,92312,92291,92269,92255,92170,92160,92120,92093,92093,92005,91972,91968,91948,91952,91940,91915,91911,91912,91900,91883,91875,91864,91809,91773,91761,91748,91700,91698,91685,91674,91628,91601,91588,91579,91538,91538,91496,91493,91388,91331,91303,91288,91279,91261,91092,91055,91052,91012,90987,90936,90928,90865,90835,90837,90737,90721,90684,90692,90682,90657,90615,90605,90569,90554,90502,90503,90497,90450,90409,90354,90306,90234,90164,90169,90109,90101,89999,89992,89968,89955,89948,89909,89860,89851,89849,89806,89761,89742,89730,89711,89702,89690,89679,89626,89616,89579,89584,89568,89561,89496,89487,89468,89367,89367,89328,89323,89320,89317,89301,89259,89227,89206,89191,89135,89100,89079,89044,89030,89001,88980,88960,88955,88929,88928,88833,88823,88811,88791,88784,88766,88745,88750,88701,88693,88690,88671,88600,88602,88591,88588,88570,88574,88548,88433,88414,88299,88269,88243,88233,88228,88194,88196,88153,88077,88022,87994,87982,87957,87920,87884,87866,87850,87841,87838,87832,87825,87836,87785,87785,87759,87747,87752,87734,87714,87707,87700,87703,87692,87660,87658,87661,87601,87583,87560,87557,87541,87495,87432,87395,87393,87384,87381,87300,87303,87275,87237,87227,87209,87196,87154,87147,87140,87118,87117,87091,87039,87034,86963,86952,86923,86902,86901,86891,86879,86866,86858,86853,86851,86829,86828,86819,86821,86818,86806,86794,86701,86693,86660,86625,86603,86578,86568,86525,86530,86481,86455,86437,86418,86417,86361,86371,86304,86302,86282,86269,86270,86263,86191,86154,86123,86088,86085,86070,86057,86014,85980,85906,85893,85881,85878,85874,85834,85789,85768,85748,85718,85690,85686,85676,85674,85649,85629,85570,85518,85467,85459,85459,85448,85433,85402,85373,85362,85336,85293,85262,85263,85246,85228,85211,85162,85156,85159,85151,85128,85116,85101,85085,85079,85068,85051,85047,85025,85032,85017,84998,85000,84996,84982,84951,84943,84892,84864,84824,84802,84795,84748,84709,84684,84684,84679,84644,84643,84621,84615,84607,84600,84515,84490,84468,84456,84454,84452,84408,84383,84355,84325,84312,84299],\"xaxis\":\"x8\",\"yaxis\":\"y8\",\"type\":\"histogram\"},{\"alignmentgroup\":\"True\",\"bingroup\":\"x\",\"hovertemplate\":\"subreddit_name_prefixed=r/cats<br>ups=%{x}<br>count=%{y}<extra></extra>\",\"legendgroup\":\"\",\"marker\":{\"color\":\"#636efa\",\"pattern\":{\"shape\":\"\"}},\"name\":\"\",\"nbinsx\":20,\"offsetgroup\":\"\",\"orientation\":\"v\",\"showlegend\":false,\"x\":[88048,77172,75715,70874,68186,68061,67859,67347,66047,65588,65002,64234,61698,61241,60703,60166,60131,57812,57590,57151,56891,56390,56052,55842,55505,55039,54718,54590,54534,53722,53340,53014,52978,52753,52734,52479,51816,51312,51177,50766,50730,50707,50683,50528,50450,50161,50080,49813,49509,49368,49221,49214,49076,49077,48907,48653,48516,48480,48291,48083,47862,47795,47519,47491,47348,47326,47290,46919,46560,45783,45684,45667,45457,45345,45244,45099,44900,44697,44696,44599,44459,44430,44287,43863,43416,43330,43324,43267,43175,43057,42954,42875,42678,42572,42560,41999,41826,41801,41731,41536,41369,41347,41315,41223,41201,41164,41090,40914,40860,40811,40465,40372,40330,40237,40223,40137,39939,39804,39732,39722,39454,39387,39206,39179,38958,38582,38348,38167,37979,37694,37525,37420,37171,37166,37101,37076,36922,36820,36805,36741,36666,36596,36551,36471,36302,36292,36190,36011,35997,35956,35946,35799,35760,35675,35530,35385,35330,35313,35275,35260,35171,35158,35087,34993,34960,34886,34873,34722,34581,34477,34324,34325,34279,34254,34146,34122,34088,33996,33976,33782,33734,33670,33545,33520,33461,33320,33313,33294,33240,33225,33196,33168,33133,33099,33036,32883,32866,32748,32733,32735,32643,32582,32532,32519,32434,32394,32325,32269,32266,32168,32140,32106,31971,31906,31815,31794,31791,31697,31652,31607,31575,31553,31470,31397,31362,31281,31253,31239,31146,31037,30980,30864,30849,30736,30728,30709,30658,30615,30603,30577,30566,30556,30524,30482,30477,30472,30466,30453,30438,30425,30364,30326,30236,30222,30202,30204,30080,30033,30029,30008,29990,29939,29893,29801,29757,29741,29715,29674,29606,29579,29557,29539,29527,29386,29380,29364,29372,29312,29254,29241,29227,29137,29140,29125,29076,29025,29021,28985,28938,28847,28809,28790,28692,28682,28627,28616,28581,28561,28549,28531,28430,28334,28217,28195,28151,28144,28099,28090,28035,28036,28034,28024,28027,28028,27887,27889,27825,27807,27798,27789,27739,27616,27602,27586,27580,27572,27532,27479,27452,27447,27434,27379,27375,27364,27353,27314,27293,27286,27242,27177,27152,27118,27131,27106,27050,27051,27042,27020,27006,27003,26998,26986,26884,26870,26741,26745,26740,26746,26727,26676,26670,26671,26667,26619,26582,26547,26527,26515,26487,26427,26376,26366,26298,26292,26251,26243,26241,26235,26197,26181,26157,26141,26122,26003,25969,25958,25858,25799,25788,25717,25680,25603,25569,25552,25553,25517,25481,25471,25411,25377,25342,25341,25338,25312,25290,25274,25248,25240,25237,25172,25152,25141,25133,25050,25041,25008,24988,24901,24886,24871,24833,24818,24793,24755,24694,24676,24655,24652,24621,24575,24572,24566,24553,24543,24526,24496,24469,24440,24409,24370,24367,24321,24312,24278,24269,24269,24253,24229,24219,24177,24162,24139,24107,24099,24090,24084,24078,24080,24058,24030,24020,23975,23919,23817,23713,23691,23631,23631,23606,23600,23574,23583,23572,23558,23556,23560,23462,23426,23409,23410,23387,23384,23379,23380,23368,23357,23341,23333,23276,23254,23221,23171,23157,23136,23115,23097,23074,23027,23023,22974,22964,22957,22961,22946,22923,22911,22873,22859,22861,22853,22839,22830,22803,22793,22771,22761,22691,22684,22674,22680,22675,22612,22603,22571,22561,22499,22495,22488,22475,22453,22443,22411,22405,22391,22385,22365,22363,22336,22331,22333,22328,22304,22283,22237,22235,22232,22216,22208,22199,22160,22151,22134,22119,22088,22072,22020,22008,21991,21990,21977,21973,21947,21933,21902,21904,21878,21877,21841,21827,21824,21815,21804,21776,21777,21773,21774,21749,21742,21730,21726,21720,21691,21689,21682,21664,21640,21628,21631,21632,21599,21593,21548,21528,21503,21496,21486,21471,21457,21439,21437,21414,21380,21364,21361,21361,21352,21345,21341,21329,21308,21282,21290,21236,21200,21177,21173,21174,21160,21126,21120,21099,21091,21088,21077,21057,21050,21013,21003,20992,20976,20960,20950,20957,20937,20937,20936,20876,20862,20862,20826,20823,20826,20799,20806,20790,20778,20774,20771,20758,20757,20750,20754,20744,20746,20696,20665,20650,20642,20641,20630,20609,20605,20602,20591,20549,20546,20543,20512,20515,20515,20512,20504,20468,20467,20456,20460,20448,20385,20388,20377,20373,20373,20375,20369,20341,20334,20329,20332,20317,20315,20305,20279,20281,20274,20265,20264,20250,20251,20234,20224,20226,20225,20218,20215,20209,20211,20205,20162,20149,20103,20113,20096,20087,20076,20073,20066,20064,19998,20004,20001,19995,19971,19965,19953,19935,19927,19931,19924,19896,19893,19873,19877,19863,19847,19846,19833,19835,19829,19818,19807,19810,19808,19803,19801,19790,19774,19767,19764,19760,19764,19719,19715,19708,19664,19639,19632,19640,19642,19641,19629,19580,19571,19563,19563,19561,19557,19547,19536,19538,19510,19504,19501,19507,19477,19482,19461,19454,19433,19430,19432,19423,19419,19399,19365,19369,19357,19342,19326,19282,19276,19263,19265,19255,19261,19239,19224,19224,19202,19198,19199,19194,19184,19190,19178,19159,19158,19140,19149,19129,19129,19122,19107,19108,19112,19105,19091,19085,19078,19073,19076,19058,19046,19026,19019,19000,18991,18988,18991,18969,18936,18921,18905,18893,18894,18881,18885,18882,18873,18868,18861,18846,18837,18976,18838,18836,18825,18829,18760,18754,18747,18741,18747,18718,18705,18690,18687,18684,18679,18670,18667,18648,18633,18629,18622,18605,18599,18604,18594,18597,18572,18574,18568,18558,18547,18537,18531,18524,18509,18511,18509,18491,18488,18476,18469,18460,18457,18451,18445,18427,18432,18413,18395,18392,18390,18365,18343,18336,18331,18318,18322,18311,18306,18289,18291,18276,18259,18262,18260,18254,18248,18250,18229,18206,18209,18206,18202,18205,18198,18198,18202,18182,18177,18173,18178,18142,18128,18126,18124,18121,18119,18122,18120,18116,18111,18096,18087,18080,18075,18078,18070,18067,18058,18054,18042,18026,18018,18021,18017,17991,17985,17986,17981,17974,17976,17971,17951,17955,17950,17947,17950,17942,17933,17927,17918,17909,17901,17896,17898,17876,17877,17871,17869,17866,17858,17858,17839,17846,17833,17832,17831,17819,17814,17811,17801,17791,17796,17794,17794,17790,17775,17753,17758,17762,17744,17748,17733,17730,17719],\"xaxis\":\"x9\",\"yaxis\":\"y9\",\"type\":\"histogram\"},{\"alignmentgroup\":\"True\",\"bingroup\":\"x\",\"hovertemplate\":\"subreddit_name_prefixed=r/conspiracy<br>ups=%{x}<br>count=%{y}<extra></extra>\",\"legendgroup\":\"\",\"marker\":{\"color\":\"#636efa\",\"pattern\":{\"shape\":\"\"}},\"name\":\"\",\"nbinsx\":20,\"offsetgroup\":\"\",\"orientation\":\"v\",\"showlegend\":false,\"x\":[85419,68671,45843,40365,38690,38341,36791,35918,35049,34802,34493,34063,33765,33303,32316,32216,31792,31359,29548,28690,27748,27547,27487,27422,27268,26577,25641,25531,24895,24466,24292,23893,23788,23669,23251,23047,22883,22850,22686,22399,22262,21973,21757,21247,20867,20753,20706,20416,20407,20284,20054,19997,19928,19900,19855,19822,19820,19810,19813,19621,19610,19469,18779,18669,18633,18482,18411,18388,18329,18328,18041,17766,17627,17608,17387,17294,17284,17212,17170,17162,17134,17050,17019,17000,16953,16944,16849,16805,16781,16758,16750,16701,16590,16501,16438,16367,16357,16261,16247,16200,16155,16123,16115,16085,15910,15914,15891,15860,15783,15782,15761,15758,15733,15712,15647,15572,15494,15426,15403,15309,15076,15063,14991,14974,14966,14930,14765,14731,14709,14543,14475,14371,14343,14304,14288,14280,14180,14104,14096,14062,14046,14053,14041,14034,14024,14013,13987,13940,13928,13915,13895,13884,13833,13799,13728,13716,13635,13588,13576,13563,13543,13496,13499,13470,13428,13374,13334,13333,13204,13187,13168,13157,13144,13117,13048,12961,12909,12844,12804,12774,12743,12738,12734,12739,12733,12731,12720,12705,12703,12696,12664,12642,12625,12620,12612,12598,12604,12518,12498,12430,12410,12414,12404,12394,12372,12356,12328,12305,12275,12246,12243,12226,12207,12219,12139,12117,12112,12095,12083,12078,12040,12012,12002,11994,11975,11972,11965,11921,11914,11911,11838,11829,11816,11779,11755,11734,11734,11705,11710,11687,11552,11515,11474,11471,11464,11449,11438,11428,11397,11381,11346,11314,11323,11291,11269,11262,11261,11251,11222,11159,11151,11135,11124,11119,11111,11094,11096,11044,11034,11021,10994,10982,10987,10978,10964,10958,10959,10932,10920,10885,10879,10865,10854,10845,10833,10833,10821,10812,10799,10805,10792,10795,10795,10784,10713,10716,10677,10673,10673,10663,10640,10641,10638,10632,10622,10555,10505,10512,10492,10483,10476,10476,10462,10454,10438,10439,10414,10419,10411,10408,10393,10385,10368,10357,10334,10338,10326,10287,10264,10261,10261,10243,10235,10166,10161,10150,10122,10121,10088,10068,10072,10062,10049,10046,10045,10039,10031,9986,9969,9951,9939,9930,9924,9917,9912,9878,9878,9839,9825,9811,9807,9801,9780,9765,9752,9750,9752,9745,9735,9710,9702,9710,9707,9690,9682,9669,9667,9624,9608,9603,9593,9580,9576,9563,9565,9555,9548,9536,9511,9509,9465,9445,9416,9400,9396,9397,9373,9371,9375,9368,9328,9310,9300,9287,9285,9281,9266,9252,9222,9203,9201,9192,9181,9185,9181,9177,9150,9135,9124,9114,9117,9090,9058,9050,9053,9036,9037,9030,9027,9020,9017,9010,9000,9003,8998,8988,8957,8956,8958,8959,8944,8940,8933,8931,8925,8921,8908,8911,8894,8899,8883,8862,8859,8861,8857,8849,8849,8833,8840,8820,8823,8817,8814,8807,8801,8800,8787,8781,8776,8770,8776,8768,8762,8759,8755,8730,8718,8701,8695,8690,8690,8677,8686,8675,8674,8671,8657,8630,8635,8634,8626,8626,8626,8620,8611,8606,8611,8587,8581,8580,8582,8581,8569,8572,8566,8567,8563,8562,8561,8551,8548,8539,8527,8513,8498,8506,8498,8493,8491,8476,8477,8479,8468,8466,8450,8440,8432,8416,8412,8406,8397,8387,8390,8375,8369,8366,8356,8357,8346,8341,8339,8328,8323,8311,8312,8307,8307,8304,8295,8298,8291,8295,8290,8290,8272,8260,8255,8246,8186,8187,8186,8135,8134,8125,8117,8105,8096,8090,8077,8062,8068,8067,8059,8061,8032,8032,8034,8028,8007,8008,8006,8003,8010,7998,7993,7987,7986,7989,7967,7958,7951,7949,7939,7922,7916,7914,7905,7893,7886,7871,7872,7857,7856,7849,7844,7838,7827,7827,7823,7816,7804,7805,7786,7794,7789,7776,7778,7755,7743,7738,7729,7721,7712,7716,7696,7698,7692,7682,7674,7669,7658,7648,7628,7626,7617,7609,7602,7605,7605,7599,7584,7588,7565,7565,7550,7555,7531,7536,7538,7531,7530,7525,7520,7516,7500,7492,7494,7487,7482,7473,7471,7465,7443,7454,7444,7435,7432,7419,7415,7400,7387,7375,7376,7368,7366,7363,7359,7359,7350,7348,7340,7337,7335,7328,7323,7318,7311,7308,7297,7299,7297,7294,7269,7265,7258,7265,7252,7241,7248,7246,7247,7239,7237,7234,7211,7214,7216,7191,7190,7185,7187,7187,7163,7162,7162,7162,7150,7156,7153,7144,7143,7133,7126,7116,7110,7091,7099,7083,7086,7086,7079,7071,7066,7065,7058,7053,7041,7044,7030,7028,7029,7018,7013,7012,7005,6995,7002,6995,6991,6990,6983,6977,6984,6953,6950,6948,6941,6927,6932,6925,6913,6910,6899,6888,6886,6864,6839,6835,6831,6825,6825,6827,6822,6812,6800,6793,6799,6778,6777,6773,6764,6759,6761,6745,6747,6738,6731,6729,6729,6729,6723,6725,6715,6717,6716,6705,6703,6696,6705,6699,6690,6697,6686,6679,6679,6677,6676,6680,6679,6658,6644,6649,6645,6642,6639,6631,6623,6626,6623,6626,6625,6621,6610,6614,6605,6607,6602,6596,6595,6592,6595,6586,6588,6585,6587,6585,6578,6572,6572,6563,6560,6550,6550,6549,6550,6556,6540,6541,6542,6545,6525,6510,6490,6495,6489,6478,6480,6464,6464,6466,6458,6440,6437,6437,6435,6439,6426,6427,6424,6413,6415,6405,6403,6396,6404,6397,6382,6378,6370,6364,6358,6361,6355,6360,6352,6349,6343,6335,6336,6340,6328,6327,6325,6322,6326,6323,6318,6309,6312,6308,6306,6301,6301,6295,6297,6294,6297,6299,6285,6261,6267,6248,6256,6257,6242,6237,6241,6232,6232,6234,6230,6228,6223,6216,6208,6209,6205,6200,6202,6201,6201,6194,6186,6181,6185,6184,6183,6180,6178,6184,6181,6171,6171,6159,6161,6156,6157,6148,6161,6151,6132,6140,6134,6131,6124,6131,6127,6122,6115,6111,6116,6105,6105,6114,6110,6080,6075,6074,6086,6070,6073,6065,6065,6060,6051,6056,6044,6034,6031,6025,6017,6013,6005,5990,5979,5980,5972,5974,5964],\"xaxis\":\"x10\",\"yaxis\":\"y10\",\"type\":\"histogram\"},{\"alignmentgroup\":\"True\",\"bingroup\":\"x\",\"hovertemplate\":\"subreddit_name_prefixed=r/PoliticalHumor<br>ups=%{x}<br>count=%{y}<extra></extra>\",\"legendgroup\":\"\",\"marker\":{\"color\":\"#636efa\",\"pattern\":{\"shape\":\"\"}},\"name\":\"\",\"nbinsx\":20,\"offsetgroup\":\"\",\"orientation\":\"v\",\"showlegend\":false,\"x\":[131727,126301,125332,117291,115162,112762,111006,110503,107787,107032,105953,105431,105425,103874,103504,103440,102414,101222,101214,100703,100603,100286,99921,98180,97067,97008,95709,94702,94471,93887,93652,93138,93053,92001,91340,91167,90203,89967,89551,89195,87970,87531,87245,86829,86061,85914,85563,85320,85135,85042,84981,84932,84573,84487,84366,84101,84016,83810,83372,83329,83330,83172,83026,82977,82930,82791,82672,82271,82074,81843,81817,81429,81274,81143,81035,80961,80941,80807,80701,80438,80390,80300,80244,80224,80052,79627,79306,79008,78958,78945,78764,78644,78376,78351,78346,78285,78001,77611,77373,76981,76943,76515,76353,76354,76344,75988,75937,75864,75737,75735,75582,75580,75515,75378,75358,75349,75037,74969,74897,74882,74544,74493,74420,74380,74247,74094,73950,73933,73870,73779,73714,73710,73308,73237,73058,72877,72708,72605,72574,72565,72360,72316,72277,72219,71991,71972,71963,71872,71845,71848,71754,71568,71558,71459,71445,71391,71116,71070,71054,70796,70557,70445,70348,70289,70232,70226,70154,70058,69887,69883,69656,69655,69629,69289,69220,69206,69166,69138,69113,68944,68921,68786,68779,68766,68759,68691,68637,68533,68506,68197,68118,68108,67869,67730,67674,67647,67365,67364,67154,67135,67125,66930,66850,66460,66269,66229,66217,66075,66037,65978,65957,65881,65876,65824,65763,65649,65589,65540,65530,65428,65361,65350,65314,65164,65070,64963,64833,64812,64805,64704,64693,64652,64641,64579,64553,64518,64477,64364,64357,64281,64237,64230,64148,64099,64078,64049,63975,63892,63786,63736,63677,63682,63677,63649,63534,63489,63435,63334,63323,63319,63216,63158,63118,63038,63006,63006,62997,63000,62994,62991,62876,62724,62591,62546,62494,62337,62291,62261,62242,62150,61985,61881,61843,61776,61768,61721,61659,61596,61583,61503,61469,61437,61422,61390,61374,61289,61262,61163,61138,61092,61072,61006,60986,60950,60936,60911,60862,60820,60667,60604,60550,60539,60506,60390,60367,60318,60250,60244,60197,60198,60087,60037,59936,59860,59842,59721,59721,59711,59710,59652,59572,59566,59549,59483,59429,59403,59376,59366,59322,59277,59172,59175,59021,58904,58875,58783,58752,58743,58694,58660,58577,58555,58496,58498,58442,58434,58300,58292,58283,58279,58202,58145,58140,58138,58125,58084,57986,57937,57880,57848,57797,57764,57712,57727,57685,57638,57631,57546,57543,57506,57442,57324,57294,57290,57225,57203,57125,57104,57045,57036,56999,56925,56896,56861,56858,56827,56789,56774,56691,56691,56510,56430,56382,56200,56182,56104,56080,56074,56064,56023,56006,56006,55956,55945,55922,55916,55877,55871,55713,55686,55689,55667,55626,55611,55605,55552,55535,55385,55356,55312,55294,55285,55240,55214,55151,55159,55151,55117,55098,55063,55060,55035,55039,55024,54984,54980,54955,54916,54916,54886,54881,54814,54810,54790,54762,54672,54668,54654,54645,54636,54584,54537,54539,54433,54421,54380,54330,54268,54154,54132,54122,54123,54093,54014,54003,53973,53955,53930,53926,53898,53851,53844,53842,53829,53793,53728,53718,53720,53668,53655,53627,53608,53586,53557,53462,53469,53464,53448,53428,53421,53355,53282,53248,53143,53122,53111,53055,53064,53043,52889,52883,52816,52809,52782,52660,52630,52580,52572,52537,52498,52486,52467,52406,52389,52383,52316,52306,52180,52169,52125,52104,52009,51978,51953,51945,51914,51872,51857,51816,51802,51796,51788,51789,51694,51664,51659,51653,51646,51634,51609,51548,51506,51402,51309,51309,51281,51268,51240,51170,51143,51141,51085,51081,51020,51008,51001,50970,50956,50852,50833,50810,50737,50710,50666,50661,50655,50641,50647,50626,50627,50621,50627,50614,50612,50590,50510,50507,50495,50486,50473,50398,50403,50384,50378,50360,50356,50353,50320,50246,50236,50191,50173,50170,50172,50135,50106,50094,50079,50057,50033,50039,50025,50014,50006,49988,49950,49942,49896,49889,49875,49841,49819,49796,49692,49671,49667,49662,49631,49567,49542,49537,49532,49466,49443,49429,49423,49395,49397,49376,49351,49337,49333,49277,49265,49262,49226,49184,49115,49056,49020,49005,48960,48950,48918,48833,48824,48785,48728,48612,48442,48402,48313,48243,48242,48175,48154,48143,48090,48075,48081,48058,48059,48039,48042,48014,47978,47954,47962,47836,47828,47722,47670,47666,47659,47623,47627,47611,47610,47585,47572,47558,47497,47495,47485,47462,47463,47408,47396,47362,47330,47316,47290,47272,47199,47157,47118,47082,47081,47036,47013,46981,46982,46963,46965,46955,46877,46801,46795,46739,46731,46695,46681,46661,46665,46656,46552,46500,46495,46468,46456,46441,46419,46384,46375,46349,46304,46274,46279,46221,46104,46089,46071,46076,46036,46019,45994,45987,45971,45960,45950,45900,45886,45874,45815,45820,45811,45789,45746,45724,45660,45590,45555,45513,45501,45493,45480,45461,45463,45449,45445,45437,45382,45355,45347,45319,45294,45287,45284,45179,45150,45133,45112,45083,45088,45046,45034,45023,45016,45004,44949,44932,44916,44883,44858,44823,44813,44784,44791,44768,44767,44751,44711,44649,44640,44621,44622,44603,44593,44538,44520,44482,44477,44461,44465,44427,44418,44421,44400,44387,44376,44379,44359,44356,44346,44340,44338,44317,44301,44250,44214,44198,44163,44144,44139,44124,44111,44080,44063,44048,44052,44036,44031,44020,43879,43879,43820,43820,43805,43799,43791,43746,43731,43703,43701,43677,43615,43599,43588,43587,43561,43539,43549,43468,43463,43422,43399,43322,43298,43288,43271,43235,43228,43182,43185,43155,43127,43125,43123,43072,43064,43054,43030,42997,42966,42935,42926,42901,42895,42893,42852,42840,42800,42786,42775,42770,42769,42716,42695,42686,42692,42680,42601,42551,42510,42503,42496,42467,42447,42401,42348,42330,42320,42255,42251,42182,42168,42166,42125,42114,42114,42058,42011,42006,42008,41975,41926,41918,41919,41912,41897,41886,41871,41867,41845,41848,41818,41821,41771,41762,41762,41759,41736,41731,41708,41675,41641,41631,41609,41598,41590,41564,41557,41543,41522,41508,41474,41449,41450,41446,41426,41421,41366,41358,41340,41339,41316,41296,41284,41282,41268,41229,41228,41219,41178,41163,41168,41155,41142,41119,41076,41033,41028,41010,41000,40985,40965,40960,40953,40928,40923,40918,40879,40877],\"xaxis\":\"x11\",\"yaxis\":\"y11\",\"type\":\"histogram\"},{\"alignmentgroup\":\"True\",\"bingroup\":\"x\",\"hovertemplate\":\"subreddit_name_prefixed=r/hockey<br>ups=%{x}<br>count=%{y}<extra></extra>\",\"legendgroup\":\"\",\"marker\":{\"color\":\"#636efa\",\"pattern\":{\"shape\":\"\"}},\"name\":\"\",\"nbinsx\":20,\"offsetgroup\":\"\",\"orientation\":\"v\",\"showlegend\":false,\"x\":[64127,63518,40169,37817,37045,36606,36433,35930,35400,34288,33099,32027,31577,30826,30389,30230,30228,30162,30042,29419,28830,28548,28440,28080,27545,27128,26951,26947,26593,26477,26475,26438,25944,25421,25370,23613,23044,22801,22693,22635,22636,22477,22340,22215,21950,21880,21595,21477,21435,21247,21152,21141,21032,20969,20836,20817,20698,20689,20695,20547,20452,20408,20387,20279,20243,20180,20157,19970,19896,19873,19815,19757,19229,19197,19040,19043,18795,18399,18259,18182,18133,18092,17997,17533,17450,17424,17402,17360,17350,17316,17283,17243,17215,17129,17072,17045,17000,16993,16905,16894,16826,16807,16750,16730,16715,16651,16636,16498,16488,16451,16454,16427,16362,16306,16286,16262,16247,16182,16177,16170,16140,16024,15823,15784,15780,15733,15660,15596,15571,15526,15405,15328,15312,15309,15193,15162,15154,15123,15117,15088,15021,15017,14933,14918,14879,14836,14717,14644,14634,14595,14585,14513,14349,14326,14264,14220,14200,14194,14157,14136,14072,14070,14038,14024,13998,13952,13894,13888,13879,13754,13744,13738,13727,13687,13676,13499,13443,13405,13400,13399,13377,13371,13327,13275,13274,13275,13240,13202,13049,13013,13006,13002,12971,12917,12881,12863,12858,12795,12773,12776,12700,12689,12685,12667,12666,12644,12642,12620,12602,12545,12547,12536,12507,12500,12495,12495,12486,12493,12472,12437,12437,12392,12363,12350,12358,12338,12346,12336,12308,12303,12254,12214,12218,12213,12148,12134,12108,12088,12053,12024,12030,11995,11991,11975,11981,11980,11977,11953,11952,11922,11921,11854,11798,11782,11766,11736,11725,11726,11657,11539,11447,11445,11442,11415,11405,11402,11333,11317,11291,11292,11282,11266,11263,11252,11242,11236,11229,11213,11196,11107,11108,11093,11067,11054,11046,11033,11019,11022,11022,10989,10980,10979,10972,10956,10929,10898,10894,10886,10868,10866,10847,10790,10786,10730,10715,10711,10706,10675,10629,10595,10597,10590,10568,10550,10551,10535,10519,10518,10511,10508,10508,10503,10509,10500,10489,10488,10468,10457,10446,10449,10441,10434,10433,10425,10418,10388,10381,10375,10357,10359,10349,10347,10335,10308,10287,10257,10253,10240,10226,10219,10193,10187,10172,10188,10147,10142,10078,10045,10038,10028,9990,9983,9975,9960,9936,9931,9915,9893,9896,9868,9861,9839,9838,9826,9818,9819,9816,9797,9778,9780,9755,9736,9735,9720,9716,9703,9697,9689,9691,9683,9684,9680,9676,9676,9636,9625,9616,9599,9598,9602,9591,9578,9580,9569,9562,9552,9543,9538,9526,9501,9485,9481,9461,9450,9444,9427,9411,9402,9370,9357,9352,9338,9335,9319,9297,9298,9301,9275,9254,9257,9239,9233,9213,9221,9192,9188,9180,9166,9154,9147,9104,9110,9107,9089,9093,9091,9085,9073,9061,9045,9038,9042,9033,9021,9020,8988,8983,8971,8964,8974,8955,8934,8919,8919,8912,8900,8885,8891,8885,8876,8835,8841,8818,8815,8803,8794,8793,8789,8773,8750,8741,8736,8724,8718,8699,8701,8704,8666,8654,8655,8624,8607,8594,8566,8532,8523,8527,8510,8514,8516,8513,8507,8506,8502,8501,8475,8475,8465,8450,8450,8450,8412,8393,8399,8398,8391,8395,8388,8377,8366,8363,8354,8332,8330,8326,8324,8321,8312,8300,8297,8295,8292,8292,8293,8287,8274,8275,8269,8269,8260,8247,8237,8243,8233,8233,8232,8222,8223,8209,8197,8200,8186,8181,8177,8173,8163,8165,8156,8150,8152,8147,8141,8131,8126,8112,8107,8107,8105,8096,8092,8084,8073,8068,8064,8062,8050,8047,8048,8034,8017,8007,8004,7994,7984,7981,7968,7966,7961,7963,7950,7950,7947,7929,7925,7920,7923,7921,7913,7884,7880,7876,7876,7863,7848,7859,7855,7833,7818,7818,7815,7801,7807,7804,7797,7789,7777,7771,7769,7757,7757,7745,7754,7745,7741,7747,7729,7724,7718,7720,7717,7716,7704,7684,7694,7688,7683,7653,7654,7641,7640,7639,7622,7611,7608,7607,7601,7608,7593,7592,7590,7583,7582,7577,7573,7575,7564,7567,7555,7551,7529,7533,7519,7518,7511,7512,7504,7506,7500,7492,7489,7493,7487,7493,7476,7476,7475,7458,7429,7427,7421,7414,7419,7404,7407,7401,7395,7397,7389,7387,7392,7376,7382,7361,7357,7349,7353,7345,7347,7345,7338,7345,7337,7329,7328,7321,7319,7286,7290,7284,7278,7272,7272,7255,7250,7229,7233,7222,7208,7213,7212,7204,7200,7207,7195,7200,7193,7191,7185,7172,7154,7152,7146,7137,7143,7129,7132,7122,7125,7116,7108,7115,7106,7103,7096,7088,7081,7088,7081,7073,7061,7048,7041,7026,7021,7019,7017,7020,7001,6996,6994,6988,6979,6977,6968,6967,6973,6962,6958,6955,6944,6948,6940,6939,6930,6934,6925,6915,6909,6907,6907,6909,6898,6893,6886,6876,6875,6876,6882,6877,6866,6869,6856,6859,6857,6848,6855,6847,6845,6847,6831,6819,6813,6808,6793,6785,6783,6776,6776,6777,6776,6765,6751,6755,6748,6736,6725,6732,6729,6730,6731,6721,6712,6710,6707,6710,6689,6695,6686,6688,6686,6678,6681,6665,6664,6667,6654,6652,6650,6650,6647,6642,6640,6638,6628,6628,6629,6619,6615,6615,6609,6601,6605,6600,6600,6596,6583,6581,6588,6575,6576,6567,6565,6556,6553,6548,6540,6530,6530,6527,6523,6511,6513,6505,6512,6509,6506,6507,6505,6501,6502,6500,6489,6488,6483,6478,6467,6471,6458,6455,6454,6445,6434,6433,6424,6434,6427,6421,6423,6417,6408,6411,6407,6404,6400,6389,6394,6385,6381,6387,6375,6380,6379,6375,6375,6355,6354,6345,6347,6349,6343,6340,6334,6329,6313,6310,6313,6299,6302,6305,6296,6299,6294,6293,6283,6286,6275,6260,6259,6257,6258,6253,6261,6257,6259,6254,6249,6239,6246,6230,6226,6224,6232,6232,6223,6227,6222,6226,6224,6213,6222,6222,6209,6210,6201,6201,6192,6195,6193,6179,6184,6172,6169,6178,6176,6169,6164,6162,6158,6154,6154,6148,6152,6145,6144,6145,6132,6130,6127,6122,6125,6119,6115,6103,6098,6097,6095,6097,6089,6080,6086],\"xaxis\":\"x12\",\"yaxis\":\"y12\",\"type\":\"histogram\"}],                        {\"template\":{\"data\":{\"bar\":[{\"error_x\":{\"color\":\"#2a3f5f\"},\"error_y\":{\"color\":\"#2a3f5f\"},\"marker\":{\"line\":{\"color\":\"#E5ECF6\",\"width\":0.5},\"pattern\":{\"fillmode\":\"overlay\",\"size\":10,\"solidity\":0.2}},\"type\":\"bar\"}],\"barpolar\":[{\"marker\":{\"line\":{\"color\":\"#E5ECF6\",\"width\":0.5},\"pattern\":{\"fillmode\":\"overlay\",\"size\":10,\"solidity\":0.2}},\"type\":\"barpolar\"}],\"carpet\":[{\"aaxis\":{\"endlinecolor\":\"#2a3f5f\",\"gridcolor\":\"white\",\"linecolor\":\"white\",\"minorgridcolor\":\"white\",\"startlinecolor\":\"#2a3f5f\"},\"baxis\":{\"endlinecolor\":\"#2a3f5f\",\"gridcolor\":\"white\",\"linecolor\":\"white\",\"minorgridcolor\":\"white\",\"startlinecolor\":\"#2a3f5f\"},\"type\":\"carpet\"}],\"choropleth\":[{\"colorbar\":{\"outlinewidth\":0,\"ticks\":\"\"},\"type\":\"choropleth\"}],\"contour\":[{\"colorbar\":{\"outlinewidth\":0,\"ticks\":\"\"},\"colorscale\":[[0.0,\"#0d0887\"],[0.1111111111111111,\"#46039f\"],[0.2222222222222222,\"#7201a8\"],[0.3333333333333333,\"#9c179e\"],[0.4444444444444444,\"#bd3786\"],[0.5555555555555556,\"#d8576b\"],[0.6666666666666666,\"#ed7953\"],[0.7777777777777778,\"#fb9f3a\"],[0.8888888888888888,\"#fdca26\"],[1.0,\"#f0f921\"]],\"type\":\"contour\"}],\"contourcarpet\":[{\"colorbar\":{\"outlinewidth\":0,\"ticks\":\"\"},\"type\":\"contourcarpet\"}],\"heatmap\":[{\"colorbar\":{\"outlinewidth\":0,\"ticks\":\"\"},\"colorscale\":[[0.0,\"#0d0887\"],[0.1111111111111111,\"#46039f\"],[0.2222222222222222,\"#7201a8\"],[0.3333333333333333,\"#9c179e\"],[0.4444444444444444,\"#bd3786\"],[0.5555555555555556,\"#d8576b\"],[0.6666666666666666,\"#ed7953\"],[0.7777777777777778,\"#fb9f3a\"],[0.8888888888888888,\"#fdca26\"],[1.0,\"#f0f921\"]],\"type\":\"heatmap\"}],\"heatmapgl\":[{\"colorbar\":{\"outlinewidth\":0,\"ticks\":\"\"},\"colorscale\":[[0.0,\"#0d0887\"],[0.1111111111111111,\"#46039f\"],[0.2222222222222222,\"#7201a8\"],[0.3333333333333333,\"#9c179e\"],[0.4444444444444444,\"#bd3786\"],[0.5555555555555556,\"#d8576b\"],[0.6666666666666666,\"#ed7953\"],[0.7777777777777778,\"#fb9f3a\"],[0.8888888888888888,\"#fdca26\"],[1.0,\"#f0f921\"]],\"type\":\"heatmapgl\"}],\"histogram\":[{\"marker\":{\"pattern\":{\"fillmode\":\"overlay\",\"size\":10,\"solidity\":0.2}},\"type\":\"histogram\"}],\"histogram2d\":[{\"colorbar\":{\"outlinewidth\":0,\"ticks\":\"\"},\"colorscale\":[[0.0,\"#0d0887\"],[0.1111111111111111,\"#46039f\"],[0.2222222222222222,\"#7201a8\"],[0.3333333333333333,\"#9c179e\"],[0.4444444444444444,\"#bd3786\"],[0.5555555555555556,\"#d8576b\"],[0.6666666666666666,\"#ed7953\"],[0.7777777777777778,\"#fb9f3a\"],[0.8888888888888888,\"#fdca26\"],[1.0,\"#f0f921\"]],\"type\":\"histogram2d\"}],\"histogram2dcontour\":[{\"colorbar\":{\"outlinewidth\":0,\"ticks\":\"\"},\"colorscale\":[[0.0,\"#0d0887\"],[0.1111111111111111,\"#46039f\"],[0.2222222222222222,\"#7201a8\"],[0.3333333333333333,\"#9c179e\"],[0.4444444444444444,\"#bd3786\"],[0.5555555555555556,\"#d8576b\"],[0.6666666666666666,\"#ed7953\"],[0.7777777777777778,\"#fb9f3a\"],[0.8888888888888888,\"#fdca26\"],[1.0,\"#f0f921\"]],\"type\":\"histogram2dcontour\"}],\"mesh3d\":[{\"colorbar\":{\"outlinewidth\":0,\"ticks\":\"\"},\"type\":\"mesh3d\"}],\"parcoords\":[{\"line\":{\"colorbar\":{\"outlinewidth\":0,\"ticks\":\"\"}},\"type\":\"parcoords\"}],\"pie\":[{\"automargin\":true,\"type\":\"pie\"}],\"scatter\":[{\"marker\":{\"colorbar\":{\"outlinewidth\":0,\"ticks\":\"\"}},\"type\":\"scatter\"}],\"scatter3d\":[{\"line\":{\"colorbar\":{\"outlinewidth\":0,\"ticks\":\"\"}},\"marker\":{\"colorbar\":{\"outlinewidth\":0,\"ticks\":\"\"}},\"type\":\"scatter3d\"}],\"scattercarpet\":[{\"marker\":{\"colorbar\":{\"outlinewidth\":0,\"ticks\":\"\"}},\"type\":\"scattercarpet\"}],\"scattergeo\":[{\"marker\":{\"colorbar\":{\"outlinewidth\":0,\"ticks\":\"\"}},\"type\":\"scattergeo\"}],\"scattergl\":[{\"marker\":{\"colorbar\":{\"outlinewidth\":0,\"ticks\":\"\"}},\"type\":\"scattergl\"}],\"scattermapbox\":[{\"marker\":{\"colorbar\":{\"outlinewidth\":0,\"ticks\":\"\"}},\"type\":\"scattermapbox\"}],\"scatterpolar\":[{\"marker\":{\"colorbar\":{\"outlinewidth\":0,\"ticks\":\"\"}},\"type\":\"scatterpolar\"}],\"scatterpolargl\":[{\"marker\":{\"colorbar\":{\"outlinewidth\":0,\"ticks\":\"\"}},\"type\":\"scatterpolargl\"}],\"scatterternary\":[{\"marker\":{\"colorbar\":{\"outlinewidth\":0,\"ticks\":\"\"}},\"type\":\"scatterternary\"}],\"surface\":[{\"colorbar\":{\"outlinewidth\":0,\"ticks\":\"\"},\"colorscale\":[[0.0,\"#0d0887\"],[0.1111111111111111,\"#46039f\"],[0.2222222222222222,\"#7201a8\"],[0.3333333333333333,\"#9c179e\"],[0.4444444444444444,\"#bd3786\"],[0.5555555555555556,\"#d8576b\"],[0.6666666666666666,\"#ed7953\"],[0.7777777777777778,\"#fb9f3a\"],[0.8888888888888888,\"#fdca26\"],[1.0,\"#f0f921\"]],\"type\":\"surface\"}],\"table\":[{\"cells\":{\"fill\":{\"color\":\"#EBF0F8\"},\"line\":{\"color\":\"white\"}},\"header\":{\"fill\":{\"color\":\"#C8D4E3\"},\"line\":{\"color\":\"white\"}},\"type\":\"table\"}]},\"layout\":{\"annotationdefaults\":{\"arrowcolor\":\"#2a3f5f\",\"arrowhead\":0,\"arrowwidth\":1},\"autotypenumbers\":\"strict\",\"coloraxis\":{\"colorbar\":{\"outlinewidth\":0,\"ticks\":\"\"}},\"colorscale\":{\"diverging\":[[0,\"#8e0152\"],[0.1,\"#c51b7d\"],[0.2,\"#de77ae\"],[0.3,\"#f1b6da\"],[0.4,\"#fde0ef\"],[0.5,\"#f7f7f7\"],[0.6,\"#e6f5d0\"],[0.7,\"#b8e186\"],[0.8,\"#7fbc41\"],[0.9,\"#4d9221\"],[1,\"#276419\"]],\"sequential\":[[0.0,\"#0d0887\"],[0.1111111111111111,\"#46039f\"],[0.2222222222222222,\"#7201a8\"],[0.3333333333333333,\"#9c179e\"],[0.4444444444444444,\"#bd3786\"],[0.5555555555555556,\"#d8576b\"],[0.6666666666666666,\"#ed7953\"],[0.7777777777777778,\"#fb9f3a\"],[0.8888888888888888,\"#fdca26\"],[1.0,\"#f0f921\"]],\"sequentialminus\":[[0.0,\"#0d0887\"],[0.1111111111111111,\"#46039f\"],[0.2222222222222222,\"#7201a8\"],[0.3333333333333333,\"#9c179e\"],[0.4444444444444444,\"#bd3786\"],[0.5555555555555556,\"#d8576b\"],[0.6666666666666666,\"#ed7953\"],[0.7777777777777778,\"#fb9f3a\"],[0.8888888888888888,\"#fdca26\"],[1.0,\"#f0f921\"]]},\"colorway\":[\"#636efa\",\"#EF553B\",\"#00cc96\",\"#ab63fa\",\"#FFA15A\",\"#19d3f3\",\"#FF6692\",\"#B6E880\",\"#FF97FF\",\"#FECB52\"],\"font\":{\"color\":\"#2a3f5f\"},\"geo\":{\"bgcolor\":\"white\",\"lakecolor\":\"white\",\"landcolor\":\"#E5ECF6\",\"showlakes\":true,\"showland\":true,\"subunitcolor\":\"white\"},\"hoverlabel\":{\"align\":\"left\"},\"hovermode\":\"closest\",\"mapbox\":{\"style\":\"light\"},\"paper_bgcolor\":\"white\",\"plot_bgcolor\":\"#E5ECF6\",\"polar\":{\"angularaxis\":{\"gridcolor\":\"white\",\"linecolor\":\"white\",\"ticks\":\"\"},\"bgcolor\":\"#E5ECF6\",\"radialaxis\":{\"gridcolor\":\"white\",\"linecolor\":\"white\",\"ticks\":\"\"}},\"scene\":{\"xaxis\":{\"backgroundcolor\":\"#E5ECF6\",\"gridcolor\":\"white\",\"gridwidth\":2,\"linecolor\":\"white\",\"showbackground\":true,\"ticks\":\"\",\"zerolinecolor\":\"white\"},\"yaxis\":{\"backgroundcolor\":\"#E5ECF6\",\"gridcolor\":\"white\",\"gridwidth\":2,\"linecolor\":\"white\",\"showbackground\":true,\"ticks\":\"\",\"zerolinecolor\":\"white\"},\"zaxis\":{\"backgroundcolor\":\"#E5ECF6\",\"gridcolor\":\"white\",\"gridwidth\":2,\"linecolor\":\"white\",\"showbackground\":true,\"ticks\":\"\",\"zerolinecolor\":\"white\"}},\"shapedefaults\":{\"line\":{\"color\":\"#2a3f5f\"}},\"ternary\":{\"aaxis\":{\"gridcolor\":\"white\",\"linecolor\":\"white\",\"ticks\":\"\"},\"baxis\":{\"gridcolor\":\"white\",\"linecolor\":\"white\",\"ticks\":\"\"},\"bgcolor\":\"#E5ECF6\",\"caxis\":{\"gridcolor\":\"white\",\"linecolor\":\"white\",\"ticks\":\"\"}},\"title\":{\"x\":0.05},\"xaxis\":{\"automargin\":true,\"gridcolor\":\"white\",\"linecolor\":\"white\",\"ticks\":\"\",\"title\":{\"standoff\":15},\"zerolinecolor\":\"white\",\"zerolinewidth\":2},\"yaxis\":{\"automargin\":true,\"gridcolor\":\"white\",\"linecolor\":\"white\",\"ticks\":\"\",\"title\":{\"standoff\":15},\"zerolinecolor\":\"white\",\"zerolinewidth\":2}}},\"xaxis\":{\"anchor\":\"y\",\"domain\":[0.0,0.065],\"title\":{\"text\":\"ups\"}},\"yaxis\":{\"anchor\":\"x\",\"domain\":[0.0,0.46499999999999997],\"title\":{\"text\":\"count\"}},\"xaxis2\":{\"anchor\":\"y2\",\"domain\":[0.085,0.15000000000000002],\"title\":{\"text\":\"ups\"}},\"yaxis2\":{\"anchor\":\"x2\",\"domain\":[0.0,0.46499999999999997],\"matches\":\"y\",\"showticklabels\":false},\"xaxis3\":{\"anchor\":\"y3\",\"domain\":[0.17,0.23500000000000001],\"title\":{\"text\":\"ups\"}},\"yaxis3\":{\"anchor\":\"x3\",\"domain\":[0.0,0.46499999999999997],\"matches\":\"y\",\"showticklabels\":false},\"xaxis4\":{\"anchor\":\"y4\",\"domain\":[0.255,0.32],\"title\":{\"text\":\"ups\"}},\"yaxis4\":{\"anchor\":\"x4\",\"domain\":[0.0,0.46499999999999997],\"matches\":\"y\",\"showticklabels\":false},\"xaxis5\":{\"anchor\":\"y5\",\"domain\":[0.34,0.405],\"title\":{\"text\":\"ups\"}},\"yaxis5\":{\"anchor\":\"x5\",\"domain\":[0.0,0.46499999999999997],\"matches\":\"y\",\"showticklabels\":false},\"xaxis6\":{\"anchor\":\"y6\",\"domain\":[0.42500000000000004,0.49000000000000005],\"title\":{\"text\":\"ups\"}},\"yaxis6\":{\"anchor\":\"x6\",\"domain\":[0.0,0.46499999999999997],\"matches\":\"y\",\"showticklabels\":false},\"xaxis7\":{\"anchor\":\"y7\",\"domain\":[0.51,0.575],\"title\":{\"text\":\"ups\"}},\"yaxis7\":{\"anchor\":\"x7\",\"domain\":[0.0,0.46499999999999997],\"matches\":\"y\",\"showticklabels\":false},\"xaxis8\":{\"anchor\":\"y8\",\"domain\":[0.595,0.6599999999999999],\"title\":{\"text\":\"ups\"}},\"yaxis8\":{\"anchor\":\"x8\",\"domain\":[0.0,0.46499999999999997],\"matches\":\"y\",\"showticklabels\":false},\"xaxis9\":{\"anchor\":\"y9\",\"domain\":[0.68,0.7450000000000001],\"title\":{\"text\":\"ups\"}},\"yaxis9\":{\"anchor\":\"x9\",\"domain\":[0.0,0.46499999999999997],\"matches\":\"y\",\"showticklabels\":false},\"xaxis10\":{\"anchor\":\"y10\",\"domain\":[0.7649999999999999,0.8299999999999998],\"title\":{\"text\":\"ups\"}},\"yaxis10\":{\"anchor\":\"x10\",\"domain\":[0.0,0.46499999999999997],\"matches\":\"y\",\"showticklabels\":false},\"xaxis11\":{\"anchor\":\"y11\",\"domain\":[0.8499999999999999,0.9149999999999998],\"title\":{\"text\":\"ups\"}},\"yaxis11\":{\"anchor\":\"x11\",\"domain\":[0.0,0.46499999999999997],\"matches\":\"y\",\"showticklabels\":false},\"xaxis12\":{\"anchor\":\"y12\",\"domain\":[0.9349999999999998,0.9999999999999998],\"title\":{\"text\":\"ups\"}},\"yaxis12\":{\"anchor\":\"x12\",\"domain\":[0.0,0.46499999999999997],\"matches\":\"y\",\"showticklabels\":false},\"xaxis13\":{\"anchor\":\"y13\",\"domain\":[0.0,0.065],\"showticklabels\":false},\"yaxis13\":{\"anchor\":\"x13\",\"domain\":[0.5349999999999999,0.9999999999999999],\"matches\":\"y\",\"title\":{\"text\":\"count\"}},\"xaxis14\":{\"anchor\":\"y14\",\"domain\":[0.085,0.15000000000000002],\"showticklabels\":false},\"yaxis14\":{\"anchor\":\"x14\",\"domain\":[0.5349999999999999,0.9999999999999999],\"matches\":\"y\",\"showticklabels\":false},\"xaxis15\":{\"anchor\":\"y15\",\"domain\":[0.17,0.23500000000000001],\"showticklabels\":false},\"yaxis15\":{\"anchor\":\"x15\",\"domain\":[0.5349999999999999,0.9999999999999999],\"matches\":\"y\",\"showticklabels\":false},\"xaxis16\":{\"anchor\":\"y16\",\"domain\":[0.255,0.32],\"showticklabels\":false},\"yaxis16\":{\"anchor\":\"x16\",\"domain\":[0.5349999999999999,0.9999999999999999],\"matches\":\"y\",\"showticklabels\":false},\"xaxis17\":{\"anchor\":\"y17\",\"domain\":[0.34,0.405],\"showticklabels\":false},\"yaxis17\":{\"anchor\":\"x17\",\"domain\":[0.5349999999999999,0.9999999999999999],\"matches\":\"y\",\"showticklabels\":false},\"xaxis18\":{\"anchor\":\"y18\",\"domain\":[0.42500000000000004,0.49000000000000005],\"showticklabels\":false},\"yaxis18\":{\"anchor\":\"x18\",\"domain\":[0.5349999999999999,0.9999999999999999],\"matches\":\"y\",\"showticklabels\":false},\"xaxis19\":{\"anchor\":\"y19\",\"domain\":[0.51,0.575],\"showticklabels\":false},\"yaxis19\":{\"anchor\":\"x19\",\"domain\":[0.5349999999999999,0.9999999999999999],\"matches\":\"y\",\"showticklabels\":false},\"xaxis20\":{\"anchor\":\"y20\",\"domain\":[0.595,0.6599999999999999],\"showticklabels\":false},\"yaxis20\":{\"anchor\":\"x20\",\"domain\":[0.5349999999999999,0.9999999999999999],\"matches\":\"y\",\"showticklabels\":false},\"xaxis21\":{\"anchor\":\"y21\",\"domain\":[0.68,0.7450000000000001],\"showticklabels\":false},\"yaxis21\":{\"anchor\":\"x21\",\"domain\":[0.5349999999999999,0.9999999999999999],\"matches\":\"y\",\"showticklabels\":false},\"xaxis22\":{\"anchor\":\"y22\",\"domain\":[0.7649999999999999,0.8299999999999998],\"showticklabels\":false},\"yaxis22\":{\"anchor\":\"x22\",\"domain\":[0.5349999999999999,0.9999999999999999],\"matches\":\"y\",\"showticklabels\":false},\"xaxis23\":{\"anchor\":\"y23\",\"domain\":[0.8499999999999999,0.9149999999999998],\"showticklabels\":false},\"yaxis23\":{\"anchor\":\"x23\",\"domain\":[0.5349999999999999,0.9999999999999999],\"matches\":\"y\",\"showticklabels\":false},\"xaxis24\":{\"anchor\":\"y24\",\"domain\":[0.9349999999999998,0.9999999999999998],\"showticklabels\":false},\"yaxis24\":{\"anchor\":\"x24\",\"domain\":[0.5349999999999999,0.9999999999999999],\"matches\":\"y\",\"showticklabels\":false},\"annotations\":[{\"font\":{},\"showarrow\":false,\"text\":\"r/gadgets\",\"x\":0.0325,\"xanchor\":\"center\",\"xref\":\"paper\",\"y\":0.46499999999999997,\"yanchor\":\"bottom\",\"yref\":\"paper\"},{\"font\":{},\"showarrow\":false,\"text\":\"r/aww\",\"x\":0.11750000000000002,\"xanchor\":\"center\",\"xref\":\"paper\",\"y\":0.46499999999999997,\"yanchor\":\"bottom\",\"yref\":\"paper\"},{\"font\":{},\"showarrow\":false,\"text\":\"r/mildlyinteresting\",\"x\":0.2025,\"xanchor\":\"center\",\"xref\":\"paper\",\"y\":0.46499999999999997,\"yanchor\":\"bottom\",\"yref\":\"paper\"},{\"font\":{},\"showarrow\":false,\"text\":\"r/memes\",\"x\":0.2875,\"xanchor\":\"center\",\"xref\":\"paper\",\"y\":0.46499999999999997,\"yanchor\":\"bottom\",\"yref\":\"paper\"},{\"font\":{},\"showarrow\":false,\"text\":\"r/technology\",\"x\":0.37250000000000005,\"xanchor\":\"center\",\"xref\":\"paper\",\"y\":0.46499999999999997,\"yanchor\":\"bottom\",\"yref\":\"paper\"},{\"font\":{},\"showarrow\":false,\"text\":\"r/travel\",\"x\":0.4575,\"xanchor\":\"center\",\"xref\":\"paper\",\"y\":0.46499999999999997,\"yanchor\":\"bottom\",\"yref\":\"paper\"},{\"font\":{},\"showarrow\":false,\"text\":\"r/books\",\"x\":0.5425,\"xanchor\":\"center\",\"xref\":\"paper\",\"y\":0.46499999999999997,\"yanchor\":\"bottom\",\"yref\":\"paper\"},{\"font\":{},\"showarrow\":false,\"text\":\"r/gaming\",\"x\":0.6275,\"xanchor\":\"center\",\"xref\":\"paper\",\"y\":0.46499999999999997,\"yanchor\":\"bottom\",\"yref\":\"paper\"},{\"font\":{},\"showarrow\":false,\"text\":\"r/cats\",\"x\":0.7125000000000001,\"xanchor\":\"center\",\"xref\":\"paper\",\"y\":0.46499999999999997,\"yanchor\":\"bottom\",\"yref\":\"paper\"},{\"font\":{},\"showarrow\":false,\"text\":\"r/conspiracy\",\"x\":0.7974999999999999,\"xanchor\":\"center\",\"xref\":\"paper\",\"y\":0.46499999999999997,\"yanchor\":\"bottom\",\"yref\":\"paper\"},{\"font\":{},\"showarrow\":false,\"text\":\"r/PoliticalHumor\",\"x\":0.8824999999999998,\"xanchor\":\"center\",\"xref\":\"paper\",\"y\":0.46499999999999997,\"yanchor\":\"bottom\",\"yref\":\"paper\"},{\"font\":{},\"showarrow\":false,\"text\":\"r/hockey\",\"x\":0.9674999999999998,\"xanchor\":\"center\",\"xref\":\"paper\",\"y\":0.46499999999999997,\"yanchor\":\"bottom\",\"yref\":\"paper\"},{\"font\":{},\"showarrow\":false,\"text\":\"r/Jokes\",\"x\":0.0325,\"xanchor\":\"center\",\"xref\":\"paper\",\"y\":0.9999999999999999,\"yanchor\":\"bottom\",\"yref\":\"paper\"},{\"font\":{},\"showarrow\":false,\"text\":\"r/news\",\"x\":0.11750000000000002,\"xanchor\":\"center\",\"xref\":\"paper\",\"y\":0.9999999999999999,\"yanchor\":\"bottom\",\"yref\":\"paper\"},{\"font\":{},\"showarrow\":false,\"text\":\"r/science\",\"x\":0.2025,\"xanchor\":\"center\",\"xref\":\"paper\",\"y\":0.9999999999999999,\"yanchor\":\"bottom\",\"yref\":\"paper\"},{\"font\":{},\"showarrow\":false,\"text\":\"r/WritingPrompts\",\"x\":0.2875,\"xanchor\":\"center\",\"xref\":\"paper\",\"y\":0.9999999999999999,\"yanchor\":\"bottom\",\"yref\":\"paper\"},{\"font\":{},\"showarrow\":false,\"text\":\"r/Showerthoughts\",\"x\":0.37250000000000005,\"xanchor\":\"center\",\"xref\":\"paper\",\"y\":0.9999999999999999,\"yanchor\":\"bottom\",\"yref\":\"paper\"},{\"font\":{},\"showarrow\":false,\"text\":\"r/worldnews\",\"x\":0.4575,\"xanchor\":\"center\",\"xref\":\"paper\",\"y\":0.9999999999999999,\"yanchor\":\"bottom\",\"yref\":\"paper\"},{\"font\":{},\"showarrow\":false,\"text\":\"r/todayilearned\",\"x\":0.5425,\"xanchor\":\"center\",\"xref\":\"paper\",\"y\":0.9999999999999999,\"yanchor\":\"bottom\",\"yref\":\"paper\"},{\"font\":{},\"showarrow\":false,\"text\":\"r/learnprogramming\",\"x\":0.6275,\"xanchor\":\"center\",\"xref\":\"paper\",\"y\":0.9999999999999999,\"yanchor\":\"bottom\",\"yref\":\"paper\"},{\"font\":{},\"showarrow\":false,\"text\":\"r/announcements\",\"x\":0.7125000000000001,\"xanchor\":\"center\",\"xref\":\"paper\",\"y\":0.9999999999999999,\"yanchor\":\"bottom\",\"yref\":\"paper\"},{\"font\":{},\"showarrow\":false,\"text\":\"r/funny\",\"x\":0.7974999999999999,\"xanchor\":\"center\",\"xref\":\"paper\",\"y\":0.9999999999999999,\"yanchor\":\"bottom\",\"yref\":\"paper\"},{\"font\":{},\"showarrow\":false,\"text\":\"r/food\",\"x\":0.8824999999999998,\"xanchor\":\"center\",\"xref\":\"paper\",\"y\":0.9999999999999999,\"yanchor\":\"bottom\",\"yref\":\"paper\"},{\"font\":{},\"showarrow\":false,\"text\":\"r/sports\",\"x\":0.9674999999999998,\"xanchor\":\"center\",\"xref\":\"paper\",\"y\":0.9999999999999999,\"yanchor\":\"bottom\",\"yref\":\"paper\"}],\"legend\":{\"tracegroupgap\":0},\"title\":{\"text\":\"Histogram\"},\"barmode\":\"relative\",\"height\":800,\"width\":1400},                        {\"responsive\": true}                    ).then(function(){\n",
              "                            \n",
              "var gd = document.getElementById('67c72a94-da1c-4fdf-8bd0-50671316f141');\n",
              "var x = new MutationObserver(function (mutations, observer) {{\n",
              "        var display = window.getComputedStyle(gd).display;\n",
              "        if (!display || display === 'none') {{\n",
              "            console.log([gd, 'removed!']);\n",
              "            Plotly.purge(gd);\n",
              "            observer.disconnect();\n",
              "        }}\n",
              "}});\n",
              "\n",
              "// Listen for the removal of the full notebook cells\n",
              "var notebookContainer = gd.closest('#notebook-container');\n",
              "if (notebookContainer) {{\n",
              "    x.observe(notebookContainer, {childList: true});\n",
              "}}\n",
              "\n",
              "// Listen for the clearing of the current output cell\n",
              "var outputEl = gd.closest('.output');\n",
              "if (outputEl) {{\n",
              "    x.observe(outputEl, {childList: true});\n",
              "}}\n",
              "\n",
              "                        })                };                            </script>        </div>\n",
              "</body>\n",
              "</html>"
            ]
          },
          "metadata": {}
        }
      ],
      "source": [
        "# Code for 2.2.1 here\n",
        "import plotly.express as px\n",
        "fig= px.histogram(part2_data[part2_data.subreddit_name_prefixed.isin([\"r/news\",\"r/worldnews\",\"r/science\",\"r/new\", \"r/technology\", 'r/worldnews', 'r/books', \n",
        "              'r/hockey', 'r/sports', 'r/gadgets', 'r/gaming', 'r/mildlyinteresting', 'r/travel', 'r/learnprogramming', 'r/conspiracy',\n",
        "              'r/announcements', 'r/memes', 'r/aww', 'r/WritingPrompts', 'r/funny', 'r/todayilearned', 'r/science', 'r/Showerthoughts',\n",
        "               'r/cats', 'r/food', 'r/PoliticalHumor', 'r/Jokes'])], \n",
        "              x=\"ups\", \n",
        "              facet_col='subreddit_name_prefixed', facet_col_wrap=12, nbins=20,\n",
        "             height=800,width=1400, title=\"Histogram\" )\n",
        "#fig.update_layout(bargap=0.2)\n",
        "fig.for_each_annotation(lambda a: a.update(text=a.text.split(\"=\")[-1]))\n",
        "\n",
        "fig.update_xaxes(matches=None)\n",
        "fig.show()"
      ]
    },
    {
      "cell_type": "markdown",
      "metadata": {
        "id": "MmzXk5kpyIz7"
      },
      "source": [
        "### Ploting and using the empirical CDF\n",
        "\n",
        "The *[empirical cumulative distribution function (eCDF)](https://en.wikipedia.org/wiki/Empirical_distribution_function)* is an empirical estimator for the CDF of a random variable. Below we have plotted for you (using ```plotly```) the eCDFs of the distribution of upvotes for three different subreddits. Using the plots below, answer the following questions:\n",
        "\n",
        "**Note, you can use your mouse to scroll over the information in the plot, that will make answering these questions much easier!**\n",
        "\n",
        "- **2.2.3** - **Approximately (within 1-2 percentage points)** what percent of top posts for each of the three subreddits plotted below have less than 100,000 upvotes? (Give answers for each subreddit)\n",
        "- **2.2.4** - **Approximately (within 1-2 percentage points)** what is the probability that a post on each of the three subreddits plotted below has more than 70,000 upvotes? (Give answers for each subreddit)"
      ]
    },
    {
      "cell_type": "code",
      "execution_count": 131,
      "metadata": {
        "id": "64yL5GrRyIz7",
        "colab": {
          "base_uri": "https://localhost:8080/",
          "height": 417
        },
        "outputId": "0c9ec4d5-8c63-4c9c-b725-5698a21ad4fd"
      },
      "outputs": [
        {
          "output_type": "display_data",
          "data": {
            "text/html": [
              "<html>\n",
              "<head><meta charset=\"utf-8\" /></head>\n",
              "<body>\n",
              "    <div>            <script src=\"https://cdnjs.cloudflare.com/ajax/libs/mathjax/2.7.5/MathJax.js?config=TeX-AMS-MML_SVG\"></script><script type=\"text/javascript\">if (window.MathJax) {MathJax.Hub.Config({SVG: {font: \"STIX-Web\"}});}</script>                <script type=\"text/javascript\">window.PlotlyConfig = {MathJaxConfig: 'local'};</script>\n",
              "        <script src=\"https://cdn.plot.ly/plotly-2.8.3.min.js\"></script>                <div id=\"47e35875-e757-4d94-b696-d267f64e0450\" class=\"plotly-graph-div\" style=\"height:400px; width:800px;\"></div>            <script type=\"text/javascript\">                                    window.PLOTLYENV=window.PLOTLYENV || {};                                    if (document.getElementById(\"47e35875-e757-4d94-b696-d267f64e0450\")) {                    Plotly.newPlot(                        \"47e35875-e757-4d94-b696-d267f64e0450\",                        [{\"hovertemplate\":\"subreddit_name_prefixed=r/news<br>ups=%{x}<br>probability=%{y}<extra></extra>\",\"legendgroup\":\"\",\"line\":{\"dash\":\"solid\",\"shape\":\"hv\"},\"marker\":{\"color\":\"#636efa\",\"symbol\":\"circle\"},\"mode\":\"lines\",\"name\":\"\",\"showlegend\":false,\"x\":[64000,64008,64011,64012,64038,64043,64058,64096,64124,64158,64192,64202,64203,64221,64253,64273,64308,64315,64319,64368,64426,64463,64464,64467,64481,64483,64556,64571,64658,64671,64705,64708,64719,64748,64754,64765,64794,64814,64836,64924,64924,64949,64961,64968,65051,65090,65132,65149,65170,65174,65199,65209,65221,65279,65297,65313,65354,65365,65376,65382,65392,65419,65445,65449,65450,65582,65599,65605,65630,65637,65639,65648,65664,65665,65681,65681,65686,65786,65789,65815,65837,65859,65910,65911,65915,65940,65991,65994,66019,66053,66070,66137,66197,66212,66241,66247,66252,66268,66283,66309,66313,66321,66325,66383,66407,66457,66460,66486,66489,66506,66506,66537,66544,66602,66661,66663,66678,66787,66799,66813,66829,66834,66870,66884,66963,66986,66993,67036,67046,67052,67067,67114,67118,67128,67134,67182,67225,67230,67247,67267,67269,67349,67457,67489,67508,67512,67552,67602,67607,67619,67626,67634,67657,67672,67719,67749,67760,67761,67793,67803,67824,67824,67829,67858,67861,67877,67881,67892,67963,67964,67966,67973,67976,67978,67983,67988,67994,68021,68092,68109,68125,68137,68141,68145,68174,68177,68195,68233,68245,68251,68266,68273,68274,68294,68309,68356,68364,68391,68398,68418,68419,68424,68429,68442,68446,68494,68500,68520,68604,68608,68620,68655,68689,68841,68845,68905,68942,68946,68955,68965,68991,69008,69063,69068,69095,69122,69169,69189,69191,69195,69226,69233,69288,69301,69315,69315,69327,69342,69372,69381,69408,69410,69418,69430,69437,69439,69497,69523,69546,69562,69580,69593,69609,69617,69637,69669,69689,69730,69745,69804,69840,69853,69855,69873,69894,70008,70015,70024,70028,70043,70045,70062,70064,70102,70134,70148,70156,70162,70176,70271,70279,70328,70388,70421,70488,70550,70558,70632,70640,70651,70729,70772,70780,70815,70819,70922,70923,70957,70957,70968,70979,70993,71030,71071,71143,71148,71159,71223,71262,71324,71330,71337,71362,71374,71391,71431,71454,71537,71538,71563,71604,71608,71635,71657,71687,71691,71749,71798,71812,71819,71826,71874,71880,72071,72071,72080,72083,72094,72124,72125,72139,72143,72197,72201,72242,72296,72379,72417,72428,72432,72445,72500,72515,72554,72575,72575,72593,72601,72604,72614,72614,72615,72622,72622,72624,72629,72672,72684,72733,72737,72770,72772,72788,72792,72801,72805,72841,72918,72995,72997,73047,73077,73090,73102,73143,73180,73372,73395,73406,73446,73451,73491,73562,73581,73593,73594,73611,73632,73712,73714,73744,73772,73807,73868,73966,73973,73989,74020,74037,74039,74044,74049,74114,74121,74147,74155,74162,74201,74241,74266,74354,74394,74440,74448,74459,74515,74543,74615,74616,74720,74724,74748,74770,74782,74849,74854,74898,74965,74965,74968,75061,75088,75136,75180,75183,75187,75190,75191,75319,75414,75440,75457,75484,75487,75514,75559,75635,75669,75759,75785,75809,75853,75855,75890,75910,76051,76190,76205,76369,76404,76412,76506,76554,76616,76646,76666,76697,76713,76738,76775,76779,76788,76823,76829,76904,76904,76956,77048,77111,77186,77205,77231,77256,77275,77322,77406,77412,77423,77434,77436,77457,77463,77509,77529,77554,77595,77606,77647,77699,77721,77738,77864,77899,77933,77951,77954,77968,77975,77975,77992,78022,78032,78213,78236,78279,78324,78349,78398,78441,78503,78525,78564,78603,78637,78659,78703,78724,78741,78829,78961,78992,79023,79026,79050,79066,79083,79117,79165,79310,79331,79363,79410,79413,79437,79480,79596,79646,79650,79752,79783,79823,79828,79955,80005,80135,80185,80194,80217,80231,80369,80395,80405,80418,80543,80574,80607,80620,80635,80730,80813,80819,80837,80876,80895,80945,80964,80985,81004,81007,81014,81088,81148,81252,81265,81309,81340,81387,81402,81411,81476,81481,81500,81555,81561,81607,81633,81677,81705,81719,81729,81817,81841,81893,81933,82071,82076,82121,82135,82160,82235,82302,82326,82457,82483,82526,82552,82633,82672,82677,82687,82709,82717,82725,82741,82835,82840,82859,82945,83058,83092,83255,83286,83312,83323,83365,83381,83420,83608,83685,83710,83811,83853,83862,83869,83912,84031,84106,84185,84270,84288,84372,84474,84485,84504,84511,84527,84640,84851,84879,84891,85071,85102,85218,85253,85293,85309,85317,85367,85400,85413,85438,85624,85812,85848,85910,86160,86169,86171,86299,86388,86483,86499,86590,86643,86733,86740,86788,86850,86908,86979,87020,87038,87148,87176,87180,87286,87372,87495,87521,87541,87686,87697,87729,87779,87886,87912,87923,87941,88177,88194,88302,88509,88595,88636,88664,88857,88955,89021,89098,89212,89374,89604,89614,89695,89833,89840,89862,90085,90334,90429,90459,90492,90660,90666,90808,90811,90839,90887,90942,90987,90999,91011,91103,91147,91168,91380,91465,91479,91481,91482,91541,91610,91689,91780,91835,91975,92108,92182,92214,92230,92266,92438,92535,92736,92915,92919,93000,93263,93432,93584,93655,93727,93752,93784,93957,94037,94159,94174,94264,94384,94398,94489,94490,94706,94732,94770,94948,94963,95012,95277,95282,95448,95564,95572,95660,95763,95946,96010,96141,96467,96618,96893,97025,97056,97100,97106,97448,97505,97604,97811,97957,98000,98156,98167,98170,98336,99003,99009,99083,99096,99272,99278,99285,99620,99674,99835,100089,100252,100270,100906,101009,101142,101392,101540,101594,101674,101805,101852,102159,102160,102357,102631,102971,103058,103113,103242,103383,103920,104196,104225,104822,104939,104986,105236,105783,105871,106108,106547,106853,107248,107306,107570,107603,107663,107672,107847,107913,108120,108188,108221,108285,108365,108715,108716,109036,109191,109371,109637,109888,110064,110420,110658,111597,111610,111812,111997,112004,112056,112075,112341,112920,113319,114228,114258,114570,114806,114820,114959,115107,115227,115735,116269,116512,116526,116623,116773,116874,117452,117467,117869,118442,118493,118559,119144,119222,119447,119476,119480,119849,119852,119971,120210,120279,120499,121229,121530,121851,121996,122058,123002,123163,123737,123962,124448,124885,126710,127179,128386,128936,129151,129845,131234,131435,133380,133969,135921,136600,137800,137989,140277,140604,141051,141339,143111,144175,146888,147344,149748,149912,149933,152238,154083,154266,154796,155780,157567,161566,161758,165201,170196,171080,171106,175651,176883,177997,186247,188173,200822,213679,222636,226325,233323,250271,365116],\"xaxis\":\"x\",\"y\":[0.001006036217303823,0.002012072434607646,0.0030181086519114686,0.004024144869215292,0.005030181086519115,0.006036217303822937,0.007042253521126761,0.008048289738430584,0.009054325955734407,0.01006036217303823,0.011066398390342052,0.012072434607645875,0.013078470824949699,0.014084507042253521,0.015090543259557344,0.01609657947686117,0.01710261569416499,0.018108651911468814,0.019114688128772636,0.02012072434607646,0.02112676056338028,0.022132796780684104,0.023138832997987926,0.02414486921529175,0.025150905432595575,0.026156941649899398,0.02716297786720322,0.028169014084507043,0.029175050301810865,0.030181086519114688,0.03118712273641851,0.03219315895372234,0.03319919517102616,0.03420523138832998,0.035211267605633804,0.03621730382293763,0.03722334004024145,0.03822937625754527,0.039235412474849095,0.04024144869215292,0.04124748490945674,0.04225352112676056,0.043259557344064385,0.04426559356136821,0.04527162977867203,0.04627766599597585,0.047283702213279676,0.0482897384305835,0.04929577464788732,0.05030181086519115,0.05130784708249497,0.052313883299798795,0.05331991951710262,0.05432595573440644,0.05533199195171026,0.056338028169014086,0.05734406438631791,0.05835010060362173,0.059356136820925554,0.060362173038229376,0.0613682092555332,0.06237424547283702,0.06338028169014084,0.06438631790744467,0.06539235412474849,0.06639839034205232,0.06740442655935613,0.06841046277665996,0.06941649899396378,0.07042253521126761,0.07142857142857142,0.07243460764587525,0.07344064386317907,0.0744466800804829,0.07545271629778671,0.07645875251509054,0.07746478873239436,0.07847082494969819,0.079476861167002,0.08048289738430583,0.08148893360160966,0.08249496981891348,0.08350100603621731,0.08450704225352113,0.08551307847082495,0.08651911468812877,0.0875251509054326,0.08853118712273642,0.08953722334004025,0.09054325955734406,0.09154929577464789,0.0925553319919517,0.09356136820925554,0.09456740442655935,0.09557344064386318,0.096579476861167,0.09758551307847083,0.09859154929577464,0.09959758551307847,0.1006036217303823,0.10160965794768612,0.10261569416498995,0.10362173038229376,0.10462776659959759,0.1056338028169014,0.10663983903420524,0.10764587525150905,0.10865191146881288,0.1096579476861167,0.11066398390342053,0.11167002012072434,0.11267605633802817,0.11368209255533199,0.11468812877263582,0.11569416498993963,0.11670020120724346,0.11770623742454728,0.11871227364185111,0.11971830985915492,0.12072434607645875,0.12173038229376258,0.1227364185110664,0.12374245472837023,0.12474849094567404,0.12575452716297786,0.1267605633802817,0.12776659959758552,0.12877263581488935,0.12977867203219315,0.13078470824949698,0.1317907444668008,0.13279678068410464,0.13380281690140844,0.13480885311871227,0.1358148893360161,0.13682092555331993,0.13782696177062373,0.13883299798792756,0.1398390342052314,0.14084507042253522,0.14185110663983905,0.14285714285714285,0.14386317907444668,0.1448692152917505,0.14587525150905434,0.14688128772635814,0.14788732394366197,0.1488933601609658,0.14989939637826963,0.15090543259557343,0.15191146881287726,0.1529175050301811,0.15392354124748492,0.15492957746478872,0.15593561368209255,0.15694164989939638,0.1579476861167002,0.158953722334004,0.15995975855130784,0.16096579476861167,0.1619718309859155,0.16297786720321933,0.16398390342052313,0.16498993963782696,0.1659959758551308,0.16700201207243462,0.16800804828973842,0.16901408450704225,0.17002012072434608,0.1710261569416499,0.1720321931589537,0.17303822937625754,0.17404426559356137,0.1750503018108652,0.176056338028169,0.17706237424547283,0.17806841046277666,0.1790744466800805,0.18008048289738432,0.18108651911468812,0.18209255533199195,0.18309859154929578,0.1841046277665996,0.1851106639839034,0.18611670020120724,0.18712273641851107,0.1881287726358149,0.1891348088531187,0.19014084507042253,0.19114688128772636,0.1921529175050302,0.193158953722334,0.19416498993963782,0.19517102615694165,0.19617706237424548,0.19718309859154928,0.1981891348088531,0.19919517102615694,0.20020120724346077,0.2012072434607646,0.2022132796780684,0.20321931589537223,0.20422535211267606,0.2052313883299799,0.2062374245472837,0.20724346076458752,0.20824949698189135,0.20925553319919518,0.21026156941649898,0.2112676056338028,0.21227364185110664,0.21327967806841047,0.21428571428571427,0.2152917505030181,0.21629778672032193,0.21730382293762576,0.21830985915492956,0.2193158953722334,0.22032193158953722,0.22132796780684105,0.22233400402414488,0.22334004024144868,0.2243460764587525,0.22535211267605634,0.22635814889336017,0.22736418511066397,0.2283702213279678,0.22937625754527163,0.23038229376257546,0.23138832997987926,0.2323943661971831,0.23340040241448692,0.23440643863179075,0.23541247484909456,0.23641851106639838,0.23742454728370221,0.23843058350100604,0.23943661971830985,0.24044265593561368,0.2414486921529175,0.24245472837022133,0.24346076458752516,0.24446680080482897,0.2454728370221328,0.24647887323943662,0.24748490945674045,0.24849094567404426,0.24949698189134809,0.2505030181086519,0.2515090543259557,0.25251509054325955,0.2535211267605634,0.2545271629778672,0.25553319919517103,0.25653923541247486,0.2575452716297787,0.25855130784708247,0.2595573440643863,0.2605633802816901,0.26156941649899396,0.2625754527162978,0.2635814889336016,0.26458752515090544,0.2655935613682093,0.2665995975855131,0.2676056338028169,0.2686116700201207,0.26961770623742454,0.27062374245472837,0.2716297786720322,0.272635814889336,0.27364185110663986,0.2746478873239437,0.27565392354124746,0.2766599597585513,0.2776659959758551,0.27867203219315895,0.2796780684104628,0.2806841046277666,0.28169014084507044,0.28269617706237427,0.2837022132796781,0.28470824949698187,0.2857142857142857,0.28672032193158953,0.28772635814889336,0.2887323943661972,0.289738430583501,0.29074446680080485,0.2917505030181087,0.29275653923541245,0.2937625754527163,0.2947686116700201,0.29577464788732394,0.29678068410462777,0.2977867203219316,0.2987927565392354,0.29979879275653926,0.3008048289738431,0.30181086519114686,0.3028169014084507,0.3038229376257545,0.30482897384305835,0.3058350100603622,0.306841046277666,0.30784708249496984,0.30885311871227367,0.30985915492957744,0.31086519114688127,0.3118712273641851,0.31287726358148893,0.31388329979879276,0.3148893360160966,0.3158953722334004,0.31690140845070425,0.317907444668008,0.31891348088531185,0.3199195171026157,0.3209255533199195,0.32193158953722334,0.32293762575452717,0.323943661971831,0.32494969818913483,0.32595573440643866,0.32696177062374243,0.32796780684104626,0.3289738430583501,0.3299798792756539,0.33098591549295775,0.3319919517102616,0.3329979879275654,0.33400402414486924,0.335010060362173,0.33601609657947684,0.33702213279678067,0.3380281690140845,0.33903420523138833,0.34004024144869216,0.341046277665996,0.3420523138832998,0.34305835010060365,0.3440643863179074,0.34507042253521125,0.3460764587525151,0.3470824949698189,0.34808853118712274,0.34909456740442657,0.3501006036217304,0.35110663983903423,0.352112676056338,0.35311871227364183,0.35412474849094566,0.3551307847082495,0.3561368209255533,0.35714285714285715,0.358148893360161,0.3591549295774648,0.36016096579476864,0.3611670020120724,0.36217303822937624,0.3631790744466801,0.3641851106639839,0.36519114688128773,0.36619718309859156,0.3672032193158954,0.3682092555331992,0.369215291750503,0.3702213279678068,0.37122736418511065,0.3722334004024145,0.3732394366197183,0.37424547283702214,0.37525150905432597,0.3762575452716298,0.3772635814889336,0.3782696177062374,0.37927565392354123,0.38028169014084506,0.3812877263581489,0.3822937625754527,0.38329979879275655,0.3843058350100604,0.3853118712273642,0.386317907444668,0.3873239436619718,0.38832997987927564,0.3893360160965795,0.3903420523138833,0.39134808853118713,0.39235412474849096,0.3933601609657948,0.39436619718309857,0.3953722334004024,0.3963782696177062,0.39738430583501005,0.3983903420523139,0.3993963782696177,0.40040241448692154,0.4014084507042254,0.4024144869215292,0.403420523138833,0.4044265593561368,0.40543259557344064,0.40643863179074446,0.4074446680080483,0.4084507042253521,0.40945674044265595,0.4104627766599598,0.41146881287726356,0.4124748490945674,0.4134808853118712,0.41448692152917505,0.4154929577464789,0.4164989939637827,0.41750503018108653,0.41851106639839036,0.41951710261569414,0.42052313883299797,0.4215291750503018,0.4225352112676056,0.42354124748490946,0.4245472837022133,0.4255533199195171,0.42655935613682094,0.4275653923541248,0.42857142857142855,0.4295774647887324,0.4305835010060362,0.43158953722334004,0.43259557344064387,0.4336016096579477,0.4346076458752515,0.43561368209255535,0.43661971830985913,0.43762575452716296,0.4386317907444668,0.4396378269617706,0.44064386317907445,0.4416498993963783,0.4426559356136821,0.44366197183098594,0.44466800804828976,0.44567404426559354,0.44668008048289737,0.4476861167002012,0.448692152917505,0.44969818913480886,0.4507042253521127,0.4517102615694165,0.45271629778672035,0.4537223340040241,0.45472837022132795,0.4557344064386318,0.4567404426559356,0.45774647887323944,0.45875251509054327,0.4597585513078471,0.4607645875251509,0.46177062374245476,0.46277665995975853,0.46378269617706236,0.4647887323943662,0.46579476861167,0.46680080482897385,0.4678068410462777,0.4688128772635815,0.46981891348088534,0.4708249496981891,0.47183098591549294,0.47283702213279677,0.4738430583501006,0.47484909456740443,0.47585513078470826,0.4768611670020121,0.4778672032193159,0.4788732394366197,0.4798792756539235,0.48088531187122735,0.4818913480885312,0.482897384305835,0.48390342052313884,0.48490945674044267,0.4859154929577465,0.4869215291750503,0.4879275653923541,0.48893360160965793,0.48993963782696176,0.4909456740442656,0.4919517102615694,0.49295774647887325,0.4939637826961771,0.4949698189134809,0.4959758551307847,0.4969818913480885,0.49798792756539234,0.49899396378269617,0.5,0.5010060362173038,0.5020120724346077,0.5030181086519114,0.5040241448692153,0.5050301810865191,0.506036217303823,0.5070422535211268,0.5080482897384306,0.5090543259557344,0.5100603621730382,0.5110663983903421,0.5120724346076458,0.5130784708249497,0.5140845070422535,0.5150905432595574,0.5160965794768612,0.5171026156941649,0.5181086519114688,0.5191146881287726,0.5201207243460765,0.5211267605633803,0.5221327967806841,0.5231388329979879,0.5241448692152918,0.5251509054325956,0.5261569416498993,0.5271629778672032,0.528169014084507,0.5291750503018109,0.5301810865191147,0.5311871227364185,0.5321931589537223,0.5331991951710262,0.53420523138833,0.5352112676056338,0.5362173038229376,0.5372233400402414,0.5382293762575453,0.5392354124748491,0.540241448692153,0.5412474849094567,0.5422535211267606,0.5432595573440644,0.5442655935613682,0.545271629778672,0.5462776659959758,0.5472837022132797,0.5482897384305835,0.5492957746478874,0.5503018108651911,0.5513078470824949,0.5523138832997988,0.5533199195171026,0.5543259557344065,0.5553319919517102,0.5563380281690141,0.5573440643863179,0.5583501006036218,0.5593561368209256,0.5603621730382293,0.5613682092555332,0.562374245472837,0.5633802816901409,0.5643863179074446,0.5653923541247485,0.5663983903420523,0.5674044265593562,0.56841046277666,0.5694164989939637,0.5704225352112676,0.5714285714285714,0.5724346076458753,0.5734406438631791,0.5744466800804829,0.5754527162977867,0.5764587525150905,0.5774647887323944,0.5784708249496981,0.579476861167002,0.5804828973843058,0.5814889336016097,0.5824949698189135,0.5835010060362174,0.5845070422535211,0.5855130784708249,0.5865191146881288,0.5875251509054326,0.5885311871227364,0.5895372233400402,0.5905432595573441,0.5915492957746479,0.5925553319919518,0.5935613682092555,0.5945674044265593,0.5955734406438632,0.596579476861167,0.5975855130784709,0.5985915492957746,0.5995975855130785,0.6006036217303823,0.6016096579476862,0.60261569416499,0.6036217303822937,0.6046277665995976,0.6056338028169014,0.6066398390342053,0.607645875251509,0.6086519114688129,0.6096579476861167,0.6106639839034205,0.6116700201207244,0.6126760563380281,0.613682092555332,0.6146881287726358,0.6156941649899397,0.6167002012072434,0.6177062374245473,0.6187122736418511,0.6197183098591549,0.6207243460764588,0.6217303822937625,0.6227364185110664,0.6237424547283702,0.6247484909456741,0.6257545271629779,0.6267605633802817,0.6277665995975855,0.6287726358148893,0.6297786720321932,0.630784708249497,0.6317907444668008,0.6327967806841046,0.6338028169014085,0.6348088531187123,0.635814889336016,0.6368209255533199,0.6378269617706237,0.6388329979879276,0.6398390342052314,0.6408450704225352,0.641851106639839,0.6428571428571429,0.6438631790744467,0.6448692152917505,0.6458752515090543,0.6468812877263581,0.647887323943662,0.6488933601609658,0.6498993963782697,0.6509054325955734,0.6519114688128773,0.6529175050301811,0.6539235412474849,0.6549295774647887,0.6559356136820925,0.6569416498993964,0.6579476861167002,0.6589537223340041,0.6599597585513078,0.6609657947686117,0.6619718309859155,0.6629778672032193,0.6639839034205232,0.6649899396378269,0.6659959758551308,0.6670020120724346,0.6680080482897385,0.6690140845070423,0.670020120724346,0.6710261569416499,0.6720321931589537,0.6730382293762576,0.6740442655935613,0.6750503018108652,0.676056338028169,0.6770623742454729,0.6780684104627767,0.6790744466800804,0.6800804828973843,0.6810865191146881,0.682092555331992,0.6830985915492958,0.6841046277665996,0.6851106639839034,0.6861167002012073,0.6871227364185111,0.6881287726358148,0.6891348088531187,0.6901408450704225,0.6911468812877264,0.6921529175050302,0.693158953722334,0.6941649899396378,0.6951710261569416,0.6961770623742455,0.6971830985915493,0.6981891348088531,0.6991951710261569,0.7002012072434608,0.7012072434607646,0.7022132796780685,0.7032193158953722,0.704225352112676,0.7052313883299799,0.7062374245472837,0.7072434607645876,0.7082494969818913,0.7092555331991952,0.710261569416499,0.7112676056338029,0.7122736418511066,0.7132796780684104,0.7142857142857143,0.7152917505030181,0.716297786720322,0.7173038229376257,0.7183098591549296,0.7193158953722334,0.7203219315895373,0.721327967806841,0.7223340040241448,0.7233400402414487,0.7243460764587525,0.7253521126760564,0.7263581488933601,0.727364185110664,0.7283702213279678,0.7293762575452716,0.7303822937625755,0.7313883299798792,0.7323943661971831,0.7334004024144869,0.7344064386317908,0.7354124748490946,0.7364185110663984,0.7374245472837022,0.738430583501006,0.7394366197183099,0.7404426559356136,0.7414486921529175,0.7424547283702213,0.7434607645875252,0.744466800804829,0.7454728370221329,0.7464788732394366,0.7474849094567404,0.7484909456740443,0.7494969818913481,0.7505030181086519,0.7515090543259557,0.7525150905432596,0.7535211267605634,0.7545271629778671,0.755533199195171,0.7565392354124748,0.7575452716297787,0.7585513078470825,0.7595573440643864,0.7605633802816901,0.761569416498994,0.7625754527162978,0.7635814889336016,0.7645875251509054,0.7655935613682092,0.7665995975855131,0.7676056338028169,0.7686116700201208,0.7696177062374245,0.7706237424547284,0.7716297786720322,0.772635814889336,0.7736418511066399,0.7746478873239436,0.7756539235412475,0.7766599597585513,0.7776659959758552,0.778672032193159,0.7796780684104627,0.7806841046277666,0.7816901408450704,0.7826961770623743,0.783702213279678,0.7847082494969819,0.7857142857142857,0.7867203219315896,0.7877263581488934,0.7887323943661971,0.789738430583501,0.7907444668008048,0.7917505030181087,0.7927565392354124,0.7937625754527163,0.7947686116700201,0.795774647887324,0.7967806841046278,0.7977867203219315,0.7987927565392354,0.7997987927565392,0.8008048289738431,0.8018108651911469,0.8028169014084507,0.8038229376257545,0.8048289738430584,0.8058350100603622,0.806841046277666,0.8078470824949698,0.8088531187122736,0.8098591549295775,0.8108651911468813,0.8118712273641852,0.8128772635814889,0.8138832997987927,0.8148893360160966,0.8158953722334004,0.8169014084507042,0.817907444668008,0.8189134808853119,0.8199195171026157,0.8209255533199196,0.8219315895372233,0.8229376257545271,0.823943661971831,0.8249496981891348,0.8259557344064387,0.8269617706237424,0.8279678068410463,0.8289738430583501,0.829979879275654,0.8309859154929577,0.8319919517102615,0.8329979879275654,0.8340040241448692,0.8350100603621731,0.8360160965794768,0.8370221327967807,0.8380281690140845,0.8390342052313883,0.8400402414486922,0.8410462776659959,0.8420523138832998,0.8430583501006036,0.8440643863179075,0.8450704225352113,0.8460764587525151,0.8470824949698189,0.8480885311871227,0.8490945674044266,0.8501006036217303,0.8511066398390342,0.852112676056338,0.8531187122736419,0.8541247484909457,0.8551307847082495,0.8561368209255533,0.8571428571428571,0.858148893360161,0.8591549295774648,0.8601609657947686,0.8611670020120724,0.8621730382293763,0.8631790744466801,0.864185110663984,0.8651911468812877,0.8661971830985915,0.8672032193158954,0.8682092555331992,0.869215291750503,0.8702213279678068,0.8712273641851107,0.8722334004024145,0.8732394366197183,0.8742454728370221,0.8752515090543259,0.8762575452716298,0.8772635814889336,0.8782696177062375,0.8792756539235412,0.8802816901408451,0.8812877263581489,0.8822937625754527,0.8832997987927566,0.8843058350100603,0.8853118712273642,0.886317907444668,0.8873239436619719,0.8883299798792756,0.8893360160965795,0.8903420523138833,0.8913480885311871,0.892354124748491,0.8933601609657947,0.8943661971830986,0.8953722334004024,0.8963782696177063,0.89738430583501,0.8983903420523138,0.8993963782696177,0.9004024144869215,0.9014084507042254,0.9024144869215291,0.903420523138833,0.9044265593561368,0.9054325955734407,0.9064386317907445,0.9074446680080482,0.9084507042253521,0.9094567404426559,0.9104627766599598,0.9114688128772636,0.9124748490945674,0.9134808853118712,0.9144869215291751,0.9154929577464789,0.9164989939637826,0.9175050301810865,0.9185110663983903,0.9195171026156942,0.920523138832998,0.9215291750503019,0.9225352112676056,0.9235412474849095,0.9245472837022133,0.9255533199195171,0.9265593561368209,0.9275653923541247,0.9285714285714286,0.9295774647887324,0.9305835010060363,0.93158953722334,0.9325955734406438,0.9336016096579477,0.9346076458752515,0.9356136820925554,0.9366197183098591,0.937625754527163,0.9386317907444668,0.9396378269617707,0.9406438631790744,0.9416498993963782,0.9426559356136821,0.9436619718309859,0.9446680080482898,0.9456740442655935,0.9466800804828974,0.9476861167002012,0.9486921529175051,0.9496981891348089,0.9507042253521126,0.9517102615694165,0.9527162977867203,0.9537223340040242,0.954728370221328,0.9557344064386318,0.9567404426559356,0.9577464788732394,0.9587525150905433,0.959758551307847,0.9607645875251509,0.9617706237424547,0.9627766599597586,0.9637826961770624,0.9647887323943662,0.96579476861167,0.9668008048289738,0.9678068410462777,0.9688128772635815,0.9698189134808853,0.9708249496981891,0.971830985915493,0.9728370221327968,0.9738430583501007,0.9748490945674044,0.9758551307847082,0.9768611670020121,0.9778672032193159,0.9788732394366197,0.9798792756539235,0.9808853118712274,0.9818913480885312,0.9828973843058351,0.9839034205231388,0.9849094567404426,0.9859154929577465,0.9869215291750503,0.9879275653923542,0.9889336016096579,0.9899396378269618,0.9909456740442656,0.9919517102615694,0.9929577464788732,0.993963782696177,0.9949698189134809,0.9959758551307847,0.9969818913480886,0.9979879275653923,0.9989939637826962,1.0],\"yaxis\":\"y\",\"type\":\"scattergl\"},{\"hovertemplate\":\"subreddit_name_prefixed=r/science<br>ups=%{x}<br>probability=%{y}<extra></extra>\",\"legendgroup\":\"\",\"line\":{\"dash\":\"solid\",\"shape\":\"hv\"},\"marker\":{\"color\":\"#636efa\",\"symbol\":\"circle\"},\"mode\":\"lines\",\"name\":\"\",\"showlegend\":false,\"x\":[41945,41955,41988,42006,42013,42025,42027,42038,42058,42063,42068,42093,42094,42105,42111,42116,42119,42119,42123,42137,42149,42158,42184,42193,42232,42237,42238,42274,42314,42324,42325,42333,42334,42359,42362,42376,42407,42484,42495,42502,42506,42525,42528,42547,42549,42595,42604,42633,42645,42646,42652,42658,42661,42682,42696,42717,42748,42751,42757,42764,42822,42823,42826,42832,42841,42850,42869,42879,42909,42941,42948,42967,42979,42980,42993,42996,43008,43045,43072,43089,43098,43118,43120,43134,43144,43175,43175,43196,43196,43200,43206,43207,43222,43226,43241,43280,43282,43298,43322,43336,43369,43372,43388,43388,43401,43406,43418,43419,43431,43465,43472,43483,43499,43508,43534,43573,43580,43592,43606,43608,43616,43616,43646,43662,43668,43669,43678,43689,43744,43767,43768,43797,43811,43825,43838,43853,43878,43888,43902,43921,43922,43937,43958,43966,43966,43972,43988,43999,44040,44043,44122,44123,44181,44191,44200,44234,44234,44245,44253,44270,44277,44283,44425,44452,44457,44459,44473,44486,44506,44506,44513,44532,44571,44602,44669,44684,44733,44737,44738,44752,44757,44763,44786,44817,44827,44839,44842,44852,44949,44988,45012,45053,45057,45059,45069,45087,45104,45109,45127,45157,45188,45276,45284,45288,45292,45330,45359,45361,45370,45411,45414,45432,45439,45491,45494,45557,45586,45587,45614,45620,45647,45662,45663,45664,45677,45706,45713,45728,45739,45755,45756,45758,45791,45808,45857,45863,45864,45875,45894,45895,45907,45908,45933,45938,45952,45960,46040,46047,46051,46057,46062,46118,46130,46165,46166,46177,46181,46210,46253,46277,46303,46322,46352,46359,46364,46399,46447,46466,46504,46507,46528,46530,46547,46550,46552,46604,46630,46661,46679,46695,46740,46748,46765,46766,46769,46775,46800,46820,46862,46867,46878,46920,46968,46975,46997,47024,47029,47042,47043,47053,47053,47059,47085,47100,47111,47127,47148,47182,47223,47241,47250,47284,47321,47385,47401,47443,47452,47459,47532,47535,47540,47563,47588,47604,47608,47644,47689,47828,47866,47879,47906,47916,48004,48023,48031,48066,48081,48090,48145,48180,48201,48203,48245,48269,48272,48278,48311,48312,48314,48323,48349,48356,48370,48436,48436,48473,48486,48533,48534,48549,48564,48597,48601,48607,48629,48640,48656,48669,48699,48725,48801,48834,48875,48888,48888,48899,48902,48905,48910,48916,48949,48949,48981,48988,48998,49014,49019,49023,49046,49052,49067,49093,49106,49123,49148,49150,49154,49252,49261,49264,49280,49283,49294,49296,49335,49381,49485,49517,49524,49598,49599,49606,49633,49643,49676,49687,49694,49737,49776,49787,49825,49874,49887,49900,49917,49972,49979,49987,50014,50014,50062,50145,50151,50173,50275,50286,50324,50362,50392,50484,50514,50537,50538,50538,50617,50686,50693,50724,50729,50750,50759,50774,50779,50787,50793,50806,50851,50874,50886,50888,50895,50934,50940,50947,50958,50970,50979,50991,50997,51051,51066,51092,51129,51153,51182,51214,51220,51232,51235,51276,51333,51408,51442,51445,51473,51540,51550,51594,51597,51603,51616,51676,51754,51761,51780,51839,51839,51862,51937,51948,51959,51972,52014,52016,52059,52059,52073,52125,52198,52229,52269,52273,52274,52310,52351,52414,52494,52502,52534,52545,52548,52574,52578,52581,52606,52629,52656,52670,52772,52829,52847,52928,52942,52942,52959,52968,52973,52975,53021,53023,53027,53028,53046,53068,53089,53128,53145,53161,53219,53255,53256,53257,53276,53311,53326,53517,53557,53564,53565,53601,53625,53655,53672,53696,53701,53738,53810,53873,53875,53892,53921,53980,53998,54002,54008,54084,54142,54185,54198,54213,54279,54296,54316,54355,54359,54400,54409,54428,54433,54512,54528,54664,54683,54728,54730,54784,54869,54921,54950,55032,55058,55141,55200,55201,55315,55362,55378,55388,55406,55411,55414,55513,55521,55530,55576,55579,55615,55655,55658,55715,55715,55748,55765,55796,55872,55903,55990,55998,56030,56065,56070,56150,56167,56223,56225,56259,56312,56371,56397,56439,56572,56638,56660,56678,56720,56751,56776,56812,56921,56925,56962,57053,57094,57095,57100,57102,57104,57154,57217,57218,57251,57258,57263,57264,57300,57300,57303,57346,57390,57402,57415,57424,57446,57533,57568,57620,57654,57672,57678,57727,57897,57942,58055,58131,58146,58227,58257,58282,58415,58435,58502,58567,58568,58736,58800,58809,58885,58896,58990,59073,59173,59175,59284,59360,59489,59674,59755,59804,59804,59816,59867,59897,60051,60057,60098,60184,60187,60198,60297,60376,60392,60450,60519,60652,60665,60672,60769,60786,60816,60852,60994,60994,61169,61225,61270,61290,61292,61328,61418,61663,61678,61739,61783,61795,61842,61849,61937,61972,62016,62032,62181,62194,62224,62431,62510,62579,62607,62634,62679,62722,62796,62810,62814,62916,62926,63001,63031,63052,63096,63151,63168,63173,63217,63238,63251,63319,63424,63433,63655,63666,63783,63795,63860,64038,64129,64208,64250,64318,64349,64355,64554,64586,64723,64741,64743,64794,64796,64966,65034,65041,65078,65089,65109,65160,65170,65191,65268,65332,65351,65527,65615,65686,65702,65707,65896,65906,65916,65954,65978,66197,66219,66307,66318,66377,66438,66445,66481,66514,66533,67017,67076,67205,67467,67492,67561,67677,67771,67822,67938,67997,68022,68024,68049,68132,68242,68246,68408,68409,68550,68587,68643,68705,68762,68877,68967,69124,69160,69240,69241,69299,69447,69586,69658,69669,69874,69937,70180,70349,70355,70476,70628,70849,70968,71138,71266,71268,71400,71551,71720,71753,71778,71989,72177,72213,72382,72487,72545,72643,73257,73511,73572,73654,73772,73943,74032,74045,74108,74108,74237,74322,74587,74759,74767,74825,74906,75217,75403,75488,75658,75677,75798,76163,76180,76200,76398,76479,76628,76919,77099,77351,77395,77583,77627,78141,78196,78293,78462,78474,78729,78800,79241,79492,79806,79982,80075,80109,80862,81853,82000,82019,82255,82552,82982,83067,83636,83684,83998,84777,84789,84844,85486,86117,86779,87243,87280,88043,88573,89045,89150,89211,89240,89344,89754,90512,90608,90654,90857,91520,91794,91846,92356,93409,94085,94803,97228,97585,101695,104437,104594,104786,106105,109331,110666,110990,113722,114434,114564,124367,124694,155291,199297],\"xaxis\":\"x2\",\"y\":[0.0010090817356205853,0.0020181634712411706,0.0030272452068617556,0.004036326942482341,0.005045408678102927,0.006054490413723511,0.007063572149344097,0.008072653884964682,0.009081735620585268,0.010090817356205853,0.011099899091826439,0.012108980827447022,0.013118062563067608,0.014127144298688193,0.015136226034308779,0.016145307769929364,0.017154389505549948,0.018163471241170535,0.01917255297679112,0.020181634712411706,0.02119071644803229,0.022199798183652877,0.02320887991927346,0.024217961654894045,0.025227043390514632,0.026236125126135216,0.027245206861755803,0.028254288597376387,0.029263370332996974,0.030272452068617558,0.03128153380423814,0.03229061553985873,0.033299697275479316,0.034308779011099896,0.035317860746720484,0.03632694248234107,0.03733602421796166,0.03834510595358224,0.039354187689202826,0.04036326942482341,0.04137235116044399,0.04238143289606458,0.04339051463168517,0.044399596367305755,0.045408678102926335,0.04641775983854692,0.04742684157416751,0.04843592330978809,0.04944500504540868,0.050454086781029264,0.05146316851664985,0.05247225025227043,0.05348133198789102,0.054490413723511606,0.055499495459132187,0.056508577194752774,0.05751765893037336,0.05852674066599395,0.05953582240161453,0.060544904137235116,0.0615539858728557,0.06256306760847628,0.06357214934409687,0.06458123107971746,0.06559031281533804,0.06659939455095863,0.06760847628657922,0.06861755802219979,0.06962663975782038,0.07063572149344097,0.07164480322906155,0.07265388496468214,0.07366296670030273,0.07467204843592332,0.07568113017154389,0.07669021190716448,0.07769929364278506,0.07870837537840565,0.07971745711402624,0.08072653884964683,0.08173562058526741,0.08274470232088799,0.08375378405650857,0.08476286579212916,0.08577194752774975,0.08678102926337034,0.08779011099899092,0.08879919273461151,0.08980827447023208,0.09081735620585267,0.09182643794147326,0.09283551967709384,0.09384460141271443,0.09485368314833502,0.0958627648839556,0.09687184661957618,0.09788092835519677,0.09889001009081735,0.09989909182643794,0.10090817356205853,0.10191725529767912,0.1029263370332997,0.10393541876892028,0.10494450050454086,0.10595358224016145,0.10696266397578204,0.10797174571140263,0.10898082744702321,0.1099899091826438,0.11099899091826437,0.11200807265388496,0.11301715438950555,0.11402623612512613,0.11503531786074672,0.11604439959636731,0.1170534813319879,0.11806256306760847,0.11907164480322906,0.12008072653884964,0.12108980827447023,0.12209889001009082,0.1231079717457114,0.124117053481332,0.12512613521695257,0.12613521695257315,0.12714429868819374,0.12815338042381433,0.12916246215943492,0.1301715438950555,0.1311806256306761,0.13218970736629668,0.13319878910191726,0.13420787083753785,0.13521695257315844,0.136226034308779,0.13723511604439959,0.13824419778002017,0.13925327951564076,0.14026236125126135,0.14127144298688193,0.14228052472250252,0.1432896064581231,0.1442986881937437,0.14530776992936428,0.14631685166498487,0.14732593340060546,0.14833501513622604,0.14934409687184663,0.1503531786074672,0.15136226034308778,0.15237134207870837,0.15338042381432895,0.15438950554994954,0.15539858728557013,0.15640766902119072,0.1574167507568113,0.1584258324924319,0.15943491422805248,0.16044399596367306,0.16145307769929365,0.16246215943491424,0.16347124117053483,0.16448032290615539,0.16548940464177597,0.16649848637739656,0.16750756811301715,0.16851664984863773,0.16952573158425832,0.1705348133198789,0.1715438950554995,0.17255297679112008,0.17356205852674067,0.17457114026236126,0.17558022199798184,0.17658930373360243,0.17759838546922302,0.17860746720484358,0.17961654894046417,0.18062563067608475,0.18163471241170534,0.18264379414732593,0.18365287588294651,0.1846619576185671,0.1856710393541877,0.18668012108980828,0.18768920282542886,0.18869828456104945,0.18970736629667004,0.19071644803229063,0.1917255297679112,0.1927346115035318,0.19374369323915236,0.19475277497477295,0.19576185671039353,0.19677093844601412,0.1977800201816347,0.1987891019172553,0.19979818365287588,0.20080726538849647,0.20181634712411706,0.20282542885973764,0.20383451059535823,0.20484359233097882,0.2058526740665994,0.20686175580222,0.20787083753784055,0.20887991927346114,0.20988900100908173,0.21089808274470231,0.2119071644803229,0.2129162462159435,0.21392532795156408,0.21493440968718466,0.21594349142280525,0.21695257315842584,0.21796165489404642,0.218970736629667,0.2199798183652876,0.2209889001009082,0.22199798183652875,0.22300706357214933,0.22401614530776992,0.2250252270433905,0.2260343087790111,0.22704339051463168,0.22805247225025227,0.22906155398587286,0.23007063572149344,0.23107971745711403,0.23208879919273462,0.2330978809283552,0.2341069626639758,0.23511604439959638,0.23612512613521694,0.23713420787083753,0.23814328960645811,0.2391523713420787,0.2401614530776993,0.24117053481331988,0.24217961654894046,0.24318869828456105,0.24419778002018164,0.24520686175580222,0.2462159434914228,0.2472250252270434,0.248234106962664,0.24924318869828457,0.25025227043390513,0.2512613521695257,0.2522704339051463,0.2532795156407669,0.2542885973763875,0.25529767911200807,0.25630676084762866,0.25731584258324924,0.25832492431886983,0.2593340060544904,0.260343087790111,0.2613521695257316,0.2623612512613522,0.26337033299697277,0.26437941473259335,0.26538849646821394,0.26639757820383453,0.2674066599394551,0.2684157416750757,0.2694248234106963,0.2704339051463169,0.2714429868819374,0.272452068617558,0.2734611503531786,0.27447023208879917,0.27547931382441976,0.27648839556004035,0.27749747729566093,0.2785065590312815,0.2795156407669021,0.2805247225025227,0.2815338042381433,0.28254288597376387,0.28355196770938446,0.28456104944500504,0.28557013118062563,0.2865792129162462,0.2875882946518668,0.2885973763874874,0.289606458123108,0.29061553985872857,0.29162462159434915,0.29263370332996974,0.29364278506559033,0.2946518668012109,0.2956609485368315,0.2966700302724521,0.2976791120080727,0.29868819374369326,0.29969727547931385,0.3007063572149344,0.30171543895055497,0.30272452068617556,0.30373360242179614,0.30474268415741673,0.3057517658930373,0.3067608476286579,0.3077699293642785,0.3087790110998991,0.30978809283551967,0.31079717457114026,0.31180625630676084,0.31281533804238143,0.313824419778002,0.3148335015136226,0.3158425832492432,0.3168516649848638,0.31786074672048437,0.31886982845610495,0.31987891019172554,0.32088799192734613,0.3218970736629667,0.3229061553985873,0.3239152371342079,0.3249243188698285,0.32593340060544906,0.32694248234106965,0.32795156407669024,0.32896064581231077,0.32996972754793136,0.33097880928355194,0.33198789101917253,0.3329969727547931,0.3340060544904137,0.3350151362260343,0.3360242179616549,0.33703329969727547,0.33804238143289606,0.33905146316851664,0.34006054490413723,0.3410696266397578,0.3420787083753784,0.343087790110999,0.3440968718466196,0.34510595358224017,0.34611503531786075,0.34712411705348134,0.3481331987891019,0.3491422805247225,0.3501513622603431,0.3511604439959637,0.3521695257315843,0.35317860746720486,0.35418768920282545,0.35519677093844604,0.3562058526740666,0.35721493440968716,0.35822401614530774,0.35923309788092833,0.3602421796165489,0.3612512613521695,0.3622603430877901,0.3632694248234107,0.36427850655903127,0.36528758829465185,0.36629667003027244,0.36730575176589303,0.3683148335015136,0.3693239152371342,0.3703329969727548,0.3713420787083754,0.37235116044399597,0.37336024217961655,0.37436932391523714,0.3753784056508577,0.3763874873864783,0.3773965691220989,0.3784056508577195,0.3794147325933401,0.38042381432896066,0.38143289606458125,0.38244197780020184,0.3834510595358224,0.384460141271443,0.3854692230070636,0.38647830474268413,0.3874873864783047,0.3884964682139253,0.3895055499495459,0.3905146316851665,0.39152371342078707,0.39253279515640765,0.39354187689202824,0.39455095862764883,0.3955600403632694,0.39656912209889,0.3975782038345106,0.3985872855701312,0.39959636730575177,0.40060544904137235,0.40161453077699294,0.4026236125126135,0.4036326942482341,0.4046417759838547,0.4056508577194753,0.4066599394550959,0.40766902119071646,0.40867810292633705,0.40968718466195764,0.4106962663975782,0.4117053481331988,0.4127144298688194,0.41372351160444,0.4147325933400605,0.4157416750756811,0.4167507568113017,0.4177598385469223,0.41876892028254287,0.41977800201816345,0.42078708375378404,0.42179616548940463,0.4228052472250252,0.4238143289606458,0.4248234106962664,0.425832492431887,0.42684157416750756,0.42785065590312815,0.42885973763874874,0.4298688193743693,0.4308779011099899,0.4318869828456105,0.4328960645812311,0.4339051463168517,0.43491422805247226,0.43592330978809285,0.43693239152371344,0.437941473259334,0.4389505549949546,0.4399596367305752,0.4409687184661958,0.4419778002018164,0.4429868819374369,0.4439959636730575,0.4450050454086781,0.44601412714429867,0.44702320887991925,0.44803229061553984,0.44904137235116043,0.450050454086781,0.4510595358224016,0.4520686175580222,0.4530776992936428,0.45408678102926336,0.45509586276488395,0.45610494450050454,0.4571140262361251,0.4581231079717457,0.4591321897073663,0.4601412714429869,0.4611503531786075,0.46215943491422806,0.46316851664984865,0.46417759838546924,0.4651866801210898,0.4661957618567104,0.467204843592331,0.4682139253279516,0.4692230070635722,0.47023208879919276,0.47124117053481335,0.4722502522704339,0.47325933400605447,0.47426841574167505,0.47527749747729564,0.47628657921291623,0.4772956609485368,0.4783047426841574,0.479313824419778,0.4803229061553986,0.48133198789101916,0.48234106962663975,0.48335015136226034,0.4843592330978809,0.4853683148335015,0.4863773965691221,0.4873864783047427,0.4883955600403633,0.48940464177598386,0.49041372351160445,0.49142280524722504,0.4924318869828456,0.4934409687184662,0.4944500504540868,0.4954591321897074,0.496468213925328,0.49747729566094856,0.49848637739656915,0.49949545913218973,0.5005045408678103,0.5015136226034309,0.5025227043390514,0.5035317860746721,0.5045408678102926,0.5055499495459133,0.5065590312815338,0.5075681130171544,0.508577194752775,0.5095862764883956,0.5105953582240161,0.5116044399596368,0.5126135216952573,0.513622603430878,0.5146316851664985,0.515640766902119,0.5166498486377397,0.5176589303733602,0.5186680121089808,0.5196770938446014,0.520686175580222,0.5216952573158425,0.5227043390514632,0.5237134207870837,0.5247225025227044,0.5257315842583249,0.5267406659939455,0.5277497477295661,0.5287588294651867,0.5297679112008072,0.5307769929364279,0.5317860746720484,0.5327951564076691,0.5338042381432896,0.5348133198789102,0.5358224016145308,0.5368314833501514,0.5378405650857719,0.5388496468213926,0.5398587285570131,0.5408678102926338,0.5418768920282543,0.5428859737638748,0.5438950554994955,0.544904137235116,0.5459132189707366,0.5469223007063572,0.5479313824419778,0.5489404641775983,0.549949545913219,0.5509586276488395,0.5519677093844602,0.5529767911200807,0.5539858728557013,0.5549949545913219,0.5560040363269425,0.557013118062563,0.5580221997981837,0.5590312815338042,0.5600403632694249,0.5610494450050454,0.562058526740666,0.5630676084762866,0.5640766902119072,0.5650857719475277,0.5660948536831484,0.5671039354187689,0.5681130171543896,0.5691220988900101,0.5701311806256307,0.5711402623612513,0.5721493440968718,0.5731584258324924,0.574167507568113,0.5751765893037336,0.5761856710393541,0.5771947527749748,0.5782038345105953,0.579212916246216,0.5802219979818365,0.5812310797174571,0.5822401614530777,0.5832492431886983,0.5842583249243188,0.5852674066599395,0.58627648839556,0.5872855701311807,0.5882946518668012,0.5893037336024218,0.5903128153380424,0.591321897073663,0.5923309788092835,0.5933400605449042,0.5943491422805247,0.5953582240161454,0.5963673057517659,0.5973763874873865,0.5983854692230071,0.5993945509586277,0.6004036326942482,0.6014127144298688,0.6024217961654894,0.6034308779011099,0.6044399596367306,0.6054490413723511,0.6064581231079718,0.6074672048435923,0.6084762865792129,0.6094853683148335,0.6104944500504541,0.6115035317860746,0.6125126135216953,0.6135216952573158,0.6145307769929365,0.615539858728557,0.6165489404641776,0.6175580221997982,0.6185671039354188,0.6195761856710393,0.62058526740666,0.6215943491422805,0.6226034308779012,0.6236125126135217,0.6246215943491423,0.6256306760847629,0.6266397578203835,0.627648839556004,0.6286579212916246,0.6296670030272452,0.6306760847628657,0.6316851664984864,0.6326942482341069,0.6337033299697276,0.6347124117053481,0.6357214934409687,0.6367305751765893,0.6377396569122099,0.6387487386478304,0.6397578203834511,0.6407669021190716,0.6417759838546923,0.6427850655903128,0.6437941473259334,0.644803229061554,0.6458123107971746,0.6468213925327951,0.6478304742684158,0.6488395560040363,0.649848637739657,0.6508577194752775,0.6518668012108981,0.6528758829465187,0.6538849646821393,0.6548940464177598,0.6559031281533805,0.656912209889001,0.6579212916246215,0.6589303733602422,0.6599394550958627,0.6609485368314834,0.6619576185671039,0.6629667003027245,0.6639757820383451,0.6649848637739657,0.6659939455095862,0.6670030272452069,0.6680121089808274,0.669021190716448,0.6700302724520686,0.6710393541876892,0.6720484359233098,0.6730575176589304,0.6740665993945509,0.6750756811301716,0.6760847628657921,0.6770938446014128,0.6781029263370333,0.6791120080726539,0.6801210898082745,0.6811301715438951,0.6821392532795156,0.6831483350151363,0.6841574167507568,0.6851664984863775,0.686175580221998,0.6871846619576185,0.6881937436932392,0.6892028254288597,0.6902119071644803,0.6912209889001009,0.6922300706357215,0.693239152371342,0.6942482341069627,0.6952573158425832,0.6962663975782039,0.6972754793138244,0.698284561049445,0.6992936427850656,0.7003027245206862,0.7013118062563067,0.7023208879919274,0.7033299697275479,0.7043390514631686,0.7053481331987891,0.7063572149344097,0.7073662966700303,0.7083753784056509,0.7093844601412714,0.7103935418768921,0.7114026236125126,0.7124117053481333,0.7134207870837538,0.7144298688193743,0.715438950554995,0.7164480322906155,0.7174571140262361,0.7184661957618567,0.7194752774974773,0.7204843592330978,0.7214934409687185,0.722502522704339,0.7235116044399597,0.7245206861755802,0.7255297679112008,0.7265388496468214,0.727547931382442,0.7285570131180625,0.7295660948536832,0.7305751765893037,0.7315842583249244,0.7325933400605449,0.7336024217961655,0.7346115035317861,0.7356205852674067,0.7366296670030272,0.7376387487386479,0.7386478304742684,0.739656912209889,0.7406659939455096,0.7416750756811302,0.7426841574167508,0.7436932391523713,0.7447023208879919,0.7457114026236125,0.7467204843592331,0.7477295660948536,0.7487386478304743,0.7497477295660948,0.7507568113017155,0.751765893037336,0.7527749747729566,0.7537840565085772,0.7547931382441978,0.7558022199798183,0.756811301715439,0.7578203834510595,0.7588294651866802,0.7598385469223007,0.7608476286579213,0.7618567103935419,0.7628657921291625,0.763874873864783,0.7648839556004037,0.7658930373360242,0.7669021190716448,0.7679112008072654,0.768920282542886,0.7699293642785066,0.7709384460141272,0.7719475277497477,0.7729566094853683,0.7739656912209889,0.7749747729566094,0.7759838546922301,0.7769929364278506,0.7780020181634713,0.7790110998990918,0.7800201816347124,0.781029263370333,0.7820383451059536,0.7830474268415741,0.7840565085771948,0.7850655903128153,0.786074672048436,0.7870837537840565,0.7880928355196771,0.7891019172552977,0.7901109989909183,0.7911200807265388,0.7921291624621595,0.79313824419778,0.7941473259334006,0.7951564076690212,0.7961654894046418,0.7971745711402624,0.798183652875883,0.7991927346115035,0.8002018163471241,0.8012108980827447,0.8022199798183652,0.8032290615539859,0.8042381432896064,0.805247225025227,0.8062563067608476,0.8072653884964682,0.8082744702320888,0.8092835519677094,0.8102926337033299,0.8113017154389506,0.8123107971745711,0.8133198789101918,0.8143289606458123,0.8153380423814329,0.8163471241170535,0.8173562058526741,0.8183652875882946,0.8193743693239153,0.8203834510595358,0.8213925327951564,0.822401614530777,0.8234106962663976,0.8244197780020182,0.8254288597376388,0.8264379414732593,0.82744702320888,0.8284561049445005,0.829465186680121,0.8304742684157417,0.8314833501513622,0.8324924318869829,0.8335015136226034,0.834510595358224,0.8355196770938446,0.8365287588294652,0.8375378405650857,0.8385469223007064,0.8395560040363269,0.8405650857719476,0.8415741675075681,0.8425832492431887,0.8435923309788093,0.8446014127144299,0.8456104944500504,0.8466195761856711,0.8476286579212916,0.8486377396569122,0.8496468213925328,0.8506559031281534,0.851664984863774,0.8526740665993946,0.8536831483350151,0.8546922300706358,0.8557013118062563,0.856710393541877,0.8577194752774975,0.858728557013118,0.8597376387487387,0.8607467204843592,0.8617558022199798,0.8627648839556004,0.863773965691221,0.8647830474268415,0.8657921291624622,0.8668012108980827,0.8678102926337034,0.8688193743693239,0.8698284561049445,0.8708375378405651,0.8718466195761857,0.8728557013118062,0.8738647830474269,0.8748738647830474,0.875882946518668,0.8768920282542886,0.8779011099899092,0.8789101917255298,0.8799192734611504,0.8809283551967709,0.8819374369323916,0.8829465186680121,0.8839556004036327,0.8849646821392533,0.8859737638748738,0.8869828456104945,0.887991927346115,0.8890010090817356,0.8900100908173562,0.8910191725529768,0.8920282542885973,0.893037336024218,0.8940464177598385,0.8950554994954592,0.8960645812310797,0.8970736629667003,0.8980827447023209,0.8990918264379415,0.900100908173562,0.9011099899091827,0.9021190716448032,0.9031281533804238,0.9041372351160444,0.905146316851665,0.9061553985872856,0.9071644803229062,0.9081735620585267,0.9091826437941474,0.9101917255297679,0.9112008072653885,0.9122098890010091,0.9132189707366297,0.9142280524722503,0.9152371342078708,0.9162462159434914,0.917255297679112,0.9182643794147326,0.9192734611503531,0.9202825428859738,0.9212916246215943,0.922300706357215,0.9233097880928355,0.9243188698284561,0.9253279515640767,0.9263370332996973,0.9273461150353178,0.9283551967709385,0.929364278506559,0.9303733602421796,0.9313824419778002,0.9323915237134208,0.9334006054490414,0.934409687184662,0.9354187689202825,0.9364278506559032,0.9374369323915237,0.9384460141271443,0.9394550958627649,0.9404641775983855,0.941473259334006,0.9424823410696267,0.9434914228052472,0.9445005045408678,0.9455095862764884,0.9465186680121089,0.9475277497477296,0.9485368314833501,0.9495459132189707,0.9505549949545913,0.9515640766902119,0.9525731584258325,0.9535822401614531,0.9545913218970736,0.9556004036326943,0.9566094853683148,0.9576185671039354,0.958627648839556,0.9596367305751766,0.9606458123107972,0.9616548940464178,0.9626639757820383,0.963673057517659,0.9646821392532795,0.9656912209889001,0.9667003027245207,0.9677093844601413,0.9687184661957619,0.9697275479313825,0.970736629667003,0.9717457114026236,0.9727547931382442,0.9737638748738647,0.9747729566094854,0.9757820383451059,0.9767911200807265,0.9778002018163471,0.9788092835519677,0.9798183652875883,0.9808274470232089,0.9818365287588294,0.9828456104944501,0.9838546922300706,0.9848637739656912,0.9858728557013118,0.9868819374369324,0.987891019172553,0.9889001009081736,0.9899091826437941,0.9909182643794148,0.9919273461150353,0.992936427850656,0.9939455095862765,0.9949545913218971,0.9959636730575177,0.9969727547931383,0.9979818365287588,0.9989909182643795,1.0],\"yaxis\":\"y2\",\"type\":\"scattergl\"},{\"hovertemplate\":\"subreddit_name_prefixed=r/worldnews<br>ups=%{x}<br>probability=%{y}<extra></extra>\",\"legendgroup\":\"\",\"line\":{\"dash\":\"solid\",\"shape\":\"hv\"},\"marker\":{\"color\":\"#636efa\",\"symbol\":\"circle\"},\"mode\":\"lines\",\"name\":\"\",\"showlegend\":false,\"x\":[69218,69246,69264,69297,69318,69336,69341,69386,69408,69428,69429,69454,69484,69503,69508,69516,69534,69535,69559,69605,69613,69656,69690,69695,69725,69729,69740,69865,69873,69910,69927,69950,70040,70057,70075,70078,70111,70119,70161,70167,70175,70245,70271,70338,70363,70376,70376,70415,70418,70419,70425,70425,70436,70451,70461,70516,70555,70556,70566,70569,70583,70614,70623,70651,70655,70673,70720,70767,70791,70794,70814,70849,70863,70892,70934,70940,70948,70975,70994,71001,71038,71056,71152,71178,71220,71242,71259,71307,71367,71395,71400,71402,71437,71444,71498,71499,71522,71525,71538,71542,71560,71565,71577,71579,71584,71587,71610,71635,71648,71651,71666,71668,71684,71695,71701,71751,71757,71785,71787,71788,71804,71808,71811,71821,71881,71894,71916,71933,71973,71979,71982,72067,72112,72121,72146,72155,72155,72196,72224,72335,72349,72358,72401,72431,72474,72474,72502,72518,72532,72540,72561,72562,72575,72577,72582,72588,72604,72635,72648,72685,72706,72707,72795,72823,72845,72855,72877,72897,72942,72954,72959,72960,72978,72988,73038,73058,73059,73062,73072,73106,73136,73153,73184,73203,73206,73299,73303,73325,73326,73349,73370,73383,73383,73422,73439,73450,73480,73493,73499,73503,73505,73506,73526,73534,73626,73672,73713,73742,73780,73783,73878,73884,73895,73901,73902,73921,73924,73951,73988,74012,74017,74048,74083,74085,74108,74128,74137,74236,74254,74254,74327,74370,74371,74375,74387,74387,74390,74421,74464,74466,74503,74554,74655,74667,74674,74734,74741,74759,74863,74904,74911,74940,74989,75010,75018,75030,75072,75078,75129,75141,75179,75199,75215,75239,75240,75246,75276,75288,75296,75324,75333,75408,75430,75459,75468,75476,75516,75530,75532,75538,75568,75663,75693,75775,75818,75839,75895,75900,75935,76022,76035,76058,76063,76072,76147,76178,76188,76195,76211,76237,76250,76361,76371,76372,76383,76384,76443,76476,76486,76511,76522,76568,76594,76607,76733,76736,76764,76768,76785,76788,76825,76882,76894,76902,76926,76938,76960,76976,77020,77024,77026,77097,77101,77102,77120,77124,77125,77168,77171,77188,77211,77246,77269,77269,77326,77345,77345,77476,77482,77564,77589,77593,77626,77642,77737,77744,77752,77778,77781,77798,77868,77877,77946,78009,78023,78059,78065,78092,78097,78144,78198,78222,78226,78229,78237,78277,78279,78326,78370,78382,78416,78547,78588,78600,78627,78628,78649,78709,78728,78768,78778,78825,78882,78914,78917,78947,78966,78987,79029,79041,79091,79096,79104,79105,79162,79188,79213,79231,79247,79333,79334,79371,79381,79391,79439,79502,79515,79529,79532,79660,79755,79765,79801,79833,79835,79875,79981,80000,80024,80024,80125,80125,80157,80158,80187,80287,80301,80326,80385,80440,80448,80528,80578,80597,80612,80699,80699,80704,80775,80828,80843,80886,80895,80901,80962,81002,81034,81126,81164,81200,81205,81222,81234,81238,81287,81304,81347,81379,81423,81442,81490,81490,81646,81752,81770,81807,81910,81977,82010,82013,82160,82166,82216,82232,82242,82308,82358,82407,82454,82510,82553,82597,82611,82669,82672,82685,82686,82749,82812,82938,82961,82982,82990,83042,83072,83156,83252,83267,83298,83322,83350,83411,83413,83513,83521,83553,83594,83708,83783,83791,83803,83825,83898,83903,83982,83985,83990,84081,84228,84231,84285,84322,84368,84375,84375,84511,84517,84527,84600,84606,84633,84710,84718,84723,84793,84795,84810,84815,84892,84908,84929,84955,84979,85067,85124,85126,85178,85297,85312,85314,85340,85442,85476,85531,85572,85621,85739,86029,86040,86041,86054,86093,86168,86262,86271,86289,86358,86361,86434,86437,86441,86480,86634,86749,86827,86959,87003,87014,87078,87094,87301,87312,87356,87412,87420,87453,87490,87504,87681,87790,87833,87907,87923,87937,87959,88110,88152,88163,88229,88272,88357,88371,88492,88495,88497,88540,88616,88626,88813,88813,88827,88850,88906,88936,89054,89067,89155,89170,89321,89371,89378,89424,89452,89463,89546,89558,89595,89600,89705,89709,89734,89837,89875,89945,89966,90096,90123,90160,90213,90215,90292,90310,90329,90413,90546,90650,90725,90752,90769,90779,90834,90899,91066,91201,91270,91286,91326,91373,91397,91426,91529,91543,91560,91622,91643,91650,91664,91678,91682,91718,91725,91752,91857,92009,92193,92225,92253,92262,92294,92359,92440,92442,92500,92722,92728,92833,92894,93002,93008,93170,93273,93335,93339,93342,93370,93541,93602,93637,93663,93666,93669,93690,93815,93862,93955,93988,94007,94078,94093,94118,94133,94359,94410,94571,94637,94667,94851,94883,94978,95116,95204,95214,95216,95339,95344,95387,95455,95470,95535,95542,95571,95579,95715,95809,95813,95833,95836,96062,96167,96301,96344,96552,96634,96692,96746,96909,96967,96992,97020,97092,97141,97196,97222,97267,97321,97362,97368,97377,97413,97427,97617,97684,98153,98182,98704,98717,98753,98795,99070,99081,99158,99524,99571,99581,99814,99846,100017,100046,100553,100611,100690,100716,100720,100736,100888,100951,101108,101170,101193,101212,101255,101323,101379,101444,101447,101686,101799,101813,101997,102124,102132,102152,102405,102570,102629,102650,102669,102689,102812,103035,103076,103109,103116,103164,103210,103265,103556,103681,103760,103869,103906,103912,103965,104080,104426,104619,104881,104892,104907,104965,105038,105039,105102,105237,105357,105388,105395,105472,105594,105756,105758,105775,105814,105916,105956,106000,106043,106237,106303,106482,106506,106513,106575,106859,106960,106998,107079,107183,107266,107287,107475,107601,107604,107736,107750,107832,108219,108303,108652,108982,109470,109505,109695,110599,110737,111096,111286,111316,111565,111594,111669,111798,112001,112154,112156,112179,112249,112722,113131,113890,114102,114134,114139,114205,114323,114342,115512,115567,115626,115796,115805,115831,116085,116368,116530,116605,117106,117122,117166,117347,117436,117489,117520,117811,118181,118280,118747,118922,119295,119313,119636,119861,121586,121735,122000,123301,123363,123386,123386,123608,124183,124590,124726,125114,125134,125162,126446,126515,126761,126874,127220,127534,127554,127649,127710,127841,128503,129158,129258,129692,129731,129888,130317,131088,131679,132547,132979,133056,133627,133747,134235,134862,134992,135119,135552,138321,138669,139433,139842,141163,142116,142946,144904,145865,146443,146821,148056,150303,150306,154760,168664,189353,202903,204542],\"xaxis\":\"x3\",\"y\":[0.001006036217303823,0.002012072434607646,0.0030181086519114686,0.004024144869215292,0.005030181086519115,0.006036217303822937,0.007042253521126761,0.008048289738430584,0.009054325955734407,0.01006036217303823,0.011066398390342052,0.012072434607645875,0.013078470824949699,0.014084507042253521,0.015090543259557344,0.01609657947686117,0.01710261569416499,0.018108651911468814,0.019114688128772636,0.02012072434607646,0.02112676056338028,0.022132796780684104,0.023138832997987926,0.02414486921529175,0.025150905432595575,0.026156941649899398,0.02716297786720322,0.028169014084507043,0.029175050301810865,0.030181086519114688,0.03118712273641851,0.03219315895372234,0.03319919517102616,0.03420523138832998,0.035211267605633804,0.03621730382293763,0.03722334004024145,0.03822937625754527,0.039235412474849095,0.04024144869215292,0.04124748490945674,0.04225352112676056,0.043259557344064385,0.04426559356136821,0.04527162977867203,0.04627766599597585,0.047283702213279676,0.0482897384305835,0.04929577464788732,0.05030181086519115,0.05130784708249497,0.052313883299798795,0.05331991951710262,0.05432595573440644,0.05533199195171026,0.056338028169014086,0.05734406438631791,0.05835010060362173,0.059356136820925554,0.060362173038229376,0.0613682092555332,0.06237424547283702,0.06338028169014084,0.06438631790744467,0.06539235412474849,0.06639839034205232,0.06740442655935613,0.06841046277665996,0.06941649899396378,0.07042253521126761,0.07142857142857142,0.07243460764587525,0.07344064386317907,0.0744466800804829,0.07545271629778671,0.07645875251509054,0.07746478873239436,0.07847082494969819,0.079476861167002,0.08048289738430583,0.08148893360160966,0.08249496981891348,0.08350100603621731,0.08450704225352113,0.08551307847082495,0.08651911468812877,0.0875251509054326,0.08853118712273642,0.08953722334004025,0.09054325955734406,0.09154929577464789,0.0925553319919517,0.09356136820925554,0.09456740442655935,0.09557344064386318,0.096579476861167,0.09758551307847083,0.09859154929577464,0.09959758551307847,0.1006036217303823,0.10160965794768612,0.10261569416498995,0.10362173038229376,0.10462776659959759,0.1056338028169014,0.10663983903420524,0.10764587525150905,0.10865191146881288,0.1096579476861167,0.11066398390342053,0.11167002012072434,0.11267605633802817,0.11368209255533199,0.11468812877263582,0.11569416498993963,0.11670020120724346,0.11770623742454728,0.11871227364185111,0.11971830985915492,0.12072434607645875,0.12173038229376258,0.1227364185110664,0.12374245472837023,0.12474849094567404,0.12575452716297786,0.1267605633802817,0.12776659959758552,0.12877263581488935,0.12977867203219315,0.13078470824949698,0.1317907444668008,0.13279678068410464,0.13380281690140844,0.13480885311871227,0.1358148893360161,0.13682092555331993,0.13782696177062373,0.13883299798792756,0.1398390342052314,0.14084507042253522,0.14185110663983905,0.14285714285714285,0.14386317907444668,0.1448692152917505,0.14587525150905434,0.14688128772635814,0.14788732394366197,0.1488933601609658,0.14989939637826963,0.15090543259557343,0.15191146881287726,0.1529175050301811,0.15392354124748492,0.15492957746478872,0.15593561368209255,0.15694164989939638,0.1579476861167002,0.158953722334004,0.15995975855130784,0.16096579476861167,0.1619718309859155,0.16297786720321933,0.16398390342052313,0.16498993963782696,0.1659959758551308,0.16700201207243462,0.16800804828973842,0.16901408450704225,0.17002012072434608,0.1710261569416499,0.1720321931589537,0.17303822937625754,0.17404426559356137,0.1750503018108652,0.176056338028169,0.17706237424547283,0.17806841046277666,0.1790744466800805,0.18008048289738432,0.18108651911468812,0.18209255533199195,0.18309859154929578,0.1841046277665996,0.1851106639839034,0.18611670020120724,0.18712273641851107,0.1881287726358149,0.1891348088531187,0.19014084507042253,0.19114688128772636,0.1921529175050302,0.193158953722334,0.19416498993963782,0.19517102615694165,0.19617706237424548,0.19718309859154928,0.1981891348088531,0.19919517102615694,0.20020120724346077,0.2012072434607646,0.2022132796780684,0.20321931589537223,0.20422535211267606,0.2052313883299799,0.2062374245472837,0.20724346076458752,0.20824949698189135,0.20925553319919518,0.21026156941649898,0.2112676056338028,0.21227364185110664,0.21327967806841047,0.21428571428571427,0.2152917505030181,0.21629778672032193,0.21730382293762576,0.21830985915492956,0.2193158953722334,0.22032193158953722,0.22132796780684105,0.22233400402414488,0.22334004024144868,0.2243460764587525,0.22535211267605634,0.22635814889336017,0.22736418511066397,0.2283702213279678,0.22937625754527163,0.23038229376257546,0.23138832997987926,0.2323943661971831,0.23340040241448692,0.23440643863179075,0.23541247484909456,0.23641851106639838,0.23742454728370221,0.23843058350100604,0.23943661971830985,0.24044265593561368,0.2414486921529175,0.24245472837022133,0.24346076458752516,0.24446680080482897,0.2454728370221328,0.24647887323943662,0.24748490945674045,0.24849094567404426,0.24949698189134809,0.2505030181086519,0.2515090543259557,0.25251509054325955,0.2535211267605634,0.2545271629778672,0.25553319919517103,0.25653923541247486,0.2575452716297787,0.25855130784708247,0.2595573440643863,0.2605633802816901,0.26156941649899396,0.2625754527162978,0.2635814889336016,0.26458752515090544,0.2655935613682093,0.2665995975855131,0.2676056338028169,0.2686116700201207,0.26961770623742454,0.27062374245472837,0.2716297786720322,0.272635814889336,0.27364185110663986,0.2746478873239437,0.27565392354124746,0.2766599597585513,0.2776659959758551,0.27867203219315895,0.2796780684104628,0.2806841046277666,0.28169014084507044,0.28269617706237427,0.2837022132796781,0.28470824949698187,0.2857142857142857,0.28672032193158953,0.28772635814889336,0.2887323943661972,0.289738430583501,0.29074446680080485,0.2917505030181087,0.29275653923541245,0.2937625754527163,0.2947686116700201,0.29577464788732394,0.29678068410462777,0.2977867203219316,0.2987927565392354,0.29979879275653926,0.3008048289738431,0.30181086519114686,0.3028169014084507,0.3038229376257545,0.30482897384305835,0.3058350100603622,0.306841046277666,0.30784708249496984,0.30885311871227367,0.30985915492957744,0.31086519114688127,0.3118712273641851,0.31287726358148893,0.31388329979879276,0.3148893360160966,0.3158953722334004,0.31690140845070425,0.317907444668008,0.31891348088531185,0.3199195171026157,0.3209255533199195,0.32193158953722334,0.32293762575452717,0.323943661971831,0.32494969818913483,0.32595573440643866,0.32696177062374243,0.32796780684104626,0.3289738430583501,0.3299798792756539,0.33098591549295775,0.3319919517102616,0.3329979879275654,0.33400402414486924,0.335010060362173,0.33601609657947684,0.33702213279678067,0.3380281690140845,0.33903420523138833,0.34004024144869216,0.341046277665996,0.3420523138832998,0.34305835010060365,0.3440643863179074,0.34507042253521125,0.3460764587525151,0.3470824949698189,0.34808853118712274,0.34909456740442657,0.3501006036217304,0.35110663983903423,0.352112676056338,0.35311871227364183,0.35412474849094566,0.3551307847082495,0.3561368209255533,0.35714285714285715,0.358148893360161,0.3591549295774648,0.36016096579476864,0.3611670020120724,0.36217303822937624,0.3631790744466801,0.3641851106639839,0.36519114688128773,0.36619718309859156,0.3672032193158954,0.3682092555331992,0.369215291750503,0.3702213279678068,0.37122736418511065,0.3722334004024145,0.3732394366197183,0.37424547283702214,0.37525150905432597,0.3762575452716298,0.3772635814889336,0.3782696177062374,0.37927565392354123,0.38028169014084506,0.3812877263581489,0.3822937625754527,0.38329979879275655,0.3843058350100604,0.3853118712273642,0.386317907444668,0.3873239436619718,0.38832997987927564,0.3893360160965795,0.3903420523138833,0.39134808853118713,0.39235412474849096,0.3933601609657948,0.39436619718309857,0.3953722334004024,0.3963782696177062,0.39738430583501005,0.3983903420523139,0.3993963782696177,0.40040241448692154,0.4014084507042254,0.4024144869215292,0.403420523138833,0.4044265593561368,0.40543259557344064,0.40643863179074446,0.4074446680080483,0.4084507042253521,0.40945674044265595,0.4104627766599598,0.41146881287726356,0.4124748490945674,0.4134808853118712,0.41448692152917505,0.4154929577464789,0.4164989939637827,0.41750503018108653,0.41851106639839036,0.41951710261569414,0.42052313883299797,0.4215291750503018,0.4225352112676056,0.42354124748490946,0.4245472837022133,0.4255533199195171,0.42655935613682094,0.4275653923541248,0.42857142857142855,0.4295774647887324,0.4305835010060362,0.43158953722334004,0.43259557344064387,0.4336016096579477,0.4346076458752515,0.43561368209255535,0.43661971830985913,0.43762575452716296,0.4386317907444668,0.4396378269617706,0.44064386317907445,0.4416498993963783,0.4426559356136821,0.44366197183098594,0.44466800804828976,0.44567404426559354,0.44668008048289737,0.4476861167002012,0.448692152917505,0.44969818913480886,0.4507042253521127,0.4517102615694165,0.45271629778672035,0.4537223340040241,0.45472837022132795,0.4557344064386318,0.4567404426559356,0.45774647887323944,0.45875251509054327,0.4597585513078471,0.4607645875251509,0.46177062374245476,0.46277665995975853,0.46378269617706236,0.4647887323943662,0.46579476861167,0.46680080482897385,0.4678068410462777,0.4688128772635815,0.46981891348088534,0.4708249496981891,0.47183098591549294,0.47283702213279677,0.4738430583501006,0.47484909456740443,0.47585513078470826,0.4768611670020121,0.4778672032193159,0.4788732394366197,0.4798792756539235,0.48088531187122735,0.4818913480885312,0.482897384305835,0.48390342052313884,0.48490945674044267,0.4859154929577465,0.4869215291750503,0.4879275653923541,0.48893360160965793,0.48993963782696176,0.4909456740442656,0.4919517102615694,0.49295774647887325,0.4939637826961771,0.4949698189134809,0.4959758551307847,0.4969818913480885,0.49798792756539234,0.49899396378269617,0.5,0.5010060362173038,0.5020120724346077,0.5030181086519114,0.5040241448692153,0.5050301810865191,0.506036217303823,0.5070422535211268,0.5080482897384306,0.5090543259557344,0.5100603621730382,0.5110663983903421,0.5120724346076458,0.5130784708249497,0.5140845070422535,0.5150905432595574,0.5160965794768612,0.5171026156941649,0.5181086519114688,0.5191146881287726,0.5201207243460765,0.5211267605633803,0.5221327967806841,0.5231388329979879,0.5241448692152918,0.5251509054325956,0.5261569416498993,0.5271629778672032,0.528169014084507,0.5291750503018109,0.5301810865191147,0.5311871227364185,0.5321931589537223,0.5331991951710262,0.53420523138833,0.5352112676056338,0.5362173038229376,0.5372233400402414,0.5382293762575453,0.5392354124748491,0.540241448692153,0.5412474849094567,0.5422535211267606,0.5432595573440644,0.5442655935613682,0.545271629778672,0.5462776659959758,0.5472837022132797,0.5482897384305835,0.5492957746478874,0.5503018108651911,0.5513078470824949,0.5523138832997988,0.5533199195171026,0.5543259557344065,0.5553319919517102,0.5563380281690141,0.5573440643863179,0.5583501006036218,0.5593561368209256,0.5603621730382293,0.5613682092555332,0.562374245472837,0.5633802816901409,0.5643863179074446,0.5653923541247485,0.5663983903420523,0.5674044265593562,0.56841046277666,0.5694164989939637,0.5704225352112676,0.5714285714285714,0.5724346076458753,0.5734406438631791,0.5744466800804829,0.5754527162977867,0.5764587525150905,0.5774647887323944,0.5784708249496981,0.579476861167002,0.5804828973843058,0.5814889336016097,0.5824949698189135,0.5835010060362174,0.5845070422535211,0.5855130784708249,0.5865191146881288,0.5875251509054326,0.5885311871227364,0.5895372233400402,0.5905432595573441,0.5915492957746479,0.5925553319919518,0.5935613682092555,0.5945674044265593,0.5955734406438632,0.596579476861167,0.5975855130784709,0.5985915492957746,0.5995975855130785,0.6006036217303823,0.6016096579476862,0.60261569416499,0.6036217303822937,0.6046277665995976,0.6056338028169014,0.6066398390342053,0.607645875251509,0.6086519114688129,0.6096579476861167,0.6106639839034205,0.6116700201207244,0.6126760563380281,0.613682092555332,0.6146881287726358,0.6156941649899397,0.6167002012072434,0.6177062374245473,0.6187122736418511,0.6197183098591549,0.6207243460764588,0.6217303822937625,0.6227364185110664,0.6237424547283702,0.6247484909456741,0.6257545271629779,0.6267605633802817,0.6277665995975855,0.6287726358148893,0.6297786720321932,0.630784708249497,0.6317907444668008,0.6327967806841046,0.6338028169014085,0.6348088531187123,0.635814889336016,0.6368209255533199,0.6378269617706237,0.6388329979879276,0.6398390342052314,0.6408450704225352,0.641851106639839,0.6428571428571429,0.6438631790744467,0.6448692152917505,0.6458752515090543,0.6468812877263581,0.647887323943662,0.6488933601609658,0.6498993963782697,0.6509054325955734,0.6519114688128773,0.6529175050301811,0.6539235412474849,0.6549295774647887,0.6559356136820925,0.6569416498993964,0.6579476861167002,0.6589537223340041,0.6599597585513078,0.6609657947686117,0.6619718309859155,0.6629778672032193,0.6639839034205232,0.6649899396378269,0.6659959758551308,0.6670020120724346,0.6680080482897385,0.6690140845070423,0.670020120724346,0.6710261569416499,0.6720321931589537,0.6730382293762576,0.6740442655935613,0.6750503018108652,0.676056338028169,0.6770623742454729,0.6780684104627767,0.6790744466800804,0.6800804828973843,0.6810865191146881,0.682092555331992,0.6830985915492958,0.6841046277665996,0.6851106639839034,0.6861167002012073,0.6871227364185111,0.6881287726358148,0.6891348088531187,0.6901408450704225,0.6911468812877264,0.6921529175050302,0.693158953722334,0.6941649899396378,0.6951710261569416,0.6961770623742455,0.6971830985915493,0.6981891348088531,0.6991951710261569,0.7002012072434608,0.7012072434607646,0.7022132796780685,0.7032193158953722,0.704225352112676,0.7052313883299799,0.7062374245472837,0.7072434607645876,0.7082494969818913,0.7092555331991952,0.710261569416499,0.7112676056338029,0.7122736418511066,0.7132796780684104,0.7142857142857143,0.7152917505030181,0.716297786720322,0.7173038229376257,0.7183098591549296,0.7193158953722334,0.7203219315895373,0.721327967806841,0.7223340040241448,0.7233400402414487,0.7243460764587525,0.7253521126760564,0.7263581488933601,0.727364185110664,0.7283702213279678,0.7293762575452716,0.7303822937625755,0.7313883299798792,0.7323943661971831,0.7334004024144869,0.7344064386317908,0.7354124748490946,0.7364185110663984,0.7374245472837022,0.738430583501006,0.7394366197183099,0.7404426559356136,0.7414486921529175,0.7424547283702213,0.7434607645875252,0.744466800804829,0.7454728370221329,0.7464788732394366,0.7474849094567404,0.7484909456740443,0.7494969818913481,0.7505030181086519,0.7515090543259557,0.7525150905432596,0.7535211267605634,0.7545271629778671,0.755533199195171,0.7565392354124748,0.7575452716297787,0.7585513078470825,0.7595573440643864,0.7605633802816901,0.761569416498994,0.7625754527162978,0.7635814889336016,0.7645875251509054,0.7655935613682092,0.7665995975855131,0.7676056338028169,0.7686116700201208,0.7696177062374245,0.7706237424547284,0.7716297786720322,0.772635814889336,0.7736418511066399,0.7746478873239436,0.7756539235412475,0.7766599597585513,0.7776659959758552,0.778672032193159,0.7796780684104627,0.7806841046277666,0.7816901408450704,0.7826961770623743,0.783702213279678,0.7847082494969819,0.7857142857142857,0.7867203219315896,0.7877263581488934,0.7887323943661971,0.789738430583501,0.7907444668008048,0.7917505030181087,0.7927565392354124,0.7937625754527163,0.7947686116700201,0.795774647887324,0.7967806841046278,0.7977867203219315,0.7987927565392354,0.7997987927565392,0.8008048289738431,0.8018108651911469,0.8028169014084507,0.8038229376257545,0.8048289738430584,0.8058350100603622,0.806841046277666,0.8078470824949698,0.8088531187122736,0.8098591549295775,0.8108651911468813,0.8118712273641852,0.8128772635814889,0.8138832997987927,0.8148893360160966,0.8158953722334004,0.8169014084507042,0.817907444668008,0.8189134808853119,0.8199195171026157,0.8209255533199196,0.8219315895372233,0.8229376257545271,0.823943661971831,0.8249496981891348,0.8259557344064387,0.8269617706237424,0.8279678068410463,0.8289738430583501,0.829979879275654,0.8309859154929577,0.8319919517102615,0.8329979879275654,0.8340040241448692,0.8350100603621731,0.8360160965794768,0.8370221327967807,0.8380281690140845,0.8390342052313883,0.8400402414486922,0.8410462776659959,0.8420523138832998,0.8430583501006036,0.8440643863179075,0.8450704225352113,0.8460764587525151,0.8470824949698189,0.8480885311871227,0.8490945674044266,0.8501006036217303,0.8511066398390342,0.852112676056338,0.8531187122736419,0.8541247484909457,0.8551307847082495,0.8561368209255533,0.8571428571428571,0.858148893360161,0.8591549295774648,0.8601609657947686,0.8611670020120724,0.8621730382293763,0.8631790744466801,0.864185110663984,0.8651911468812877,0.8661971830985915,0.8672032193158954,0.8682092555331992,0.869215291750503,0.8702213279678068,0.8712273641851107,0.8722334004024145,0.8732394366197183,0.8742454728370221,0.8752515090543259,0.8762575452716298,0.8772635814889336,0.8782696177062375,0.8792756539235412,0.8802816901408451,0.8812877263581489,0.8822937625754527,0.8832997987927566,0.8843058350100603,0.8853118712273642,0.886317907444668,0.8873239436619719,0.8883299798792756,0.8893360160965795,0.8903420523138833,0.8913480885311871,0.892354124748491,0.8933601609657947,0.8943661971830986,0.8953722334004024,0.8963782696177063,0.89738430583501,0.8983903420523138,0.8993963782696177,0.9004024144869215,0.9014084507042254,0.9024144869215291,0.903420523138833,0.9044265593561368,0.9054325955734407,0.9064386317907445,0.9074446680080482,0.9084507042253521,0.9094567404426559,0.9104627766599598,0.9114688128772636,0.9124748490945674,0.9134808853118712,0.9144869215291751,0.9154929577464789,0.9164989939637826,0.9175050301810865,0.9185110663983903,0.9195171026156942,0.920523138832998,0.9215291750503019,0.9225352112676056,0.9235412474849095,0.9245472837022133,0.9255533199195171,0.9265593561368209,0.9275653923541247,0.9285714285714286,0.9295774647887324,0.9305835010060363,0.93158953722334,0.9325955734406438,0.9336016096579477,0.9346076458752515,0.9356136820925554,0.9366197183098591,0.937625754527163,0.9386317907444668,0.9396378269617707,0.9406438631790744,0.9416498993963782,0.9426559356136821,0.9436619718309859,0.9446680080482898,0.9456740442655935,0.9466800804828974,0.9476861167002012,0.9486921529175051,0.9496981891348089,0.9507042253521126,0.9517102615694165,0.9527162977867203,0.9537223340040242,0.954728370221328,0.9557344064386318,0.9567404426559356,0.9577464788732394,0.9587525150905433,0.959758551307847,0.9607645875251509,0.9617706237424547,0.9627766599597586,0.9637826961770624,0.9647887323943662,0.96579476861167,0.9668008048289738,0.9678068410462777,0.9688128772635815,0.9698189134808853,0.9708249496981891,0.971830985915493,0.9728370221327968,0.9738430583501007,0.9748490945674044,0.9758551307847082,0.9768611670020121,0.9778672032193159,0.9788732394366197,0.9798792756539235,0.9808853118712274,0.9818913480885312,0.9828973843058351,0.9839034205231388,0.9849094567404426,0.9859154929577465,0.9869215291750503,0.9879275653923542,0.9889336016096579,0.9899396378269618,0.9909456740442656,0.9919517102615694,0.9929577464788732,0.993963782696177,0.9949698189134809,0.9959758551307847,0.9969818913480886,0.9979879275653923,0.9989939637826962,1.0],\"yaxis\":\"y3\",\"type\":\"scattergl\"}],                        {\"template\":{\"data\":{\"bar\":[{\"error_x\":{\"color\":\"#2a3f5f\"},\"error_y\":{\"color\":\"#2a3f5f\"},\"marker\":{\"line\":{\"color\":\"#E5ECF6\",\"width\":0.5},\"pattern\":{\"fillmode\":\"overlay\",\"size\":10,\"solidity\":0.2}},\"type\":\"bar\"}],\"barpolar\":[{\"marker\":{\"line\":{\"color\":\"#E5ECF6\",\"width\":0.5},\"pattern\":{\"fillmode\":\"overlay\",\"size\":10,\"solidity\":0.2}},\"type\":\"barpolar\"}],\"carpet\":[{\"aaxis\":{\"endlinecolor\":\"#2a3f5f\",\"gridcolor\":\"white\",\"linecolor\":\"white\",\"minorgridcolor\":\"white\",\"startlinecolor\":\"#2a3f5f\"},\"baxis\":{\"endlinecolor\":\"#2a3f5f\",\"gridcolor\":\"white\",\"linecolor\":\"white\",\"minorgridcolor\":\"white\",\"startlinecolor\":\"#2a3f5f\"},\"type\":\"carpet\"}],\"choropleth\":[{\"colorbar\":{\"outlinewidth\":0,\"ticks\":\"\"},\"type\":\"choropleth\"}],\"contour\":[{\"colorbar\":{\"outlinewidth\":0,\"ticks\":\"\"},\"colorscale\":[[0.0,\"#0d0887\"],[0.1111111111111111,\"#46039f\"],[0.2222222222222222,\"#7201a8\"],[0.3333333333333333,\"#9c179e\"],[0.4444444444444444,\"#bd3786\"],[0.5555555555555556,\"#d8576b\"],[0.6666666666666666,\"#ed7953\"],[0.7777777777777778,\"#fb9f3a\"],[0.8888888888888888,\"#fdca26\"],[1.0,\"#f0f921\"]],\"type\":\"contour\"}],\"contourcarpet\":[{\"colorbar\":{\"outlinewidth\":0,\"ticks\":\"\"},\"type\":\"contourcarpet\"}],\"heatmap\":[{\"colorbar\":{\"outlinewidth\":0,\"ticks\":\"\"},\"colorscale\":[[0.0,\"#0d0887\"],[0.1111111111111111,\"#46039f\"],[0.2222222222222222,\"#7201a8\"],[0.3333333333333333,\"#9c179e\"],[0.4444444444444444,\"#bd3786\"],[0.5555555555555556,\"#d8576b\"],[0.6666666666666666,\"#ed7953\"],[0.7777777777777778,\"#fb9f3a\"],[0.8888888888888888,\"#fdca26\"],[1.0,\"#f0f921\"]],\"type\":\"heatmap\"}],\"heatmapgl\":[{\"colorbar\":{\"outlinewidth\":0,\"ticks\":\"\"},\"colorscale\":[[0.0,\"#0d0887\"],[0.1111111111111111,\"#46039f\"],[0.2222222222222222,\"#7201a8\"],[0.3333333333333333,\"#9c179e\"],[0.4444444444444444,\"#bd3786\"],[0.5555555555555556,\"#d8576b\"],[0.6666666666666666,\"#ed7953\"],[0.7777777777777778,\"#fb9f3a\"],[0.8888888888888888,\"#fdca26\"],[1.0,\"#f0f921\"]],\"type\":\"heatmapgl\"}],\"histogram\":[{\"marker\":{\"pattern\":{\"fillmode\":\"overlay\",\"size\":10,\"solidity\":0.2}},\"type\":\"histogram\"}],\"histogram2d\":[{\"colorbar\":{\"outlinewidth\":0,\"ticks\":\"\"},\"colorscale\":[[0.0,\"#0d0887\"],[0.1111111111111111,\"#46039f\"],[0.2222222222222222,\"#7201a8\"],[0.3333333333333333,\"#9c179e\"],[0.4444444444444444,\"#bd3786\"],[0.5555555555555556,\"#d8576b\"],[0.6666666666666666,\"#ed7953\"],[0.7777777777777778,\"#fb9f3a\"],[0.8888888888888888,\"#fdca26\"],[1.0,\"#f0f921\"]],\"type\":\"histogram2d\"}],\"histogram2dcontour\":[{\"colorbar\":{\"outlinewidth\":0,\"ticks\":\"\"},\"colorscale\":[[0.0,\"#0d0887\"],[0.1111111111111111,\"#46039f\"],[0.2222222222222222,\"#7201a8\"],[0.3333333333333333,\"#9c179e\"],[0.4444444444444444,\"#bd3786\"],[0.5555555555555556,\"#d8576b\"],[0.6666666666666666,\"#ed7953\"],[0.7777777777777778,\"#fb9f3a\"],[0.8888888888888888,\"#fdca26\"],[1.0,\"#f0f921\"]],\"type\":\"histogram2dcontour\"}],\"mesh3d\":[{\"colorbar\":{\"outlinewidth\":0,\"ticks\":\"\"},\"type\":\"mesh3d\"}],\"parcoords\":[{\"line\":{\"colorbar\":{\"outlinewidth\":0,\"ticks\":\"\"}},\"type\":\"parcoords\"}],\"pie\":[{\"automargin\":true,\"type\":\"pie\"}],\"scatter\":[{\"marker\":{\"colorbar\":{\"outlinewidth\":0,\"ticks\":\"\"}},\"type\":\"scatter\"}],\"scatter3d\":[{\"line\":{\"colorbar\":{\"outlinewidth\":0,\"ticks\":\"\"}},\"marker\":{\"colorbar\":{\"outlinewidth\":0,\"ticks\":\"\"}},\"type\":\"scatter3d\"}],\"scattercarpet\":[{\"marker\":{\"colorbar\":{\"outlinewidth\":0,\"ticks\":\"\"}},\"type\":\"scattercarpet\"}],\"scattergeo\":[{\"marker\":{\"colorbar\":{\"outlinewidth\":0,\"ticks\":\"\"}},\"type\":\"scattergeo\"}],\"scattergl\":[{\"marker\":{\"colorbar\":{\"outlinewidth\":0,\"ticks\":\"\"}},\"type\":\"scattergl\"}],\"scattermapbox\":[{\"marker\":{\"colorbar\":{\"outlinewidth\":0,\"ticks\":\"\"}},\"type\":\"scattermapbox\"}],\"scatterpolar\":[{\"marker\":{\"colorbar\":{\"outlinewidth\":0,\"ticks\":\"\"}},\"type\":\"scatterpolar\"}],\"scatterpolargl\":[{\"marker\":{\"colorbar\":{\"outlinewidth\":0,\"ticks\":\"\"}},\"type\":\"scatterpolargl\"}],\"scatterternary\":[{\"marker\":{\"colorbar\":{\"outlinewidth\":0,\"ticks\":\"\"}},\"type\":\"scatterternary\"}],\"surface\":[{\"colorbar\":{\"outlinewidth\":0,\"ticks\":\"\"},\"colorscale\":[[0.0,\"#0d0887\"],[0.1111111111111111,\"#46039f\"],[0.2222222222222222,\"#7201a8\"],[0.3333333333333333,\"#9c179e\"],[0.4444444444444444,\"#bd3786\"],[0.5555555555555556,\"#d8576b\"],[0.6666666666666666,\"#ed7953\"],[0.7777777777777778,\"#fb9f3a\"],[0.8888888888888888,\"#fdca26\"],[1.0,\"#f0f921\"]],\"type\":\"surface\"}],\"table\":[{\"cells\":{\"fill\":{\"color\":\"#EBF0F8\"},\"line\":{\"color\":\"white\"}},\"header\":{\"fill\":{\"color\":\"#C8D4E3\"},\"line\":{\"color\":\"white\"}},\"type\":\"table\"}]},\"layout\":{\"annotationdefaults\":{\"arrowcolor\":\"#2a3f5f\",\"arrowhead\":0,\"arrowwidth\":1},\"autotypenumbers\":\"strict\",\"coloraxis\":{\"colorbar\":{\"outlinewidth\":0,\"ticks\":\"\"}},\"colorscale\":{\"diverging\":[[0,\"#8e0152\"],[0.1,\"#c51b7d\"],[0.2,\"#de77ae\"],[0.3,\"#f1b6da\"],[0.4,\"#fde0ef\"],[0.5,\"#f7f7f7\"],[0.6,\"#e6f5d0\"],[0.7,\"#b8e186\"],[0.8,\"#7fbc41\"],[0.9,\"#4d9221\"],[1,\"#276419\"]],\"sequential\":[[0.0,\"#0d0887\"],[0.1111111111111111,\"#46039f\"],[0.2222222222222222,\"#7201a8\"],[0.3333333333333333,\"#9c179e\"],[0.4444444444444444,\"#bd3786\"],[0.5555555555555556,\"#d8576b\"],[0.6666666666666666,\"#ed7953\"],[0.7777777777777778,\"#fb9f3a\"],[0.8888888888888888,\"#fdca26\"],[1.0,\"#f0f921\"]],\"sequentialminus\":[[0.0,\"#0d0887\"],[0.1111111111111111,\"#46039f\"],[0.2222222222222222,\"#7201a8\"],[0.3333333333333333,\"#9c179e\"],[0.4444444444444444,\"#bd3786\"],[0.5555555555555556,\"#d8576b\"],[0.6666666666666666,\"#ed7953\"],[0.7777777777777778,\"#fb9f3a\"],[0.8888888888888888,\"#fdca26\"],[1.0,\"#f0f921\"]]},\"colorway\":[\"#636efa\",\"#EF553B\",\"#00cc96\",\"#ab63fa\",\"#FFA15A\",\"#19d3f3\",\"#FF6692\",\"#B6E880\",\"#FF97FF\",\"#FECB52\"],\"font\":{\"color\":\"#2a3f5f\"},\"geo\":{\"bgcolor\":\"white\",\"lakecolor\":\"white\",\"landcolor\":\"#E5ECF6\",\"showlakes\":true,\"showland\":true,\"subunitcolor\":\"white\"},\"hoverlabel\":{\"align\":\"left\"},\"hovermode\":\"closest\",\"mapbox\":{\"style\":\"light\"},\"paper_bgcolor\":\"white\",\"plot_bgcolor\":\"#E5ECF6\",\"polar\":{\"angularaxis\":{\"gridcolor\":\"white\",\"linecolor\":\"white\",\"ticks\":\"\"},\"bgcolor\":\"#E5ECF6\",\"radialaxis\":{\"gridcolor\":\"white\",\"linecolor\":\"white\",\"ticks\":\"\"}},\"scene\":{\"xaxis\":{\"backgroundcolor\":\"#E5ECF6\",\"gridcolor\":\"white\",\"gridwidth\":2,\"linecolor\":\"white\",\"showbackground\":true,\"ticks\":\"\",\"zerolinecolor\":\"white\"},\"yaxis\":{\"backgroundcolor\":\"#E5ECF6\",\"gridcolor\":\"white\",\"gridwidth\":2,\"linecolor\":\"white\",\"showbackground\":true,\"ticks\":\"\",\"zerolinecolor\":\"white\"},\"zaxis\":{\"backgroundcolor\":\"#E5ECF6\",\"gridcolor\":\"white\",\"gridwidth\":2,\"linecolor\":\"white\",\"showbackground\":true,\"ticks\":\"\",\"zerolinecolor\":\"white\"}},\"shapedefaults\":{\"line\":{\"color\":\"#2a3f5f\"}},\"ternary\":{\"aaxis\":{\"gridcolor\":\"white\",\"linecolor\":\"white\",\"ticks\":\"\"},\"baxis\":{\"gridcolor\":\"white\",\"linecolor\":\"white\",\"ticks\":\"\"},\"bgcolor\":\"#E5ECF6\",\"caxis\":{\"gridcolor\":\"white\",\"linecolor\":\"white\",\"ticks\":\"\"}},\"title\":{\"x\":0.05},\"xaxis\":{\"automargin\":true,\"gridcolor\":\"white\",\"linecolor\":\"white\",\"ticks\":\"\",\"title\":{\"standoff\":15},\"zerolinecolor\":\"white\",\"zerolinewidth\":2},\"yaxis\":{\"automargin\":true,\"gridcolor\":\"white\",\"linecolor\":\"white\",\"ticks\":\"\",\"title\":{\"standoff\":15},\"zerolinecolor\":\"white\",\"zerolinewidth\":2}}},\"xaxis\":{\"anchor\":\"y\",\"domain\":[0.0,0.31999999999999995],\"title\":{\"text\":\"ups\"}},\"yaxis\":{\"anchor\":\"x\",\"domain\":[0.0,1.0],\"title\":{\"text\":\"probability\"},\"rangemode\":\"tozero\"},\"xaxis2\":{\"anchor\":\"y2\",\"domain\":[0.33999999999999997,0.6599999999999999],\"title\":{\"text\":\"ups\"}},\"yaxis2\":{\"anchor\":\"x2\",\"domain\":[0.0,1.0],\"matches\":\"y\",\"showticklabels\":false,\"rangemode\":\"tozero\"},\"xaxis3\":{\"anchor\":\"y3\",\"domain\":[0.6799999999999999,0.9999999999999999],\"title\":{\"text\":\"ups\"}},\"yaxis3\":{\"anchor\":\"x3\",\"domain\":[0.0,1.0],\"matches\":\"y\",\"showticklabels\":false,\"rangemode\":\"tozero\"},\"annotations\":[{\"font\":{},\"showarrow\":false,\"text\":\"r/news\",\"x\":0.15999999999999998,\"xanchor\":\"center\",\"xref\":\"paper\",\"y\":1.0,\"yanchor\":\"bottom\",\"yref\":\"paper\"},{\"font\":{},\"showarrow\":false,\"text\":\"r/science\",\"x\":0.49999999999999994,\"xanchor\":\"center\",\"xref\":\"paper\",\"y\":1.0,\"yanchor\":\"bottom\",\"yref\":\"paper\"},{\"font\":{},\"showarrow\":false,\"text\":\"r/worldnews\",\"x\":0.8399999999999999,\"xanchor\":\"center\",\"xref\":\"paper\",\"y\":1.0,\"yanchor\":\"bottom\",\"yref\":\"paper\"}],\"legend\":{\"tracegroupgap\":0},\"margin\":{\"t\":60},\"height\":400,\"width\":800},                        {\"responsive\": true}                    ).then(function(){\n",
              "                            \n",
              "var gd = document.getElementById('47e35875-e757-4d94-b696-d267f64e0450');\n",
              "var x = new MutationObserver(function (mutations, observer) {{\n",
              "        var display = window.getComputedStyle(gd).display;\n",
              "        if (!display || display === 'none') {{\n",
              "            console.log([gd, 'removed!']);\n",
              "            Plotly.purge(gd);\n",
              "            observer.disconnect();\n",
              "        }}\n",
              "}});\n",
              "\n",
              "// Listen for the removal of the full notebook cells\n",
              "var notebookContainer = gd.closest('#notebook-container');\n",
              "if (notebookContainer) {{\n",
              "    x.observe(notebookContainer, {childList: true});\n",
              "}}\n",
              "\n",
              "// Listen for the clearing of the current output cell\n",
              "var outputEl = gd.closest('.output');\n",
              "if (outputEl) {{\n",
              "    x.observe(outputEl, {childList: true});\n",
              "}}\n",
              "\n",
              "                        })                };                            </script>        </div>\n",
              "</body>\n",
              "</html>"
            ]
          },
          "metadata": {}
        }
      ],
      "source": [
        "import plotly.express as px\n",
        "\n",
        "fig = px.ecdf(part2_data[part2_data.subreddit_name_prefixed.isin([\"r/news\",\"r/worldnews\",\"r/science\"])], \n",
        "              x=\"ups\",\n",
        "              facet_col='subreddit_name_prefixed',\n",
        "             height=400,width=800)\n",
        "fig.for_each_annotation(lambda a: a.update(text=a.text.split(\"=\")[-1]))\n",
        "fig.update_xaxes(matches=None)\n",
        "fig.show()"
      ]
    },
    {
      "cell_type": "markdown",
      "metadata": {
        "id": "GgvsTZReyIz8"
      },
      "source": [
        "### Temporal Trends \n",
        "\n",
        "To answer this question we are going to plot the average upvotes and number of top posts of a subreddit in our dataset per each year.\n",
        "\n",
        "First, add a ```year``` column to the data, that represents the year in which the post was sent. You likely want to use the [pandas documentation on dates and times](https://pandas.pydata.org/pandas-docs/stable/user_guide/timeseries.html) for this."
      ]
    },
    {
      "cell_type": "code",
      "execution_count": 132,
      "metadata": {
        "id": "r1XNoF99yIz8",
        "colab": {
          "base_uri": "https://localhost:8080/"
        },
        "outputId": "cbd83dd8-2a11-44f6-b026-9e5d29f5d14c"
      },
      "outputs": [
        {
          "output_type": "execute_result",
          "data": {
            "text/plain": [
              "0        2020\n",
              "1        2017\n",
              "2        2017\n",
              "3        2019\n",
              "4        2018\n",
              "         ... \n",
              "22963    2021\n",
              "22964    2021\n",
              "22965    2019\n",
              "22966    2020\n",
              "22967    2015\n",
              "Name: year, Length: 22968, dtype: int64"
            ]
          },
          "metadata": {},
          "execution_count": 132
        }
      ],
      "source": [
        "# Add the year column\n",
        "from datetime import datetime\n",
        "\n",
        "part2_data['year'] = part2_data.created_utc.apply(lambda x : datetime.fromtimestamp(x).year)\n",
        "part2_data['year']"
      ]
    },
    {
      "cell_type": "markdown",
      "metadata": {
        "id": "a2lx_LBNyIz9"
      },
      "source": [
        "As a check on this column, answer the following question:\n",
        "- **2.2.5** - How many posts in the dataset were sent in 2010?"
      ]
    },
    {
      "cell_type": "code",
      "execution_count": 133,
      "metadata": {
        "id": "4Sdn_6yGyIz9",
        "colab": {
          "base_uri": "https://localhost:8080/"
        },
        "outputId": "aef32dc2-31d4-4ab7-ed45-240fb315f366"
      },
      "outputs": [
        {
          "output_type": "stream",
          "name": "stdout",
          "text": [
            "[35]\n"
          ]
        }
      ],
      "source": [
        "# Code for 2.2.5 here\n",
        "# for(i in part2_data['year'] == 2010):\n",
        "temp1 = part2_data.loc[part2_data['year'] == 2010]\n",
        "print(temp1['num_crossposts'].value_counts().values)"
      ]
    },
    {
      "cell_type": "markdown",
      "metadata": {
        "id": "0aKVspohyIz-"
      },
      "source": [
        "Now, we're going to plot the **yearly trend** of average upvotes for each subreddit.\n",
        "\n",
        "**Hint: We will assume that the average upvotes for a given subreddit in a given year is zero when there are no top posts for that subreddit in that year.** To accurately reflect this, you will have to make sure to account for this case.\n"
      ]
    },
    {
      "cell_type": "code",
      "execution_count": 134,
      "metadata": {
        "id": "QGexkNj8yIz-",
        "colab": {
          "base_uri": "https://localhost:8080/",
          "height": 817
        },
        "outputId": "d13975da-1557-441c-dd1f-3fee3db09298"
      },
      "outputs": [
        {
          "output_type": "display_data",
          "data": {
            "text/html": [
              "<html>\n",
              "<head><meta charset=\"utf-8\" /></head>\n",
              "<body>\n",
              "    <div>            <script src=\"https://cdnjs.cloudflare.com/ajax/libs/mathjax/2.7.5/MathJax.js?config=TeX-AMS-MML_SVG\"></script><script type=\"text/javascript\">if (window.MathJax) {MathJax.Hub.Config({SVG: {font: \"STIX-Web\"}});}</script>                <script type=\"text/javascript\">window.PlotlyConfig = {MathJaxConfig: 'local'};</script>\n",
              "        <script src=\"https://cdn.plot.ly/plotly-2.8.3.min.js\"></script>                <div id=\"b5224b53-eca1-4c4f-a80d-c448088c1f2d\" class=\"plotly-graph-div\" style=\"height:800px; width:1200px;\"></div>            <script type=\"text/javascript\">                                    window.PLOTLYENV=window.PLOTLYENV || {};                                    if (document.getElementById(\"b5224b53-eca1-4c4f-a80d-c448088c1f2d\")) {                    Plotly.newPlot(                        \"b5224b53-eca1-4c4f-a80d-c448088c1f2d\",                        [{\"alignmentgroup\":\"True\",\"hovertemplate\":\"subreddit_name_prefixed=r/hockey<br>year=%{x}<br>ups=%{y}<extra></extra>\",\"legendgroup\":\"\",\"marker\":{\"color\":\"#636efa\",\"pattern\":{\"shape\":\"\"}},\"name\":\"\",\"offsetgroup\":\"\",\"orientation\":\"v\",\"showlegend\":false,\"textposition\":\"auto\",\"x\":[\"2009\",\"2010\",\"2011\",\"2012\",\"2013\",\"2014\",\"2015\",\"2016\",\"2017\",\"2018\",\"2019\",\"2020\",\"2021\",\"2022\"],\"xaxis\":\"x17\",\"y\":[0.0,0.0,0.0,0.0,0.0,8781.75,9179.619047619048,9575.51724137931,10648.855172413792,10968.069444444445,10406.097142857143,11346.226130653265,10354.232227488152,7518.642857142857],\"yaxis\":\"y17\",\"type\":\"bar\"},{\"alignmentgroup\":\"True\",\"hovertemplate\":\"subreddit_name_prefixed=r/PoliticalHumor<br>year=%{x}<br>ups=%{y}<extra></extra>\",\"legendgroup\":\"\",\"marker\":{\"color\":\"#636efa\",\"pattern\":{\"shape\":\"\"}},\"name\":\"\",\"offsetgroup\":\"\",\"orientation\":\"v\",\"showlegend\":false,\"textposition\":\"auto\",\"x\":[\"2009\",\"2010\",\"2011\",\"2012\",\"2013\",\"2014\",\"2015\",\"2016\",\"2017\",\"2018\",\"2019\",\"2020\",\"2021\",\"2022\"],\"xaxis\":\"x18\",\"y\":[0.0,0.0,0.0,0.0,0.0,0.0,0.0,57631.0,48455.944444444445,48586.22784810127,52951.180555555555,60468.54691689008,58417.011494252874,54052.833333333336],\"yaxis\":\"y18\",\"type\":\"bar\"},{\"alignmentgroup\":\"True\",\"hovertemplate\":\"subreddit_name_prefixed=r/news<br>year=%{x}<br>ups=%{y}<extra></extra>\",\"legendgroup\":\"\",\"marker\":{\"color\":\"#636efa\",\"pattern\":{\"shape\":\"\"}},\"name\":\"\",\"offsetgroup\":\"\",\"orientation\":\"v\",\"showlegend\":false,\"textposition\":\"auto\",\"x\":[\"2009\",\"2010\",\"2011\",\"2012\",\"2013\",\"2014\",\"2015\",\"2016\",\"2017\",\"2018\",\"2019\",\"2020\",\"2021\",\"2022\"],\"xaxis\":\"x19\",\"y\":[0.0,0.0,0.0,0.0,0.0,0.0,91706.0,74708.33333333333,83488.43835616438,81691.56302521008,81209.203125,86168.37823834197,86075.10566037736,77173.86666666667],\"yaxis\":\"y19\",\"type\":\"bar\"},{\"alignmentgroup\":\"True\",\"hovertemplate\":\"subreddit_name_prefixed=r/science<br>year=%{x}<br>ups=%{y}<extra></extra>\",\"legendgroup\":\"\",\"marker\":{\"color\":\"#636efa\",\"pattern\":{\"shape\":\"\"}},\"name\":\"\",\"offsetgroup\":\"\",\"orientation\":\"v\",\"showlegend\":false,\"textposition\":\"auto\",\"x\":[\"2009\",\"2010\",\"2011\",\"2012\",\"2013\",\"2014\",\"2015\",\"2016\",\"2017\",\"2018\",\"2019\",\"2020\",\"2021\",\"2022\"],\"xaxis\":\"x20\",\"y\":[0.0,0.0,0.0,0.0,0.0,0.0,59068.333333333336,47770.57142857143,56241.153846153844,54966.05517241379,55452.04905660378,57476.879377431906,55734.14159292035,47803.6],\"yaxis\":\"y20\",\"type\":\"bar\"},{\"alignmentgroup\":\"True\",\"hovertemplate\":\"subreddit_name_prefixed=r/WritingPrompts<br>year=%{x}<br>ups=%{y}<extra></extra>\",\"legendgroup\":\"\",\"marker\":{\"color\":\"#636efa\",\"pattern\":{\"shape\":\"\"}},\"name\":\"\",\"offsetgroup\":\"\",\"orientation\":\"v\",\"showlegend\":false,\"textposition\":\"auto\",\"x\":[\"2009\",\"2010\",\"2011\",\"2012\",\"2013\",\"2014\",\"2015\",\"2016\",\"2017\",\"2018\",\"2019\",\"2020\",\"2021\",\"2022\"],\"xaxis\":\"x21\",\"y\":[0.0,0.0,0.0,0.0,0.0,0.0,10032.0,12599.214285714286,14579.892655367232,13218.993103448276,11937.722448979592,11611.753424657534,11059.871794871795,0.0],\"yaxis\":\"y21\",\"type\":\"bar\"},{\"alignmentgroup\":\"True\",\"hovertemplate\":\"subreddit_name_prefixed=r/Showerthoughts<br>year=%{x}<br>ups=%{y}<extra></extra>\",\"legendgroup\":\"\",\"marker\":{\"color\":\"#636efa\",\"pattern\":{\"shape\":\"\"}},\"name\":\"\",\"offsetgroup\":\"\",\"orientation\":\"v\",\"showlegend\":false,\"textposition\":\"auto\",\"x\":[\"2009\",\"2010\",\"2011\",\"2012\",\"2013\",\"2014\",\"2015\",\"2016\",\"2017\",\"2018\",\"2019\",\"2020\",\"2021\",\"2022\"],\"xaxis\":\"x22\",\"y\":[0.0,0.0,0.0,0.0,0.0,0.0,62256.5,63744.0,71726.03896103895,73116.65198237885,74024.5617977528,73116.88888888889,67023.54098360655,65742.375],\"yaxis\":\"y22\",\"type\":\"bar\"},{\"alignmentgroup\":\"True\",\"hovertemplate\":\"subreddit_name_prefixed=r/worldnews<br>year=%{x}<br>ups=%{y}<extra></extra>\",\"legendgroup\":\"\",\"marker\":{\"color\":\"#636efa\",\"pattern\":{\"shape\":\"\"}},\"name\":\"\",\"offsetgroup\":\"\",\"orientation\":\"v\",\"showlegend\":false,\"textposition\":\"auto\",\"x\":[\"2009\",\"2010\",\"2011\",\"2012\",\"2013\",\"2014\",\"2015\",\"2016\",\"2017\",\"2018\",\"2019\",\"2020\",\"2021\",\"2022\"],\"xaxis\":\"x23\",\"y\":[0.0,0.0,0.0,0.0,0.0,0.0,88093.2,88268.09090909091,85077.80582524271,86687.15267175573,86935.0052631579,90028.23907455013,88105.04487179487,91029.22222222222],\"yaxis\":\"y23\",\"type\":\"bar\"},{\"alignmentgroup\":\"True\",\"hovertemplate\":\"subreddit_name_prefixed=r/todayilearned<br>year=%{x}<br>ups=%{y}<extra></extra>\",\"legendgroup\":\"\",\"marker\":{\"color\":\"#636efa\",\"pattern\":{\"shape\":\"\"}},\"name\":\"\",\"offsetgroup\":\"\",\"orientation\":\"v\",\"showlegend\":false,\"textposition\":\"auto\",\"x\":[\"2009\",\"2010\",\"2011\",\"2012\",\"2013\",\"2014\",\"2015\",\"2016\",\"2017\",\"2018\",\"2019\",\"2020\",\"2021\",\"2022\"],\"xaxis\":\"x24\",\"y\":[0.0,0.0,0.0,0.0,0.0,0.0,0.0,86448.5,86532.53012048193,86450.91701244813,86527.67592592593,89350.82059800664,88649.0303030303,77907.8],\"yaxis\":\"y24\",\"type\":\"bar\"},{\"alignmentgroup\":\"True\",\"hovertemplate\":\"subreddit_name_prefixed=r/learnprogramming<br>year=%{x}<br>ups=%{y}<extra></extra>\",\"legendgroup\":\"\",\"marker\":{\"color\":\"#636efa\",\"pattern\":{\"shape\":\"\"}},\"name\":\"\",\"offsetgroup\":\"\",\"orientation\":\"v\",\"showlegend\":false,\"textposition\":\"auto\",\"x\":[\"2009\",\"2010\",\"2011\",\"2012\",\"2013\",\"2014\",\"2015\",\"2016\",\"2017\",\"2018\",\"2019\",\"2020\",\"2021\",\"2022\"],\"xaxis\":\"x9\",\"y\":[0.0,0.0,0.0,968.0,1083.8333333333333,1165.0,1633.7666666666667,2240.6304347826085,1779.8170731707316,1656.211009174312,1625.13698630137,1879.5358490566039,1836.2563176895308,1588.448275862069],\"yaxis\":\"y9\",\"type\":\"bar\"},{\"alignmentgroup\":\"True\",\"hovertemplate\":\"subreddit_name_prefixed=r/announcements<br>year=%{x}<br>ups=%{y}<extra></extra>\",\"legendgroup\":\"\",\"marker\":{\"color\":\"#636efa\",\"pattern\":{\"shape\":\"\"}},\"name\":\"\",\"offsetgroup\":\"\",\"orientation\":\"v\",\"showlegend\":false,\"textposition\":\"auto\",\"x\":[\"2009\",\"2010\",\"2011\",\"2012\",\"2013\",\"2014\",\"2015\",\"2016\",\"2017\",\"2018\",\"2019\",\"2020\",\"2021\",\"2022\"],\"xaxis\":\"x10\",\"y\":[572.6666666666666,1616.3142857142857,1702.3333333333333,1994.5,2009.5,4859.333333333333,15557.611111111111,15988.09090909091,38861.27272727273,38810.730769230766,19390.846153846152,35422.5,24220.4,0.0],\"yaxis\":\"y10\",\"type\":\"bar\"},{\"alignmentgroup\":\"True\",\"hovertemplate\":\"subreddit_name_prefixed=r/funny<br>year=%{x}<br>ups=%{y}<extra></extra>\",\"legendgroup\":\"\",\"marker\":{\"color\":\"#636efa\",\"pattern\":{\"shape\":\"\"}},\"name\":\"\",\"offsetgroup\":\"\",\"orientation\":\"v\",\"showlegend\":false,\"textposition\":\"auto\",\"x\":[\"2009\",\"2010\",\"2011\",\"2012\",\"2013\",\"2014\",\"2015\",\"2016\",\"2017\",\"2018\",\"2019\",\"2020\",\"2021\",\"2022\"],\"xaxis\":\"x11\",\"y\":[0.0,0.0,0.0,0.0,0.0,0.0,0.0,150272.4,118967.7969924812,118896.5519125683,114482.21111111112,118860.59531772575,116723.82386363637,110298.5],\"yaxis\":\"y11\",\"type\":\"bar\"},{\"alignmentgroup\":\"True\",\"hovertemplate\":\"subreddit_name_prefixed=r/food<br>year=%{x}<br>ups=%{y}<extra></extra>\",\"legendgroup\":\"\",\"marker\":{\"color\":\"#636efa\",\"pattern\":{\"shape\":\"\"}},\"name\":\"\",\"offsetgroup\":\"\",\"orientation\":\"v\",\"showlegend\":false,\"textposition\":\"auto\",\"x\":[\"2009\",\"2010\",\"2011\",\"2012\",\"2013\",\"2014\",\"2015\",\"2016\",\"2017\",\"2018\",\"2019\",\"2020\",\"2021\",\"2022\"],\"xaxis\":\"x12\",\"y\":[0.0,0.0,0.0,0.0,0.0,0.0,20958.0,26743.2,26682.222222222223,27088.626984126986,27224.7,27980.937007874014,28350.510067114094,29243.6],\"yaxis\":\"y12\",\"type\":\"bar\"},{\"alignmentgroup\":\"True\",\"hovertemplate\":\"subreddit_name_prefixed=r/Jokes<br>year=%{x}<br>ups=%{y}<extra></extra>\",\"legendgroup\":\"\",\"marker\":{\"color\":\"#636efa\",\"pattern\":{\"shape\":\"\"}},\"name\":\"\",\"offsetgroup\":\"\",\"orientation\":\"v\",\"showlegend\":false,\"textposition\":\"auto\",\"x\":[\"2009\",\"2010\",\"2011\",\"2012\",\"2013\",\"2014\",\"2015\",\"2016\",\"2017\",\"2018\",\"2019\",\"2020\",\"2021\",\"2022\"],\"xaxis\":\"x13\",\"y\":[0.0,0.0,0.0,0.0,0.0,0.0,36912.0,46149.77272727273,43775.80722891566,40628.129166666666,39918.954081632655,40619.37308868502,38997.34090909091,42333.0],\"yaxis\":\"y13\",\"type\":\"bar\"},{\"alignmentgroup\":\"True\",\"hovertemplate\":\"subreddit_name_prefixed=r/gadgets<br>year=%{x}<br>ups=%{y}<extra></extra>\",\"legendgroup\":\"\",\"marker\":{\"color\":\"#636efa\",\"pattern\":{\"shape\":\"\"}},\"name\":\"\",\"offsetgroup\":\"\",\"orientation\":\"v\",\"showlegend\":false,\"textposition\":\"auto\",\"x\":[\"2009\",\"2010\",\"2011\",\"2012\",\"2013\",\"2014\",\"2015\",\"2016\",\"2017\",\"2018\",\"2019\",\"2020\",\"2021\",\"2022\"],\"xaxis\":\"x14\",\"y\":[0.0,0.0,0.0,0.0,0.0,0.0,8030.25,10340.283783783783,13910.304,14237.094017094018,11896.247368421053,13116.649289099527,13540.448275862069,10858.923076923076],\"yaxis\":\"y14\",\"type\":\"bar\"},{\"alignmentgroup\":\"True\",\"hovertemplate\":\"subreddit_name_prefixed=r/sports<br>year=%{x}<br>ups=%{y}<extra></extra>\",\"legendgroup\":\"\",\"marker\":{\"color\":\"#636efa\",\"pattern\":{\"shape\":\"\"}},\"name\":\"\",\"offsetgroup\":\"\",\"orientation\":\"v\",\"showlegend\":false,\"textposition\":\"auto\",\"x\":[\"2009\",\"2010\",\"2011\",\"2012\",\"2013\",\"2014\",\"2015\",\"2016\",\"2017\",\"2018\",\"2019\",\"2020\",\"2021\",\"2022\"],\"xaxis\":\"x15\",\"y\":[0.0,0.0,0.0,0.0,0.0,0.0,41329.0,33825.208333333336,44395.96218487395,45394.08077994429,43942.596026490064,43093.1512605042,40285.81967213115,41805.71428571428],\"yaxis\":\"y15\",\"type\":\"bar\"},{\"alignmentgroup\":\"True\",\"hovertemplate\":\"subreddit_name_prefixed=r/cats<br>year=%{x}<br>ups=%{y}<extra></extra>\",\"legendgroup\":\"\",\"marker\":{\"color\":\"#636efa\",\"pattern\":{\"shape\":\"\"}},\"name\":\"\",\"offsetgroup\":\"\",\"orientation\":\"v\",\"showlegend\":false,\"textposition\":\"auto\",\"x\":[\"2009\",\"2010\",\"2011\",\"2012\",\"2013\",\"2014\",\"2015\",\"2016\",\"2017\",\"2018\",\"2019\",\"2020\",\"2021\",\"2022\"],\"xaxis\":\"x16\",\"y\":[0.0,0.0,0.0,0.0,0.0,0.0,0.0,18791.0,21415.2,19230.842105263157,20655.755555555555,20682.180952380953,30020.4381270903,30144.676056338027],\"yaxis\":\"y16\",\"type\":\"bar\"},{\"alignmentgroup\":\"True\",\"hovertemplate\":\"subreddit_name_prefixed=r/gaming<br>year=%{x}<br>ups=%{y}<extra></extra>\",\"legendgroup\":\"\",\"marker\":{\"color\":\"#636efa\",\"pattern\":{\"shape\":\"\"}},\"name\":\"\",\"offsetgroup\":\"\",\"orientation\":\"v\",\"showlegend\":false,\"textposition\":\"auto\",\"x\":[\"2009\",\"2010\",\"2011\",\"2012\",\"2013\",\"2014\",\"2015\",\"2016\",\"2017\",\"2018\",\"2019\",\"2020\",\"2021\",\"2022\"],\"xaxis\":\"x\",\"y\":[0.0,0.0,0.0,0.0,0.0,0.0,0.0,104355.0,106977.72222222222,104226.50303030304,103485.34418604651,105186.41082802547,103093.13402061856,101451.92857142857],\"yaxis\":\"y\",\"type\":\"bar\"},{\"alignmentgroup\":\"True\",\"hovertemplate\":\"subreddit_name_prefixed=r/books<br>year=%{x}<br>ups=%{y}<extra></extra>\",\"legendgroup\":\"\",\"marker\":{\"color\":\"#636efa\",\"pattern\":{\"shape\":\"\"}},\"name\":\"\",\"offsetgroup\":\"\",\"orientation\":\"v\",\"showlegend\":false,\"textposition\":\"auto\",\"x\":[\"2009\",\"2010\",\"2011\",\"2012\",\"2013\",\"2014\",\"2015\",\"2016\",\"2017\",\"2018\",\"2019\",\"2020\",\"2021\",\"2022\"],\"xaxis\":\"x2\",\"y\":[0.0,0.0,0.0,0.0,0.0,11775.0,12121.92,14553.218390804597,20173.668604651164,18224.09411764706,17735.887573964497,19245.58883248731,16134.5875,12222.111111111111],\"yaxis\":\"y2\",\"type\":\"bar\"},{\"alignmentgroup\":\"True\",\"hovertemplate\":\"subreddit_name_prefixed=r/conspiracy<br>year=%{x}<br>ups=%{y}<extra></extra>\",\"legendgroup\":\"\",\"marker\":{\"color\":\"#636efa\",\"pattern\":{\"shape\":\"\"}},\"name\":\"\",\"offsetgroup\":\"\",\"orientation\":\"v\",\"showlegend\":false,\"textposition\":\"auto\",\"x\":[\"2009\",\"2010\",\"2011\",\"2012\",\"2013\",\"2014\",\"2015\",\"2016\",\"2017\",\"2018\",\"2019\",\"2020\",\"2021\",\"2022\"],\"xaxis\":\"x3\",\"y\":[0.0,0.0,0.0,0.0,6550.0,7643.285714285715,10796.241379310344,10238.174311926605,10982.908163265307,11041.162790697674,11522.46794871795,10273.173669467787,9473.567567567568,8368.0],\"yaxis\":\"y3\",\"type\":\"bar\"},{\"alignmentgroup\":\"True\",\"hovertemplate\":\"subreddit_name_prefixed=r/technology<br>year=%{x}<br>ups=%{y}<extra></extra>\",\"legendgroup\":\"\",\"marker\":{\"color\":\"#636efa\",\"pattern\":{\"shape\":\"\"}},\"name\":\"\",\"offsetgroup\":\"\",\"orientation\":\"v\",\"showlegend\":false,\"textposition\":\"auto\",\"x\":[\"2009\",\"2010\",\"2011\",\"2012\",\"2013\",\"2014\",\"2015\",\"2016\",\"2017\",\"2018\",\"2019\",\"2020\",\"2021\",\"2022\"],\"xaxis\":\"x4\",\"y\":[0.0,0.0,0.0,0.0,0.0,40332.63157894737,41922.42857142857,40859.15909090909,51911.30872483221,47986.704545454544,46567.11627906977,48714.43529411765,50654.137931034486,44987.27272727273],\"yaxis\":\"y4\",\"type\":\"bar\"},{\"alignmentgroup\":\"True\",\"hovertemplate\":\"subreddit_name_prefixed=r/memes<br>year=%{x}<br>ups=%{y}<extra></extra>\",\"legendgroup\":\"\",\"marker\":{\"color\":\"#636efa\",\"pattern\":{\"shape\":\"\"}},\"name\":\"\",\"offsetgroup\":\"\",\"orientation\":\"v\",\"showlegend\":false,\"textposition\":\"auto\",\"x\":[\"2009\",\"2010\",\"2011\",\"2012\",\"2013\",\"2014\",\"2015\",\"2016\",\"2017\",\"2018\",\"2019\",\"2020\",\"2021\",\"2022\"],\"xaxis\":\"x5\",\"y\":[0.0,0.0,0.0,0.0,0.0,0.0,0.0,0.0,0.0,131206.0,135859.12698412698,141141.42730496454,138620.8202247191,127305.75],\"yaxis\":\"y5\",\"type\":\"bar\"},{\"alignmentgroup\":\"True\",\"hovertemplate\":\"subreddit_name_prefixed=r/mildlyinteresting<br>year=%{x}<br>ups=%{y}<extra></extra>\",\"legendgroup\":\"\",\"marker\":{\"color\":\"#636efa\",\"pattern\":{\"shape\":\"\"}},\"name\":\"\",\"offsetgroup\":\"\",\"orientation\":\"v\",\"showlegend\":false,\"textposition\":\"auto\",\"x\":[\"2009\",\"2010\",\"2011\",\"2012\",\"2013\",\"2014\",\"2015\",\"2016\",\"2017\",\"2018\",\"2019\",\"2020\",\"2021\",\"2022\"],\"xaxis\":\"x6\",\"y\":[0.0,0.0,0.0,0.0,0.0,0.0,0.0,71639.66666666667,82352.98888888888,82741.21198156683,83701.07142857143,83676.93518518518,84829.86153846154,90813.66666666667],\"yaxis\":\"y6\",\"type\":\"bar\"},{\"alignmentgroup\":\"True\",\"hovertemplate\":\"subreddit_name_prefixed=r/aww<br>year=%{x}<br>ups=%{y}<extra></extra>\",\"legendgroup\":\"\",\"marker\":{\"color\":\"#636efa\",\"pattern\":{\"shape\":\"\"}},\"name\":\"\",\"offsetgroup\":\"\",\"orientation\":\"v\",\"showlegend\":false,\"textposition\":\"auto\",\"x\":[\"2009\",\"2010\",\"2011\",\"2012\",\"2013\",\"2014\",\"2015\",\"2016\",\"2017\",\"2018\",\"2019\",\"2020\",\"2021\",\"2022\"],\"xaxis\":\"x7\",\"y\":[0.0,0.0,0.0,0.0,0.0,0.0,0.0,102640.0,111378.95945945945,114886.51829268293,117961.77674418605,116547.86855670103,113890.81081081081,116310.83333333333],\"yaxis\":\"y7\",\"type\":\"bar\"},{\"alignmentgroup\":\"True\",\"hovertemplate\":\"subreddit_name_prefixed=r/travel<br>year=%{x}<br>ups=%{y}<extra></extra>\",\"legendgroup\":\"\",\"marker\":{\"color\":\"#636efa\",\"pattern\":{\"shape\":\"\"}},\"name\":\"\",\"offsetgroup\":\"\",\"orientation\":\"v\",\"showlegend\":false,\"textposition\":\"auto\",\"x\":[\"2009\",\"2010\",\"2011\",\"2012\",\"2013\",\"2014\",\"2015\",\"2016\",\"2017\",\"2018\",\"2019\",\"2020\",\"2021\",\"2022\"],\"xaxis\":\"x8\",\"y\":[0.0,0.0,0.0,0.0,0.0,0.0,0.0,9739.266666666666,9025.04255319149,9175.81543624161,7305.359683794466,7698.989528795812,7319.854166666667,6497.4],\"yaxis\":\"y8\",\"type\":\"bar\"}],                        {\"template\":{\"data\":{\"bar\":[{\"error_x\":{\"color\":\"#2a3f5f\"},\"error_y\":{\"color\":\"#2a3f5f\"},\"marker\":{\"line\":{\"color\":\"#E5ECF6\",\"width\":0.5},\"pattern\":{\"fillmode\":\"overlay\",\"size\":10,\"solidity\":0.2}},\"type\":\"bar\"}],\"barpolar\":[{\"marker\":{\"line\":{\"color\":\"#E5ECF6\",\"width\":0.5},\"pattern\":{\"fillmode\":\"overlay\",\"size\":10,\"solidity\":0.2}},\"type\":\"barpolar\"}],\"carpet\":[{\"aaxis\":{\"endlinecolor\":\"#2a3f5f\",\"gridcolor\":\"white\",\"linecolor\":\"white\",\"minorgridcolor\":\"white\",\"startlinecolor\":\"#2a3f5f\"},\"baxis\":{\"endlinecolor\":\"#2a3f5f\",\"gridcolor\":\"white\",\"linecolor\":\"white\",\"minorgridcolor\":\"white\",\"startlinecolor\":\"#2a3f5f\"},\"type\":\"carpet\"}],\"choropleth\":[{\"colorbar\":{\"outlinewidth\":0,\"ticks\":\"\"},\"type\":\"choropleth\"}],\"contour\":[{\"colorbar\":{\"outlinewidth\":0,\"ticks\":\"\"},\"colorscale\":[[0.0,\"#0d0887\"],[0.1111111111111111,\"#46039f\"],[0.2222222222222222,\"#7201a8\"],[0.3333333333333333,\"#9c179e\"],[0.4444444444444444,\"#bd3786\"],[0.5555555555555556,\"#d8576b\"],[0.6666666666666666,\"#ed7953\"],[0.7777777777777778,\"#fb9f3a\"],[0.8888888888888888,\"#fdca26\"],[1.0,\"#f0f921\"]],\"type\":\"contour\"}],\"contourcarpet\":[{\"colorbar\":{\"outlinewidth\":0,\"ticks\":\"\"},\"type\":\"contourcarpet\"}],\"heatmap\":[{\"colorbar\":{\"outlinewidth\":0,\"ticks\":\"\"},\"colorscale\":[[0.0,\"#0d0887\"],[0.1111111111111111,\"#46039f\"],[0.2222222222222222,\"#7201a8\"],[0.3333333333333333,\"#9c179e\"],[0.4444444444444444,\"#bd3786\"],[0.5555555555555556,\"#d8576b\"],[0.6666666666666666,\"#ed7953\"],[0.7777777777777778,\"#fb9f3a\"],[0.8888888888888888,\"#fdca26\"],[1.0,\"#f0f921\"]],\"type\":\"heatmap\"}],\"heatmapgl\":[{\"colorbar\":{\"outlinewidth\":0,\"ticks\":\"\"},\"colorscale\":[[0.0,\"#0d0887\"],[0.1111111111111111,\"#46039f\"],[0.2222222222222222,\"#7201a8\"],[0.3333333333333333,\"#9c179e\"],[0.4444444444444444,\"#bd3786\"],[0.5555555555555556,\"#d8576b\"],[0.6666666666666666,\"#ed7953\"],[0.7777777777777778,\"#fb9f3a\"],[0.8888888888888888,\"#fdca26\"],[1.0,\"#f0f921\"]],\"type\":\"heatmapgl\"}],\"histogram\":[{\"marker\":{\"pattern\":{\"fillmode\":\"overlay\",\"size\":10,\"solidity\":0.2}},\"type\":\"histogram\"}],\"histogram2d\":[{\"colorbar\":{\"outlinewidth\":0,\"ticks\":\"\"},\"colorscale\":[[0.0,\"#0d0887\"],[0.1111111111111111,\"#46039f\"],[0.2222222222222222,\"#7201a8\"],[0.3333333333333333,\"#9c179e\"],[0.4444444444444444,\"#bd3786\"],[0.5555555555555556,\"#d8576b\"],[0.6666666666666666,\"#ed7953\"],[0.7777777777777778,\"#fb9f3a\"],[0.8888888888888888,\"#fdca26\"],[1.0,\"#f0f921\"]],\"type\":\"histogram2d\"}],\"histogram2dcontour\":[{\"colorbar\":{\"outlinewidth\":0,\"ticks\":\"\"},\"colorscale\":[[0.0,\"#0d0887\"],[0.1111111111111111,\"#46039f\"],[0.2222222222222222,\"#7201a8\"],[0.3333333333333333,\"#9c179e\"],[0.4444444444444444,\"#bd3786\"],[0.5555555555555556,\"#d8576b\"],[0.6666666666666666,\"#ed7953\"],[0.7777777777777778,\"#fb9f3a\"],[0.8888888888888888,\"#fdca26\"],[1.0,\"#f0f921\"]],\"type\":\"histogram2dcontour\"}],\"mesh3d\":[{\"colorbar\":{\"outlinewidth\":0,\"ticks\":\"\"},\"type\":\"mesh3d\"}],\"parcoords\":[{\"line\":{\"colorbar\":{\"outlinewidth\":0,\"ticks\":\"\"}},\"type\":\"parcoords\"}],\"pie\":[{\"automargin\":true,\"type\":\"pie\"}],\"scatter\":[{\"marker\":{\"colorbar\":{\"outlinewidth\":0,\"ticks\":\"\"}},\"type\":\"scatter\"}],\"scatter3d\":[{\"line\":{\"colorbar\":{\"outlinewidth\":0,\"ticks\":\"\"}},\"marker\":{\"colorbar\":{\"outlinewidth\":0,\"ticks\":\"\"}},\"type\":\"scatter3d\"}],\"scattercarpet\":[{\"marker\":{\"colorbar\":{\"outlinewidth\":0,\"ticks\":\"\"}},\"type\":\"scattercarpet\"}],\"scattergeo\":[{\"marker\":{\"colorbar\":{\"outlinewidth\":0,\"ticks\":\"\"}},\"type\":\"scattergeo\"}],\"scattergl\":[{\"marker\":{\"colorbar\":{\"outlinewidth\":0,\"ticks\":\"\"}},\"type\":\"scattergl\"}],\"scattermapbox\":[{\"marker\":{\"colorbar\":{\"outlinewidth\":0,\"ticks\":\"\"}},\"type\":\"scattermapbox\"}],\"scatterpolar\":[{\"marker\":{\"colorbar\":{\"outlinewidth\":0,\"ticks\":\"\"}},\"type\":\"scatterpolar\"}],\"scatterpolargl\":[{\"marker\":{\"colorbar\":{\"outlinewidth\":0,\"ticks\":\"\"}},\"type\":\"scatterpolargl\"}],\"scatterternary\":[{\"marker\":{\"colorbar\":{\"outlinewidth\":0,\"ticks\":\"\"}},\"type\":\"scatterternary\"}],\"surface\":[{\"colorbar\":{\"outlinewidth\":0,\"ticks\":\"\"},\"colorscale\":[[0.0,\"#0d0887\"],[0.1111111111111111,\"#46039f\"],[0.2222222222222222,\"#7201a8\"],[0.3333333333333333,\"#9c179e\"],[0.4444444444444444,\"#bd3786\"],[0.5555555555555556,\"#d8576b\"],[0.6666666666666666,\"#ed7953\"],[0.7777777777777778,\"#fb9f3a\"],[0.8888888888888888,\"#fdca26\"],[1.0,\"#f0f921\"]],\"type\":\"surface\"}],\"table\":[{\"cells\":{\"fill\":{\"color\":\"#EBF0F8\"},\"line\":{\"color\":\"white\"}},\"header\":{\"fill\":{\"color\":\"#C8D4E3\"},\"line\":{\"color\":\"white\"}},\"type\":\"table\"}]},\"layout\":{\"annotationdefaults\":{\"arrowcolor\":\"#2a3f5f\",\"arrowhead\":0,\"arrowwidth\":1},\"autotypenumbers\":\"strict\",\"coloraxis\":{\"colorbar\":{\"outlinewidth\":0,\"ticks\":\"\"}},\"colorscale\":{\"diverging\":[[0,\"#8e0152\"],[0.1,\"#c51b7d\"],[0.2,\"#de77ae\"],[0.3,\"#f1b6da\"],[0.4,\"#fde0ef\"],[0.5,\"#f7f7f7\"],[0.6,\"#e6f5d0\"],[0.7,\"#b8e186\"],[0.8,\"#7fbc41\"],[0.9,\"#4d9221\"],[1,\"#276419\"]],\"sequential\":[[0.0,\"#0d0887\"],[0.1111111111111111,\"#46039f\"],[0.2222222222222222,\"#7201a8\"],[0.3333333333333333,\"#9c179e\"],[0.4444444444444444,\"#bd3786\"],[0.5555555555555556,\"#d8576b\"],[0.6666666666666666,\"#ed7953\"],[0.7777777777777778,\"#fb9f3a\"],[0.8888888888888888,\"#fdca26\"],[1.0,\"#f0f921\"]],\"sequentialminus\":[[0.0,\"#0d0887\"],[0.1111111111111111,\"#46039f\"],[0.2222222222222222,\"#7201a8\"],[0.3333333333333333,\"#9c179e\"],[0.4444444444444444,\"#bd3786\"],[0.5555555555555556,\"#d8576b\"],[0.6666666666666666,\"#ed7953\"],[0.7777777777777778,\"#fb9f3a\"],[0.8888888888888888,\"#fdca26\"],[1.0,\"#f0f921\"]]},\"colorway\":[\"#636efa\",\"#EF553B\",\"#00cc96\",\"#ab63fa\",\"#FFA15A\",\"#19d3f3\",\"#FF6692\",\"#B6E880\",\"#FF97FF\",\"#FECB52\"],\"font\":{\"color\":\"#2a3f5f\"},\"geo\":{\"bgcolor\":\"white\",\"lakecolor\":\"white\",\"landcolor\":\"#E5ECF6\",\"showlakes\":true,\"showland\":true,\"subunitcolor\":\"white\"},\"hoverlabel\":{\"align\":\"left\"},\"hovermode\":\"closest\",\"mapbox\":{\"style\":\"light\"},\"paper_bgcolor\":\"white\",\"plot_bgcolor\":\"#E5ECF6\",\"polar\":{\"angularaxis\":{\"gridcolor\":\"white\",\"linecolor\":\"white\",\"ticks\":\"\"},\"bgcolor\":\"#E5ECF6\",\"radialaxis\":{\"gridcolor\":\"white\",\"linecolor\":\"white\",\"ticks\":\"\"}},\"scene\":{\"xaxis\":{\"backgroundcolor\":\"#E5ECF6\",\"gridcolor\":\"white\",\"gridwidth\":2,\"linecolor\":\"white\",\"showbackground\":true,\"ticks\":\"\",\"zerolinecolor\":\"white\"},\"yaxis\":{\"backgroundcolor\":\"#E5ECF6\",\"gridcolor\":\"white\",\"gridwidth\":2,\"linecolor\":\"white\",\"showbackground\":true,\"ticks\":\"\",\"zerolinecolor\":\"white\"},\"zaxis\":{\"backgroundcolor\":\"#E5ECF6\",\"gridcolor\":\"white\",\"gridwidth\":2,\"linecolor\":\"white\",\"showbackground\":true,\"ticks\":\"\",\"zerolinecolor\":\"white\"}},\"shapedefaults\":{\"line\":{\"color\":\"#2a3f5f\"}},\"ternary\":{\"aaxis\":{\"gridcolor\":\"white\",\"linecolor\":\"white\",\"ticks\":\"\"},\"baxis\":{\"gridcolor\":\"white\",\"linecolor\":\"white\",\"ticks\":\"\"},\"bgcolor\":\"#E5ECF6\",\"caxis\":{\"gridcolor\":\"white\",\"linecolor\":\"white\",\"ticks\":\"\"}},\"title\":{\"x\":0.05},\"xaxis\":{\"automargin\":true,\"gridcolor\":\"white\",\"linecolor\":\"white\",\"ticks\":\"\",\"title\":{\"standoff\":15},\"zerolinecolor\":\"white\",\"zerolinewidth\":2},\"yaxis\":{\"automargin\":true,\"gridcolor\":\"white\",\"linecolor\":\"white\",\"ticks\":\"\",\"title\":{\"standoff\":15},\"zerolinecolor\":\"white\",\"zerolinewidth\":2}}},\"xaxis\":{\"anchor\":\"y\",\"domain\":[0.0,0.1075],\"title\":{\"text\":\"year\"}},\"yaxis\":{\"anchor\":\"x\",\"domain\":[0.0,0.2866666666666666],\"title\":{\"text\":\"ups\"}},\"xaxis2\":{\"anchor\":\"y2\",\"domain\":[0.1275,0.235],\"title\":{\"text\":\"year\"}},\"yaxis2\":{\"anchor\":\"x2\",\"domain\":[0.0,0.2866666666666666],\"matches\":\"y\",\"showticklabels\":false},\"xaxis3\":{\"anchor\":\"y3\",\"domain\":[0.255,0.3625],\"title\":{\"text\":\"year\"}},\"yaxis3\":{\"anchor\":\"x3\",\"domain\":[0.0,0.2866666666666666],\"matches\":\"y\",\"showticklabels\":false},\"xaxis4\":{\"anchor\":\"y4\",\"domain\":[0.3825,0.49],\"title\":{\"text\":\"year\"}},\"yaxis4\":{\"anchor\":\"x4\",\"domain\":[0.0,0.2866666666666666],\"matches\":\"y\",\"showticklabels\":false},\"xaxis5\":{\"anchor\":\"y5\",\"domain\":[0.51,0.6175],\"title\":{\"text\":\"year\"}},\"yaxis5\":{\"anchor\":\"x5\",\"domain\":[0.0,0.2866666666666666],\"matches\":\"y\",\"showticklabels\":false},\"xaxis6\":{\"anchor\":\"y6\",\"domain\":[0.6375,0.745],\"title\":{\"text\":\"year\"}},\"yaxis6\":{\"anchor\":\"x6\",\"domain\":[0.0,0.2866666666666666],\"matches\":\"y\",\"showticklabels\":false},\"xaxis7\":{\"anchor\":\"y7\",\"domain\":[0.765,0.8725],\"title\":{\"text\":\"year\"}},\"yaxis7\":{\"anchor\":\"x7\",\"domain\":[0.0,0.2866666666666666],\"matches\":\"y\",\"showticklabels\":false},\"xaxis8\":{\"anchor\":\"y8\",\"domain\":[0.8925000000000001,1.0],\"title\":{\"text\":\"year\"}},\"yaxis8\":{\"anchor\":\"x8\",\"domain\":[0.0,0.2866666666666666],\"matches\":\"y\",\"showticklabels\":false},\"xaxis9\":{\"anchor\":\"y9\",\"domain\":[0.0,0.1075],\"showticklabels\":false},\"yaxis9\":{\"anchor\":\"x9\",\"domain\":[0.35666666666666663,0.6433333333333333],\"matches\":\"y\",\"title\":{\"text\":\"ups\"}},\"xaxis10\":{\"anchor\":\"y10\",\"domain\":[0.1275,0.235],\"showticklabels\":false},\"yaxis10\":{\"anchor\":\"x10\",\"domain\":[0.35666666666666663,0.6433333333333333],\"matches\":\"y\",\"showticklabels\":false},\"xaxis11\":{\"anchor\":\"y11\",\"domain\":[0.255,0.3625],\"showticklabels\":false},\"yaxis11\":{\"anchor\":\"x11\",\"domain\":[0.35666666666666663,0.6433333333333333],\"matches\":\"y\",\"showticklabels\":false},\"xaxis12\":{\"anchor\":\"y12\",\"domain\":[0.3825,0.49],\"showticklabels\":false},\"yaxis12\":{\"anchor\":\"x12\",\"domain\":[0.35666666666666663,0.6433333333333333],\"matches\":\"y\",\"showticklabels\":false},\"xaxis13\":{\"anchor\":\"y13\",\"domain\":[0.51,0.6175],\"showticklabels\":false},\"yaxis13\":{\"anchor\":\"x13\",\"domain\":[0.35666666666666663,0.6433333333333333],\"matches\":\"y\",\"showticklabels\":false},\"xaxis14\":{\"anchor\":\"y14\",\"domain\":[0.6375,0.745],\"showticklabels\":false},\"yaxis14\":{\"anchor\":\"x14\",\"domain\":[0.35666666666666663,0.6433333333333333],\"matches\":\"y\",\"showticklabels\":false},\"xaxis15\":{\"anchor\":\"y15\",\"domain\":[0.765,0.8725],\"showticklabels\":false},\"yaxis15\":{\"anchor\":\"x15\",\"domain\":[0.35666666666666663,0.6433333333333333],\"matches\":\"y\",\"showticklabels\":false},\"xaxis16\":{\"anchor\":\"y16\",\"domain\":[0.8925000000000001,1.0],\"showticklabels\":false},\"yaxis16\":{\"anchor\":\"x16\",\"domain\":[0.35666666666666663,0.6433333333333333],\"matches\":\"y\",\"showticklabels\":false},\"xaxis17\":{\"anchor\":\"y17\",\"domain\":[0.0,0.1075],\"showticklabels\":false},\"yaxis17\":{\"anchor\":\"x17\",\"domain\":[0.7133333333333333,0.9999999999999999],\"matches\":\"y\",\"title\":{\"text\":\"ups\"}},\"xaxis18\":{\"anchor\":\"y18\",\"domain\":[0.1275,0.235],\"showticklabels\":false},\"yaxis18\":{\"anchor\":\"x18\",\"domain\":[0.7133333333333333,0.9999999999999999],\"matches\":\"y\",\"showticklabels\":false},\"xaxis19\":{\"anchor\":\"y19\",\"domain\":[0.255,0.3625],\"showticklabels\":false},\"yaxis19\":{\"anchor\":\"x19\",\"domain\":[0.7133333333333333,0.9999999999999999],\"matches\":\"y\",\"showticklabels\":false},\"xaxis20\":{\"anchor\":\"y20\",\"domain\":[0.3825,0.49],\"showticklabels\":false},\"yaxis20\":{\"anchor\":\"x20\",\"domain\":[0.7133333333333333,0.9999999999999999],\"matches\":\"y\",\"showticklabels\":false},\"xaxis21\":{\"anchor\":\"y21\",\"domain\":[0.51,0.6175],\"showticklabels\":false},\"yaxis21\":{\"anchor\":\"x21\",\"domain\":[0.7133333333333333,0.9999999999999999],\"matches\":\"y\",\"showticklabels\":false},\"xaxis22\":{\"anchor\":\"y22\",\"domain\":[0.6375,0.745],\"showticklabels\":false},\"yaxis22\":{\"anchor\":\"x22\",\"domain\":[0.7133333333333333,0.9999999999999999],\"matches\":\"y\",\"showticklabels\":false},\"xaxis23\":{\"anchor\":\"y23\",\"domain\":[0.765,0.8725],\"showticklabels\":false},\"yaxis23\":{\"anchor\":\"x23\",\"domain\":[0.7133333333333333,0.9999999999999999],\"matches\":\"y\",\"showticklabels\":false},\"xaxis24\":{\"anchor\":\"y24\",\"domain\":[0.8925000000000001,1.0],\"showticklabels\":false},\"yaxis24\":{\"anchor\":\"x24\",\"domain\":[0.7133333333333333,0.9999999999999999],\"matches\":\"y\",\"showticklabels\":false},\"annotations\":[{\"font\":{},\"showarrow\":false,\"text\":\"r/gaming\",\"x\":0.05375,\"xanchor\":\"center\",\"xref\":\"paper\",\"y\":0.2866666666666666,\"yanchor\":\"bottom\",\"yref\":\"paper\"},{\"font\":{},\"showarrow\":false,\"text\":\"r/books\",\"x\":0.18125,\"xanchor\":\"center\",\"xref\":\"paper\",\"y\":0.2866666666666666,\"yanchor\":\"bottom\",\"yref\":\"paper\"},{\"font\":{},\"showarrow\":false,\"text\":\"r/conspiracy\",\"x\":0.30874999999999997,\"xanchor\":\"center\",\"xref\":\"paper\",\"y\":0.2866666666666666,\"yanchor\":\"bottom\",\"yref\":\"paper\"},{\"font\":{},\"showarrow\":false,\"text\":\"r/technology\",\"x\":0.43625,\"xanchor\":\"center\",\"xref\":\"paper\",\"y\":0.2866666666666666,\"yanchor\":\"bottom\",\"yref\":\"paper\"},{\"font\":{},\"showarrow\":false,\"text\":\"r/memes\",\"x\":0.56375,\"xanchor\":\"center\",\"xref\":\"paper\",\"y\":0.2866666666666666,\"yanchor\":\"bottom\",\"yref\":\"paper\"},{\"font\":{},\"showarrow\":false,\"text\":\"r/mildlyinteresting\",\"x\":0.6912499999999999,\"xanchor\":\"center\",\"xref\":\"paper\",\"y\":0.2866666666666666,\"yanchor\":\"bottom\",\"yref\":\"paper\"},{\"font\":{},\"showarrow\":false,\"text\":\"r/aww\",\"x\":0.8187500000000001,\"xanchor\":\"center\",\"xref\":\"paper\",\"y\":0.2866666666666666,\"yanchor\":\"bottom\",\"yref\":\"paper\"},{\"font\":{},\"showarrow\":false,\"text\":\"r/travel\",\"x\":0.94625,\"xanchor\":\"center\",\"xref\":\"paper\",\"y\":0.2866666666666666,\"yanchor\":\"bottom\",\"yref\":\"paper\"},{\"font\":{},\"showarrow\":false,\"text\":\"r/learnprogramming\",\"x\":0.05375,\"xanchor\":\"center\",\"xref\":\"paper\",\"y\":0.6433333333333333,\"yanchor\":\"bottom\",\"yref\":\"paper\"},{\"font\":{},\"showarrow\":false,\"text\":\"r/announcements\",\"x\":0.18125,\"xanchor\":\"center\",\"xref\":\"paper\",\"y\":0.6433333333333333,\"yanchor\":\"bottom\",\"yref\":\"paper\"},{\"font\":{},\"showarrow\":false,\"text\":\"r/funny\",\"x\":0.30874999999999997,\"xanchor\":\"center\",\"xref\":\"paper\",\"y\":0.6433333333333333,\"yanchor\":\"bottom\",\"yref\":\"paper\"},{\"font\":{},\"showarrow\":false,\"text\":\"r/food\",\"x\":0.43625,\"xanchor\":\"center\",\"xref\":\"paper\",\"y\":0.6433333333333333,\"yanchor\":\"bottom\",\"yref\":\"paper\"},{\"font\":{},\"showarrow\":false,\"text\":\"r/Jokes\",\"x\":0.56375,\"xanchor\":\"center\",\"xref\":\"paper\",\"y\":0.6433333333333333,\"yanchor\":\"bottom\",\"yref\":\"paper\"},{\"font\":{},\"showarrow\":false,\"text\":\"r/gadgets\",\"x\":0.6912499999999999,\"xanchor\":\"center\",\"xref\":\"paper\",\"y\":0.6433333333333333,\"yanchor\":\"bottom\",\"yref\":\"paper\"},{\"font\":{},\"showarrow\":false,\"text\":\"r/sports\",\"x\":0.8187500000000001,\"xanchor\":\"center\",\"xref\":\"paper\",\"y\":0.6433333333333333,\"yanchor\":\"bottom\",\"yref\":\"paper\"},{\"font\":{},\"showarrow\":false,\"text\":\"r/cats\",\"x\":0.94625,\"xanchor\":\"center\",\"xref\":\"paper\",\"y\":0.6433333333333333,\"yanchor\":\"bottom\",\"yref\":\"paper\"},{\"font\":{},\"showarrow\":false,\"text\":\"r/hockey\",\"x\":0.05375,\"xanchor\":\"center\",\"xref\":\"paper\",\"y\":0.9999999999999999,\"yanchor\":\"bottom\",\"yref\":\"paper\"},{\"font\":{},\"showarrow\":false,\"text\":\"r/PoliticalHumor\",\"x\":0.18125,\"xanchor\":\"center\",\"xref\":\"paper\",\"y\":0.9999999999999999,\"yanchor\":\"bottom\",\"yref\":\"paper\"},{\"font\":{},\"showarrow\":false,\"text\":\"r/news\",\"x\":0.30874999999999997,\"xanchor\":\"center\",\"xref\":\"paper\",\"y\":0.9999999999999999,\"yanchor\":\"bottom\",\"yref\":\"paper\"},{\"font\":{},\"showarrow\":false,\"text\":\"r/science\",\"x\":0.43625,\"xanchor\":\"center\",\"xref\":\"paper\",\"y\":0.9999999999999999,\"yanchor\":\"bottom\",\"yref\":\"paper\"},{\"font\":{},\"showarrow\":false,\"text\":\"r/WritingPrompts\",\"x\":0.56375,\"xanchor\":\"center\",\"xref\":\"paper\",\"y\":0.9999999999999999,\"yanchor\":\"bottom\",\"yref\":\"paper\"},{\"font\":{},\"showarrow\":false,\"text\":\"r/Showerthoughts\",\"x\":0.6912499999999999,\"xanchor\":\"center\",\"xref\":\"paper\",\"y\":0.9999999999999999,\"yanchor\":\"bottom\",\"yref\":\"paper\"},{\"font\":{},\"showarrow\":false,\"text\":\"r/worldnews\",\"x\":0.8187500000000001,\"xanchor\":\"center\",\"xref\":\"paper\",\"y\":0.9999999999999999,\"yanchor\":\"bottom\",\"yref\":\"paper\"},{\"font\":{},\"showarrow\":false,\"text\":\"r/todayilearned\",\"x\":0.94625,\"xanchor\":\"center\",\"xref\":\"paper\",\"y\":0.9999999999999999,\"yanchor\":\"bottom\",\"yref\":\"paper\"}],\"legend\":{\"tracegroupgap\":0},\"margin\":{\"t\":60},\"barmode\":\"relative\",\"height\":800,\"width\":1200},                        {\"responsive\": true}                    ).then(function(){\n",
              "                            \n",
              "var gd = document.getElementById('b5224b53-eca1-4c4f-a80d-c448088c1f2d');\n",
              "var x = new MutationObserver(function (mutations, observer) {{\n",
              "        var display = window.getComputedStyle(gd).display;\n",
              "        if (!display || display === 'none') {{\n",
              "            console.log([gd, 'removed!']);\n",
              "            Plotly.purge(gd);\n",
              "            observer.disconnect();\n",
              "        }}\n",
              "}});\n",
              "\n",
              "// Listen for the removal of the full notebook cells\n",
              "var notebookContainer = gd.closest('#notebook-container');\n",
              "if (notebookContainer) {{\n",
              "    x.observe(notebookContainer, {childList: true});\n",
              "}}\n",
              "\n",
              "// Listen for the clearing of the current output cell\n",
              "var outputEl = gd.closest('.output');\n",
              "if (outputEl) {{\n",
              "    x.observe(outputEl, {childList: true});\n",
              "}}\n",
              "\n",
              "                        })                };                            </script>        </div>\n",
              "</body>\n",
              "</html>"
            ]
          },
          "metadata": {}
        }
      ],
      "source": [
        "# Hint: you do not have to use this function, but it may be useful for you\n",
        "from itertools import product\n",
        "\n",
        "# create the zeros dataframe\n",
        "merge_zeros = pd.DataFrame(product(part2_data.year.unique(), \n",
        "                     part2_data.subreddit_name_prefixed.unique()),\n",
        "                     columns =['year','subreddit_name_prefixed']\n",
        "                )\n",
        "merge_zeros['ups_with_zeros'] = 0\n",
        "\n",
        "# merge with the non-zero data ... you write this code ...\n",
        "merge_data = part2_data.groupby(['year','subreddit_name_prefixed'])['ups'].mean()\n",
        "merge_data=merge_data.reset_index()\n",
        "merged_inner = (merge_zeros.merge(merge_data, on=['year','subreddit_name_prefixed'], how='left').fillna(0)).drop(columns='ups_with_zeros')\n",
        "merged_inner.year =  merged_inner.year.astype(str)\n",
        "merged_inner = merged_inner.sort_values(by='year')\n",
        "fig= px.bar(merged_inner[merged_inner.subreddit_name_prefixed.isin([\"r/news\",\"r/worldnews\",\"r/science\",\"r/new\", \"r/technology\", 'r/worldnews', 'r/books', \n",
        "              'r/hockey', 'r/sports', 'r/gadgets', 'r/gaming', 'r/mildlyinteresting', 'r/travel', 'r/learnprogramming', 'r/conspiracy',\n",
        "              'r/announcements', 'r/memes', 'r/aww', 'r/WritingPrompts', 'r/funny', 'r/todayilearned', 'r/science', 'r/Showerthoughts',\n",
        "               'r/cats', 'r/food', 'r/PoliticalHumor', 'r/Jokes'])], \n",
        "             x='year', y= 'ups', height=800,width=1200,facet_col='subreddit_name_prefixed', facet_col_wrap=8)\n",
        "              \n",
        "fig.for_each_annotation(lambda a: a.update(text=a.text.split(\"=\")[-1]))\n",
        "fig.update_xaxes(matches=None)\n",
        "fig.show()"
      ]
    },
    {
      "cell_type": "markdown",
      "metadata": {
        "id": "aZLpViCxyIz_"
      },
      "source": [
        "As a check, please do the following:\n",
        "\n",
        "- **2.2.6** - In your report, provide a table (a screenshot of a pandas dataframe is fine) that shows the average number of upvotes for r/memes each year from 2015 to 2020. The table should be sorted by year (i.e. 2015, then 2016, etc.). Note again, if a year does not have data, there should be zeros in this table!"
      ]
    },
    {
      "cell_type": "code",
      "source": [
        "# Code for 2.2.6 here\n",
        "up_memes = merged_inner[merged_inner.subreddit_name_prefixed.isin([\"r/memes\"])& (merged_inner.year>='2015') & (merged_inner.year<='2020')]\n",
        "up_memes"
      ],
      "metadata": {
        "colab": {
          "base_uri": "https://localhost:8080/",
          "height": 238
        },
        "id": "SHDq1jIT6Qes",
        "outputId": "0c749a5e-da97-4d1a-d8dd-9da67dad6cde"
      },
      "execution_count": 135,
      "outputs": [
        {
          "output_type": "execute_result",
          "data": {
            "text/html": [
              "\n",
              "  <div id=\"df-c8e6e840-a296-49ef-a487-8bdd5eb4a0d8\">\n",
              "    <div class=\"colab-df-container\">\n",
              "      <div>\n",
              "<style scoped>\n",
              "    .dataframe tbody tr th:only-of-type {\n",
              "        vertical-align: middle;\n",
              "    }\n",
              "\n",
              "    .dataframe tbody tr th {\n",
              "        vertical-align: top;\n",
              "    }\n",
              "\n",
              "    .dataframe thead th {\n",
              "        text-align: right;\n",
              "    }\n",
              "</style>\n",
              "<table border=\"1\" class=\"dataframe\">\n",
              "  <thead>\n",
              "    <tr style=\"text-align: right;\">\n",
              "      <th></th>\n",
              "      <th>year</th>\n",
              "      <th>subreddit_name_prefixed</th>\n",
              "      <th>ups</th>\n",
              "    </tr>\n",
              "  </thead>\n",
              "  <tbody>\n",
              "    <tr>\n",
              "      <th>183</th>\n",
              "      <td>2015</td>\n",
              "      <td>r/memes</td>\n",
              "      <td>0.000000</td>\n",
              "    </tr>\n",
              "    <tr>\n",
              "      <th>111</th>\n",
              "      <td>2016</td>\n",
              "      <td>r/memes</td>\n",
              "      <td>0.000000</td>\n",
              "    </tr>\n",
              "    <tr>\n",
              "      <th>39</th>\n",
              "      <td>2017</td>\n",
              "      <td>r/memes</td>\n",
              "      <td>0.000000</td>\n",
              "    </tr>\n",
              "    <tr>\n",
              "      <th>87</th>\n",
              "      <td>2018</td>\n",
              "      <td>r/memes</td>\n",
              "      <td>131206.000000</td>\n",
              "    </tr>\n",
              "    <tr>\n",
              "      <th>63</th>\n",
              "      <td>2019</td>\n",
              "      <td>r/memes</td>\n",
              "      <td>135859.126984</td>\n",
              "    </tr>\n",
              "    <tr>\n",
              "      <th>15</th>\n",
              "      <td>2020</td>\n",
              "      <td>r/memes</td>\n",
              "      <td>141141.427305</td>\n",
              "    </tr>\n",
              "  </tbody>\n",
              "</table>\n",
              "</div>\n",
              "      <button class=\"colab-df-convert\" onclick=\"convertToInteractive('df-c8e6e840-a296-49ef-a487-8bdd5eb4a0d8')\"\n",
              "              title=\"Convert this dataframe to an interactive table.\"\n",
              "              style=\"display:none;\">\n",
              "        \n",
              "  <svg xmlns=\"http://www.w3.org/2000/svg\" height=\"24px\"viewBox=\"0 0 24 24\"\n",
              "       width=\"24px\">\n",
              "    <path d=\"M0 0h24v24H0V0z\" fill=\"none\"/>\n",
              "    <path d=\"M18.56 5.44l.94 2.06.94-2.06 2.06-.94-2.06-.94-.94-2.06-.94 2.06-2.06.94zm-11 1L8.5 8.5l.94-2.06 2.06-.94-2.06-.94L8.5 2.5l-.94 2.06-2.06.94zm10 10l.94 2.06.94-2.06 2.06-.94-2.06-.94-.94-2.06-.94 2.06-2.06.94z\"/><path d=\"M17.41 7.96l-1.37-1.37c-.4-.4-.92-.59-1.43-.59-.52 0-1.04.2-1.43.59L10.3 9.45l-7.72 7.72c-.78.78-.78 2.05 0 2.83L4 21.41c.39.39.9.59 1.41.59.51 0 1.02-.2 1.41-.59l7.78-7.78 2.81-2.81c.8-.78.8-2.07 0-2.86zM5.41 20L4 18.59l7.72-7.72 1.47 1.35L5.41 20z\"/>\n",
              "  </svg>\n",
              "      </button>\n",
              "      \n",
              "  <style>\n",
              "    .colab-df-container {\n",
              "      display:flex;\n",
              "      flex-wrap:wrap;\n",
              "      gap: 12px;\n",
              "    }\n",
              "\n",
              "    .colab-df-convert {\n",
              "      background-color: #E8F0FE;\n",
              "      border: none;\n",
              "      border-radius: 50%;\n",
              "      cursor: pointer;\n",
              "      display: none;\n",
              "      fill: #1967D2;\n",
              "      height: 32px;\n",
              "      padding: 0 0 0 0;\n",
              "      width: 32px;\n",
              "    }\n",
              "\n",
              "    .colab-df-convert:hover {\n",
              "      background-color: #E2EBFA;\n",
              "      box-shadow: 0px 1px 2px rgba(60, 64, 67, 0.3), 0px 1px 3px 1px rgba(60, 64, 67, 0.15);\n",
              "      fill: #174EA6;\n",
              "    }\n",
              "\n",
              "    [theme=dark] .colab-df-convert {\n",
              "      background-color: #3B4455;\n",
              "      fill: #D2E3FC;\n",
              "    }\n",
              "\n",
              "    [theme=dark] .colab-df-convert:hover {\n",
              "      background-color: #434B5C;\n",
              "      box-shadow: 0px 1px 3px 1px rgba(0, 0, 0, 0.15);\n",
              "      filter: drop-shadow(0px 1px 2px rgba(0, 0, 0, 0.3));\n",
              "      fill: #FFFFFF;\n",
              "    }\n",
              "  </style>\n",
              "\n",
              "      <script>\n",
              "        const buttonEl =\n",
              "          document.querySelector('#df-c8e6e840-a296-49ef-a487-8bdd5eb4a0d8 button.colab-df-convert');\n",
              "        buttonEl.style.display =\n",
              "          google.colab.kernel.accessAllowed ? 'block' : 'none';\n",
              "\n",
              "        async function convertToInteractive(key) {\n",
              "          const element = document.querySelector('#df-c8e6e840-a296-49ef-a487-8bdd5eb4a0d8');\n",
              "          const dataTable =\n",
              "            await google.colab.kernel.invokeFunction('convertToInteractive',\n",
              "                                                     [key], {});\n",
              "          if (!dataTable) return;\n",
              "\n",
              "          const docLinkHtml = 'Like what you see? Visit the ' +\n",
              "            '<a target=\"_blank\" href=https://colab.research.google.com/notebooks/data_table.ipynb>data table notebook</a>'\n",
              "            + ' to learn more about interactive tables.';\n",
              "          element.innerHTML = '';\n",
              "          dataTable['output_type'] = 'display_data';\n",
              "          await google.colab.output.renderOutput(dataTable, element);\n",
              "          const docLink = document.createElement('div');\n",
              "          docLink.innerHTML = docLinkHtml;\n",
              "          element.appendChild(docLink);\n",
              "        }\n",
              "      </script>\n",
              "    </div>\n",
              "  </div>\n",
              "  "
            ],
            "text/plain": [
              "     year subreddit_name_prefixed            ups\n",
              "183  2015                 r/memes       0.000000\n",
              "111  2016                 r/memes       0.000000\n",
              "39   2017                 r/memes       0.000000\n",
              "87   2018                 r/memes  131206.000000\n",
              "63   2019                 r/memes  135859.126984\n",
              "15   2020                 r/memes  141141.427305"
            ]
          },
          "metadata": {},
          "execution_count": 135
        }
      ]
    },
    {
      "cell_type": "markdown",
      "metadata": {
        "id": "faUVZluXyIz_"
      },
      "source": [
        "- **2.2.7** - Plot a line graph of the temporal trend of mean upvotes from 2016-2020 for the following subreddits: r/Jokes, r/food,r/conspiracy, and r/news . You can plot them individually, or use the faceting approach from above. Write your code for this in the cell below; copy the resulting plot to your PDF report. **Hint: Doing part 2.2.8 will be easiest if you make sure that the plot for each subreddit has its own y-axis!**. \n",
        "- **2.2.8** - Using what you have plotted, make an argument for which of the four subreddits is the most \"up and coming\" - i.e. the one that seems to be getting more popular over time. NOTE: There is more than one reasonable answer here. We are looking for how you justify your answer using the (plotted) data."
      ]
    },
    {
      "cell_type": "code",
      "source": [
        "# Code for 2.2.7 here\n",
        "import plotly.express as px\n",
        "temp2 = merged_inner[merged_inner.subreddit_name_prefixed.isin([\"r/Jokes\", \"r/food\",\"r/conspiracy\", 'r/news'])& (merged_inner.year>='2016') & (merged_inner.year<='2020')]\n",
        "fig = px.line(temp2,x=\"year\", y=\"ups\", color='subreddit_name_prefixed')\n",
        "fig.show()"
      ],
      "metadata": {
        "id": "xpf7XtmKCOFf",
        "colab": {
          "base_uri": "https://localhost:8080/",
          "height": 542
        },
        "outputId": "e9ac0cc6-608c-4808-ad32-8d5e4008cedf"
      },
      "execution_count": 136,
      "outputs": [
        {
          "output_type": "display_data",
          "data": {
            "text/html": [
              "<html>\n",
              "<head><meta charset=\"utf-8\" /></head>\n",
              "<body>\n",
              "    <div>            <script src=\"https://cdnjs.cloudflare.com/ajax/libs/mathjax/2.7.5/MathJax.js?config=TeX-AMS-MML_SVG\"></script><script type=\"text/javascript\">if (window.MathJax) {MathJax.Hub.Config({SVG: {font: \"STIX-Web\"}});}</script>                <script type=\"text/javascript\">window.PlotlyConfig = {MathJaxConfig: 'local'};</script>\n",
              "        <script src=\"https://cdn.plot.ly/plotly-2.8.3.min.js\"></script>                <div id=\"aae26b47-d8a3-4d00-833b-55ec1ab393b2\" class=\"plotly-graph-div\" style=\"height:525px; width:100%;\"></div>            <script type=\"text/javascript\">                                    window.PLOTLYENV=window.PLOTLYENV || {};                                    if (document.getElementById(\"aae26b47-d8a3-4d00-833b-55ec1ab393b2\")) {                    Plotly.newPlot(                        \"aae26b47-d8a3-4d00-833b-55ec1ab393b2\",                        [{\"hovertemplate\":\"subreddit_name_prefixed=r/Jokes<br>year=%{x}<br>ups=%{y}<extra></extra>\",\"legendgroup\":\"r/Jokes\",\"line\":{\"color\":\"#636efa\",\"dash\":\"solid\"},\"marker\":{\"symbol\":\"circle\"},\"mode\":\"lines\",\"name\":\"r/Jokes\",\"orientation\":\"v\",\"showlegend\":true,\"x\":[\"2016\",\"2017\",\"2018\",\"2019\",\"2020\"],\"xaxis\":\"x\",\"y\":[46149.77272727273,43775.80722891566,40628.129166666666,39918.954081632655,40619.37308868502],\"yaxis\":\"y\",\"type\":\"scatter\"},{\"hovertemplate\":\"subreddit_name_prefixed=r/conspiracy<br>year=%{x}<br>ups=%{y}<extra></extra>\",\"legendgroup\":\"r/conspiracy\",\"line\":{\"color\":\"#EF553B\",\"dash\":\"solid\"},\"marker\":{\"symbol\":\"circle\"},\"mode\":\"lines\",\"name\":\"r/conspiracy\",\"orientation\":\"v\",\"showlegend\":true,\"x\":[\"2016\",\"2017\",\"2018\",\"2019\",\"2020\"],\"xaxis\":\"x\",\"y\":[10238.174311926605,10982.908163265307,11041.162790697674,11522.46794871795,10273.173669467787],\"yaxis\":\"y\",\"type\":\"scatter\"},{\"hovertemplate\":\"subreddit_name_prefixed=r/food<br>year=%{x}<br>ups=%{y}<extra></extra>\",\"legendgroup\":\"r/food\",\"line\":{\"color\":\"#00cc96\",\"dash\":\"solid\"},\"marker\":{\"symbol\":\"circle\"},\"mode\":\"lines\",\"name\":\"r/food\",\"orientation\":\"v\",\"showlegend\":true,\"x\":[\"2016\",\"2017\",\"2018\",\"2019\",\"2020\"],\"xaxis\":\"x\",\"y\":[26743.2,26682.222222222223,27088.626984126986,27224.7,27980.937007874014],\"yaxis\":\"y\",\"type\":\"scatter\"},{\"hovertemplate\":\"subreddit_name_prefixed=r/news<br>year=%{x}<br>ups=%{y}<extra></extra>\",\"legendgroup\":\"r/news\",\"line\":{\"color\":\"#ab63fa\",\"dash\":\"solid\"},\"marker\":{\"symbol\":\"circle\"},\"mode\":\"lines\",\"name\":\"r/news\",\"orientation\":\"v\",\"showlegend\":true,\"x\":[\"2016\",\"2017\",\"2018\",\"2019\",\"2020\"],\"xaxis\":\"x\",\"y\":[74708.33333333333,83488.43835616438,81691.56302521008,81209.203125,86168.37823834197],\"yaxis\":\"y\",\"type\":\"scatter\"}],                        {\"template\":{\"data\":{\"bar\":[{\"error_x\":{\"color\":\"#2a3f5f\"},\"error_y\":{\"color\":\"#2a3f5f\"},\"marker\":{\"line\":{\"color\":\"#E5ECF6\",\"width\":0.5},\"pattern\":{\"fillmode\":\"overlay\",\"size\":10,\"solidity\":0.2}},\"type\":\"bar\"}],\"barpolar\":[{\"marker\":{\"line\":{\"color\":\"#E5ECF6\",\"width\":0.5},\"pattern\":{\"fillmode\":\"overlay\",\"size\":10,\"solidity\":0.2}},\"type\":\"barpolar\"}],\"carpet\":[{\"aaxis\":{\"endlinecolor\":\"#2a3f5f\",\"gridcolor\":\"white\",\"linecolor\":\"white\",\"minorgridcolor\":\"white\",\"startlinecolor\":\"#2a3f5f\"},\"baxis\":{\"endlinecolor\":\"#2a3f5f\",\"gridcolor\":\"white\",\"linecolor\":\"white\",\"minorgridcolor\":\"white\",\"startlinecolor\":\"#2a3f5f\"},\"type\":\"carpet\"}],\"choropleth\":[{\"colorbar\":{\"outlinewidth\":0,\"ticks\":\"\"},\"type\":\"choropleth\"}],\"contour\":[{\"colorbar\":{\"outlinewidth\":0,\"ticks\":\"\"},\"colorscale\":[[0.0,\"#0d0887\"],[0.1111111111111111,\"#46039f\"],[0.2222222222222222,\"#7201a8\"],[0.3333333333333333,\"#9c179e\"],[0.4444444444444444,\"#bd3786\"],[0.5555555555555556,\"#d8576b\"],[0.6666666666666666,\"#ed7953\"],[0.7777777777777778,\"#fb9f3a\"],[0.8888888888888888,\"#fdca26\"],[1.0,\"#f0f921\"]],\"type\":\"contour\"}],\"contourcarpet\":[{\"colorbar\":{\"outlinewidth\":0,\"ticks\":\"\"},\"type\":\"contourcarpet\"}],\"heatmap\":[{\"colorbar\":{\"outlinewidth\":0,\"ticks\":\"\"},\"colorscale\":[[0.0,\"#0d0887\"],[0.1111111111111111,\"#46039f\"],[0.2222222222222222,\"#7201a8\"],[0.3333333333333333,\"#9c179e\"],[0.4444444444444444,\"#bd3786\"],[0.5555555555555556,\"#d8576b\"],[0.6666666666666666,\"#ed7953\"],[0.7777777777777778,\"#fb9f3a\"],[0.8888888888888888,\"#fdca26\"],[1.0,\"#f0f921\"]],\"type\":\"heatmap\"}],\"heatmapgl\":[{\"colorbar\":{\"outlinewidth\":0,\"ticks\":\"\"},\"colorscale\":[[0.0,\"#0d0887\"],[0.1111111111111111,\"#46039f\"],[0.2222222222222222,\"#7201a8\"],[0.3333333333333333,\"#9c179e\"],[0.4444444444444444,\"#bd3786\"],[0.5555555555555556,\"#d8576b\"],[0.6666666666666666,\"#ed7953\"],[0.7777777777777778,\"#fb9f3a\"],[0.8888888888888888,\"#fdca26\"],[1.0,\"#f0f921\"]],\"type\":\"heatmapgl\"}],\"histogram\":[{\"marker\":{\"pattern\":{\"fillmode\":\"overlay\",\"size\":10,\"solidity\":0.2}},\"type\":\"histogram\"}],\"histogram2d\":[{\"colorbar\":{\"outlinewidth\":0,\"ticks\":\"\"},\"colorscale\":[[0.0,\"#0d0887\"],[0.1111111111111111,\"#46039f\"],[0.2222222222222222,\"#7201a8\"],[0.3333333333333333,\"#9c179e\"],[0.4444444444444444,\"#bd3786\"],[0.5555555555555556,\"#d8576b\"],[0.6666666666666666,\"#ed7953\"],[0.7777777777777778,\"#fb9f3a\"],[0.8888888888888888,\"#fdca26\"],[1.0,\"#f0f921\"]],\"type\":\"histogram2d\"}],\"histogram2dcontour\":[{\"colorbar\":{\"outlinewidth\":0,\"ticks\":\"\"},\"colorscale\":[[0.0,\"#0d0887\"],[0.1111111111111111,\"#46039f\"],[0.2222222222222222,\"#7201a8\"],[0.3333333333333333,\"#9c179e\"],[0.4444444444444444,\"#bd3786\"],[0.5555555555555556,\"#d8576b\"],[0.6666666666666666,\"#ed7953\"],[0.7777777777777778,\"#fb9f3a\"],[0.8888888888888888,\"#fdca26\"],[1.0,\"#f0f921\"]],\"type\":\"histogram2dcontour\"}],\"mesh3d\":[{\"colorbar\":{\"outlinewidth\":0,\"ticks\":\"\"},\"type\":\"mesh3d\"}],\"parcoords\":[{\"line\":{\"colorbar\":{\"outlinewidth\":0,\"ticks\":\"\"}},\"type\":\"parcoords\"}],\"pie\":[{\"automargin\":true,\"type\":\"pie\"}],\"scatter\":[{\"marker\":{\"colorbar\":{\"outlinewidth\":0,\"ticks\":\"\"}},\"type\":\"scatter\"}],\"scatter3d\":[{\"line\":{\"colorbar\":{\"outlinewidth\":0,\"ticks\":\"\"}},\"marker\":{\"colorbar\":{\"outlinewidth\":0,\"ticks\":\"\"}},\"type\":\"scatter3d\"}],\"scattercarpet\":[{\"marker\":{\"colorbar\":{\"outlinewidth\":0,\"ticks\":\"\"}},\"type\":\"scattercarpet\"}],\"scattergeo\":[{\"marker\":{\"colorbar\":{\"outlinewidth\":0,\"ticks\":\"\"}},\"type\":\"scattergeo\"}],\"scattergl\":[{\"marker\":{\"colorbar\":{\"outlinewidth\":0,\"ticks\":\"\"}},\"type\":\"scattergl\"}],\"scattermapbox\":[{\"marker\":{\"colorbar\":{\"outlinewidth\":0,\"ticks\":\"\"}},\"type\":\"scattermapbox\"}],\"scatterpolar\":[{\"marker\":{\"colorbar\":{\"outlinewidth\":0,\"ticks\":\"\"}},\"type\":\"scatterpolar\"}],\"scatterpolargl\":[{\"marker\":{\"colorbar\":{\"outlinewidth\":0,\"ticks\":\"\"}},\"type\":\"scatterpolargl\"}],\"scatterternary\":[{\"marker\":{\"colorbar\":{\"outlinewidth\":0,\"ticks\":\"\"}},\"type\":\"scatterternary\"}],\"surface\":[{\"colorbar\":{\"outlinewidth\":0,\"ticks\":\"\"},\"colorscale\":[[0.0,\"#0d0887\"],[0.1111111111111111,\"#46039f\"],[0.2222222222222222,\"#7201a8\"],[0.3333333333333333,\"#9c179e\"],[0.4444444444444444,\"#bd3786\"],[0.5555555555555556,\"#d8576b\"],[0.6666666666666666,\"#ed7953\"],[0.7777777777777778,\"#fb9f3a\"],[0.8888888888888888,\"#fdca26\"],[1.0,\"#f0f921\"]],\"type\":\"surface\"}],\"table\":[{\"cells\":{\"fill\":{\"color\":\"#EBF0F8\"},\"line\":{\"color\":\"white\"}},\"header\":{\"fill\":{\"color\":\"#C8D4E3\"},\"line\":{\"color\":\"white\"}},\"type\":\"table\"}]},\"layout\":{\"annotationdefaults\":{\"arrowcolor\":\"#2a3f5f\",\"arrowhead\":0,\"arrowwidth\":1},\"autotypenumbers\":\"strict\",\"coloraxis\":{\"colorbar\":{\"outlinewidth\":0,\"ticks\":\"\"}},\"colorscale\":{\"diverging\":[[0,\"#8e0152\"],[0.1,\"#c51b7d\"],[0.2,\"#de77ae\"],[0.3,\"#f1b6da\"],[0.4,\"#fde0ef\"],[0.5,\"#f7f7f7\"],[0.6,\"#e6f5d0\"],[0.7,\"#b8e186\"],[0.8,\"#7fbc41\"],[0.9,\"#4d9221\"],[1,\"#276419\"]],\"sequential\":[[0.0,\"#0d0887\"],[0.1111111111111111,\"#46039f\"],[0.2222222222222222,\"#7201a8\"],[0.3333333333333333,\"#9c179e\"],[0.4444444444444444,\"#bd3786\"],[0.5555555555555556,\"#d8576b\"],[0.6666666666666666,\"#ed7953\"],[0.7777777777777778,\"#fb9f3a\"],[0.8888888888888888,\"#fdca26\"],[1.0,\"#f0f921\"]],\"sequentialminus\":[[0.0,\"#0d0887\"],[0.1111111111111111,\"#46039f\"],[0.2222222222222222,\"#7201a8\"],[0.3333333333333333,\"#9c179e\"],[0.4444444444444444,\"#bd3786\"],[0.5555555555555556,\"#d8576b\"],[0.6666666666666666,\"#ed7953\"],[0.7777777777777778,\"#fb9f3a\"],[0.8888888888888888,\"#fdca26\"],[1.0,\"#f0f921\"]]},\"colorway\":[\"#636efa\",\"#EF553B\",\"#00cc96\",\"#ab63fa\",\"#FFA15A\",\"#19d3f3\",\"#FF6692\",\"#B6E880\",\"#FF97FF\",\"#FECB52\"],\"font\":{\"color\":\"#2a3f5f\"},\"geo\":{\"bgcolor\":\"white\",\"lakecolor\":\"white\",\"landcolor\":\"#E5ECF6\",\"showlakes\":true,\"showland\":true,\"subunitcolor\":\"white\"},\"hoverlabel\":{\"align\":\"left\"},\"hovermode\":\"closest\",\"mapbox\":{\"style\":\"light\"},\"paper_bgcolor\":\"white\",\"plot_bgcolor\":\"#E5ECF6\",\"polar\":{\"angularaxis\":{\"gridcolor\":\"white\",\"linecolor\":\"white\",\"ticks\":\"\"},\"bgcolor\":\"#E5ECF6\",\"radialaxis\":{\"gridcolor\":\"white\",\"linecolor\":\"white\",\"ticks\":\"\"}},\"scene\":{\"xaxis\":{\"backgroundcolor\":\"#E5ECF6\",\"gridcolor\":\"white\",\"gridwidth\":2,\"linecolor\":\"white\",\"showbackground\":true,\"ticks\":\"\",\"zerolinecolor\":\"white\"},\"yaxis\":{\"backgroundcolor\":\"#E5ECF6\",\"gridcolor\":\"white\",\"gridwidth\":2,\"linecolor\":\"white\",\"showbackground\":true,\"ticks\":\"\",\"zerolinecolor\":\"white\"},\"zaxis\":{\"backgroundcolor\":\"#E5ECF6\",\"gridcolor\":\"white\",\"gridwidth\":2,\"linecolor\":\"white\",\"showbackground\":true,\"ticks\":\"\",\"zerolinecolor\":\"white\"}},\"shapedefaults\":{\"line\":{\"color\":\"#2a3f5f\"}},\"ternary\":{\"aaxis\":{\"gridcolor\":\"white\",\"linecolor\":\"white\",\"ticks\":\"\"},\"baxis\":{\"gridcolor\":\"white\",\"linecolor\":\"white\",\"ticks\":\"\"},\"bgcolor\":\"#E5ECF6\",\"caxis\":{\"gridcolor\":\"white\",\"linecolor\":\"white\",\"ticks\":\"\"}},\"title\":{\"x\":0.05},\"xaxis\":{\"automargin\":true,\"gridcolor\":\"white\",\"linecolor\":\"white\",\"ticks\":\"\",\"title\":{\"standoff\":15},\"zerolinecolor\":\"white\",\"zerolinewidth\":2},\"yaxis\":{\"automargin\":true,\"gridcolor\":\"white\",\"linecolor\":\"white\",\"ticks\":\"\",\"title\":{\"standoff\":15},\"zerolinecolor\":\"white\",\"zerolinewidth\":2}}},\"xaxis\":{\"anchor\":\"y\",\"domain\":[0.0,1.0],\"title\":{\"text\":\"year\"}},\"yaxis\":{\"anchor\":\"x\",\"domain\":[0.0,1.0],\"title\":{\"text\":\"ups\"}},\"legend\":{\"title\":{\"text\":\"subreddit_name_prefixed\"},\"tracegroupgap\":0},\"margin\":{\"t\":60}},                        {\"responsive\": true}                    ).then(function(){\n",
              "                            \n",
              "var gd = document.getElementById('aae26b47-d8a3-4d00-833b-55ec1ab393b2');\n",
              "var x = new MutationObserver(function (mutations, observer) {{\n",
              "        var display = window.getComputedStyle(gd).display;\n",
              "        if (!display || display === 'none') {{\n",
              "            console.log([gd, 'removed!']);\n",
              "            Plotly.purge(gd);\n",
              "            observer.disconnect();\n",
              "        }}\n",
              "}});\n",
              "\n",
              "// Listen for the removal of the full notebook cells\n",
              "var notebookContainer = gd.closest('#notebook-container');\n",
              "if (notebookContainer) {{\n",
              "    x.observe(notebookContainer, {childList: true});\n",
              "}}\n",
              "\n",
              "// Listen for the clearing of the current output cell\n",
              "var outputEl = gd.closest('.output');\n",
              "if (outputEl) {{\n",
              "    x.observe(outputEl, {childList: true});\n",
              "}}\n",
              "\n",
              "                        })                };                            </script>        </div>\n",
              "</body>\n",
              "</html>"
            ]
          },
          "metadata": {}
        }
      ]
    },
    {
      "cell_type": "markdown",
      "metadata": {
        "id": "mU3RUP8dyIz_"
      },
      "source": [
        "## Part 2.3 - Data Cleaning and some final regression-oriented data exploration\n",
        "\n",
        "With the above analysis, we've learned some things about what predicts upvotes:\n",
        "- Which subreddit the post is in is seems to matter quite a bit for the number of upvotes\n",
        "- Time: there are temporal trends, although separate for each subreddit, that seem to be predictive\n",
        "\n",
        "As we gear up to create our linear regression model to try to predict the number of upvotes for posts, we are going to turn to two last steps:\n",
        "1. Data cleaning - we're going to take a look at some bivariate statistics, which are going to reveal some columns in our data that are not useful.  We'll then remove them.\n",
        "2. Looking at univariate relationships with our outcome - we are going to plot relationships between a few of the remaining interesting continuous variables and our outcome of interest (upvotes)\n",
        "\n",
        "\n",
        "### Cleaning our data\n",
        "\n",
        "Below, we list the columns of our dataset..."
      ]
    },
    {
      "cell_type": "code",
      "execution_count": 137,
      "metadata": {
        "id": "AxTxQyaayI0A",
        "colab": {
          "base_uri": "https://localhost:8080/"
        },
        "outputId": "50c8e019-1941-429e-b13c-e7602a1fa723"
      },
      "outputs": [
        {
          "output_type": "execute_result",
          "data": {
            "text/plain": [
              "Index(['created_utc', 'is_crosspostable', 'is_self', 'is_video', 'locked',\n",
              "       'media_only', 'over_18', 'score', 'subreddit_id',\n",
              "       'subreddit_name_prefixed', 'subreddit_subscribers', 'title',\n",
              "       'permalink', 'total_awards_received', 'downs', 'gilded', 'num_comments',\n",
              "       'num_crossposts', 'num_reports', 'ups', 'author_name', 'year'],\n",
              "      dtype='object')"
            ]
          },
          "metadata": {},
          "execution_count": 137
        }
      ],
      "source": [
        "part2_data.columns"
      ]
    },
    {
      "cell_type": "markdown",
      "metadata": {
        "id": "xMlK7dFTyI0A"
      },
      "source": [
        "Let's start by looking at the continuous variables. Those are:\n",
        "- ```total_awards_received```\n",
        "- ```downs```\n",
        "- ```gilded```\n",
        "- ```num_comments```\n",
        "- ```num_crossposts```\n",
        "- ```num_reports```\n",
        "- ```created_utc```\n",
        "- ```subreddit_subscribers```\n",
        "\n",
        "- **2.3.1**-  There are two continuous variables that are very clearly not going to be useful for our analysis. Identify them, and explain why they \n",
        "are not useful (**note: you do NOT need to know why these variables take on the values they do in our data. You just need to know why we don't want to use them!**)\n",
        "\n",
        "Let's now look at our (supposedly) binary categorical variables:\n",
        "- ```is_crosspostable```\n",
        "- ```is_self```\n",
        "- ```media_only```\n",
        "- ```is_video```\n",
        "- ```locked```\n",
        "- ```over_18```\n",
        "\n",
        "- **2.3.2**-  There are two (supposedly) binary variables that are very clearly not going to be useful for our analysis. Identify them, and explain why they are not useful (**note: you do NOT need to know why these variables take on the values they do in our data. You just need to know why we don't want to use them!**)\n",
        "\n",
        "Finally, let's look at our remaining variables, which are categorical. One of these, ```title``` (the post's title), is potentially a *very* useful feature... but we haven't yet learned how to use it. So, for now, we're not going to.  The other categorical features are:\n",
        "- ```subreddit_id```\n",
        "- ```subreddit_name_prefixed```\n",
        "- ```permalink```\n",
        "\n",
        "- **2.3.3** -  Explain why we it is not useful to use *both* ```subreddit_id``` and ```subreddit_name_prefixed``` in any predictive analysis of per-post upvotes.\n",
        "- **2.3.4** - Explain why it is not useful to use ```permalink``` in any predictive analysis of per-post upvotes.\n"
      ]
    },
    {
      "cell_type": "markdown",
      "metadata": {
        "id": "U9HDaZJxyI0A"
      },
      "source": [
        "## Univariate relationships with the outcome\n",
        "\n",
        "- **2.3.5** - Plot the relationship between ```num_comments``` and upvotes as a scatterplot with log-scaled axes, with the posts from different subreddits as different color points. Paste this plot into your PDF writeup\n",
        "\n",
        "- **2.3.6** - Describe, briefly (a sentence) the relationship between ```num_comments``` and upvotes.\n"
      ]
    },
    {
      "cell_type": "code",
      "source": [
        "# Code for 2.3.5 here\n",
        "import seaborn as sns\n",
        "import matplotlib.pyplot as plt\n",
        "sns.scatterplot(x='num_comments', y ='ups' , data = part2_data , hue = 'subreddit_name_prefixed')\n",
        "plt.xscale('log')\n",
        "plt.yscale('log')"
      ],
      "metadata": {
        "id": "XZA_Ent1QZgG",
        "colab": {
          "base_uri": "https://localhost:8080/",
          "height": 450
        },
        "outputId": "3d83f640-c37a-4927-d1dd-15db33f020f7"
      },
      "execution_count": 138,
      "outputs": [
        {
          "output_type": "display_data",
          "data": {
            "image/png": "[encoded data removed]",
            "text/plain": [
              "<Figure size 432x288 with 1 Axes>"
            ]
          },
          "metadata": {
            "needs_background": "light"
          }
        }
      ]
    },
    {
      "cell_type": "markdown",
      "metadata": {
        "id": "nLe3ndTdyI0B"
      },
      "source": [
        "Compute the [Pearson correlation](https://pandas.pydata.org/docs/reference/api/pandas.Series.corr.html#pandas.Series.corr) between ```ups``` and all other continuous variables (minus those you identified as not interesting in 2.3.1).\n",
        "\n",
        "- **2.3.7** - Which of these has the strongest positive correlation with ```ups```?\n",
        "- **2.3.8** - Which of these has the weakest positive correlation with ```ups```?"
      ]
    },
    {
      "cell_type": "code",
      "execution_count": 139,
      "metadata": {
        "id": "62cvexJYyI0B",
        "colab": {
          "base_uri": "https://localhost:8080/"
        },
        "outputId": "8f49aef3-7f12-4e89-de9c-b43b2e115447"
      },
      "outputs": [
        {
          "output_type": "execute_result",
          "data": {
            "text/plain": [
              "created_utc              0.165471\n",
              "total_awards_received    0.388154\n",
              "subreddit_subscribers    0.410248\n",
              "gilded                   0.228103\n",
              "num_comments             0.330700\n",
              "num_crossposts           0.537982\n",
              "ups                      1.000000\n",
              "Name: ups, dtype: float64"
            ]
          },
          "metadata": {},
          "execution_count": 139
        }
      ],
      "source": [
        "# Code for 2.3.7-8 here\n",
        "part2_data_1 = part2_data.filter(['created_utc','total_awards_received','subreddit_subscribers','gilded','num_comments','num_crossposts','ups'], axis=1)\n",
        "corr_up = part2_data_1.corr( method='pearson')\n",
        "corr_up['ups']"
      ]
    },
    {
      "cell_type": "markdown",
      "metadata": {
        "id": "cT71_ltHyI0C"
      },
      "source": [
        "# Part 3 - Linear Regression\n",
        "\n",
        "OK! We've got a decent handle on our data, and we're ready to do some learning. \n",
        "\n",
        "We're going to use a linear regression model to predict the number of upvotes.\n",
        "\n",
        "## Part 3.1 - Regression to predict ```ups```\n",
        "\n",
        "You will need to write code that does the following:\n",
        "\n",
        "1. Recreates (if you did not already store it in your dataset) a variable for the year a post was sent in. Now, create a column ```year```, which. Then, subsets your data to only posts from 2015-2021 (inclusive).\n",
        "\n",
        "2. Creates a feature matrix, ```X```, that contains features for the following variables:\n",
        "- ```total_awards_received```\n",
        "- ```gilded```\n",
        "- ```num_comments```\n",
        "- ```num_crossposts```\n",
        "- ```year```\n",
        "- ```is_self```\n",
        "- ```is_video```\n",
        "- ```locked```\n",
        "- ```over_18```\n",
        "- ```subreddit_name_prefixed```\n",
        "\n",
        "3. Creates an outcome variable, ```y```, that is **the logarithm of** ```ups +1```.\n",
        "4. Splits the data into train and test (80% training, 20% testing) using the relevant ```sklearn``` function. **We have written this line of code for you below, please do not change the random state!**\n",
        "5. Trains a linear regression model on the training data\n",
        "6. Evaluates the model you have trained on the test set, using ```RMSE``` as an error metric. **You should calculate this error using ONLY ```pandas``` and/or ```numpy```, not ```sklearn```.**\n",
        "7. Prints the error\n",
        "\n",
        "A few useful hints:\n",
        "- You cannot use ```subreddit_name_prefixed``` as is, you have to transform it somehow. We have suggested a tool to do so below (the ```OneHotEncoder```)\n",
        "- You also need to transform any boolean variables to 0/1 encodings\n"
      ]
    },
    {
      "cell_type": "code",
      "execution_count": 155,
      "metadata": {
        "id": "3GFJ4uTTyI0C"
      },
      "outputs": [],
      "source": [
        "# Lets just reload the data in to make sure we're all starting fresh!\n",
        "from datetime import datetime\n",
        "import pandas as pd\n",
        "part3_data = pd.read_csv(\"part2_data.csv\")\n",
        "part3_data['year'] = part3_data.created_utc.apply(lambda x : datetime.fromtimestamp(x).year)\n",
        "part3_data=part3_data[(part3_data.year>=2015) & (part3_data.year<=2020)]"
      ]
    },
    {
      "cell_type": "code",
      "execution_count": 156,
      "metadata": {
        "id": "uebu2neuyI0D"
      },
      "outputs": [],
      "source": [
        "## NOTE: Typically we would not rescale a time variable, but it's fine for this assignment.\n",
        "CONTINUOUS_VARS = [\"total_awards_received\", \"gilded\", \"num_comments\", \"num_crossposts\",\"created_utc\"]\n",
        "log_cont_vars=[\"total_awards_received\", \"gilded\", \"num_comments\", \"num_crossposts\"]\n",
        "BINARY_VARS = [\"is_self\", \"is_video\", \"locked\", \"over_18\"]\n",
        "\n",
        "\n",
        "for var in BINARY_VARS:\n",
        "    # Write your code here to make sure the boolean variables are formatted as integers, as is required by sklearn\n",
        "    part3_data[var].replace({False:0,True:1},inplace=True)\n",
        "part5=part3_data.copy()\n",
        "part7=part3_data.copy()"
      ]
    },
    {
      "cell_type": "code",
      "execution_count": 157,
      "metadata": {
        "id": "d_Q-wQgTyI0D"
      },
      "outputs": [],
      "source": [
        "from numpy.core.numeric import ones_like\n",
        "from sklearn.preprocessing import OneHotEncoder\n",
        "\n",
        "def onehot_encode_var(data, varname):\n",
        "    # This function should take in a variable name in part3_data and return a onehot encoded matrix for that variable\n",
        "    \n",
        "    # Here's a starting point!\n",
        "    encoder = OneHotEncoder(drop='first')\n",
        "    # Use the encoder\n",
        "    encoder.fit_transform(data[[varname]])\n",
        "    onehot_encoded_variable=pd.DataFrame(encoder.transform(data[[varname]]).toarray())\n",
        "    # return the onehot encoded variable\n",
        "    return onehot_encoded_variable, encoder.categories_[0][1:]"
      ]
    },
    {
      "cell_type": "code",
      "execution_count": 158,
      "metadata": {
        "id": "_AXuwFp9yI0D",
        "colab": {
          "base_uri": "https://localhost:8080/"
        },
        "outputId": "02e09459-e7fb-4879-877d-16209c37dd54"
      },
      "outputs": [
        {
          "output_type": "stream",
          "name": "stdout",
          "text": [
            "Accuracy:  0.8905787013606777\n",
            "RMSE:  0.3909503434799003\n"
          ]
        }
      ],
      "source": [
        "# OK, now we're going to write our code to run the model!\n",
        "from sklearn.linear_model import LinearRegression\n",
        "from sklearn.preprocessing import StandardScaler\n",
        "from sklearn.model_selection import train_test_split\n",
        "\n",
        "# First, rescale the continuous variables\n",
        "continuous_rescaled_X = pd.DataFrame(StandardScaler().fit_transform(part3_data[CONTINUOUS_VARS].values))\n",
        "continuous_rescaled_X.columns=CONTINUOUS_VARS\n",
        "continuous_rescaled_X.index=part3_data.index\n",
        "part3_data.drop(columns=CONTINUOUS_VARS,inplace=True)\n",
        "part3_data=part3_data.join(continuous_rescaled_X,how='outer')\n",
        "\n",
        "# Now, we can use our function above to get the onehotencoding for the subreddits ... go ahead!\n",
        "enc_df,enc_cat=onehot_encode_var(part3_data,'subreddit_name_prefixed')\n",
        "enc_df.columns=enc_cat\n",
        "enc_df.index=part3_data.index\n",
        "part3_data=part3_data.join(enc_df,how='outer')\n",
        "part3_data.drop(columns=['subreddit_name_prefixed'],inplace=True)\n",
        "matrix_heading=['total_awards_received','gilded','num_comments','num_crossposts','year','is_self','is_video','locked','over_18']\n",
        "matrix_heading.extend(enc_cat)\n",
        "\n",
        "# Now you can combine all of your features into a single feature matrix. Call it X\n",
        "X= part3_data[matrix_heading]\n",
        "\n",
        "#And create your outcome variable, call it y\n",
        "y=np.log(part3_data['ups']+1) #outcome variable\n",
        "y_notlog=part3_data['ups']\n",
        "# Don't change this line!\n",
        "X_train, X_test, y_train, y_test = train_test_split(X, y, \n",
        "                                                    test_size=0.2, \n",
        "                                                    random_state=1)\n",
        "X_train1, X_test1, y_train1, y_test1 = train_test_split(X, y_notlog, \n",
        "                                                    test_size=0.2, \n",
        "                                                    random_state=1)\n",
        "\n",
        "# fit a linear regression model, with an intercept\n",
        "Linear_reg=LinearRegression(fit_intercept=True).fit(X_train,y_train)\n",
        "print(\"Accuracy: \",Linear_reg.score(X_test,y_test))\n",
        "\n",
        "# Compute RMSE\n",
        "y_pred=Linear_reg.predict(X_test)\n",
        "df_matrix=pd.DataFrame({'y_pred':y_pred,'y_test':y_test})\n",
        "RMSE=((df_matrix.y_pred - df_matrix.y_test)**2).mean() ** 0.5\n",
        "print(\"RMSE: \",RMSE)"
      ]
    },
    {
      "cell_type": "markdown",
      "metadata": {
        "id": "414JorJsyI0D"
      },
      "source": [
        "### Questions to check understanding\n",
        "\n",
        "- **3.1.1** - Report your error on the test data, in RMSE. State what this metric means for the expected error in terms of the number of upvotes (not log upvotes!) you should expect to be off on any given prediction\n",
        "\n",
        "Also, a few questions to target your understanding of how we set up the model:\n",
        "- **3.1.2** - What did the whole one-hot encoding thing on ```subreddit_name_prefixed``` actually do? \n",
        "- **3.1.3** - What does the argument ```drop = \"first\"``` do for us when we are doing that to ```subreddit_name_prefixed```?\n",
        "- **3.1.3** - Why did we need to add one to the outcome variable before using ```log```?\n",
        "- **3.1.4** - What does the ```StandardScaler``` do? Why do we want to do that?\n",
        "\n",
        "\n",
        "OK. Having looked at our RMSE, we should now realize that we have to be careful about assuming that this one statistic is actually a good estimate of how far we're going to be off on any prediction, selected at random. To see this, let's do the following:\n",
        "- **3.1.5** - Provide a scatterplot that compares the true values in ```y_test``` to the absolute value of the difference between ```y_test``` and your predictions. **The axes should be on the original scale** (i.e. not the log scale you're predicting on.\n",
        "- **3.1.6** - What does this plot suggest about how well your model fits the data as the true number of upvotes changes? \n"
      ]
    },
    {
      "cell_type": "code",
      "execution_count": 165,
      "metadata": {
        "id": "7N9HBX14yI0D",
        "colab": {
          "base_uri": "https://localhost:8080/",
          "height": 298
        },
        "outputId": "8ffc964a-08e4-456e-d53a-c20ccf65c293"
      },
      "outputs": [
        {
          "output_type": "execute_result",
          "data": {
            "text/plain": [
              "<matplotlib.axes._subplots.AxesSubplot at 0x7f43912950d0>"
            ]
          },
          "metadata": {},
          "execution_count": 165
        },
        {
          "output_type": "display_data",
          "data": {
            "image/png": "[encoded data removed]",
            "text/plain": [
              "<Figure size 432x288 with 1 Axes>"
            ]
          },
          "metadata": {
            "needs_background": "light"
          }
        }
      ],
      "source": [
        "# Code for 3.1.5 here\n",
        "import seaborn as sns\n",
        "import matplotlib.pyplot as plt\n",
        "y_pred1=Linear_reg.predict(X_test1)\n",
        "part4=pd.DataFrame({'y_test':y_test1,'difference':abs(y_test-y_pred)})\n",
        "sns.scatterplot(x='y_test', y ='difference' , data = part4)"
      ]
    },
    {
      "cell_type": "markdown",
      "metadata": {
        "id": "H2fWEDrQyI0E"
      },
      "source": [
        "One final thing we are going to play with in 3.1. Logging the dependent variable is useful for a few reasons we have or will discuss in class (depending on when you're reading this). But it's also sometimes useful to log *independent* variables as well. Below, redo the same analysis as above, but after logging the non-temporal continuous variables (i.e. all the continuous variables except ```created_utc```). Use these as predictors instead of the original continuous variables. **Note: Perform the logging before you rescale the variables. Also, you should add 1 as we did for the dependent variable above**.\n",
        "\n",
        "- **3.1.7** - What is the new RMSE with the logged independent variables?\n",
        "- **3.1.8** - How did this compare to the old RMSE? Why do you think that is? Hint: It may help to re-plot the same figure as you did in 3.1.5, but with the new model, in order to answer this question.\n"
      ]
    },
    {
      "cell_type": "code",
      "source": [
        "# Code for 3.1.7 here\n",
        "part5_1=part5[log_cont_vars]\n",
        "part5_1=np.log(part5_1[log_cont_vars]+1)\n",
        "part5_1.index=part5.index\n",
        "part5.drop(columns=log_cont_vars,inplace=True)\n",
        "part5=part5.join(part5_1,how='outer')\n",
        "# part5.head()\n",
        "\n",
        "continuous_rescaled_X1 = pd.DataFrame(StandardScaler().fit_transform(part5[log_cont_vars].values))\n",
        "continuous_rescaled_X1.columns=log_cont_vars\n",
        "continuous_rescaled_X1.index=part5.index\n",
        "part5.drop(columns=log_cont_vars,inplace=True)\n",
        "part5=part5.join(continuous_rescaled_X1,how='outer')\n",
        "\n",
        "enc_df,enc_cat=onehot_encode_var(part5,'subreddit_name_prefixed')\n",
        "enc_df.columns=enc_cat\n",
        "enc_df.index=part5.index\n",
        "part5=part5.join(enc_df,how='outer')\n",
        "part5.drop(columns=['subreddit_name_prefixed'],inplace=True)\n",
        "matrix_heading=['total_awards_received','gilded','num_comments','num_crossposts','year','is_self','is_video','locked','over_18']\n",
        "matrix_heading.extend(enc_cat)\n",
        "\n",
        "\n",
        "# Now you can combine all of your features into a single feature matrix. Call it X\n",
        "X= part5[matrix_heading]\n",
        "\n",
        "#And create your outcome variable, call it y\n",
        "y=np.log(part5['ups']+1) #outcome variable\n",
        "y_notlog=part5['ups']\n",
        "\n",
        "# Don't change this line!\n",
        "X_train, X_test, y_train, y_test = train_test_split(X, y, \n",
        "                                                    test_size=0.2, \n",
        "                                                    random_state=1)\n",
        "\n",
        "X_train1, X_test1, y_train1, y_test1 = train_test_split(X, y_notlog, \n",
        "                                                    test_size=0.2, \n",
        "                                                    random_state=1)\n",
        "\n",
        "# fit a linear regression model, with an intercept\n",
        "Linear_reg=LinearRegression(fit_intercept=True).fit(X_train,y_train)\n",
        "print(\"Accuracy: \",Linear_reg.score(X_test,y_test))\n",
        "\n",
        "y_pred=Linear_reg.predict(X_test)\n",
        "df_matrix=pd.DataFrame({'y_pred':y_pred,'y_test':y_test})\n",
        "RMSE=((df_matrix.y_pred - df_matrix.y_test)**2).mean() ** 0.5\n",
        "print(\"RMSE: \",RMSE)"
      ],
      "metadata": {
        "colab": {
          "base_uri": "https://localhost:8080/"
        },
        "id": "QyCZN1_tcHIF",
        "outputId": "6b6bc814-ce7e-4eab-d3f3-e3de9826a9e9"
      },
      "execution_count": 160,
      "outputs": [
        {
          "output_type": "stream",
          "name": "stdout",
          "text": [
            "Accuracy:  0.9026904532913619\n",
            "RMSE:  0.36867899197343285\n"
          ]
        }
      ]
    },
    {
      "cell_type": "code",
      "source": [
        "import seaborn as sns\n",
        "import matplotlib.pyplot as plt\n",
        "y_pred1=Linear_reg.predict(X_test1)\n",
        "part6=pd.DataFrame({'y_test':y_test1,'difference':abs(y_test-y_pred)})\n",
        "sns.scatterplot(x='y_test', y ='difference' , data = part6)"
      ],
      "metadata": {
        "colab": {
          "base_uri": "https://localhost:8080/",
          "height": 298
        },
        "id": "KC9K_laZhCmE",
        "outputId": "122f97b7-53df-44c8-d7ac-0887212a07ab"
      },
      "execution_count": 166,
      "outputs": [
        {
          "output_type": "execute_result",
          "data": {
            "text/plain": [
              "<matplotlib.axes._subplots.AxesSubplot at 0x7f438ec0de90>"
            ]
          },
          "metadata": {},
          "execution_count": 166
        },
        {
          "output_type": "display_data",
          "data": {
            "image/png": "[encoded data removed]",
            "text/plain": [
              "<Figure size 432x288 with 1 Axes>"
            ]
          },
          "metadata": {
            "needs_background": "light"
          }
        }
      ]
    },
    {
      "cell_type": "markdown",
      "metadata": {
        "id": "PWafqhjPyI0E"
      },
      "source": [
        "## Part 3.2 - Exploration of regression coefficients\n",
        "\n",
        "Now, let's look at the effects of our variables for this last model (with the logarithms of the independent variables). Carefully re-combine your features with their labels (*hint, ```encoder.categories_``` will be your friend, and remember, we dropped the first category!*)\n",
        "\n",
        "- **3.2.1** - What is the strongest positive predictor of upvotes? How many more log(upvotes+1) does a one standard deviation increase in the feature correspond to?\n",
        "- **3.2.2** - What is the strongest negative predictor of upvotes? How many fewer log(upvotes+1) does a one standard deviation increase in the feature correspond to?"
      ]
    },
    {
      "cell_type": "code",
      "execution_count": 162,
      "metadata": {
        "id": "TsJbwg2OyI0E",
        "colab": {
          "base_uri": "https://localhost:8080/",
          "height": 1000
        },
        "outputId": "5c4cd9ea-2138-4135-dfa2-68106495dfd6"
      },
      "outputs": [
        {
          "output_type": "execute_result",
          "data": {
            "text/html": [
              "\n",
              "  <div id=\"df-f6512d82-533e-4876-b1d6-bf2b19d6f542\">\n",
              "    <div class=\"colab-df-container\">\n",
              "      <div>\n",
              "<style scoped>\n",
              "    .dataframe tbody tr th:only-of-type {\n",
              "        vertical-align: middle;\n",
              "    }\n",
              "\n",
              "    .dataframe tbody tr th {\n",
              "        vertical-align: top;\n",
              "    }\n",
              "\n",
              "    .dataframe thead th {\n",
              "        text-align: right;\n",
              "    }\n",
              "</style>\n",
              "<table border=\"1\" class=\"dataframe\">\n",
              "  <thead>\n",
              "    <tr style=\"text-align: right;\">\n",
              "      <th></th>\n",
              "      <th>Coefficients</th>\n",
              "      <th>P&gt;|t|</th>\n",
              "    </tr>\n",
              "  </thead>\n",
              "  <tbody>\n",
              "    <tr>\n",
              "      <th>r/learnprogramming</th>\n",
              "      <td>-2.912267</td>\n",
              "      <td>0.000000e+00</td>\n",
              "    </tr>\n",
              "    <tr>\n",
              "      <th>r/announcements</th>\n",
              "      <td>-1.793661</td>\n",
              "      <td>0.000000e+00</td>\n",
              "    </tr>\n",
              "    <tr>\n",
              "      <th>r/conspiracy</th>\n",
              "      <td>-1.555587</td>\n",
              "      <td>0.000000e+00</td>\n",
              "    </tr>\n",
              "    <tr>\n",
              "      <th>r/travel</th>\n",
              "      <td>-1.523713</td>\n",
              "      <td>0.000000e+00</td>\n",
              "    </tr>\n",
              "    <tr>\n",
              "      <th>r/hockey</th>\n",
              "      <td>-1.477988</td>\n",
              "      <td>0.000000e+00</td>\n",
              "    </tr>\n",
              "    <tr>\n",
              "      <th>r/gadgets</th>\n",
              "      <td>-1.411579</td>\n",
              "      <td>0.000000e+00</td>\n",
              "    </tr>\n",
              "    <tr>\n",
              "      <th>r/books</th>\n",
              "      <td>-1.016009</td>\n",
              "      <td>0.000000e+00</td>\n",
              "    </tr>\n",
              "    <tr>\n",
              "      <th>r/WritingPrompts</th>\n",
              "      <td>-0.961976</td>\n",
              "      <td>0.000000e+00</td>\n",
              "    </tr>\n",
              "    <tr>\n",
              "      <th>r/cats</th>\n",
              "      <td>-0.743248</td>\n",
              "      <td>1.134326e-178</td>\n",
              "    </tr>\n",
              "    <tr>\n",
              "      <th>r/food</th>\n",
              "      <td>-0.512502</td>\n",
              "      <td>9.507739e-119</td>\n",
              "    </tr>\n",
              "    <tr>\n",
              "      <th>r/technology</th>\n",
              "      <td>-0.182768</td>\n",
              "      <td>8.276822e-18</td>\n",
              "    </tr>\n",
              "    <tr>\n",
              "      <th>r/sports</th>\n",
              "      <td>-0.182516</td>\n",
              "      <td>1.581124e-15</td>\n",
              "    </tr>\n",
              "    <tr>\n",
              "      <th>is_self</th>\n",
              "      <td>-0.155480</td>\n",
              "      <td>7.200316e-29</td>\n",
              "    </tr>\n",
              "    <tr>\n",
              "      <th>is_video</th>\n",
              "      <td>-0.090850</td>\n",
              "      <td>1.847854e-09</td>\n",
              "    </tr>\n",
              "    <tr>\n",
              "      <th>r/science</th>\n",
              "      <td>-0.081443</td>\n",
              "      <td>3.715513e-05</td>\n",
              "    </tr>\n",
              "    <tr>\n",
              "      <th>year</th>\n",
              "      <td>-0.036907</td>\n",
              "      <td>0.000000e+00</td>\n",
              "    </tr>\n",
              "    <tr>\n",
              "      <th>r/PoliticalHumor</th>\n",
              "      <td>-0.017623</td>\n",
              "      <td>8.389590e-03</td>\n",
              "    </tr>\n",
              "    <tr>\n",
              "      <th>over_18</th>\n",
              "      <td>0.016131</td>\n",
              "      <td>9.252968e-01</td>\n",
              "    </tr>\n",
              "    <tr>\n",
              "      <th>gilded</th>\n",
              "      <td>0.028639</td>\n",
              "      <td>2.271947e-40</td>\n",
              "    </tr>\n",
              "    <tr>\n",
              "      <th>total_awards_received</th>\n",
              "      <td>0.061298</td>\n",
              "      <td>2.520406e-29</td>\n",
              "    </tr>\n",
              "    <tr>\n",
              "      <th>locked</th>\n",
              "      <td>0.082708</td>\n",
              "      <td>7.835371e-11</td>\n",
              "    </tr>\n",
              "    <tr>\n",
              "      <th>num_crossposts</th>\n",
              "      <td>0.092112</td>\n",
              "      <td>9.246577e-86</td>\n",
              "    </tr>\n",
              "    <tr>\n",
              "      <th>num_comments</th>\n",
              "      <td>0.153914</td>\n",
              "      <td>4.437581e-306</td>\n",
              "    </tr>\n",
              "    <tr>\n",
              "      <th>r/news</th>\n",
              "      <td>0.170421</td>\n",
              "      <td>1.280424e-07</td>\n",
              "    </tr>\n",
              "    <tr>\n",
              "      <th>r/worldnews</th>\n",
              "      <td>0.236873</td>\n",
              "      <td>1.502729e-16</td>\n",
              "    </tr>\n",
              "    <tr>\n",
              "      <th>r/mildlyinteresting</th>\n",
              "      <td>0.363167</td>\n",
              "      <td>2.114884e-51</td>\n",
              "    </tr>\n",
              "    <tr>\n",
              "      <th>r/todayilearned</th>\n",
              "      <td>0.411601</td>\n",
              "      <td>1.784287e-57</td>\n",
              "    </tr>\n",
              "    <tr>\n",
              "      <th>r/Showerthoughts</th>\n",
              "      <td>0.461220</td>\n",
              "      <td>4.562039e-165</td>\n",
              "    </tr>\n",
              "    <tr>\n",
              "      <th>r/gaming</th>\n",
              "      <td>0.504390</td>\n",
              "      <td>1.454078e-95</td>\n",
              "    </tr>\n",
              "    <tr>\n",
              "      <th>r/funny</th>\n",
              "      <td>0.618323</td>\n",
              "      <td>1.752650e-143</td>\n",
              "    </tr>\n",
              "    <tr>\n",
              "      <th>r/aww</th>\n",
              "      <td>0.653842</td>\n",
              "      <td>3.131278e-159</td>\n",
              "    </tr>\n",
              "    <tr>\n",
              "      <th>r/memes</th>\n",
              "      <td>0.850443</td>\n",
              "      <td>3.196503e-253</td>\n",
              "    </tr>\n",
              "  </tbody>\n",
              "</table>\n",
              "</div>\n",
              "      <button class=\"colab-df-convert\" onclick=\"convertToInteractive('df-f6512d82-533e-4876-b1d6-bf2b19d6f542')\"\n",
              "              title=\"Convert this dataframe to an interactive table.\"\n",
              "              style=\"display:none;\">\n",
              "        \n",
              "  <svg xmlns=\"http://www.w3.org/2000/svg\" height=\"24px\"viewBox=\"0 0 24 24\"\n",
              "       width=\"24px\">\n",
              "    <path d=\"M0 0h24v24H0V0z\" fill=\"none\"/>\n",
              "    <path d=\"M18.56 5.44l.94 2.06.94-2.06 2.06-.94-2.06-.94-.94-2.06-.94 2.06-2.06.94zm-11 1L8.5 8.5l.94-2.06 2.06-.94-2.06-.94L8.5 2.5l-.94 2.06-2.06.94zm10 10l.94 2.06.94-2.06 2.06-.94-2.06-.94-.94-2.06-.94 2.06-2.06.94z\"/><path d=\"M17.41 7.96l-1.37-1.37c-.4-.4-.92-.59-1.43-.59-.52 0-1.04.2-1.43.59L10.3 9.45l-7.72 7.72c-.78.78-.78 2.05 0 2.83L4 21.41c.39.39.9.59 1.41.59.51 0 1.02-.2 1.41-.59l7.78-7.78 2.81-2.81c.8-.78.8-2.07 0-2.86zM5.41 20L4 18.59l7.72-7.72 1.47 1.35L5.41 20z\"/>\n",
              "  </svg>\n",
              "      </button>\n",
              "      \n",
              "  <style>\n",
              "    .colab-df-container {\n",
              "      display:flex;\n",
              "      flex-wrap:wrap;\n",
              "      gap: 12px;\n",
              "    }\n",
              "\n",
              "    .colab-df-convert {\n",
              "      background-color: #E8F0FE;\n",
              "      border: none;\n",
              "      border-radius: 50%;\n",
              "      cursor: pointer;\n",
              "      display: none;\n",
              "      fill: #1967D2;\n",
              "      height: 32px;\n",
              "      padding: 0 0 0 0;\n",
              "      width: 32px;\n",
              "    }\n",
              "\n",
              "    .colab-df-convert:hover {\n",
              "      background-color: #E2EBFA;\n",
              "      box-shadow: 0px 1px 2px rgba(60, 64, 67, 0.3), 0px 1px 3px 1px rgba(60, 64, 67, 0.15);\n",
              "      fill: #174EA6;\n",
              "    }\n",
              "\n",
              "    [theme=dark] .colab-df-convert {\n",
              "      background-color: #3B4455;\n",
              "      fill: #D2E3FC;\n",
              "    }\n",
              "\n",
              "    [theme=dark] .colab-df-convert:hover {\n",
              "      background-color: #434B5C;\n",
              "      box-shadow: 0px 1px 3px 1px rgba(0, 0, 0, 0.15);\n",
              "      filter: drop-shadow(0px 1px 2px rgba(0, 0, 0, 0.3));\n",
              "      fill: #FFFFFF;\n",
              "    }\n",
              "  </style>\n",
              "\n",
              "      <script>\n",
              "        const buttonEl =\n",
              "          document.querySelector('#df-f6512d82-533e-4876-b1d6-bf2b19d6f542 button.colab-df-convert');\n",
              "        buttonEl.style.display =\n",
              "          google.colab.kernel.accessAllowed ? 'block' : 'none';\n",
              "\n",
              "        async function convertToInteractive(key) {\n",
              "          const element = document.querySelector('#df-f6512d82-533e-4876-b1d6-bf2b19d6f542');\n",
              "          const dataTable =\n",
              "            await google.colab.kernel.invokeFunction('convertToInteractive',\n",
              "                                                     [key], {});\n",
              "          if (!dataTable) return;\n",
              "\n",
              "          const docLinkHtml = 'Like what you see? Visit the ' +\n",
              "            '<a target=\"_blank\" href=https://colab.research.google.com/notebooks/data_table.ipynb>data table notebook</a>'\n",
              "            + ' to learn more about interactive tables.';\n",
              "          element.innerHTML = '';\n",
              "          dataTable['output_type'] = 'display_data';\n",
              "          await google.colab.output.renderOutput(dataTable, element);\n",
              "          const docLink = document.createElement('div');\n",
              "          docLink.innerHTML = docLinkHtml;\n",
              "          element.appendChild(docLink);\n",
              "        }\n",
              "      </script>\n",
              "    </div>\n",
              "  </div>\n",
              "  "
            ],
            "text/plain": [
              "                       Coefficients          P>|t|\n",
              "r/learnprogramming        -2.912267   0.000000e+00\n",
              "r/announcements           -1.793661   0.000000e+00\n",
              "r/conspiracy              -1.555587   0.000000e+00\n",
              "r/travel                  -1.523713   0.000000e+00\n",
              "r/hockey                  -1.477988   0.000000e+00\n",
              "r/gadgets                 -1.411579   0.000000e+00\n",
              "r/books                   -1.016009   0.000000e+00\n",
              "r/WritingPrompts          -0.961976   0.000000e+00\n",
              "r/cats                    -0.743248  1.134326e-178\n",
              "r/food                    -0.512502  9.507739e-119\n",
              "r/technology              -0.182768   8.276822e-18\n",
              "r/sports                  -0.182516   1.581124e-15\n",
              "is_self                   -0.155480   7.200316e-29\n",
              "is_video                  -0.090850   1.847854e-09\n",
              "r/science                 -0.081443   3.715513e-05\n",
              "year                      -0.036907   0.000000e+00\n",
              "r/PoliticalHumor          -0.017623   8.389590e-03\n",
              "over_18                    0.016131   9.252968e-01\n",
              "gilded                     0.028639   2.271947e-40\n",
              "total_awards_received      0.061298   2.520406e-29\n",
              "locked                     0.082708   7.835371e-11\n",
              "num_crossposts             0.092112   9.246577e-86\n",
              "num_comments               0.153914  4.437581e-306\n",
              "r/news                     0.170421   1.280424e-07\n",
              "r/worldnews                0.236873   1.502729e-16\n",
              "r/mildlyinteresting        0.363167   2.114884e-51\n",
              "r/todayilearned            0.411601   1.784287e-57\n",
              "r/Showerthoughts           0.461220  4.562039e-165\n",
              "r/gaming                   0.504390   1.454078e-95\n",
              "r/funny                    0.618323  1.752650e-143\n",
              "r/aww                      0.653842  3.131278e-159\n",
              "r/memes                    0.850443  3.196503e-253"
            ]
          },
          "metadata": {},
          "execution_count": 162
        }
      ],
      "source": [
        "# Add your code for 3.2 here\n",
        "import statsmodels.api as sm\n",
        "coeff_df = pd.DataFrame(Linear_reg.coef_, X.columns, columns=['Coefficients'])\n",
        "#print(coeff_df)\n",
        "\n",
        "mod = sm.OLS(y,X)\n",
        "fii = mod.fit()\n",
        "p_values = fii.summary2().tables[1]['P>|t|']\n",
        "p_values=pd.DataFrame(p_values)\n",
        "# print(p_values)\n",
        "final = coeff_df.join(p_values,how='outer')\n",
        "final.sort_values(['Coefficients'])"
      ]
    },
    {
      "cell_type": "markdown",
      "metadata": {
        "id": "T4llv5d9yI0F"
      },
      "source": [
        "# Part 3.3 - 574 Only - Attempting to Improve Your Predictions \n",
        "\n",
        "In class, we talked about a few things we might do to improve our model's predictions. These include adding interaction terms, including different functional forms of a feature, using a different model, etc. Here, we ask that you implement at least two of these, and then re-evaluate your model. We'll ask some of the teams with some of the more interesting/effective ideas here to come present their solutions to the class!\n",
        "\n",
        "- **3.3.1** - Describe at least two changes you made -- at least one to the feature set, and at least one different model -- to try to improve prediction.  Explain *why* you think that these changes make sense, given the Exploratory analyeses above, or any other exploratory analysis you choose to do.\n",
        "- **3.3.2** - By how much did your RMSE improve? Which change that you made improved it the most? How do you know?"
      ]
    },
    {
      "cell_type": "code",
      "execution_count": null,
      "metadata": {
        "id": "y2SALlEryI0F"
      },
      "outputs": [],
      "source": [
        "# Add your code for 3.3.1 here\n",
        "from sklearn.preprocessing import LabelEncoder\n",
        "from sklearn.linear_model import Lasso\n",
        "from sklearn.pipeline import make_pipeline\n",
        "from sklearn.preprocessing import PolynomialFeatures\n",
        "from sklearn.preprocessing import RobustScaler\n",
        "\n",
        "part7_1=part7[log_cont_vars]\n",
        "part7_1=np.log(part7_1[log_cont_vars]+1)\n",
        "part7_1.index=part7.index\n",
        "part7.drop(columns=log_cont_vars,inplace=True)\n",
        "part7=part7.join(part7_1,how='outer')\n",
        "# part7.head()\n",
        "\n",
        "continuous_rescaled_X2 = pd.DataFrame(RobustScaler().fit_transform(part7[log_cont_vars].values))\n",
        "continuous_rescaled_X2.columns=log_cont_vars\n",
        "continuous_rescaled_X2.index=part7.index\n",
        "part7.drop(columns=log_cont_vars,inplace=True)\n",
        "part7=part7.join(continuous_rescaled_X2,how='outer')\n",
        "\n",
        "enc_df,enc_cat=onehot_encode_var(part7,'subreddit_name_prefixed')\n",
        "enc_df.columns=enc_cat\n",
        "enc_df.index=part7.index\n",
        "part7=part7.join(enc_df,how='outer')\n",
        "part7.drop(columns=['subreddit_name_prefixed'],inplace=True)\n",
        "matrix_heading=['total_awards_received','gilded','num_comments','num_crossposts','year','is_self','is_video','locked','over_18']\n",
        "matrix_heading.extend(enc_cat)\n",
        "\n",
        "# enc=LabelEncoder()\n",
        "# enc.fit(part7['subreddit_name_prefixed'])\n",
        "# out=enc.transform(part7['subreddit_name_prefixed'])\n",
        "# part7['subreddit_name_prefixed']=out\n",
        "\n",
        "# matrix_heading=['total_awards_received','gilded','num_comments','num_crossposts','year','is_self','is_video','locked','over_18','subreddit_name_prefixed']"
      ]
    },
    {
      "cell_type": "code",
      "source": [
        "# Now you can combine all of your features into a single feature matrix. Call it X\n",
        "X= part7[matrix_heading]\n",
        "\n",
        "#And create your outcome variable, call it y\n",
        "y=np.log(part7['ups']+1) #outcome variable\n",
        "y_notlog=part7['ups']\n",
        "\n",
        "# Don't change this line!\n",
        "X_train, X_test, y_train, y_test = train_test_split(X, y, \n",
        "                                                    test_size=0.2, \n",
        "                                                    random_state=1)\n",
        "\n",
        "X_train1, X_test1, y_train1, y_test1 = train_test_split(X, y_notlog, \n",
        "                                                    test_size=0.2, \n",
        "                                                    random_state=1)\n",
        "\n",
        "# fit a linear regression model, with an intercept\n",
        "degree = 3\n",
        "alpha = 1e-3\n",
        "estimate = make_pipeline(PolynomialFeatures(degree), Lasso(alpha=alpha))\n",
        "estimate.fit(X_train, y_train)\n",
        "# Linear_reg=LinearRegression(fit_intercept=True).fit(X_train,y_train)\n",
        "# print(\"Accuracy: \",Linear_reg.score(X_test,y_test))\n",
        "print(estimate.score(X_test,y_test))\n",
        "\n",
        "y_pred=estimate.predict(X_test)\n",
        "df_matrix=pd.DataFrame({'y_pred':y_pred,'y_test':y_test})\n",
        "RMSE=((df_matrix.y_pred - df_matrix.y_test)**2).mean() ** 0.5\n",
        "print(\"RMSE: \",RMSE)"
      ],
      "metadata": {
        "colab": {
          "base_uri": "https://localhost:8080/"
        },
        "id": "05uUVAag6eJg",
        "outputId": "6282966d-3cca-4ecb-d34a-4feca9d2eb3b"
      },
      "execution_count": null,
      "outputs": [
        {
          "output_type": "stream",
          "name": "stderr",
          "text": [
            "/usr/local/lib/python3.7/dist-packages/sklearn/linear_model/_coordinate_descent.py:648: ConvergenceWarning: Objective did not converge. You might want to increase the number of iterations, check the scale of the features or consider increasing regularisation. Duality gap: 6.107e+02, tolerance: 1.887e+00\n",
            "  coef_, l1_reg, l2_reg, X, y, max_iter, tol, rng, random, positive\n"
          ]
        },
        {
          "output_type": "stream",
          "name": "stdout",
          "text": [
            "0.9112248535312591\n",
            "RMSE:  0.3521408152856475\n"
          ]
        }
      ]
    },
    {
      "cell_type": "code",
      "source": [
        ""
      ],
      "metadata": {
        "id": "9x9XNJMYIW6V"
      },
      "execution_count": null,
      "outputs": []
    }
  ],
  "metadata": {
    "colab": {
      "name": "assignment_1_474_s22.ipynb",
      "provenance": [],
      "collapsed_sections": []
    },
    "kernelspec": {
      "display_name": "Python 3 (ipykernel)",
      "language": "python",
      "name": "python3"
    },
    "language_info": {
      "codemirror_mode": {
        "name": "ipython",
        "version": 3
      },
      "file_extension": ".py",
      "mimetype": "text/x-python",
      "name": "python",
      "nbconvert_exporter": "python",
      "pygments_lexer": "ipython3",
      "version": "3.8.5"
    },
    "toc": {
      "base_numbering": 1,
      "nav_menu": {},
      "number_sections": true,
      "sideBar": true,
      "skip_h1_title": false,
      "title_cell": "Table of Contents",
      "title_sidebar": "Contents",
      "toc_cell": false,
      "toc_position": {},
      "toc_section_display": true,
      "toc_window_display": true
    }
  },
  "nbformat": 4,
  "nbformat_minor": 0
}